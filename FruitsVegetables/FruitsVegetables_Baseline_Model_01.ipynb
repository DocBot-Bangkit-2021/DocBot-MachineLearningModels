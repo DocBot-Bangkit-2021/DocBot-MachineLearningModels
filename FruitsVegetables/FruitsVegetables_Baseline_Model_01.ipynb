{
  "nbformat": 4,
  "nbformat_minor": 0,
  "metadata": {
    "colab": {
      "name": "FruitsVegetables_Baseline_Model_01.ipynb",
      "provenance": [],
      "collapsed_sections": []
    },
    "kernelspec": {
      "name": "python3",
      "display_name": "Python 3"
    },
    "language_info": {
      "name": "python"
    },
    "accelerator": "GPU"
  },
  "cells": [
    {
      "cell_type": "markdown",
      "metadata": {
        "id": "view-in-github"
      },
      "source": [
        "<a href=\"https://colab.research.google.com/github/DocBot-Bangkit-2021/DocBot-MachineLearningModels/blob/main/Covid-19/Covid19_Baseline_Model_01.ipynb\" target=\"_parent\"><img src=\"https://colab.research.google.com/assets/colab-badge.svg\" alt=\"Open In Colab\"/></a>"
      ]
    },
    {
      "cell_type": "markdown",
      "metadata": {
        "id": "C77gV-UqcqmC"
      },
      "source": [
        "# **Import Library**"
      ]
    },
    {
      "cell_type": "code",
      "metadata": {
        "id": "Qomv9XbWWQbT"
      },
      "source": [
        "import numpy as np \n",
        "import pandas as pd \n",
        "import matplotlib.pyplot as plt \n",
        "import matplotlib.image as mpimg\n",
        "import seaborn as sns\n",
        "\n",
        "import os\n",
        "import zipfile\n",
        "import shutil"
      ],
      "execution_count": 1,
      "outputs": []
    },
    {
      "cell_type": "code",
      "metadata": {
        "id": "DFWela_L_K6W"
      },
      "source": [
        "plt.style.use('seaborn')"
      ],
      "execution_count": 2,
      "outputs": []
    },
    {
      "cell_type": "markdown",
      "metadata": {
        "id": "P6Zvp9Zac5wV"
      },
      "source": [
        "# **Data Loading**\n",
        "\n",
        "[Fruits-262](https://www.kaggle.com/aelchimminut/fruits262)\n",
        "\n",
        "[Fresh and Stale Images of Fruits and Vegetables](https://www.kaggle.com/raghavrpotdar/fresh-and-stale-images-of-fruits-and-vegetables?select=fresh_apple)\n",
        "\n",
        "[Tomato Cultivars](https://www.kaggle.com/olgabelitskaya/tomato-cultivars?select=01_019.png)\n",
        "\n",
        "[Fruits 360](https://www.kaggle.com/moltean/fruits)\n",
        "\n",
        "[Fruits & Vegetables](https://www.kaggle.com/jorgebailon/fruits-vegetables)\n",
        "\n",
        "[fruits_vegetables_photos](https://www.kaggle.com/balalexv/fruits-vegetables-photos?select=TRAIN)\n",
        "\n",
        "This dataset contains image data of fruits and vegetables. With six classes namely:\n",
        "\n",
        "* `Orange` : 1000 images\n",
        "* `Carrot`: 1000 images\n",
        "* `Broccoli`: 1000 images\n",
        "* `Apple`: 1000 images\n",
        "* `Tomato`: 1000 images\n"
      ]
    },
    {
      "cell_type": "markdown",
      "metadata": {
        "id": "yJ8jCX9wiGJC"
      },
      "source": [
        "**Link for dataset in Google Drive**"
      ]
    },
    {
      "cell_type": "markdown",
      "metadata": {
        "id": "X4H3s7CfX_Ub"
      },
      "source": [
        "https://drive.google.com/file/d/1ruaStccmRUdgpxlI5lD2LDWH9nxoc9VY/view?usp=sharing"
      ]
    },
    {
      "cell_type": "code",
      "metadata": {
        "id": "7XJRqon-W2vz"
      },
      "source": [
        "# Use this to download easily (only on google colab)\n",
        "# !gdown --id 1ruaStccmRUdgpxlI5lD2LDWH9nxoc9VY"
      ],
      "execution_count": 3,
      "outputs": []
    },
    {
      "cell_type": "markdown",
      "metadata": {
        "id": "dFJbXxahiXTy"
      },
      "source": [
        "**Download dataset in Google Drive**"
      ]
    },
    {
      "cell_type": "code",
      "metadata": {
        "id": "LxcdN-rcbbyb"
      },
      "source": [
        "# Code to read csv file into Colaboratory:\n",
        "!pip install -U -q PyDrive\n",
        "from pydrive.auth import GoogleAuth\n",
        "from pydrive.drive import GoogleDrive\n",
        "from google.colab import auth\n",
        "from oauth2client.client import GoogleCredentials\n",
        "# Authenticate and create the PyDrive client.\n",
        "auth.authenticate_user()\n",
        "gauth = GoogleAuth()\n",
        "gauth.credentials = GoogleCredentials.get_application_default()\n",
        "drive = GoogleDrive(gauth)"
      ],
      "execution_count": 4,
      "outputs": []
    },
    {
      "cell_type": "code",
      "metadata": {
        "id": "E_fU-eCmckwI"
      },
      "source": [
        "link = 'https://drive.google.com/file/d/1ruaStccmRUdgpxlI5lD2LDWH9nxoc9VY/view?usp=sharing' # The shareable link"
      ],
      "execution_count": 5,
      "outputs": []
    },
    {
      "cell_type": "code",
      "metadata": {
        "id": "xxTwMV6tdyD9",
        "colab": {
          "base_uri": "https://localhost:8080/"
        },
        "outputId": "297b7efe-50e5-475e-8d9f-3c7935b1da0e"
      },
      "source": [
        "# fluff, id = link.split('d/')\n",
        "id = link.split('d/')[1].split('/view?')[0]\n",
        "print (id)"
      ],
      "execution_count": 6,
      "outputs": [
        {
          "output_type": "stream",
          "text": [
            "1ruaStccmRUdgpxlI5lD2LDWH9nxoc9VY\n"
          ],
          "name": "stdout"
        }
      ]
    },
    {
      "cell_type": "code",
      "metadata": {
        "id": "K7XRCXAGg26K"
      },
      "source": [
        "downloaded = drive.CreateFile({'id':id})  #drive from PyDrive\n",
        "downloaded.GetContentFile('fruitsvegetables.zip')  "
      ],
      "execution_count": 7,
      "outputs": []
    },
    {
      "cell_type": "code",
      "metadata": {
        "id": "8scMVh1pVo-Y",
        "colab": {
          "base_uri": "https://localhost:8080/"
        },
        "outputId": "28ebbedd-5998-4cd2-f0db-4090454189db"
      },
      "source": [
        "file_zip = 'fruitsvegetables.zip'\n",
        "zip_ref = zipfile.ZipFile(file_zip, 'r')\n",
        "zip_ref.extractall('./fruitsvegetables/')\n",
        "zip_ref.close()\n",
        "\n",
        "print(os.listdir('./fruitsvegetables/'))"
      ],
      "execution_count": 8,
      "outputs": [
        {
          "output_type": "stream",
          "text": [
            "['banana', 'apple', 'orange', 'tomato', 'broccoli', 'carrot']\n"
          ],
          "name": "stdout"
        }
      ]
    }
  ]
}
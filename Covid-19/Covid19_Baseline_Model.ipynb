{
  "nbformat": 4,
  "nbformat_minor": 0,
  "metadata": {
    "colab": {
      "name": "Covid19_Baseline_Model.ipynb",
      "provenance": [],
      "collapsed_sections": [],
      "toc_visible": true
    },
    "kernelspec": {
      "name": "python3",
      "display_name": "Python 3"
    },
    "language_info": {
      "name": "python"
    }
  },
  "cells": [
    {
      "cell_type": "markdown",
      "metadata": {
        "id": "view-in-github"
      },
      "source": [
        "<a href=\"https://colab.research.google.com/github/DocBot-Bangkit-2021/DocBot-MachineLearningModels/blob/main/Covid-19/Covid19_Baseline_Model.ipynb\" target=\"_parent\"><img src=\"https://colab.research.google.com/assets/colab-badge.svg\" alt=\"Open In Colab\"/></a>"
      ]
    },
    {
      "cell_type": "markdown",
      "metadata": {
        "id": "C77gV-UqcqmC"
      },
      "source": [
        "# **Import Library**"
      ]
    },
    {
      "cell_type": "code",
      "metadata": {
        "id": "Qomv9XbWWQbT"
      },
      "source": [
        "import numpy as np \n",
        "import pandas as pd \n",
        "import matplotlib.pyplot as plt \n",
        "import seaborn as sns\n",
        "import zipfile\n",
        "import os"
      ],
      "execution_count": 1,
      "outputs": []
    },
    {
      "cell_type": "code",
      "metadata": {
        "id": "DFWela_L_K6W"
      },
      "source": [
        "plt.style.use('seaborn')"
      ],
      "execution_count": 2,
      "outputs": []
    },
    {
      "cell_type": "markdown",
      "metadata": {
        "id": "P6Zvp9Zac5wV"
      },
      "source": [
        "# **Data Loading**\n",
        "\n",
        "[Early stage symptoms of COVID-19 patient's](https://www.kaggle.com/martuza/early-stage-symptoms-of-covid19-patients)\n",
        "\n",
        "### **A machine learning model to identify early stage symptoms of SARS-Cov-2 infected patients**\n",
        "\n",
        "### **Dataset description**\n",
        "\n",
        "The dataset contains 6,512 individuals with follows attributes :\n",
        "\n",
        "* `Gender` - (male, female)\n",
        "* `Age` - (Numeric)\n",
        "* `Fever` - (yes-1, no-0)\n",
        "* `Cough` - (yes-1, no-0)\n",
        "* `Runny nose` - (yes-1, no-0)\n",
        "* `Muscle soreness` - (yes-1, no-0)\n",
        "* `Pneumonia` - (yes-1, no-0)\n",
        "* `Diarrhea` - (yes-1, no-0)\n",
        "* `Lung infection` - (yes-1, no-0)\n",
        "* `Travel history` - (yes-1, no-0)\n",
        "* `Isolation treatment` - (yes-1, no-0)\n",
        "* `SARS-CoV-2 Positive` - (positive-1, suspected-0)\n",
        "\n",
        "### **Related paper**\n",
        "\n",
        "[A machine learning model to identify early stage symptoms of SARS-Cov-2 infected patients](https://www.ncbi.nlm.nih.gov/pmc/articles/PMC7305929/)\n",
        "\n",
        "Ahamad MM, Aktar S, Rashed-Al-Mahfuz M, et al. A machine learning model to identify early stage symptoms of SARS-Cov-2 infected patients. Expert Systems with Applications. 2020;160:113661. doi:10.1016/j.eswa.2020.113661"
      ]
    },
    {
      "cell_type": "markdown",
      "metadata": {
        "id": "cUA5wJ7cDjrK"
      },
      "source": [
        "## **Download dataset from Kaggle**\n",
        "\n",
        "How to get data from kaggle :\n",
        "https://www.kaggle.com/general/51898"
      ]
    },
    {
      "cell_type": "code",
      "metadata": {
        "id": "vvmLli7zBeTL",
        "colab": {
          "resources": {
            "http://localhost:8080/nbextensions/google.colab/files.js": {
              "data": "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",
              "ok": true,
              "headers": [
                [
                  "content-type",
                  "application/javascript"
                ]
              ],
              "status": 200,
              "status_text": ""
            }
          },
          "base_uri": "https://localhost:8080/",
          "height": 197
        },
        "outputId": "6ff15b87-15c9-4a0b-e34d-f8460e26a9fd"
      },
      "source": [
        "# Upload kaggle.json \n",
        "print(\"Upload your kaggle.json\")\n",
        "from google.colab import files\n",
        "kaggle_file = files.upload()\n",
        "\n",
        "# Change file permission\n",
        "! chmod 600 kaggle.json \n",
        "# Check or make kaggle folder\n",
        "! (ls ~/.kaggle 2>/dev/null || mkdir ~/.kaggle)\n",
        "# Move kaggle.json to kaggle folder\n",
        "! mv kaggle.json ~/.kaggle/ && echo 'Done'\n",
        "# Download dataset from kaggle\n",
        "! kaggle datasets download -d martuza/early-stage-symptoms-of-covid19-patients\n",
        "\n",
        "# unzipping/extract data .zip\n",
        "# file_zip = 'early-stage-symptoms-of-covid19-patients.zip'\n",
        "# with zipfile.ZipFile(file_zip) as zip_file:\n",
        "#     zip_file.extractall('./sars-cov-2/')\n",
        "file_zip = 'early-stage-symptoms-of-covid19-patients.zip'\n",
        "zip_ref = zipfile.ZipFile(file_zip, 'r')\n",
        "zip_ref.extractall('./sars-cov-2/')\n",
        "zip_ref.close()\n",
        "\n",
        "print('Done')\n",
        "print(os.listdir('./sars-cov-2/'))"
      ],
      "execution_count": 3,
      "outputs": [
        {
          "output_type": "stream",
          "text": [
            "Upload your kaggle.json\n"
          ],
          "name": "stdout"
        },
        {
          "output_type": "display_data",
          "data": {
            "text/html": [
              "\n",
              "     <input type=\"file\" id=\"files-a3bbaacb-43c3-4919-b727-80ddc3c07d4f\" name=\"files[]\" multiple disabled\n",
              "        style=\"border:none\" />\n",
              "     <output id=\"result-a3bbaacb-43c3-4919-b727-80ddc3c07d4f\">\n",
              "      Upload widget is only available when the cell has been executed in the\n",
              "      current browser session. Please rerun this cell to enable.\n",
              "      </output>\n",
              "      <script src=\"/nbextensions/google.colab/files.js\"></script> "
            ],
            "text/plain": [
              "<IPython.core.display.HTML object>"
            ]
          },
          "metadata": {
            "tags": []
          }
        },
        {
          "output_type": "stream",
          "text": [
            "Saving kaggle.json to kaggle.json\n",
            "Done\n",
            "Downloading early-stage-symptoms-of-covid19-patients.zip to /content\n",
            "  0% 0.00/15.5k [00:00<?, ?B/s]\n",
            "100% 15.5k/15.5k [00:00<00:00, 28.3MB/s]\n",
            "Done\n",
            "['covid_early_stage_symptoms.csv']\n"
          ],
          "name": "stdout"
        }
      ]
    },
    {
      "cell_type": "code",
      "metadata": {
        "id": "V6hYfYuXF7Fy",
        "colab": {
          "base_uri": "https://localhost:8080/",
          "height": 249
        },
        "outputId": "3af26fed-423f-4a36-87fb-50d0553a3844"
      },
      "source": [
        "import pandas as pd\n",
        "df = pd.read_csv('sars-cov-2/covid_early_stage_symptoms.csv')\n",
        "df.head()"
      ],
      "execution_count": 4,
      "outputs": [
        {
          "output_type": "execute_result",
          "data": {
            "text/html": [
              "<div>\n",
              "<style scoped>\n",
              "    .dataframe tbody tr th:only-of-type {\n",
              "        vertical-align: middle;\n",
              "    }\n",
              "\n",
              "    .dataframe tbody tr th {\n",
              "        vertical-align: top;\n",
              "    }\n",
              "\n",
              "    .dataframe thead th {\n",
              "        text-align: right;\n",
              "    }\n",
              "</style>\n",
              "<table border=\"1\" class=\"dataframe\">\n",
              "  <thead>\n",
              "    <tr style=\"text-align: right;\">\n",
              "      <th></th>\n",
              "      <th>gender</th>\n",
              "      <th>age_year</th>\n",
              "      <th>fever</th>\n",
              "      <th>cough</th>\n",
              "      <th>runny_nose</th>\n",
              "      <th>muscle_soreness</th>\n",
              "      <th>pneumonia</th>\n",
              "      <th>diarrhea</th>\n",
              "      <th>lung_infection</th>\n",
              "      <th>travel_history</th>\n",
              "      <th>isolation_treatment</th>\n",
              "      <th>SARS-CoV-2 Positive</th>\n",
              "    </tr>\n",
              "  </thead>\n",
              "  <tbody>\n",
              "    <tr>\n",
              "      <th>0</th>\n",
              "      <td>male</td>\n",
              "      <td>89</td>\n",
              "      <td>1</td>\n",
              "      <td>1</td>\n",
              "      <td>0</td>\n",
              "      <td>0</td>\n",
              "      <td>0</td>\n",
              "      <td>0</td>\n",
              "      <td>0</td>\n",
              "      <td>1</td>\n",
              "      <td>0</td>\n",
              "      <td>0</td>\n",
              "    </tr>\n",
              "    <tr>\n",
              "      <th>1</th>\n",
              "      <td>male</td>\n",
              "      <td>68</td>\n",
              "      <td>1</td>\n",
              "      <td>0</td>\n",
              "      <td>0</td>\n",
              "      <td>0</td>\n",
              "      <td>0</td>\n",
              "      <td>0</td>\n",
              "      <td>0</td>\n",
              "      <td>0</td>\n",
              "      <td>0</td>\n",
              "      <td>0</td>\n",
              "    </tr>\n",
              "    <tr>\n",
              "      <th>2</th>\n",
              "      <td>male</td>\n",
              "      <td>68</td>\n",
              "      <td>0</td>\n",
              "      <td>0</td>\n",
              "      <td>0</td>\n",
              "      <td>0</td>\n",
              "      <td>0</td>\n",
              "      <td>0</td>\n",
              "      <td>0</td>\n",
              "      <td>1</td>\n",
              "      <td>0</td>\n",
              "      <td>0</td>\n",
              "    </tr>\n",
              "    <tr>\n",
              "      <th>3</th>\n",
              "      <td>male</td>\n",
              "      <td>68</td>\n",
              "      <td>1</td>\n",
              "      <td>1</td>\n",
              "      <td>0</td>\n",
              "      <td>0</td>\n",
              "      <td>0</td>\n",
              "      <td>0</td>\n",
              "      <td>0</td>\n",
              "      <td>1</td>\n",
              "      <td>1</td>\n",
              "      <td>1</td>\n",
              "    </tr>\n",
              "    <tr>\n",
              "      <th>4</th>\n",
              "      <td>male</td>\n",
              "      <td>50</td>\n",
              "      <td>1</td>\n",
              "      <td>1</td>\n",
              "      <td>1</td>\n",
              "      <td>0</td>\n",
              "      <td>1</td>\n",
              "      <td>0</td>\n",
              "      <td>0</td>\n",
              "      <td>1</td>\n",
              "      <td>0</td>\n",
              "      <td>1</td>\n",
              "    </tr>\n",
              "  </tbody>\n",
              "</table>\n",
              "</div>"
            ],
            "text/plain": [
              "  gender  age_year  ...  isolation_treatment  SARS-CoV-2 Positive\n",
              "0   male        89  ...                    0                    0\n",
              "1   male        68  ...                    0                    0\n",
              "2   male        68  ...                    0                    0\n",
              "3   male        68  ...                    1                    1\n",
              "4   male        50  ...                    0                    1\n",
              "\n",
              "[5 rows x 12 columns]"
            ]
          },
          "metadata": {
            "tags": []
          },
          "execution_count": 4
        }
      ]
    },
    {
      "cell_type": "markdown",
      "metadata": {
        "id": "mY1TYn4ZE9U6"
      },
      "source": [
        "## **Download dataset from GDrive [Optional]**"
      ]
    },
    {
      "cell_type": "code",
      "metadata": {
        "id": "Yb08cPnniD2-"
      },
      "source": [
        "# import pandas as pd\n",
        "# df = pd.read_csv('https://drive.google.com/uc?id=11w6cKQANeVoWnbjNJ8RQy2BLomdfCTBJ')\n",
        "# df.head()"
      ],
      "execution_count": 5,
      "outputs": []
    },
    {
      "cell_type": "markdown",
      "metadata": {
        "id": "gcBzF8ZX4xA_"
      },
      "source": [
        "# **Exploratory Data Analyis (EDA)**"
      ]
    },
    {
      "cell_type": "markdown",
      "metadata": {
        "id": "eJpdHIVrk5Vo"
      },
      "source": [
        "Displays a list of columns"
      ]
    },
    {
      "cell_type": "code",
      "metadata": {
        "colab": {
          "base_uri": "https://localhost:8080/"
        },
        "id": "bwzjcTFtkYlV",
        "outputId": "6afb77e1-116c-4a82-9a13-b987af3c1835"
      },
      "source": [
        "# column list\n",
        "df.columns"
      ],
      "execution_count": 6,
      "outputs": [
        {
          "output_type": "execute_result",
          "data": {
            "text/plain": [
              "Index(['gender', 'age_year', 'fever', 'cough', 'runny_nose', 'muscle_soreness',\n",
              "       'pneumonia', 'diarrhea', 'lung_infection', 'travel_history',\n",
              "       'isolation_treatment', 'SARS-CoV-2 Positive'],\n",
              "      dtype='object')"
            ]
          },
          "metadata": {
            "tags": []
          },
          "execution_count": 6
        }
      ]
    },
    {
      "cell_type": "code",
      "metadata": {
        "colab": {
          "base_uri": "https://localhost:8080/",
          "height": 321
        },
        "id": "y9_vZDiT4j5k",
        "outputId": "5343abdf-3574-400d-90c3-3c589a855b2c"
      },
      "source": [
        "# statistical description of the data\n",
        "df.describe()"
      ],
      "execution_count": 7,
      "outputs": [
        {
          "output_type": "execute_result",
          "data": {
            "text/html": [
              "<div>\n",
              "<style scoped>\n",
              "    .dataframe tbody tr th:only-of-type {\n",
              "        vertical-align: middle;\n",
              "    }\n",
              "\n",
              "    .dataframe tbody tr th {\n",
              "        vertical-align: top;\n",
              "    }\n",
              "\n",
              "    .dataframe thead th {\n",
              "        text-align: right;\n",
              "    }\n",
              "</style>\n",
              "<table border=\"1\" class=\"dataframe\">\n",
              "  <thead>\n",
              "    <tr style=\"text-align: right;\">\n",
              "      <th></th>\n",
              "      <th>age_year</th>\n",
              "      <th>fever</th>\n",
              "      <th>cough</th>\n",
              "      <th>runny_nose</th>\n",
              "      <th>muscle_soreness</th>\n",
              "      <th>pneumonia</th>\n",
              "      <th>diarrhea</th>\n",
              "      <th>lung_infection</th>\n",
              "      <th>travel_history</th>\n",
              "      <th>isolation_treatment</th>\n",
              "      <th>SARS-CoV-2 Positive</th>\n",
              "    </tr>\n",
              "  </thead>\n",
              "  <tbody>\n",
              "    <tr>\n",
              "      <th>count</th>\n",
              "      <td>6512.000000</td>\n",
              "      <td>6512.000000</td>\n",
              "      <td>6512.000000</td>\n",
              "      <td>6512.000000</td>\n",
              "      <td>6512.000000</td>\n",
              "      <td>6512.000000</td>\n",
              "      <td>6512.000000</td>\n",
              "      <td>6512.000000</td>\n",
              "      <td>6512.000000</td>\n",
              "      <td>6512.000000</td>\n",
              "      <td>6512.000000</td>\n",
              "    </tr>\n",
              "    <tr>\n",
              "      <th>mean</th>\n",
              "      <td>44.019502</td>\n",
              "      <td>0.410780</td>\n",
              "      <td>0.303286</td>\n",
              "      <td>0.084306</td>\n",
              "      <td>0.003993</td>\n",
              "      <td>0.074785</td>\n",
              "      <td>0.005682</td>\n",
              "      <td>0.131296</td>\n",
              "      <td>0.650952</td>\n",
              "      <td>0.216984</td>\n",
              "      <td>0.241400</td>\n",
              "    </tr>\n",
              "    <tr>\n",
              "      <th>std</th>\n",
              "      <td>16.112865</td>\n",
              "      <td>0.492013</td>\n",
              "      <td>0.459713</td>\n",
              "      <td>0.277867</td>\n",
              "      <td>0.063066</td>\n",
              "      <td>0.263064</td>\n",
              "      <td>0.075169</td>\n",
              "      <td>0.337750</td>\n",
              "      <td>0.476706</td>\n",
              "      <td>0.412223</td>\n",
              "      <td>0.427965</td>\n",
              "    </tr>\n",
              "    <tr>\n",
              "      <th>min</th>\n",
              "      <td>1.000000</td>\n",
              "      <td>0.000000</td>\n",
              "      <td>0.000000</td>\n",
              "      <td>0.000000</td>\n",
              "      <td>0.000000</td>\n",
              "      <td>0.000000</td>\n",
              "      <td>0.000000</td>\n",
              "      <td>0.000000</td>\n",
              "      <td>0.000000</td>\n",
              "      <td>0.000000</td>\n",
              "      <td>0.000000</td>\n",
              "    </tr>\n",
              "    <tr>\n",
              "      <th>25%</th>\n",
              "      <td>32.000000</td>\n",
              "      <td>0.000000</td>\n",
              "      <td>0.000000</td>\n",
              "      <td>0.000000</td>\n",
              "      <td>0.000000</td>\n",
              "      <td>0.000000</td>\n",
              "      <td>0.000000</td>\n",
              "      <td>0.000000</td>\n",
              "      <td>0.000000</td>\n",
              "      <td>0.000000</td>\n",
              "      <td>0.000000</td>\n",
              "    </tr>\n",
              "    <tr>\n",
              "      <th>50%</th>\n",
              "      <td>43.000000</td>\n",
              "      <td>0.000000</td>\n",
              "      <td>0.000000</td>\n",
              "      <td>0.000000</td>\n",
              "      <td>0.000000</td>\n",
              "      <td>0.000000</td>\n",
              "      <td>0.000000</td>\n",
              "      <td>0.000000</td>\n",
              "      <td>1.000000</td>\n",
              "      <td>0.000000</td>\n",
              "      <td>0.000000</td>\n",
              "    </tr>\n",
              "    <tr>\n",
              "      <th>75%</th>\n",
              "      <td>55.000000</td>\n",
              "      <td>1.000000</td>\n",
              "      <td>1.000000</td>\n",
              "      <td>0.000000</td>\n",
              "      <td>0.000000</td>\n",
              "      <td>0.000000</td>\n",
              "      <td>0.000000</td>\n",
              "      <td>0.000000</td>\n",
              "      <td>1.000000</td>\n",
              "      <td>0.000000</td>\n",
              "      <td>0.000000</td>\n",
              "    </tr>\n",
              "    <tr>\n",
              "      <th>max</th>\n",
              "      <td>96.000000</td>\n",
              "      <td>1.000000</td>\n",
              "      <td>1.000000</td>\n",
              "      <td>1.000000</td>\n",
              "      <td>1.000000</td>\n",
              "      <td>1.000000</td>\n",
              "      <td>1.000000</td>\n",
              "      <td>1.000000</td>\n",
              "      <td>1.000000</td>\n",
              "      <td>1.000000</td>\n",
              "      <td>1.000000</td>\n",
              "    </tr>\n",
              "  </tbody>\n",
              "</table>\n",
              "</div>"
            ],
            "text/plain": [
              "          age_year        fever  ...  isolation_treatment  SARS-CoV-2 Positive\n",
              "count  6512.000000  6512.000000  ...          6512.000000          6512.000000\n",
              "mean     44.019502     0.410780  ...             0.216984             0.241400\n",
              "std      16.112865     0.492013  ...             0.412223             0.427965\n",
              "min       1.000000     0.000000  ...             0.000000             0.000000\n",
              "25%      32.000000     0.000000  ...             0.000000             0.000000\n",
              "50%      43.000000     0.000000  ...             0.000000             0.000000\n",
              "75%      55.000000     1.000000  ...             0.000000             0.000000\n",
              "max      96.000000     1.000000  ...             1.000000             1.000000\n",
              "\n",
              "[8 rows x 11 columns]"
            ]
          },
          "metadata": {
            "tags": []
          },
          "execution_count": 7
        }
      ]
    },
    {
      "cell_type": "code",
      "metadata": {
        "colab": {
          "base_uri": "https://localhost:8080/"
        },
        "id": "UN2iDlZ25Xo-",
        "outputId": "d685d382-e499-4635-b8ce-102686e94515"
      },
      "source": [
        "# additional info about data: type, number of nulls, number of rows and others\n",
        "df.info()"
      ],
      "execution_count": 8,
      "outputs": [
        {
          "output_type": "stream",
          "text": [
            "<class 'pandas.core.frame.DataFrame'>\n",
            "RangeIndex: 6512 entries, 0 to 6511\n",
            "Data columns (total 12 columns):\n",
            " #   Column               Non-Null Count  Dtype \n",
            "---  ------               --------------  ----- \n",
            " 0   gender               6512 non-null   object\n",
            " 1   age_year             6512 non-null   int64 \n",
            " 2   fever                6512 non-null   int64 \n",
            " 3   cough                6512 non-null   int64 \n",
            " 4   runny_nose           6512 non-null   int64 \n",
            " 5   muscle_soreness      6512 non-null   int64 \n",
            " 6   pneumonia            6512 non-null   int64 \n",
            " 7   diarrhea             6512 non-null   int64 \n",
            " 8   lung_infection       6512 non-null   int64 \n",
            " 9   travel_history       6512 non-null   int64 \n",
            " 10  isolation_treatment  6512 non-null   int64 \n",
            " 11  SARS-CoV-2 Positive  6512 non-null   int64 \n",
            "dtypes: int64(11), object(1)\n",
            "memory usage: 610.6+ KB\n"
          ],
          "name": "stdout"
        }
      ]
    },
    {
      "cell_type": "code",
      "metadata": {
        "colab": {
          "base_uri": "https://localhost:8080/"
        },
        "id": "k8FWB4Go3rko",
        "outputId": "1f5239f3-05ca-485c-8ec1-5134a689e5ec"
      },
      "source": [
        "# check for null counts\n",
        "df.isnull().sum()"
      ],
      "execution_count": 9,
      "outputs": [
        {
          "output_type": "execute_result",
          "data": {
            "text/plain": [
              "gender                 0\n",
              "age_year               0\n",
              "fever                  0\n",
              "cough                  0\n",
              "runny_nose             0\n",
              "muscle_soreness        0\n",
              "pneumonia              0\n",
              "diarrhea               0\n",
              "lung_infection         0\n",
              "travel_history         0\n",
              "isolation_treatment    0\n",
              "SARS-CoV-2 Positive    0\n",
              "dtype: int64"
            ]
          },
          "metadata": {
            "tags": []
          },
          "execution_count": 9
        }
      ]
    },
    {
      "cell_type": "code",
      "metadata": {
        "colab": {
          "base_uri": "https://localhost:8080/"
        },
        "id": "gzQNvh_444VY",
        "outputId": "e0081f71-c092-4340-c964-ad054275aa36"
      },
      "source": [
        "# large amount of data based on SARS-CoV-2 Positive target - (positive-1, Suspected-0)\n",
        "df[\"SARS-CoV-2 Positive\"].value_counts()"
      ],
      "execution_count": 10,
      "outputs": [
        {
          "output_type": "execute_result",
          "data": {
            "text/plain": [
              "0    4940\n",
              "1    1572\n",
              "Name: SARS-CoV-2 Positive, dtype: int64"
            ]
          },
          "metadata": {
            "tags": []
          },
          "execution_count": 10
        }
      ]
    },
    {
      "cell_type": "code",
      "metadata": {
        "colab": {
          "base_uri": "https://localhost:8080/"
        },
        "id": "AwTxzD3n5eAS",
        "outputId": "8a70c101-0493-4b2e-8862-72cb79ef927f"
      },
      "source": [
        "# the number of rows and columns in the data\n",
        "print('Total Row:', df.shape[0])\n",
        "print('Total Columns:', df.shape[1])\n",
        "df.shape"
      ],
      "execution_count": 11,
      "outputs": [
        {
          "output_type": "stream",
          "text": [
            "Total Row: 6512\n",
            "Total Columns: 12\n"
          ],
          "name": "stdout"
        },
        {
          "output_type": "execute_result",
          "data": {
            "text/plain": [
              "(6512, 12)"
            ]
          },
          "metadata": {
            "tags": []
          },
          "execution_count": 11
        }
      ]
    },
    {
      "cell_type": "code",
      "metadata": {
        "colab": {
          "base_uri": "https://localhost:8080/"
        },
        "id": "q64Af9lLS0hw",
        "outputId": "34f31e98-c230-4669-81b8-9f3cf3172d41"
      },
      "source": [
        "# defines the column category and the amount in each type\n",
        "col_cat = ['gender', 'fever', 'cough', 'runny_nose', 'muscle_soreness',\n",
        "       'pneumonia', 'diarrhea', 'lung_infection', 'travel_history',\n",
        "       'isolation_treatment', 'SARS-CoV-2 Positive']\n",
        "for col in col_cat :\n",
        "  print(df[col].value_counts(), \"\\n\")"
      ],
      "execution_count": 12,
      "outputs": [
        {
          "output_type": "stream",
          "text": [
            "male      3367\n",
            "female    3145\n",
            "Name: gender, dtype: int64 \n",
            "\n",
            "0    3837\n",
            "1    2675\n",
            "Name: fever, dtype: int64 \n",
            "\n",
            "0    4537\n",
            "1    1975\n",
            "Name: cough, dtype: int64 \n",
            "\n",
            "0    5963\n",
            "1     549\n",
            "Name: runny_nose, dtype: int64 \n",
            "\n",
            "0    6486\n",
            "1      26\n",
            "Name: muscle_soreness, dtype: int64 \n",
            "\n",
            "0    6025\n",
            "1     487\n",
            "Name: pneumonia, dtype: int64 \n",
            "\n",
            "0    6475\n",
            "1      37\n",
            "Name: diarrhea, dtype: int64 \n",
            "\n",
            "0    5657\n",
            "1     855\n",
            "Name: lung_infection, dtype: int64 \n",
            "\n",
            "1    4239\n",
            "0    2273\n",
            "Name: travel_history, dtype: int64 \n",
            "\n",
            "0    5099\n",
            "1    1413\n",
            "Name: isolation_treatment, dtype: int64 \n",
            "\n",
            "0    4940\n",
            "1    1572\n",
            "Name: SARS-CoV-2 Positive, dtype: int64 \n",
            "\n"
          ],
          "name": "stdout"
        }
      ]
    },
    {
      "cell_type": "markdown",
      "metadata": {
        "id": "Vzqgnxyi497W"
      },
      "source": [
        "# **Data Visualization**"
      ]
    },
    {
      "cell_type": "code",
      "metadata": {
        "colab": {
          "base_uri": "https://localhost:8080/",
          "height": 434
        },
        "id": "dC9BLaOJT_ve",
        "outputId": "26c990f7-808b-4a7e-f422-75761cca8479"
      },
      "source": [
        "# display of data distribution distribution on SARS-CoV-2 Positive - (positive-1, Suspected-0)\n",
        "sns.countplot(df['SARS-CoV-2 Positive'], label=\"SARS-CoV-2 Positive\")"
      ],
      "execution_count": 13,
      "outputs": [
        {
          "output_type": "stream",
          "text": [
            "/usr/local/lib/python3.7/dist-packages/seaborn/_decorators.py:43: FutureWarning: Pass the following variable as a keyword arg: x. From version 0.12, the only valid positional argument will be `data`, and passing other arguments without an explicit keyword will result in an error or misinterpretation.\n",
            "  FutureWarning\n"
          ],
          "name": "stderr"
        },
        {
          "output_type": "execute_result",
          "data": {
            "text/plain": [
              "<matplotlib.axes._subplots.AxesSubplot at 0x7f7ea15baf50>"
            ]
          },
          "metadata": {
            "tags": []
          },
          "execution_count": 13
        },
        {
          "output_type": "display_data",
          "data": {
            "image/png": "[encoded data removed]",
            "text/plain": [
              "<Figure size 576x396 with 1 Axes>"
            ]
          },
          "metadata": {
            "tags": []
          }
        }
      ]
    },
    {
      "cell_type": "code",
      "metadata": {
        "colab": {
          "base_uri": "https://localhost:8080/"
        },
        "id": "o8q3D0GOVbhK",
        "outputId": "a5eac306-b914-4b5d-c5ac-49057503c68f"
      },
      "source": [
        "# SARS-CoV-2 Positive\n",
        "# positive --> 1\n",
        "# Suspected --> 0\n",
        "df['SARS-CoV-2 Positive'].unique()"
      ],
      "execution_count": 14,
      "outputs": [
        {
          "output_type": "execute_result",
          "data": {
            "text/plain": [
              "array([0, 1])"
            ]
          },
          "metadata": {
            "tags": []
          },
          "execution_count": 14
        }
      ]
    },
    {
      "cell_type": "code",
      "metadata": {
        "colab": {
          "base_uri": "https://localhost:8080/",
          "height": 345
        },
        "id": "GOgBQuEQSy9s",
        "outputId": "9c328759-d92a-4911-9652-15250755156d"
      },
      "source": [
        "target = df['SARS-CoV-2 Positive'].value_counts()\n",
        "label =['Suspected', 'Positif']\n",
        "target.plot(kind='pie', labels=label, autopct='%1.1f%%')\n",
        "plt.title('SARS-CoV-2 Positive Presentation')\n",
        "plt.show()"
      ],
      "execution_count": 15,
      "outputs": [
        {
          "output_type": "display_data",
          "data": {
            "image/png": "[encoded data removed]",
            "text/plain": [
              "<Figure size 576x396 with 1 Axes>"
            ]
          },
          "metadata": {
            "tags": []
          }
        }
      ]
    },
    {
      "cell_type": "code",
      "metadata": {
        "colab": {
          "base_uri": "https://localhost:8080/",
          "height": 686
        },
        "id": "7rEsOm7D49ko",
        "outputId": "f4f2d68c-94f4-4173-b9e6-166496964212"
      },
      "source": [
        "fig = plt.figure(figsize=(20, 20))\n",
        "axs = fig.add_subplot()\n",
        "df.hist(ax=axs);"
      ],
      "execution_count": 16,
      "outputs": [
        {
          "output_type": "stream",
          "text": [
            "/usr/local/lib/python3.7/dist-packages/ipykernel_launcher.py:3: UserWarning: To output multiple subplots, the figure containing the passed axes is being cleared\n",
            "  This is separate from the ipykernel package so we can avoid doing imports until\n"
          ],
          "name": "stderr"
        },
        {
          "output_type": "display_data",
          "data": {
            "image/png": "[encoded data removed]",
            "text/plain": [
              "<Figure size 1440x1440 with 12 Axes>"
            ]
          },
          "metadata": {
            "tags": []
          }
        }
      ]
    },
    {
      "cell_type": "code",
      "metadata": {
        "colab": {
          "base_uri": "https://localhost:8080/",
          "height": 467
        },
        "id": "1ifi-UosFhMJ",
        "outputId": "1f228d86-ec77-4d75-cc62-55c254474341"
      },
      "source": [
        "plt.figure(figsize=(20,12)) \n",
        "sns.heatmap(df.corr(), annot=True)"
      ],
      "execution_count": 17,
      "outputs": [
        {
          "output_type": "execute_result",
          "data": {
            "text/plain": [
              "<matplotlib.axes._subplots.AxesSubplot at 0x7f7e8be2f310>"
            ]
          },
          "metadata": {
            "tags": []
          },
          "execution_count": 17
        },
        {
          "output_type": "display_data",
          "data": {
            "image/png": "[encoded data removed]",
            "text/plain": [
              "<Figure size 1440x864 with 2 Axes>"
            ]
          },
          "metadata": {
            "tags": []
          }
        }
      ]
    },
    {
      "cell_type": "markdown",
      "metadata": {
        "id": "e5ffd63d"
      },
      "source": [
        "# Data cleaning\n",
        "check missing value, Check duplicate value, check data type, check outlier, check typo, check imbalance data\n"
      ]
    },
    {
      "cell_type": "markdown",
      "metadata": {
        "id": "716e5434"
      },
      "source": [
        "## -- Check missing value"
      ]
    },
    {
      "cell_type": "code",
      "metadata": {
        "id": "29bb981e",
        "colab": {
          "base_uri": "https://localhost:8080/"
        },
        "outputId": "be451720-49b6-4af8-edda-8f8a689b82ae"
      },
      "source": [
        "# Check missing value\n",
        "df.isnull().sum()"
      ],
      "execution_count": 18,
      "outputs": [
        {
          "output_type": "execute_result",
          "data": {
            "text/plain": [
              "gender                 0\n",
              "age_year               0\n",
              "fever                  0\n",
              "cough                  0\n",
              "runny_nose             0\n",
              "muscle_soreness        0\n",
              "pneumonia              0\n",
              "diarrhea               0\n",
              "lung_infection         0\n",
              "travel_history         0\n",
              "isolation_treatment    0\n",
              "SARS-CoV-2 Positive    0\n",
              "dtype: int64"
            ]
          },
          "metadata": {
            "tags": []
          },
          "execution_count": 18
        }
      ]
    },
    {
      "cell_type": "code",
      "metadata": {
        "id": "718e7553"
      },
      "source": [
        "# Preview rows contain missing value\n",
        "# NOte : There is no preview because the data is not null\n",
        "\n",
        "# if df.isnull().any(axis=None):\n",
        "#     print(\"Preview of data with null values\")\n",
        "#     print(\"Null values : \", df.isnull().sum().sum())\n",
        "#     display(df[df.isnull().any(axis=1)])"
      ],
      "execution_count": 19,
      "outputs": []
    },
    {
      "cell_type": "code",
      "metadata": {
        "id": "631a273a"
      },
      "source": [
        "# Replace missing value with median value\n",
        "# df = df.fillna(df.median())"
      ],
      "execution_count": 20,
      "outputs": []
    },
    {
      "cell_type": "markdown",
      "metadata": {
        "id": "42af0599"
      },
      "source": [
        "The method chosen to overcome missing value is the median. <br>\n",
        "Reason: Columns that have a passing value have a categorical data type."
      ]
    },
    {
      "cell_type": "code",
      "metadata": {
        "id": "af75014f",
        "colab": {
          "base_uri": "https://localhost:8080/"
        },
        "outputId": "e4acc22b-8f87-430e-e38d-d3abdccf96d6"
      },
      "source": [
        "print(\"Null values : \",df.isnull().sum().sum())\n",
        "print(\"Shape of data: \", df.shape)"
      ],
      "execution_count": 21,
      "outputs": [
        {
          "output_type": "stream",
          "text": [
            "Null values :  0\n",
            "Shape of data:  (6512, 12)\n"
          ],
          "name": "stdout"
        }
      ]
    },
    {
      "cell_type": "markdown",
      "metadata": {
        "id": "c0342aa5"
      },
      "source": [
        "With the replace method, it can overcome missing values without reducing data"
      ]
    },
    {
      "cell_type": "markdown",
      "metadata": {
        "id": "61a07b72"
      },
      "source": [
        "## -- Check duplicate"
      ]
    },
    {
      "cell_type": "code",
      "metadata": {
        "id": "e7f56ea1",
        "colab": {
          "base_uri": "https://localhost:8080/"
        },
        "outputId": "6013c7a4-7b4f-4e54-c313-ca2285a01190"
      },
      "source": [
        "# Check duplicate data\n",
        "print(\"Data duplicated: \", df.duplicated().sum())"
      ],
      "execution_count": 22,
      "outputs": [
        {
          "output_type": "stream",
          "text": [
            "Data duplicated:  4285\n"
          ],
          "name": "stdout"
        }
      ]
    },
    {
      "cell_type": "markdown",
      "metadata": {
        "id": "6eb40f0c"
      },
      "source": [
        "## -- Check imbalance data"
      ]
    },
    {
      "cell_type": "code",
      "metadata": {
        "id": "65e653c2",
        "colab": {
          "base_uri": "https://localhost:8080/",
          "height": 414
        },
        "outputId": "8ca6c3ff-4791-4777-cda8-4bb77329aa44"
      },
      "source": [
        "# Check imbalance dataset\n",
        "import seaborn as sns\n",
        "\n",
        "sns.countplot(x=df['SARS-CoV-2 Positive'])\n",
        "print(df['SARS-CoV-2 Positive'].value_counts())"
      ],
      "execution_count": 23,
      "outputs": [
        {
          "output_type": "stream",
          "text": [
            "0    4940\n",
            "1    1572\n",
            "Name: SARS-CoV-2 Positive, dtype: int64\n"
          ],
          "name": "stdout"
        },
        {
          "output_type": "display_data",
          "data": {
            "image/png": "[encoded data removed]",
            "text/plain": [
              "<Figure size 576x396 with 1 Axes>"
            ]
          },
          "metadata": {
            "tags": []
          }
        }
      ]
    },
    {
      "cell_type": "markdown",
      "metadata": {
        "id": "QNlVGTiAQXlR"
      },
      "source": [
        "# **Data Preprocessing**"
      ]
    },
    {
      "cell_type": "markdown",
      "metadata": {
        "id": "YgbuWrlEnspO"
      },
      "source": [
        "## -- Spitting features and label"
      ]
    },
    {
      "cell_type": "code",
      "metadata": {
        "colab": {
          "base_uri": "https://localhost:8080/"
        },
        "id": "5HPNaEWiYOnW",
        "outputId": "ebde846c-b9b9-4734-a05e-d0101e0182fa"
      },
      "source": [
        "features = df.drop(columns=['SARS-CoV-2 Positive'])\n",
        "label = df[['SARS-CoV-2 Positive']]\n",
        "\n",
        "print(features.shape)\n",
        "print(label.shape)\n",
        "\n",
        "features.columns, label.columns"
      ],
      "execution_count": 24,
      "outputs": [
        {
          "output_type": "stream",
          "text": [
            "(6512, 11)\n",
            "(6512, 1)\n"
          ],
          "name": "stdout"
        },
        {
          "output_type": "execute_result",
          "data": {
            "text/plain": [
              "(Index(['gender', 'age_year', 'fever', 'cough', 'runny_nose', 'muscle_soreness',\n",
              "        'pneumonia', 'diarrhea', 'lung_infection', 'travel_history',\n",
              "        'isolation_treatment'],\n",
              "       dtype='object'), Index(['SARS-CoV-2 Positive'], dtype='object'))"
            ]
          },
          "metadata": {
            "tags": []
          },
          "execution_count": 24
        }
      ]
    },
    {
      "cell_type": "markdown",
      "metadata": {
        "id": "7f159889"
      },
      "source": [
        "## -- Check Data type\n",
        "Menyesuaikan tipe data sesuai dengan metadata yang diberikan\n",
        "\n",
        "* **Categorical** (`gender`, `fever`, `cough`, `runny_nose`, `muscle_soreness`, `pneumonia`, `diarrhea`, `lung_infection`, `travel_history`, `isolation_treatment`, `SARS-CoV-2 Positive`)\n",
        "* **Numeric** (`age_year`)"
      ]
    },
    {
      "cell_type": "code",
      "metadata": {
        "id": "1ff3608a",
        "colab": {
          "base_uri": "https://localhost:8080/"
        },
        "outputId": "0320a9b8-31f3-4677-e2e5-5615f92372c4"
      },
      "source": [
        "features.info()"
      ],
      "execution_count": 25,
      "outputs": [
        {
          "output_type": "stream",
          "text": [
            "<class 'pandas.core.frame.DataFrame'>\n",
            "RangeIndex: 6512 entries, 0 to 6511\n",
            "Data columns (total 11 columns):\n",
            " #   Column               Non-Null Count  Dtype \n",
            "---  ------               --------------  ----- \n",
            " 0   gender               6512 non-null   object\n",
            " 1   age_year             6512 non-null   int64 \n",
            " 2   fever                6512 non-null   int64 \n",
            " 3   cough                6512 non-null   int64 \n",
            " 4   runny_nose           6512 non-null   int64 \n",
            " 5   muscle_soreness      6512 non-null   int64 \n",
            " 6   pneumonia            6512 non-null   int64 \n",
            " 7   diarrhea             6512 non-null   int64 \n",
            " 8   lung_infection       6512 non-null   int64 \n",
            " 9   travel_history       6512 non-null   int64 \n",
            " 10  isolation_treatment  6512 non-null   int64 \n",
            "dtypes: int64(10), object(1)\n",
            "memory usage: 559.8+ KB\n"
          ],
          "name": "stdout"
        }
      ]
    },
    {
      "cell_type": "code",
      "metadata": {
        "id": "49c13096"
      },
      "source": [
        "col_cat_features = ['gender', 'fever', 'cough', 'runny_nose', 'muscle_soreness',\n",
        "       'pneumonia', 'diarrhea', 'lung_infection', 'travel_history',\n",
        "       'isolation_treatment']\n",
        "\n",
        "features[col_cat_features] = features[col_cat_features].astype('category')"
      ],
      "execution_count": 26,
      "outputs": []
    },
    {
      "cell_type": "code",
      "metadata": {
        "id": "237b8d3b",
        "colab": {
          "base_uri": "https://localhost:8080/"
        },
        "outputId": "1fe8d44d-da7f-4c6d-a9eb-fb858162893b"
      },
      "source": [
        "features.info()"
      ],
      "execution_count": 27,
      "outputs": [
        {
          "output_type": "stream",
          "text": [
            "<class 'pandas.core.frame.DataFrame'>\n",
            "RangeIndex: 6512 entries, 0 to 6511\n",
            "Data columns (total 11 columns):\n",
            " #   Column               Non-Null Count  Dtype   \n",
            "---  ------               --------------  -----   \n",
            " 0   gender               6512 non-null   category\n",
            " 1   age_year             6512 non-null   int64   \n",
            " 2   fever                6512 non-null   category\n",
            " 3   cough                6512 non-null   category\n",
            " 4   runny_nose           6512 non-null   category\n",
            " 5   muscle_soreness      6512 non-null   category\n",
            " 6   pneumonia            6512 non-null   category\n",
            " 7   diarrhea             6512 non-null   category\n",
            " 8   lung_infection       6512 non-null   category\n",
            " 9   travel_history       6512 non-null   category\n",
            " 10  isolation_treatment  6512 non-null   category\n",
            "dtypes: category(10), int64(1)\n",
            "memory usage: 115.5 KB\n"
          ],
          "name": "stdout"
        }
      ]
    },
    {
      "cell_type": "code",
      "metadata": {
        "id": "0NEDNhev9qaN"
      },
      "source": [
        "label_types = ['Positive', 'Suspected']"
      ],
      "execution_count": 28,
      "outputs": []
    },
    {
      "cell_type": "markdown",
      "metadata": {
        "id": "qJ5CRPd-nuoq"
      },
      "source": [
        "## -- Normalize Data"
      ]
    },
    {
      "cell_type": "code",
      "metadata": {
        "id": "W7HbgasNlNuC"
      },
      "source": [
        "from sklearn.preprocessing import MinMaxScaler"
      ],
      "execution_count": 29,
      "outputs": []
    },
    {
      "cell_type": "code",
      "metadata": {
        "id": "XS-0hyU1lWNv"
      },
      "source": [
        "mx = MinMaxScaler()"
      ],
      "execution_count": 30,
      "outputs": []
    },
    {
      "cell_type": "code",
      "metadata": {
        "colab": {
          "base_uri": "https://localhost:8080/",
          "height": 126
        },
        "id": "3KtUu3GdlXrE",
        "outputId": "bbf4fcb7-e552-4f9e-b8a8-ccfd9474b297"
      },
      "source": [
        "features['age_year'] = mx.fit_transform(features[['age_year']])\n",
        "features.head(2)"
      ],
      "execution_count": 31,
      "outputs": [
        {
          "output_type": "execute_result",
          "data": {
            "text/html": [
              "<div>\n",
              "<style scoped>\n",
              "    .dataframe tbody tr th:only-of-type {\n",
              "        vertical-align: middle;\n",
              "    }\n",
              "\n",
              "    .dataframe tbody tr th {\n",
              "        vertical-align: top;\n",
              "    }\n",
              "\n",
              "    .dataframe thead th {\n",
              "        text-align: right;\n",
              "    }\n",
              "</style>\n",
              "<table border=\"1\" class=\"dataframe\">\n",
              "  <thead>\n",
              "    <tr style=\"text-align: right;\">\n",
              "      <th></th>\n",
              "      <th>gender</th>\n",
              "      <th>age_year</th>\n",
              "      <th>fever</th>\n",
              "      <th>cough</th>\n",
              "      <th>runny_nose</th>\n",
              "      <th>muscle_soreness</th>\n",
              "      <th>pneumonia</th>\n",
              "      <th>diarrhea</th>\n",
              "      <th>lung_infection</th>\n",
              "      <th>travel_history</th>\n",
              "      <th>isolation_treatment</th>\n",
              "    </tr>\n",
              "  </thead>\n",
              "  <tbody>\n",
              "    <tr>\n",
              "      <th>0</th>\n",
              "      <td>male</td>\n",
              "      <td>0.926316</td>\n",
              "      <td>1</td>\n",
              "      <td>1</td>\n",
              "      <td>0</td>\n",
              "      <td>0</td>\n",
              "      <td>0</td>\n",
              "      <td>0</td>\n",
              "      <td>0</td>\n",
              "      <td>1</td>\n",
              "      <td>0</td>\n",
              "    </tr>\n",
              "    <tr>\n",
              "      <th>1</th>\n",
              "      <td>male</td>\n",
              "      <td>0.705263</td>\n",
              "      <td>1</td>\n",
              "      <td>0</td>\n",
              "      <td>0</td>\n",
              "      <td>0</td>\n",
              "      <td>0</td>\n",
              "      <td>0</td>\n",
              "      <td>0</td>\n",
              "      <td>0</td>\n",
              "      <td>0</td>\n",
              "    </tr>\n",
              "  </tbody>\n",
              "</table>\n",
              "</div>"
            ],
            "text/plain": [
              "  gender  age_year fever  ... lung_infection travel_history isolation_treatment\n",
              "0   male  0.926316     1  ...              0              1                   0\n",
              "1   male  0.705263     1  ...              0              0                   0\n",
              "\n",
              "[2 rows x 11 columns]"
            ]
          },
          "metadata": {
            "tags": []
          },
          "execution_count": 31
        }
      ]
    },
    {
      "cell_type": "markdown",
      "metadata": {
        "id": "TADzhknUqc9f"
      },
      "source": [
        "## -- Categorical"
      ]
    },
    {
      "cell_type": "markdown",
      "metadata": {
        "id": "VxJMh0Dfq5cr"
      },
      "source": [
        "Change the categorical column to one hot encoding"
      ]
    },
    {
      "cell_type": "code",
      "metadata": {
        "colab": {
          "base_uri": "https://localhost:8080/",
          "height": 215
        },
        "id": "zxbUQGzjqaco",
        "outputId": "a99789b2-758c-4a55-a953-f9884a5884ec"
      },
      "source": [
        "features_cat = pd.get_dummies(features[col_cat_features])\n",
        "features = pd.concat([features, features_cat], axis = 1)\n",
        "features = features.drop(columns = col_cat_features)\n",
        "features.head()"
      ],
      "execution_count": 32,
      "outputs": [
        {
          "output_type": "execute_result",
          "data": {
            "text/html": [
              "<div>\n",
              "<style scoped>\n",
              "    .dataframe tbody tr th:only-of-type {\n",
              "        vertical-align: middle;\n",
              "    }\n",
              "\n",
              "    .dataframe tbody tr th {\n",
              "        vertical-align: top;\n",
              "    }\n",
              "\n",
              "    .dataframe thead th {\n",
              "        text-align: right;\n",
              "    }\n",
              "</style>\n",
              "<table border=\"1\" class=\"dataframe\">\n",
              "  <thead>\n",
              "    <tr style=\"text-align: right;\">\n",
              "      <th></th>\n",
              "      <th>age_year</th>\n",
              "      <th>gender_female</th>\n",
              "      <th>gender_male</th>\n",
              "      <th>fever_0</th>\n",
              "      <th>fever_1</th>\n",
              "      <th>cough_0</th>\n",
              "      <th>cough_1</th>\n",
              "      <th>runny_nose_0</th>\n",
              "      <th>runny_nose_1</th>\n",
              "      <th>muscle_soreness_0</th>\n",
              "      <th>muscle_soreness_1</th>\n",
              "      <th>pneumonia_0</th>\n",
              "      <th>pneumonia_1</th>\n",
              "      <th>diarrhea_0</th>\n",
              "      <th>diarrhea_1</th>\n",
              "      <th>lung_infection_0</th>\n",
              "      <th>lung_infection_1</th>\n",
              "      <th>travel_history_0</th>\n",
              "      <th>travel_history_1</th>\n",
              "      <th>isolation_treatment_0</th>\n",
              "      <th>isolation_treatment_1</th>\n",
              "    </tr>\n",
              "  </thead>\n",
              "  <tbody>\n",
              "    <tr>\n",
              "      <th>0</th>\n",
              "      <td>0.926316</td>\n",
              "      <td>0</td>\n",
              "      <td>1</td>\n",
              "      <td>0</td>\n",
              "      <td>1</td>\n",
              "      <td>0</td>\n",
              "      <td>1</td>\n",
              "      <td>1</td>\n",
              "      <td>0</td>\n",
              "      <td>1</td>\n",
              "      <td>0</td>\n",
              "      <td>1</td>\n",
              "      <td>0</td>\n",
              "      <td>1</td>\n",
              "      <td>0</td>\n",
              "      <td>1</td>\n",
              "      <td>0</td>\n",
              "      <td>0</td>\n",
              "      <td>1</td>\n",
              "      <td>1</td>\n",
              "      <td>0</td>\n",
              "    </tr>\n",
              "    <tr>\n",
              "      <th>1</th>\n",
              "      <td>0.705263</td>\n",
              "      <td>0</td>\n",
              "      <td>1</td>\n",
              "      <td>0</td>\n",
              "      <td>1</td>\n",
              "      <td>1</td>\n",
              "      <td>0</td>\n",
              "      <td>1</td>\n",
              "      <td>0</td>\n",
              "      <td>1</td>\n",
              "      <td>0</td>\n",
              "      <td>1</td>\n",
              "      <td>0</td>\n",
              "      <td>1</td>\n",
              "      <td>0</td>\n",
              "      <td>1</td>\n",
              "      <td>0</td>\n",
              "      <td>1</td>\n",
              "      <td>0</td>\n",
              "      <td>1</td>\n",
              "      <td>0</td>\n",
              "    </tr>\n",
              "    <tr>\n",
              "      <th>2</th>\n",
              "      <td>0.705263</td>\n",
              "      <td>0</td>\n",
              "      <td>1</td>\n",
              "      <td>1</td>\n",
              "      <td>0</td>\n",
              "      <td>1</td>\n",
              "      <td>0</td>\n",
              "      <td>1</td>\n",
              "      <td>0</td>\n",
              "      <td>1</td>\n",
              "      <td>0</td>\n",
              "      <td>1</td>\n",
              "      <td>0</td>\n",
              "      <td>1</td>\n",
              "      <td>0</td>\n",
              "      <td>1</td>\n",
              "      <td>0</td>\n",
              "      <td>0</td>\n",
              "      <td>1</td>\n",
              "      <td>1</td>\n",
              "      <td>0</td>\n",
              "    </tr>\n",
              "    <tr>\n",
              "      <th>3</th>\n",
              "      <td>0.705263</td>\n",
              "      <td>0</td>\n",
              "      <td>1</td>\n",
              "      <td>0</td>\n",
              "      <td>1</td>\n",
              "      <td>0</td>\n",
              "      <td>1</td>\n",
              "      <td>1</td>\n",
              "      <td>0</td>\n",
              "      <td>1</td>\n",
              "      <td>0</td>\n",
              "      <td>1</td>\n",
              "      <td>0</td>\n",
              "      <td>1</td>\n",
              "      <td>0</td>\n",
              "      <td>1</td>\n",
              "      <td>0</td>\n",
              "      <td>0</td>\n",
              "      <td>1</td>\n",
              "      <td>0</td>\n",
              "      <td>1</td>\n",
              "    </tr>\n",
              "    <tr>\n",
              "      <th>4</th>\n",
              "      <td>0.515789</td>\n",
              "      <td>0</td>\n",
              "      <td>1</td>\n",
              "      <td>0</td>\n",
              "      <td>1</td>\n",
              "      <td>0</td>\n",
              "      <td>1</td>\n",
              "      <td>0</td>\n",
              "      <td>1</td>\n",
              "      <td>1</td>\n",
              "      <td>0</td>\n",
              "      <td>0</td>\n",
              "      <td>1</td>\n",
              "      <td>1</td>\n",
              "      <td>0</td>\n",
              "      <td>1</td>\n",
              "      <td>0</td>\n",
              "      <td>0</td>\n",
              "      <td>1</td>\n",
              "      <td>1</td>\n",
              "      <td>0</td>\n",
              "    </tr>\n",
              "  </tbody>\n",
              "</table>\n",
              "</div>"
            ],
            "text/plain": [
              "   age_year  gender_female  ...  isolation_treatment_0  isolation_treatment_1\n",
              "0  0.926316              0  ...                      1                      0\n",
              "1  0.705263              0  ...                      1                      0\n",
              "2  0.705263              0  ...                      1                      0\n",
              "3  0.705263              0  ...                      0                      1\n",
              "4  0.515789              0  ...                      1                      0\n",
              "\n",
              "[5 rows x 21 columns]"
            ]
          },
          "metadata": {
            "tags": []
          },
          "execution_count": 32
        }
      ]
    },
    {
      "cell_type": "code",
      "metadata": {
        "colab": {
          "base_uri": "https://localhost:8080/",
          "height": 195
        },
        "id": "s6E_NYizsOBe",
        "outputId": "1ac991e6-decb-494b-bbfe-e2d0d69b72f9"
      },
      "source": [
        "label_cat = pd.get_dummies(label['SARS-CoV-2 Positive'], prefix=\"sars\")\n",
        "label = pd.concat([label, label_cat], axis = 1)\n",
        "label = label.drop(columns = 'SARS-CoV-2 Positive')\n",
        "label.head()"
      ],
      "execution_count": 33,
      "outputs": [
        {
          "output_type": "execute_result",
          "data": {
            "text/html": [
              "<div>\n",
              "<style scoped>\n",
              "    .dataframe tbody tr th:only-of-type {\n",
              "        vertical-align: middle;\n",
              "    }\n",
              "\n",
              "    .dataframe tbody tr th {\n",
              "        vertical-align: top;\n",
              "    }\n",
              "\n",
              "    .dataframe thead th {\n",
              "        text-align: right;\n",
              "    }\n",
              "</style>\n",
              "<table border=\"1\" class=\"dataframe\">\n",
              "  <thead>\n",
              "    <tr style=\"text-align: right;\">\n",
              "      <th></th>\n",
              "      <th>sars_0</th>\n",
              "      <th>sars_1</th>\n",
              "    </tr>\n",
              "  </thead>\n",
              "  <tbody>\n",
              "    <tr>\n",
              "      <th>0</th>\n",
              "      <td>1</td>\n",
              "      <td>0</td>\n",
              "    </tr>\n",
              "    <tr>\n",
              "      <th>1</th>\n",
              "      <td>1</td>\n",
              "      <td>0</td>\n",
              "    </tr>\n",
              "    <tr>\n",
              "      <th>2</th>\n",
              "      <td>1</td>\n",
              "      <td>0</td>\n",
              "    </tr>\n",
              "    <tr>\n",
              "      <th>3</th>\n",
              "      <td>0</td>\n",
              "      <td>1</td>\n",
              "    </tr>\n",
              "    <tr>\n",
              "      <th>4</th>\n",
              "      <td>0</td>\n",
              "      <td>1</td>\n",
              "    </tr>\n",
              "  </tbody>\n",
              "</table>\n",
              "</div>"
            ],
            "text/plain": [
              "   sars_0  sars_1\n",
              "0       1       0\n",
              "1       1       0\n",
              "2       1       0\n",
              "3       0       1\n",
              "4       0       1"
            ]
          },
          "metadata": {
            "tags": []
          },
          "execution_count": 33
        }
      ]
    },
    {
      "cell_type": "markdown",
      "metadata": {
        "id": "Up060Nyc54v0"
      },
      "source": [
        "## -- Split Data"
      ]
    },
    {
      "cell_type": "code",
      "metadata": {
        "id": "jemPFDaguyRP"
      },
      "source": [
        "from sklearn.model_selection import train_test_split"
      ],
      "execution_count": 34,
      "outputs": []
    },
    {
      "cell_type": "code",
      "metadata": {
        "id": "69XQQLwFuyRQ"
      },
      "source": [
        "X_train, X_validate, y_train, y_validate = train_test_split(\n",
        "    features, label, test_size=0.3, shuffle=True, stratify=label)"
      ],
      "execution_count": 35,
      "outputs": []
    },
    {
      "cell_type": "code",
      "metadata": {
        "id": "RRZ2nJ-YuyRQ",
        "colab": {
          "base_uri": "https://localhost:8080/"
        },
        "outputId": "9f204bf0-8e29-4876-c385-54fb2a7d9d3d"
      },
      "source": [
        "X_train.shape, X_validate.shape"
      ],
      "execution_count": 36,
      "outputs": [
        {
          "output_type": "execute_result",
          "data": {
            "text/plain": [
              "((4558, 21), (1954, 21))"
            ]
          },
          "metadata": {
            "tags": []
          },
          "execution_count": 36
        }
      ]
    },
    {
      "cell_type": "code",
      "metadata": {
        "colab": {
          "base_uri": "https://localhost:8080/"
        },
        "id": "1JxDIEUm_nVt",
        "outputId": "c2a30d45-79d5-4ff3-e45e-25e50c90d5fb"
      },
      "source": [
        "y_train.count()"
      ],
      "execution_count": 37,
      "outputs": [
        {
          "output_type": "execute_result",
          "data": {
            "text/plain": [
              "sars_0    4558\n",
              "sars_1    4558\n",
              "dtype: int64"
            ]
          },
          "metadata": {
            "tags": []
          },
          "execution_count": 37
        }
      ]
    },
    {
      "cell_type": "code",
      "metadata": {
        "colab": {
          "base_uri": "https://localhost:8080/"
        },
        "id": "LYZtUQep_xGQ",
        "outputId": "1b953234-b65a-4038-99bb-08bbfe45df63"
      },
      "source": [
        "y_validate.count()"
      ],
      "execution_count": 38,
      "outputs": [
        {
          "output_type": "execute_result",
          "data": {
            "text/plain": [
              "sars_0    1954\n",
              "sars_1    1954\n",
              "dtype: int64"
            ]
          },
          "metadata": {
            "tags": []
          },
          "execution_count": 38
        }
      ]
    },
    {
      "cell_type": "markdown",
      "metadata": {
        "id": "Y0cv3xRrvi9l"
      },
      "source": [
        "# **Data Modelling**"
      ]
    },
    {
      "cell_type": "markdown",
      "metadata": {
        "id": "Qro8tA9f8NYJ"
      },
      "source": [
        "## -- Train Model"
      ]
    },
    {
      "cell_type": "code",
      "metadata": {
        "colab": {
          "base_uri": "https://localhost:8080/"
        },
        "id": "_Em1NjXaZboK",
        "outputId": "a42b671e-708a-443d-f84c-1286d696bf87"
      },
      "source": [
        "import tensorflow as tf\n",
        "\n",
        "model = tf.keras.Sequential([\n",
        "    tf.keras.layers.Dense(128, activation=\"relu\", input_shape=features.shape),\n",
        "    tf.keras.layers.Dense(64, activation=tf.nn.relu),\n",
        "    tf.keras.layers.Dense(32, activation=tf.nn.relu),\n",
        "    tf.keras.layers.Dense(2, activation=\"sigmoid\")\n",
        "])\n",
        "\n",
        "model.summary()"
      ],
      "execution_count": 39,
      "outputs": [
        {
          "output_type": "stream",
          "text": [
            "Model: \"sequential\"\n",
            "_________________________________________________________________\n",
            "Layer (type)                 Output Shape              Param #   \n",
            "=================================================================\n",
            "dense (Dense)                (None, 6512, 128)         2816      \n",
            "_________________________________________________________________\n",
            "dense_1 (Dense)              (None, 6512, 64)          8256      \n",
            "_________________________________________________________________\n",
            "dense_2 (Dense)              (None, 6512, 32)          2080      \n",
            "_________________________________________________________________\n",
            "dense_3 (Dense)              (None, 6512, 2)           66        \n",
            "=================================================================\n",
            "Total params: 13,218\n",
            "Trainable params: 13,218\n",
            "Non-trainable params: 0\n",
            "_________________________________________________________________\n"
          ],
          "name": "stdout"
        }
      ]
    },
    {
      "cell_type": "code",
      "metadata": {
        "id": "VAWpmoySZewM"
      },
      "source": [
        "model.compile(\n",
        "    loss='binary_crossentropy',\n",
        "    optimizer='Adam',\n",
        "    metrics=['accuracy']\n",
        ")"
      ],
      "execution_count": 40,
      "outputs": []
    },
    {
      "cell_type": "code",
      "metadata": {
        "id": "pyZUNQ_PramS"
      },
      "source": [
        "class myCallback(tf.keras.callbacks.Callback):\n",
        "  def on_epoch_end(self, epoch, logs={}):\n",
        "    if(logs.get('accuracy')>0.95 and logs.get('val_accuracy')>0.95):\n",
        "      self.model.stop_training = True\n",
        "      print(\"\\nThe accuracy of the training set and the validation set has reached > 95%!\")\n",
        "callbacks = myCallback()"
      ],
      "execution_count": 41,
      "outputs": []
    },
    {
      "cell_type": "code",
      "metadata": {
        "colab": {
          "base_uri": "https://localhost:8080/"
        },
        "id": "WlGvATyaZgw8",
        "outputId": "d4c5013a-e898-406e-db45-4714228e4b0a"
      },
      "source": [
        "history = model.fit(X_train, y_train, validation_data=(X_validate, y_validate), epochs=500, batch_size=len(X_train), callbacks=[callbacks], verbose=1)\n",
        "\n",
        "history.history['accuracy'][-1]"
      ],
      "execution_count": 42,
      "outputs": [
        {
          "output_type": "stream",
          "text": [
            "Epoch 1/500\n",
            "WARNING:tensorflow:Model was constructed with shape (None, 6512, 21) for input KerasTensor(type_spec=TensorSpec(shape=(None, 6512, 21), dtype=tf.float32, name='dense_input'), name='dense_input', description=\"created by layer 'dense_input'\"), but it was called on an input with incompatible shape (4558, 21).\n",
            "WARNING:tensorflow:Model was constructed with shape (None, 6512, 21) for input KerasTensor(type_spec=TensorSpec(shape=(None, 6512, 21), dtype=tf.float32, name='dense_input'), name='dense_input', description=\"created by layer 'dense_input'\"), but it was called on an input with incompatible shape (4558, 21).\n",
            "1/1 [==============================] - ETA: 0s - loss: 0.7825 - accuracy: 0.2413WARNING:tensorflow:Model was constructed with shape (None, 6512, 21) for input KerasTensor(type_spec=TensorSpec(shape=(None, 6512, 21), dtype=tf.float32, name='dense_input'), name='dense_input', description=\"created by layer 'dense_input'\"), but it was called on an input with incompatible shape (None, 21).\n",
            "1/1 [==============================] - 1s 1s/step - loss: 0.7825 - accuracy: 0.2413 - val_loss: 0.7510 - val_accuracy: 0.2400\n",
            "Epoch 2/500\n",
            "1/1 [==============================] - 0s 43ms/step - loss: 0.7519 - accuracy: 0.2411 - val_loss: 0.7268 - val_accuracy: 0.2385\n",
            "Epoch 3/500\n",
            "1/1 [==============================] - 0s 39ms/step - loss: 0.7275 - accuracy: 0.2424 - val_loss: 0.7070 - val_accuracy: 0.3178\n",
            "Epoch 4/500\n",
            "1/1 [==============================] - 0s 45ms/step - loss: 0.7075 - accuracy: 0.3172 - val_loss: 0.6909 - val_accuracy: 0.3337\n",
            "Epoch 5/500\n",
            "1/1 [==============================] - 0s 47ms/step - loss: 0.6913 - accuracy: 0.3289 - val_loss: 0.6765 - val_accuracy: 0.7615\n",
            "Epoch 6/500\n",
            "1/1 [==============================] - 0s 45ms/step - loss: 0.6767 - accuracy: 0.7538 - val_loss: 0.6631 - val_accuracy: 0.7958\n",
            "Epoch 7/500\n",
            "1/1 [==============================] - 0s 45ms/step - loss: 0.6630 - accuracy: 0.7995 - val_loss: 0.6507 - val_accuracy: 0.8383\n",
            "Epoch 8/500\n",
            "1/1 [==============================] - 0s 40ms/step - loss: 0.6504 - accuracy: 0.8361 - val_loss: 0.6390 - val_accuracy: 0.8460\n",
            "Epoch 9/500\n",
            "1/1 [==============================] - 0s 41ms/step - loss: 0.6384 - accuracy: 0.8486 - val_loss: 0.6247 - val_accuracy: 0.8470\n",
            "Epoch 10/500\n",
            "1/1 [==============================] - 0s 48ms/step - loss: 0.6239 - accuracy: 0.8493 - val_loss: 0.6096 - val_accuracy: 0.8470\n",
            "Epoch 11/500\n",
            "1/1 [==============================] - 0s 47ms/step - loss: 0.6087 - accuracy: 0.8484 - val_loss: 0.5947 - val_accuracy: 0.8444\n",
            "Epoch 12/500\n",
            "1/1 [==============================] - 0s 44ms/step - loss: 0.5935 - accuracy: 0.8460 - val_loss: 0.5800 - val_accuracy: 0.8444\n",
            "Epoch 13/500\n",
            "1/1 [==============================] - 0s 47ms/step - loss: 0.5786 - accuracy: 0.8460 - val_loss: 0.5654 - val_accuracy: 0.8449\n",
            "Epoch 14/500\n",
            "1/1 [==============================] - 0s 36ms/step - loss: 0.5638 - accuracy: 0.8462 - val_loss: 0.5510 - val_accuracy: 0.8449\n",
            "Epoch 15/500\n",
            "1/1 [==============================] - 0s 42ms/step - loss: 0.5490 - accuracy: 0.8466 - val_loss: 0.5370 - val_accuracy: 0.8449\n",
            "Epoch 16/500\n",
            "1/1 [==============================] - 0s 45ms/step - loss: 0.5347 - accuracy: 0.8469 - val_loss: 0.5230 - val_accuracy: 0.8454\n",
            "Epoch 17/500\n",
            "1/1 [==============================] - 0s 44ms/step - loss: 0.5203 - accuracy: 0.8466 - val_loss: 0.5090 - val_accuracy: 0.8454\n",
            "Epoch 18/500\n",
            "1/1 [==============================] - 0s 57ms/step - loss: 0.5059 - accuracy: 0.8477 - val_loss: 0.4951 - val_accuracy: 0.8460\n",
            "Epoch 19/500\n",
            "1/1 [==============================] - 0s 45ms/step - loss: 0.4916 - accuracy: 0.8491 - val_loss: 0.4814 - val_accuracy: 0.8460\n",
            "Epoch 20/500\n",
            "1/1 [==============================] - 0s 44ms/step - loss: 0.4775 - accuracy: 0.8493 - val_loss: 0.4680 - val_accuracy: 0.8460\n",
            "Epoch 21/500\n",
            "1/1 [==============================] - 0s 41ms/step - loss: 0.4636 - accuracy: 0.8493 - val_loss: 0.4549 - val_accuracy: 0.8470\n",
            "Epoch 22/500\n",
            "1/1 [==============================] - 0s 50ms/step - loss: 0.4500 - accuracy: 0.8493 - val_loss: 0.4421 - val_accuracy: 0.8470\n",
            "Epoch 23/500\n",
            "1/1 [==============================] - 0s 50ms/step - loss: 0.4367 - accuracy: 0.8502 - val_loss: 0.4296 - val_accuracy: 0.8465\n",
            "Epoch 24/500\n",
            "1/1 [==============================] - 0s 50ms/step - loss: 0.4237 - accuracy: 0.8491 - val_loss: 0.4175 - val_accuracy: 0.8393\n",
            "Epoch 25/500\n",
            "1/1 [==============================] - 0s 46ms/step - loss: 0.4111 - accuracy: 0.8469 - val_loss: 0.4058 - val_accuracy: 0.8306\n",
            "Epoch 26/500\n",
            "1/1 [==============================] - 0s 44ms/step - loss: 0.3989 - accuracy: 0.8414 - val_loss: 0.3946 - val_accuracy: 0.8291\n",
            "Epoch 27/500\n",
            "1/1 [==============================] - 0s 43ms/step - loss: 0.3871 - accuracy: 0.8409 - val_loss: 0.3839 - val_accuracy: 0.8306\n",
            "Epoch 28/500\n",
            "1/1 [==============================] - 0s 43ms/step - loss: 0.3760 - accuracy: 0.8412 - val_loss: 0.3739 - val_accuracy: 0.8306\n",
            "Epoch 29/500\n",
            "1/1 [==============================] - 0s 47ms/step - loss: 0.3654 - accuracy: 0.8412 - val_loss: 0.3644 - val_accuracy: 0.8311\n",
            "Epoch 30/500\n",
            "1/1 [==============================] - 0s 41ms/step - loss: 0.3556 - accuracy: 0.8431 - val_loss: 0.3557 - val_accuracy: 0.8311\n",
            "Epoch 31/500\n",
            "1/1 [==============================] - 0s 48ms/step - loss: 0.3464 - accuracy: 0.8442 - val_loss: 0.3477 - val_accuracy: 0.8311\n",
            "Epoch 32/500\n",
            "1/1 [==============================] - 0s 42ms/step - loss: 0.3380 - accuracy: 0.8444 - val_loss: 0.3404 - val_accuracy: 0.8311\n",
            "Epoch 33/500\n",
            "1/1 [==============================] - 0s 44ms/step - loss: 0.3302 - accuracy: 0.8442 - val_loss: 0.3336 - val_accuracy: 0.8311\n",
            "Epoch 34/500\n",
            "1/1 [==============================] - 0s 39ms/step - loss: 0.3231 - accuracy: 0.8442 - val_loss: 0.3275 - val_accuracy: 0.8311\n",
            "Epoch 35/500\n",
            "1/1 [==============================] - 0s 43ms/step - loss: 0.3166 - accuracy: 0.8440 - val_loss: 0.3219 - val_accuracy: 0.8291\n",
            "Epoch 36/500\n",
            "1/1 [==============================] - 0s 42ms/step - loss: 0.3107 - accuracy: 0.8425 - val_loss: 0.3167 - val_accuracy: 0.8234\n",
            "Epoch 37/500\n",
            "1/1 [==============================] - 0s 45ms/step - loss: 0.3052 - accuracy: 0.8381 - val_loss: 0.3120 - val_accuracy: 0.8209\n",
            "Epoch 38/500\n",
            "1/1 [==============================] - 0s 52ms/step - loss: 0.3003 - accuracy: 0.8372 - val_loss: 0.3077 - val_accuracy: 0.8250\n",
            "Epoch 39/500\n",
            "1/1 [==============================] - 0s 45ms/step - loss: 0.2958 - accuracy: 0.8431 - val_loss: 0.3038 - val_accuracy: 0.8229\n",
            "Epoch 40/500\n",
            "1/1 [==============================] - 0s 44ms/step - loss: 0.2917 - accuracy: 0.8416 - val_loss: 0.2998 - val_accuracy: 0.8245\n",
            "Epoch 41/500\n",
            "1/1 [==============================] - 0s 42ms/step - loss: 0.2878 - accuracy: 0.8420 - val_loss: 0.2960 - val_accuracy: 0.8275\n",
            "Epoch 42/500\n",
            "1/1 [==============================] - 0s 50ms/step - loss: 0.2840 - accuracy: 0.8455 - val_loss: 0.2923 - val_accuracy: 0.8337\n",
            "Epoch 43/500\n",
            "1/1 [==============================] - 0s 44ms/step - loss: 0.2804 - accuracy: 0.8506 - val_loss: 0.2888 - val_accuracy: 0.8373\n",
            "Epoch 44/500\n",
            "1/1 [==============================] - 0s 43ms/step - loss: 0.2771 - accuracy: 0.8526 - val_loss: 0.2855 - val_accuracy: 0.8470\n",
            "Epoch 45/500\n",
            "1/1 [==============================] - 0s 46ms/step - loss: 0.2740 - accuracy: 0.8638 - val_loss: 0.2825 - val_accuracy: 0.8501\n",
            "Epoch 46/500\n",
            "1/1 [==============================] - 0s 37ms/step - loss: 0.2712 - accuracy: 0.8659 - val_loss: 0.2797 - val_accuracy: 0.8552\n",
            "Epoch 47/500\n",
            "1/1 [==============================] - 0s 43ms/step - loss: 0.2687 - accuracy: 0.8688 - val_loss: 0.2771 - val_accuracy: 0.8680\n",
            "Epoch 48/500\n",
            "1/1 [==============================] - 0s 46ms/step - loss: 0.2664 - accuracy: 0.8734 - val_loss: 0.2747 - val_accuracy: 0.8777\n",
            "Epoch 49/500\n",
            "1/1 [==============================] - 0s 45ms/step - loss: 0.2643 - accuracy: 0.8780 - val_loss: 0.2726 - val_accuracy: 0.8797\n",
            "Epoch 50/500\n",
            "1/1 [==============================] - 0s 46ms/step - loss: 0.2625 - accuracy: 0.8820 - val_loss: 0.2706 - val_accuracy: 0.8797\n",
            "Epoch 51/500\n",
            "1/1 [==============================] - 0s 44ms/step - loss: 0.2608 - accuracy: 0.8826 - val_loss: 0.2689 - val_accuracy: 0.8797\n",
            "Epoch 52/500\n",
            "1/1 [==============================] - 0s 45ms/step - loss: 0.2592 - accuracy: 0.8828 - val_loss: 0.2673 - val_accuracy: 0.8797\n",
            "Epoch 53/500\n",
            "1/1 [==============================] - 0s 43ms/step - loss: 0.2578 - accuracy: 0.8828 - val_loss: 0.2659 - val_accuracy: 0.8792\n",
            "Epoch 54/500\n",
            "1/1 [==============================] - 0s 47ms/step - loss: 0.2565 - accuracy: 0.8828 - val_loss: 0.2647 - val_accuracy: 0.8792\n",
            "Epoch 55/500\n",
            "1/1 [==============================] - 0s 43ms/step - loss: 0.2553 - accuracy: 0.8828 - val_loss: 0.2635 - val_accuracy: 0.8792\n",
            "Epoch 56/500\n",
            "1/1 [==============================] - 0s 45ms/step - loss: 0.2542 - accuracy: 0.8828 - val_loss: 0.2625 - val_accuracy: 0.8792\n",
            "Epoch 57/500\n",
            "1/1 [==============================] - 0s 51ms/step - loss: 0.2533 - accuracy: 0.8831 - val_loss: 0.2616 - val_accuracy: 0.8792\n",
            "Epoch 58/500\n",
            "1/1 [==============================] - 0s 50ms/step - loss: 0.2523 - accuracy: 0.8833 - val_loss: 0.2606 - val_accuracy: 0.8792\n",
            "Epoch 59/500\n",
            "1/1 [==============================] - 0s 47ms/step - loss: 0.2515 - accuracy: 0.8833 - val_loss: 0.2597 - val_accuracy: 0.8792\n",
            "Epoch 60/500\n",
            "1/1 [==============================] - 0s 49ms/step - loss: 0.2507 - accuracy: 0.8833 - val_loss: 0.2588 - val_accuracy: 0.8792\n",
            "Epoch 61/500\n",
            "1/1 [==============================] - 0s 61ms/step - loss: 0.2499 - accuracy: 0.8833 - val_loss: 0.2580 - val_accuracy: 0.8797\n",
            "Epoch 62/500\n",
            "1/1 [==============================] - 0s 43ms/step - loss: 0.2492 - accuracy: 0.8835 - val_loss: 0.2571 - val_accuracy: 0.8808\n",
            "Epoch 63/500\n",
            "1/1 [==============================] - 0s 41ms/step - loss: 0.2484 - accuracy: 0.8842 - val_loss: 0.2563 - val_accuracy: 0.8828\n",
            "Epoch 64/500\n",
            "1/1 [==============================] - 0s 43ms/step - loss: 0.2477 - accuracy: 0.8855 - val_loss: 0.2555 - val_accuracy: 0.8828\n",
            "Epoch 65/500\n",
            "1/1 [==============================] - 0s 39ms/step - loss: 0.2470 - accuracy: 0.8855 - val_loss: 0.2548 - val_accuracy: 0.8833\n",
            "Epoch 66/500\n",
            "1/1 [==============================] - 0s 64ms/step - loss: 0.2462 - accuracy: 0.8861 - val_loss: 0.2540 - val_accuracy: 0.8843\n",
            "Epoch 67/500\n",
            "1/1 [==============================] - 0s 52ms/step - loss: 0.2455 - accuracy: 0.8875 - val_loss: 0.2533 - val_accuracy: 0.8849\n",
            "Epoch 68/500\n",
            "1/1 [==============================] - 0s 46ms/step - loss: 0.2449 - accuracy: 0.8875 - val_loss: 0.2526 - val_accuracy: 0.8874\n",
            "Epoch 69/500\n",
            "1/1 [==============================] - 0s 44ms/step - loss: 0.2443 - accuracy: 0.8894 - val_loss: 0.2520 - val_accuracy: 0.8900\n",
            "Epoch 70/500\n",
            "1/1 [==============================] - 0s 44ms/step - loss: 0.2437 - accuracy: 0.8907 - val_loss: 0.2514 - val_accuracy: 0.8864\n",
            "Epoch 71/500\n",
            "1/1 [==============================] - 0s 56ms/step - loss: 0.2431 - accuracy: 0.8929 - val_loss: 0.2508 - val_accuracy: 0.8884\n",
            "Epoch 72/500\n",
            "1/1 [==============================] - 0s 45ms/step - loss: 0.2425 - accuracy: 0.8949 - val_loss: 0.2503 - val_accuracy: 0.8895\n",
            "Epoch 73/500\n",
            "1/1 [==============================] - 0s 49ms/step - loss: 0.2419 - accuracy: 0.8967 - val_loss: 0.2497 - val_accuracy: 0.8895\n",
            "Epoch 74/500\n",
            "1/1 [==============================] - 0s 49ms/step - loss: 0.2413 - accuracy: 0.8975 - val_loss: 0.2492 - val_accuracy: 0.8900\n",
            "Epoch 75/500\n",
            "1/1 [==============================] - 0s 51ms/step - loss: 0.2407 - accuracy: 0.8982 - val_loss: 0.2487 - val_accuracy: 0.8905\n",
            "Epoch 76/500\n",
            "1/1 [==============================] - 0s 44ms/step - loss: 0.2401 - accuracy: 0.8984 - val_loss: 0.2482 - val_accuracy: 0.8905\n",
            "Epoch 77/500\n",
            "1/1 [==============================] - 0s 45ms/step - loss: 0.2396 - accuracy: 0.8984 - val_loss: 0.2478 - val_accuracy: 0.8905\n",
            "Epoch 78/500\n",
            "1/1 [==============================] - 0s 54ms/step - loss: 0.2391 - accuracy: 0.8984 - val_loss: 0.2475 - val_accuracy: 0.8905\n",
            "Epoch 79/500\n",
            "1/1 [==============================] - 0s 61ms/step - loss: 0.2386 - accuracy: 0.8984 - val_loss: 0.2471 - val_accuracy: 0.8905\n",
            "Epoch 80/500\n",
            "1/1 [==============================] - 0s 49ms/step - loss: 0.2381 - accuracy: 0.8984 - val_loss: 0.2467 - val_accuracy: 0.8905\n",
            "Epoch 81/500\n",
            "1/1 [==============================] - 0s 45ms/step - loss: 0.2376 - accuracy: 0.8984 - val_loss: 0.2463 - val_accuracy: 0.8905\n",
            "Epoch 82/500\n",
            "1/1 [==============================] - 0s 51ms/step - loss: 0.2371 - accuracy: 0.8986 - val_loss: 0.2459 - val_accuracy: 0.8905\n",
            "Epoch 83/500\n",
            "1/1 [==============================] - 0s 45ms/step - loss: 0.2367 - accuracy: 0.8986 - val_loss: 0.2455 - val_accuracy: 0.8905\n",
            "Epoch 84/500\n",
            "1/1 [==============================] - 0s 41ms/step - loss: 0.2362 - accuracy: 0.8986 - val_loss: 0.2451 - val_accuracy: 0.8905\n",
            "Epoch 85/500\n",
            "1/1 [==============================] - 0s 48ms/step - loss: 0.2358 - accuracy: 0.8984 - val_loss: 0.2448 - val_accuracy: 0.8905\n",
            "Epoch 86/500\n",
            "1/1 [==============================] - 0s 38ms/step - loss: 0.2354 - accuracy: 0.8984 - val_loss: 0.2444 - val_accuracy: 0.8905\n",
            "Epoch 87/500\n",
            "1/1 [==============================] - 0s 50ms/step - loss: 0.2351 - accuracy: 0.8984 - val_loss: 0.2440 - val_accuracy: 0.8905\n",
            "Epoch 88/500\n",
            "1/1 [==============================] - 0s 54ms/step - loss: 0.2347 - accuracy: 0.8984 - val_loss: 0.2436 - val_accuracy: 0.8905\n",
            "Epoch 89/500\n",
            "1/1 [==============================] - 0s 55ms/step - loss: 0.2343 - accuracy: 0.8984 - val_loss: 0.2432 - val_accuracy: 0.8905\n",
            "Epoch 90/500\n",
            "1/1 [==============================] - 0s 43ms/step - loss: 0.2340 - accuracy: 0.8982 - val_loss: 0.2429 - val_accuracy: 0.8905\n",
            "Epoch 91/500\n",
            "1/1 [==============================] - 0s 48ms/step - loss: 0.2337 - accuracy: 0.8982 - val_loss: 0.2427 - val_accuracy: 0.8905\n",
            "Epoch 92/500\n",
            "1/1 [==============================] - 0s 51ms/step - loss: 0.2334 - accuracy: 0.8982 - val_loss: 0.2424 - val_accuracy: 0.8905\n",
            "Epoch 93/500\n",
            "1/1 [==============================] - 0s 51ms/step - loss: 0.2330 - accuracy: 0.8980 - val_loss: 0.2421 - val_accuracy: 0.8900\n",
            "Epoch 94/500\n",
            "1/1 [==============================] - 0s 51ms/step - loss: 0.2327 - accuracy: 0.8984 - val_loss: 0.2419 - val_accuracy: 0.8900\n",
            "Epoch 95/500\n",
            "1/1 [==============================] - 0s 47ms/step - loss: 0.2324 - accuracy: 0.8984 - val_loss: 0.2416 - val_accuracy: 0.8900\n",
            "Epoch 96/500\n",
            "1/1 [==============================] - 0s 48ms/step - loss: 0.2322 - accuracy: 0.8982 - val_loss: 0.2414 - val_accuracy: 0.8905\n",
            "Epoch 97/500\n",
            "1/1 [==============================] - 0s 46ms/step - loss: 0.2319 - accuracy: 0.8991 - val_loss: 0.2412 - val_accuracy: 0.8910\n",
            "Epoch 98/500\n",
            "1/1 [==============================] - 0s 43ms/step - loss: 0.2316 - accuracy: 0.8984 - val_loss: 0.2410 - val_accuracy: 0.8910\n",
            "Epoch 99/500\n",
            "1/1 [==============================] - 0s 46ms/step - loss: 0.2313 - accuracy: 0.8984 - val_loss: 0.2408 - val_accuracy: 0.8910\n",
            "Epoch 100/500\n",
            "1/1 [==============================] - 0s 53ms/step - loss: 0.2311 - accuracy: 0.8984 - val_loss: 0.2406 - val_accuracy: 0.8905\n",
            "Epoch 101/500\n",
            "1/1 [==============================] - 0s 50ms/step - loss: 0.2308 - accuracy: 0.8989 - val_loss: 0.2404 - val_accuracy: 0.8895\n",
            "Epoch 102/500\n",
            "1/1 [==============================] - 0s 47ms/step - loss: 0.2305 - accuracy: 0.8989 - val_loss: 0.2402 - val_accuracy: 0.8889\n",
            "Epoch 103/500\n",
            "1/1 [==============================] - 0s 43ms/step - loss: 0.2302 - accuracy: 0.8993 - val_loss: 0.2400 - val_accuracy: 0.8895\n",
            "Epoch 104/500\n",
            "1/1 [==============================] - 0s 40ms/step - loss: 0.2300 - accuracy: 0.8995 - val_loss: 0.2398 - val_accuracy: 0.8905\n",
            "Epoch 105/500\n",
            "1/1 [==============================] - 0s 47ms/step - loss: 0.2298 - accuracy: 0.9002 - val_loss: 0.2396 - val_accuracy: 0.8900\n",
            "Epoch 106/500\n",
            "1/1 [==============================] - 0s 49ms/step - loss: 0.2295 - accuracy: 0.8993 - val_loss: 0.2394 - val_accuracy: 0.8905\n",
            "Epoch 107/500\n",
            "1/1 [==============================] - 0s 51ms/step - loss: 0.2293 - accuracy: 0.9002 - val_loss: 0.2392 - val_accuracy: 0.8905\n",
            "Epoch 108/500\n",
            "1/1 [==============================] - 0s 42ms/step - loss: 0.2291 - accuracy: 0.9002 - val_loss: 0.2391 - val_accuracy: 0.8900\n",
            "Epoch 109/500\n",
            "1/1 [==============================] - 0s 54ms/step - loss: 0.2288 - accuracy: 0.8989 - val_loss: 0.2390 - val_accuracy: 0.8910\n",
            "Epoch 110/500\n",
            "1/1 [==============================] - 0s 46ms/step - loss: 0.2286 - accuracy: 0.8984 - val_loss: 0.2389 - val_accuracy: 0.8910\n",
            "Epoch 111/500\n",
            "1/1 [==============================] - 0s 47ms/step - loss: 0.2284 - accuracy: 0.8984 - val_loss: 0.2388 - val_accuracy: 0.8905\n",
            "Epoch 112/500\n",
            "1/1 [==============================] - 0s 43ms/step - loss: 0.2282 - accuracy: 0.8986 - val_loss: 0.2387 - val_accuracy: 0.8900\n",
            "Epoch 113/500\n",
            "1/1 [==============================] - 0s 46ms/step - loss: 0.2280 - accuracy: 0.8991 - val_loss: 0.2386 - val_accuracy: 0.8889\n",
            "Epoch 114/500\n",
            "1/1 [==============================] - 0s 45ms/step - loss: 0.2278 - accuracy: 0.8989 - val_loss: 0.2386 - val_accuracy: 0.8900\n",
            "Epoch 115/500\n",
            "1/1 [==============================] - 0s 46ms/step - loss: 0.2276 - accuracy: 0.8989 - val_loss: 0.2385 - val_accuracy: 0.8895\n",
            "Epoch 116/500\n",
            "1/1 [==============================] - 0s 48ms/step - loss: 0.2274 - accuracy: 0.8989 - val_loss: 0.2384 - val_accuracy: 0.8895\n",
            "Epoch 117/500\n",
            "1/1 [==============================] - 0s 53ms/step - loss: 0.2272 - accuracy: 0.8995 - val_loss: 0.2384 - val_accuracy: 0.8889\n",
            "Epoch 118/500\n",
            "1/1 [==============================] - 0s 47ms/step - loss: 0.2269 - accuracy: 0.8991 - val_loss: 0.2383 - val_accuracy: 0.8895\n",
            "Epoch 119/500\n",
            "1/1 [==============================] - 0s 50ms/step - loss: 0.2267 - accuracy: 0.8995 - val_loss: 0.2382 - val_accuracy: 0.8895\n",
            "Epoch 120/500\n",
            "1/1 [==============================] - 0s 51ms/step - loss: 0.2265 - accuracy: 0.8989 - val_loss: 0.2381 - val_accuracy: 0.8900\n",
            "Epoch 121/500\n",
            "1/1 [==============================] - 0s 46ms/step - loss: 0.2263 - accuracy: 0.8995 - val_loss: 0.2381 - val_accuracy: 0.8895\n",
            "Epoch 122/500\n",
            "1/1 [==============================] - 0s 45ms/step - loss: 0.2261 - accuracy: 0.8997 - val_loss: 0.2381 - val_accuracy: 0.8879\n",
            "Epoch 123/500\n",
            "1/1 [==============================] - 0s 45ms/step - loss: 0.2259 - accuracy: 0.8993 - val_loss: 0.2380 - val_accuracy: 0.8879\n",
            "Epoch 124/500\n",
            "1/1 [==============================] - 0s 50ms/step - loss: 0.2257 - accuracy: 0.8997 - val_loss: 0.2380 - val_accuracy: 0.8889\n",
            "Epoch 125/500\n",
            "1/1 [==============================] - 0s 44ms/step - loss: 0.2255 - accuracy: 0.9004 - val_loss: 0.2380 - val_accuracy: 0.8900\n",
            "Epoch 126/500\n",
            "1/1 [==============================] - 0s 46ms/step - loss: 0.2253 - accuracy: 0.9004 - val_loss: 0.2379 - val_accuracy: 0.8905\n",
            "Epoch 127/500\n",
            "1/1 [==============================] - 0s 48ms/step - loss: 0.2251 - accuracy: 0.9008 - val_loss: 0.2378 - val_accuracy: 0.8900\n",
            "Epoch 128/500\n",
            "1/1 [==============================] - 0s 55ms/step - loss: 0.2249 - accuracy: 0.9004 - val_loss: 0.2378 - val_accuracy: 0.8884\n",
            "Epoch 129/500\n",
            "1/1 [==============================] - 0s 48ms/step - loss: 0.2247 - accuracy: 0.9000 - val_loss: 0.2377 - val_accuracy: 0.8884\n",
            "Epoch 130/500\n",
            "1/1 [==============================] - 0s 45ms/step - loss: 0.2245 - accuracy: 0.9000 - val_loss: 0.2376 - val_accuracy: 0.8905\n",
            "Epoch 131/500\n",
            "1/1 [==============================] - 0s 46ms/step - loss: 0.2243 - accuracy: 0.9004 - val_loss: 0.2376 - val_accuracy: 0.8900\n",
            "Epoch 132/500\n",
            "1/1 [==============================] - 0s 52ms/step - loss: 0.2241 - accuracy: 0.9004 - val_loss: 0.2376 - val_accuracy: 0.8900\n",
            "Epoch 133/500\n",
            "1/1 [==============================] - 0s 48ms/step - loss: 0.2239 - accuracy: 0.9011 - val_loss: 0.2376 - val_accuracy: 0.8895\n",
            "Epoch 134/500\n",
            "1/1 [==============================] - 0s 48ms/step - loss: 0.2238 - accuracy: 0.9006 - val_loss: 0.2376 - val_accuracy: 0.8884\n",
            "Epoch 135/500\n",
            "1/1 [==============================] - 0s 45ms/step - loss: 0.2236 - accuracy: 0.9004 - val_loss: 0.2376 - val_accuracy: 0.8884\n",
            "Epoch 136/500\n",
            "1/1 [==============================] - 0s 54ms/step - loss: 0.2235 - accuracy: 0.9004 - val_loss: 0.2376 - val_accuracy: 0.8900\n",
            "Epoch 137/500\n",
            "1/1 [==============================] - 0s 42ms/step - loss: 0.2233 - accuracy: 0.9008 - val_loss: 0.2376 - val_accuracy: 0.8900\n",
            "Epoch 138/500\n",
            "1/1 [==============================] - 0s 50ms/step - loss: 0.2232 - accuracy: 0.9002 - val_loss: 0.2377 - val_accuracy: 0.8895\n",
            "Epoch 139/500\n",
            "1/1 [==============================] - 0s 54ms/step - loss: 0.2230 - accuracy: 0.9008 - val_loss: 0.2377 - val_accuracy: 0.8900\n",
            "Epoch 140/500\n",
            "1/1 [==============================] - 0s 51ms/step - loss: 0.2229 - accuracy: 0.9002 - val_loss: 0.2377 - val_accuracy: 0.8895\n",
            "Epoch 141/500\n",
            "1/1 [==============================] - 0s 49ms/step - loss: 0.2227 - accuracy: 0.9004 - val_loss: 0.2377 - val_accuracy: 0.8879\n",
            "Epoch 142/500\n",
            "1/1 [==============================] - 0s 54ms/step - loss: 0.2226 - accuracy: 0.8989 - val_loss: 0.2377 - val_accuracy: 0.8900\n",
            "Epoch 143/500\n",
            "1/1 [==============================] - 0s 42ms/step - loss: 0.2224 - accuracy: 0.8993 - val_loss: 0.2377 - val_accuracy: 0.8889\n",
            "Epoch 144/500\n",
            "1/1 [==============================] - 0s 51ms/step - loss: 0.2223 - accuracy: 0.8989 - val_loss: 0.2377 - val_accuracy: 0.8874\n",
            "Epoch 145/500\n",
            "1/1 [==============================] - 0s 50ms/step - loss: 0.2222 - accuracy: 0.8986 - val_loss: 0.2378 - val_accuracy: 0.8889\n",
            "Epoch 146/500\n",
            "1/1 [==============================] - 0s 55ms/step - loss: 0.2220 - accuracy: 0.9002 - val_loss: 0.2378 - val_accuracy: 0.8879\n",
            "Epoch 147/500\n",
            "1/1 [==============================] - 0s 43ms/step - loss: 0.2219 - accuracy: 0.8986 - val_loss: 0.2379 - val_accuracy: 0.8879\n",
            "Epoch 148/500\n",
            "1/1 [==============================] - 0s 41ms/step - loss: 0.2218 - accuracy: 0.8989 - val_loss: 0.2380 - val_accuracy: 0.8884\n",
            "Epoch 149/500\n",
            "1/1 [==============================] - 0s 42ms/step - loss: 0.2217 - accuracy: 0.8989 - val_loss: 0.2380 - val_accuracy: 0.8879\n",
            "Epoch 150/500\n",
            "1/1 [==============================] - 0s 52ms/step - loss: 0.2215 - accuracy: 0.8993 - val_loss: 0.2381 - val_accuracy: 0.8889\n",
            "Epoch 151/500\n",
            "1/1 [==============================] - 0s 47ms/step - loss: 0.2214 - accuracy: 0.9006 - val_loss: 0.2382 - val_accuracy: 0.8884\n",
            "Epoch 152/500\n",
            "1/1 [==============================] - 0s 54ms/step - loss: 0.2213 - accuracy: 0.9004 - val_loss: 0.2383 - val_accuracy: 0.8889\n",
            "Epoch 153/500\n",
            "1/1 [==============================] - 0s 50ms/step - loss: 0.2212 - accuracy: 0.9019 - val_loss: 0.2384 - val_accuracy: 0.8879\n",
            "Epoch 154/500\n",
            "1/1 [==============================] - 0s 53ms/step - loss: 0.2210 - accuracy: 0.9004 - val_loss: 0.2384 - val_accuracy: 0.8879\n",
            "Epoch 155/500\n",
            "1/1 [==============================] - 0s 52ms/step - loss: 0.2209 - accuracy: 0.9011 - val_loss: 0.2387 - val_accuracy: 0.8884\n",
            "Epoch 156/500\n",
            "1/1 [==============================] - 0s 44ms/step - loss: 0.2208 - accuracy: 0.9006 - val_loss: 0.2385 - val_accuracy: 0.8900\n",
            "Epoch 157/500\n",
            "1/1 [==============================] - 0s 48ms/step - loss: 0.2207 - accuracy: 0.9017 - val_loss: 0.2387 - val_accuracy: 0.8874\n",
            "Epoch 158/500\n",
            "1/1 [==============================] - 0s 52ms/step - loss: 0.2206 - accuracy: 0.9013 - val_loss: 0.2386 - val_accuracy: 0.8889\n",
            "Epoch 159/500\n",
            "1/1 [==============================] - 0s 57ms/step - loss: 0.2205 - accuracy: 0.9022 - val_loss: 0.2388 - val_accuracy: 0.8895\n",
            "Epoch 160/500\n",
            "1/1 [==============================] - 0s 40ms/step - loss: 0.2204 - accuracy: 0.9011 - val_loss: 0.2389 - val_accuracy: 0.8895\n",
            "Epoch 161/500\n",
            "1/1 [==============================] - 0s 66ms/step - loss: 0.2203 - accuracy: 0.9011 - val_loss: 0.2389 - val_accuracy: 0.8895\n",
            "Epoch 162/500\n",
            "1/1 [==============================] - 0s 42ms/step - loss: 0.2202 - accuracy: 0.9013 - val_loss: 0.2391 - val_accuracy: 0.8874\n",
            "Epoch 163/500\n",
            "1/1 [==============================] - 0s 51ms/step - loss: 0.2201 - accuracy: 0.9013 - val_loss: 0.2390 - val_accuracy: 0.8874\n",
            "Epoch 164/500\n",
            "1/1 [==============================] - 0s 39ms/step - loss: 0.2200 - accuracy: 0.9008 - val_loss: 0.2392 - val_accuracy: 0.8874\n",
            "Epoch 165/500\n",
            "1/1 [==============================] - 0s 48ms/step - loss: 0.2199 - accuracy: 0.9017 - val_loss: 0.2391 - val_accuracy: 0.8895\n",
            "Epoch 166/500\n",
            "1/1 [==============================] - 0s 42ms/step - loss: 0.2198 - accuracy: 0.9039 - val_loss: 0.2396 - val_accuracy: 0.8879\n",
            "Epoch 167/500\n",
            "1/1 [==============================] - 0s 47ms/step - loss: 0.2197 - accuracy: 0.9024 - val_loss: 0.2392 - val_accuracy: 0.8895\n",
            "Epoch 168/500\n",
            "1/1 [==============================] - 0s 49ms/step - loss: 0.2197 - accuracy: 0.9015 - val_loss: 0.2396 - val_accuracy: 0.8879\n",
            "Epoch 169/500\n",
            "1/1 [==============================] - 0s 48ms/step - loss: 0.2195 - accuracy: 0.9024 - val_loss: 0.2393 - val_accuracy: 0.8874\n",
            "Epoch 170/500\n",
            "1/1 [==============================] - 0s 48ms/step - loss: 0.2194 - accuracy: 0.9013 - val_loss: 0.2393 - val_accuracy: 0.8889\n",
            "Epoch 171/500\n",
            "1/1 [==============================] - 0s 44ms/step - loss: 0.2193 - accuracy: 0.9028 - val_loss: 0.2396 - val_accuracy: 0.8879\n",
            "Epoch 172/500\n",
            "1/1 [==============================] - 0s 46ms/step - loss: 0.2193 - accuracy: 0.9024 - val_loss: 0.2393 - val_accuracy: 0.8889\n",
            "Epoch 173/500\n",
            "1/1 [==============================] - 0s 47ms/step - loss: 0.2192 - accuracy: 0.9022 - val_loss: 0.2397 - val_accuracy: 0.8879\n",
            "Epoch 174/500\n",
            "1/1 [==============================] - 0s 57ms/step - loss: 0.2191 - accuracy: 0.9028 - val_loss: 0.2395 - val_accuracy: 0.8884\n",
            "Epoch 175/500\n",
            "1/1 [==============================] - 0s 41ms/step - loss: 0.2190 - accuracy: 0.9028 - val_loss: 0.2396 - val_accuracy: 0.8879\n",
            "Epoch 176/500\n",
            "1/1 [==============================] - 0s 48ms/step - loss: 0.2189 - accuracy: 0.9030 - val_loss: 0.2399 - val_accuracy: 0.8874\n",
            "Epoch 177/500\n",
            "1/1 [==============================] - 0s 44ms/step - loss: 0.2188 - accuracy: 0.9028 - val_loss: 0.2396 - val_accuracy: 0.8874\n",
            "Epoch 178/500\n",
            "1/1 [==============================] - 0s 39ms/step - loss: 0.2187 - accuracy: 0.9024 - val_loss: 0.2400 - val_accuracy: 0.8874\n",
            "Epoch 179/500\n",
            "1/1 [==============================] - 0s 47ms/step - loss: 0.2186 - accuracy: 0.9028 - val_loss: 0.2398 - val_accuracy: 0.8879\n",
            "Epoch 180/500\n",
            "1/1 [==============================] - 0s 51ms/step - loss: 0.2185 - accuracy: 0.9030 - val_loss: 0.2398 - val_accuracy: 0.8864\n",
            "Epoch 181/500\n",
            "1/1 [==============================] - 0s 45ms/step - loss: 0.2184 - accuracy: 0.9011 - val_loss: 0.2400 - val_accuracy: 0.8874\n",
            "Epoch 182/500\n",
            "1/1 [==============================] - 0s 38ms/step - loss: 0.2184 - accuracy: 0.9028 - val_loss: 0.2399 - val_accuracy: 0.8889\n",
            "Epoch 183/500\n",
            "1/1 [==============================] - 0s 53ms/step - loss: 0.2183 - accuracy: 0.9037 - val_loss: 0.2402 - val_accuracy: 0.8874\n",
            "Epoch 184/500\n",
            "1/1 [==============================] - 0s 52ms/step - loss: 0.2182 - accuracy: 0.9028 - val_loss: 0.2400 - val_accuracy: 0.8869\n",
            "Epoch 185/500\n",
            "1/1 [==============================] - 0s 52ms/step - loss: 0.2181 - accuracy: 0.9028 - val_loss: 0.2402 - val_accuracy: 0.8874\n",
            "Epoch 186/500\n",
            "1/1 [==============================] - 0s 40ms/step - loss: 0.2181 - accuracy: 0.9028 - val_loss: 0.2402 - val_accuracy: 0.8869\n",
            "Epoch 187/500\n",
            "1/1 [==============================] - 0s 51ms/step - loss: 0.2180 - accuracy: 0.9022 - val_loss: 0.2402 - val_accuracy: 0.8879\n",
            "Epoch 188/500\n",
            "1/1 [==============================] - 0s 45ms/step - loss: 0.2179 - accuracy: 0.9030 - val_loss: 0.2403 - val_accuracy: 0.8874\n",
            "Epoch 189/500\n",
            "1/1 [==============================] - 0s 47ms/step - loss: 0.2178 - accuracy: 0.9030 - val_loss: 0.2402 - val_accuracy: 0.8884\n",
            "Epoch 190/500\n",
            "1/1 [==============================] - 0s 48ms/step - loss: 0.2178 - accuracy: 0.9028 - val_loss: 0.2405 - val_accuracy: 0.8869\n",
            "Epoch 191/500\n",
            "1/1 [==============================] - 0s 48ms/step - loss: 0.2177 - accuracy: 0.9032 - val_loss: 0.2402 - val_accuracy: 0.8884\n",
            "Epoch 192/500\n",
            "1/1 [==============================] - 0s 53ms/step - loss: 0.2176 - accuracy: 0.9022 - val_loss: 0.2406 - val_accuracy: 0.8869\n",
            "Epoch 193/500\n",
            "1/1 [==============================] - 0s 58ms/step - loss: 0.2176 - accuracy: 0.9032 - val_loss: 0.2402 - val_accuracy: 0.8879\n",
            "Epoch 194/500\n",
            "1/1 [==============================] - 0s 54ms/step - loss: 0.2175 - accuracy: 0.9035 - val_loss: 0.2406 - val_accuracy: 0.8869\n",
            "Epoch 195/500\n",
            "1/1 [==============================] - 0s 49ms/step - loss: 0.2174 - accuracy: 0.9032 - val_loss: 0.2404 - val_accuracy: 0.8889\n",
            "Epoch 196/500\n",
            "1/1 [==============================] - 0s 45ms/step - loss: 0.2173 - accuracy: 0.9037 - val_loss: 0.2407 - val_accuracy: 0.8869\n",
            "Epoch 197/500\n",
            "1/1 [==============================] - 0s 43ms/step - loss: 0.2172 - accuracy: 0.9032 - val_loss: 0.2406 - val_accuracy: 0.8869\n",
            "Epoch 198/500\n",
            "1/1 [==============================] - 0s 43ms/step - loss: 0.2171 - accuracy: 0.9028 - val_loss: 0.2406 - val_accuracy: 0.8879\n",
            "Epoch 199/500\n",
            "1/1 [==============================] - 0s 43ms/step - loss: 0.2171 - accuracy: 0.9032 - val_loss: 0.2408 - val_accuracy: 0.8869\n",
            "Epoch 200/500\n",
            "1/1 [==============================] - 0s 48ms/step - loss: 0.2170 - accuracy: 0.9032 - val_loss: 0.2406 - val_accuracy: 0.8889\n",
            "Epoch 201/500\n",
            "1/1 [==============================] - 0s 49ms/step - loss: 0.2169 - accuracy: 0.9035 - val_loss: 0.2411 - val_accuracy: 0.8869\n",
            "Epoch 202/500\n",
            "1/1 [==============================] - 0s 48ms/step - loss: 0.2169 - accuracy: 0.9035 - val_loss: 0.2407 - val_accuracy: 0.8884\n",
            "Epoch 203/500\n",
            "1/1 [==============================] - 0s 59ms/step - loss: 0.2169 - accuracy: 0.9024 - val_loss: 0.2413 - val_accuracy: 0.8869\n",
            "Epoch 204/500\n",
            "1/1 [==============================] - 0s 51ms/step - loss: 0.2168 - accuracy: 0.9035 - val_loss: 0.2408 - val_accuracy: 0.8884\n",
            "Epoch 205/500\n",
            "1/1 [==============================] - 0s 45ms/step - loss: 0.2168 - accuracy: 0.9024 - val_loss: 0.2413 - val_accuracy: 0.8869\n",
            "Epoch 206/500\n",
            "1/1 [==============================] - 0s 36ms/step - loss: 0.2167 - accuracy: 0.9032 - val_loss: 0.2409 - val_accuracy: 0.8889\n",
            "Epoch 207/500\n",
            "1/1 [==============================] - 0s 50ms/step - loss: 0.2165 - accuracy: 0.9037 - val_loss: 0.2411 - val_accuracy: 0.8869\n",
            "Epoch 208/500\n",
            "1/1 [==============================] - 0s 40ms/step - loss: 0.2164 - accuracy: 0.9028 - val_loss: 0.2413 - val_accuracy: 0.8869\n",
            "Epoch 209/500\n",
            "1/1 [==============================] - 0s 45ms/step - loss: 0.2164 - accuracy: 0.9030 - val_loss: 0.2411 - val_accuracy: 0.8884\n",
            "Epoch 210/500\n",
            "1/1 [==============================] - 0s 46ms/step - loss: 0.2164 - accuracy: 0.9026 - val_loss: 0.2416 - val_accuracy: 0.8869\n",
            "Epoch 211/500\n",
            "1/1 [==============================] - 0s 39ms/step - loss: 0.2163 - accuracy: 0.9032 - val_loss: 0.2411 - val_accuracy: 0.8884\n",
            "Epoch 212/500\n",
            "1/1 [==============================] - 0s 48ms/step - loss: 0.2163 - accuracy: 0.9022 - val_loss: 0.2418 - val_accuracy: 0.8869\n",
            "Epoch 213/500\n",
            "1/1 [==============================] - 0s 58ms/step - loss: 0.2163 - accuracy: 0.9032 - val_loss: 0.2412 - val_accuracy: 0.8884\n",
            "Epoch 214/500\n",
            "1/1 [==============================] - 0s 52ms/step - loss: 0.2161 - accuracy: 0.9022 - val_loss: 0.2415 - val_accuracy: 0.8869\n",
            "Epoch 215/500\n",
            "1/1 [==============================] - 0s 41ms/step - loss: 0.2160 - accuracy: 0.9030 - val_loss: 0.2415 - val_accuracy: 0.8869\n",
            "Epoch 216/500\n",
            "1/1 [==============================] - 0s 59ms/step - loss: 0.2159 - accuracy: 0.9030 - val_loss: 0.2414 - val_accuracy: 0.8889\n",
            "Epoch 217/500\n",
            "1/1 [==============================] - 0s 39ms/step - loss: 0.2159 - accuracy: 0.9028 - val_loss: 0.2420 - val_accuracy: 0.8869\n",
            "Epoch 218/500\n",
            "1/1 [==============================] - 0s 47ms/step - loss: 0.2159 - accuracy: 0.9030 - val_loss: 0.2415 - val_accuracy: 0.8884\n",
            "Epoch 219/500\n",
            "1/1 [==============================] - 0s 41ms/step - loss: 0.2159 - accuracy: 0.9022 - val_loss: 0.2422 - val_accuracy: 0.8869\n",
            "Epoch 220/500\n",
            "1/1 [==============================] - 0s 50ms/step - loss: 0.2158 - accuracy: 0.9030 - val_loss: 0.2417 - val_accuracy: 0.8895\n",
            "Epoch 221/500\n",
            "1/1 [==============================] - 0s 48ms/step - loss: 0.2157 - accuracy: 0.9046 - val_loss: 0.2417 - val_accuracy: 0.8869\n",
            "Epoch 222/500\n",
            "1/1 [==============================] - 0s 41ms/step - loss: 0.2156 - accuracy: 0.9026 - val_loss: 0.2420 - val_accuracy: 0.8869\n",
            "Epoch 223/500\n",
            "1/1 [==============================] - 0s 39ms/step - loss: 0.2156 - accuracy: 0.9030 - val_loss: 0.2417 - val_accuracy: 0.8884\n",
            "Epoch 224/500\n",
            "1/1 [==============================] - 0s 39ms/step - loss: 0.2156 - accuracy: 0.9022 - val_loss: 0.2423 - val_accuracy: 0.8869\n",
            "Epoch 225/500\n",
            "1/1 [==============================] - 0s 51ms/step - loss: 0.2155 - accuracy: 0.9030 - val_loss: 0.2419 - val_accuracy: 0.8889\n",
            "Epoch 226/500\n",
            "1/1 [==============================] - 0s 49ms/step - loss: 0.2154 - accuracy: 0.9028 - val_loss: 0.2421 - val_accuracy: 0.8869\n",
            "Epoch 227/500\n",
            "1/1 [==============================] - 0s 53ms/step - loss: 0.2153 - accuracy: 0.9028 - val_loss: 0.2422 - val_accuracy: 0.8869\n",
            "Epoch 228/500\n",
            "1/1 [==============================] - 0s 47ms/step - loss: 0.2153 - accuracy: 0.9028 - val_loss: 0.2420 - val_accuracy: 0.8889\n",
            "Epoch 229/500\n",
            "1/1 [==============================] - 0s 45ms/step - loss: 0.2153 - accuracy: 0.9035 - val_loss: 0.2424 - val_accuracy: 0.8869\n",
            "Epoch 230/500\n",
            "1/1 [==============================] - 0s 51ms/step - loss: 0.2152 - accuracy: 0.9030 - val_loss: 0.2421 - val_accuracy: 0.8889\n",
            "Epoch 231/500\n",
            "1/1 [==============================] - 0s 46ms/step - loss: 0.2151 - accuracy: 0.9028 - val_loss: 0.2424 - val_accuracy: 0.8869\n",
            "Epoch 232/500\n",
            "1/1 [==============================] - 0s 49ms/step - loss: 0.2151 - accuracy: 0.9028 - val_loss: 0.2424 - val_accuracy: 0.8879\n",
            "Epoch 233/500\n",
            "1/1 [==============================] - 0s 57ms/step - loss: 0.2150 - accuracy: 0.9032 - val_loss: 0.2423 - val_accuracy: 0.8869\n",
            "Epoch 234/500\n",
            "1/1 [==============================] - 0s 52ms/step - loss: 0.2149 - accuracy: 0.9035 - val_loss: 0.2425 - val_accuracy: 0.8869\n",
            "Epoch 235/500\n",
            "1/1 [==============================] - 0s 51ms/step - loss: 0.2149 - accuracy: 0.9028 - val_loss: 0.2424 - val_accuracy: 0.8869\n",
            "Epoch 236/500\n",
            "1/1 [==============================] - 0s 51ms/step - loss: 0.2149 - accuracy: 0.9030 - val_loss: 0.2428 - val_accuracy: 0.8869\n",
            "Epoch 237/500\n",
            "1/1 [==============================] - 0s 43ms/step - loss: 0.2148 - accuracy: 0.9028 - val_loss: 0.2425 - val_accuracy: 0.8889\n",
            "Epoch 238/500\n",
            "1/1 [==============================] - 0s 62ms/step - loss: 0.2148 - accuracy: 0.9030 - val_loss: 0.2431 - val_accuracy: 0.8869\n",
            "Epoch 239/500\n",
            "1/1 [==============================] - 0s 46ms/step - loss: 0.2148 - accuracy: 0.9028 - val_loss: 0.2426 - val_accuracy: 0.8889\n",
            "Epoch 240/500\n",
            "1/1 [==============================] - 0s 55ms/step - loss: 0.2147 - accuracy: 0.9030 - val_loss: 0.2431 - val_accuracy: 0.8869\n",
            "Epoch 241/500\n",
            "1/1 [==============================] - 0s 47ms/step - loss: 0.2147 - accuracy: 0.9028 - val_loss: 0.2427 - val_accuracy: 0.8884\n",
            "Epoch 242/500\n",
            "1/1 [==============================] - 0s 43ms/step - loss: 0.2146 - accuracy: 0.9032 - val_loss: 0.2431 - val_accuracy: 0.8869\n",
            "Epoch 243/500\n",
            "1/1 [==============================] - 0s 51ms/step - loss: 0.2145 - accuracy: 0.9028 - val_loss: 0.2429 - val_accuracy: 0.8869\n",
            "Epoch 244/500\n",
            "1/1 [==============================] - 0s 53ms/step - loss: 0.2145 - accuracy: 0.9035 - val_loss: 0.2431 - val_accuracy: 0.8869\n",
            "Epoch 245/500\n",
            "1/1 [==============================] - 0s 51ms/step - loss: 0.2144 - accuracy: 0.9028 - val_loss: 0.2431 - val_accuracy: 0.8869\n",
            "Epoch 246/500\n",
            "1/1 [==============================] - 0s 48ms/step - loss: 0.2144 - accuracy: 0.9030 - val_loss: 0.2433 - val_accuracy: 0.8884\n",
            "Epoch 247/500\n",
            "1/1 [==============================] - 0s 45ms/step - loss: 0.2143 - accuracy: 0.9041 - val_loss: 0.2432 - val_accuracy: 0.8859\n",
            "Epoch 248/500\n",
            "1/1 [==============================] - 0s 56ms/step - loss: 0.2143 - accuracy: 0.9039 - val_loss: 0.2433 - val_accuracy: 0.8874\n",
            "Epoch 249/500\n",
            "1/1 [==============================] - 0s 47ms/step - loss: 0.2142 - accuracy: 0.9041 - val_loss: 0.2434 - val_accuracy: 0.8859\n",
            "Epoch 250/500\n",
            "1/1 [==============================] - 0s 49ms/step - loss: 0.2142 - accuracy: 0.9035 - val_loss: 0.2434 - val_accuracy: 0.8869\n",
            "Epoch 251/500\n",
            "1/1 [==============================] - 0s 53ms/step - loss: 0.2141 - accuracy: 0.9037 - val_loss: 0.2434 - val_accuracy: 0.8864\n",
            "Epoch 252/500\n",
            "1/1 [==============================] - 0s 45ms/step - loss: 0.2141 - accuracy: 0.9046 - val_loss: 0.2435 - val_accuracy: 0.8864\n",
            "Epoch 253/500\n",
            "1/1 [==============================] - 0s 55ms/step - loss: 0.2140 - accuracy: 0.9039 - val_loss: 0.2435 - val_accuracy: 0.8869\n",
            "Epoch 254/500\n",
            "1/1 [==============================] - 0s 50ms/step - loss: 0.2140 - accuracy: 0.9050 - val_loss: 0.2435 - val_accuracy: 0.8869\n",
            "Epoch 255/500\n",
            "1/1 [==============================] - 0s 47ms/step - loss: 0.2140 - accuracy: 0.9048 - val_loss: 0.2436 - val_accuracy: 0.8864\n",
            "Epoch 256/500\n",
            "1/1 [==============================] - 0s 51ms/step - loss: 0.2139 - accuracy: 0.9046 - val_loss: 0.2436 - val_accuracy: 0.8859\n",
            "Epoch 257/500\n",
            "1/1 [==============================] - 0s 47ms/step - loss: 0.2139 - accuracy: 0.9043 - val_loss: 0.2438 - val_accuracy: 0.8864\n",
            "Epoch 258/500\n",
            "1/1 [==============================] - 0s 50ms/step - loss: 0.2138 - accuracy: 0.9030 - val_loss: 0.2436 - val_accuracy: 0.8874\n",
            "Epoch 259/500\n",
            "1/1 [==============================] - 0s 50ms/step - loss: 0.2139 - accuracy: 0.9032 - val_loss: 0.2445 - val_accuracy: 0.8854\n",
            "Epoch 260/500\n",
            "1/1 [==============================] - 0s 55ms/step - loss: 0.2140 - accuracy: 0.9037 - val_loss: 0.2440 - val_accuracy: 0.8889\n",
            "Epoch 261/500\n",
            "1/1 [==============================] - 0s 52ms/step - loss: 0.2145 - accuracy: 0.9030 - val_loss: 0.2460 - val_accuracy: 0.8849\n",
            "Epoch 262/500\n",
            "1/1 [==============================] - 0s 45ms/step - loss: 0.2149 - accuracy: 0.9000 - val_loss: 0.2441 - val_accuracy: 0.8889\n",
            "Epoch 263/500\n",
            "1/1 [==============================] - 0s 46ms/step - loss: 0.2145 - accuracy: 0.9032 - val_loss: 0.2443 - val_accuracy: 0.8859\n",
            "Epoch 264/500\n",
            "1/1 [==============================] - 0s 46ms/step - loss: 0.2137 - accuracy: 0.9037 - val_loss: 0.2447 - val_accuracy: 0.8849\n",
            "Epoch 265/500\n",
            "1/1 [==============================] - 0s 42ms/step - loss: 0.2139 - accuracy: 0.9028 - val_loss: 0.2441 - val_accuracy: 0.8889\n",
            "Epoch 266/500\n",
            "1/1 [==============================] - 0s 53ms/step - loss: 0.2144 - accuracy: 0.9030 - val_loss: 0.2448 - val_accuracy: 0.8849\n",
            "Epoch 267/500\n",
            "1/1 [==============================] - 0s 57ms/step - loss: 0.2139 - accuracy: 0.9028 - val_loss: 0.2443 - val_accuracy: 0.8864\n",
            "Epoch 268/500\n",
            "1/1 [==============================] - 0s 46ms/step - loss: 0.2135 - accuracy: 0.9032 - val_loss: 0.2442 - val_accuracy: 0.8884\n",
            "Epoch 269/500\n",
            "1/1 [==============================] - 0s 51ms/step - loss: 0.2140 - accuracy: 0.9037 - val_loss: 0.2450 - val_accuracy: 0.8859\n",
            "Epoch 270/500\n",
            "1/1 [==============================] - 0s 64ms/step - loss: 0.2138 - accuracy: 0.9028 - val_loss: 0.2443 - val_accuracy: 0.8884\n",
            "Epoch 271/500\n",
            "1/1 [==============================] - 0s 49ms/step - loss: 0.2134 - accuracy: 0.9052 - val_loss: 0.2441 - val_accuracy: 0.8879\n",
            "Epoch 272/500\n",
            "1/1 [==============================] - 0s 56ms/step - loss: 0.2137 - accuracy: 0.9030 - val_loss: 0.2450 - val_accuracy: 0.8854\n",
            "Epoch 273/500\n",
            "1/1 [==============================] - 0s 53ms/step - loss: 0.2137 - accuracy: 0.9030 - val_loss: 0.2443 - val_accuracy: 0.8864\n",
            "Epoch 274/500\n",
            "1/1 [==============================] - 0s 54ms/step - loss: 0.2133 - accuracy: 0.9043 - val_loss: 0.2442 - val_accuracy: 0.8879\n",
            "Epoch 275/500\n",
            "1/1 [==============================] - 0s 55ms/step - loss: 0.2135 - accuracy: 0.9032 - val_loss: 0.2451 - val_accuracy: 0.8854\n",
            "Epoch 276/500\n",
            "1/1 [==============================] - 0s 48ms/step - loss: 0.2136 - accuracy: 0.9028 - val_loss: 0.2443 - val_accuracy: 0.8859\n",
            "Epoch 277/500\n",
            "1/1 [==============================] - 0s 49ms/step - loss: 0.2133 - accuracy: 0.9041 - val_loss: 0.2442 - val_accuracy: 0.8869\n",
            "Epoch 278/500\n",
            "1/1 [==============================] - 0s 51ms/step - loss: 0.2133 - accuracy: 0.9035 - val_loss: 0.2449 - val_accuracy: 0.8849\n",
            "Epoch 279/500\n",
            "1/1 [==============================] - 0s 52ms/step - loss: 0.2134 - accuracy: 0.9032 - val_loss: 0.2443 - val_accuracy: 0.8864\n",
            "Epoch 280/500\n",
            "1/1 [==============================] - 0s 46ms/step - loss: 0.2132 - accuracy: 0.9039 - val_loss: 0.2444 - val_accuracy: 0.8864\n",
            "Epoch 281/500\n",
            "1/1 [==============================] - 0s 48ms/step - loss: 0.2131 - accuracy: 0.9043 - val_loss: 0.2450 - val_accuracy: 0.8854\n",
            "Epoch 282/500\n",
            "1/1 [==============================] - 0s 58ms/step - loss: 0.2132 - accuracy: 0.9037 - val_loss: 0.2445 - val_accuracy: 0.8869\n",
            "Epoch 283/500\n",
            "1/1 [==============================] - 0s 52ms/step - loss: 0.2132 - accuracy: 0.9035 - val_loss: 0.2447 - val_accuracy: 0.8854\n",
            "Epoch 284/500\n",
            "1/1 [==============================] - 0s 48ms/step - loss: 0.2130 - accuracy: 0.9048 - val_loss: 0.2449 - val_accuracy: 0.8859\n",
            "Epoch 285/500\n",
            "1/1 [==============================] - 0s 50ms/step - loss: 0.2131 - accuracy: 0.9035 - val_loss: 0.2445 - val_accuracy: 0.8864\n",
            "Epoch 286/500\n",
            "1/1 [==============================] - 0s 52ms/step - loss: 0.2131 - accuracy: 0.9037 - val_loss: 0.2448 - val_accuracy: 0.8864\n",
            "Epoch 287/500\n",
            "1/1 [==============================] - 0s 51ms/step - loss: 0.2130 - accuracy: 0.9037 - val_loss: 0.2448 - val_accuracy: 0.8864\n",
            "Epoch 288/500\n",
            "1/1 [==============================] - 0s 49ms/step - loss: 0.2129 - accuracy: 0.9037 - val_loss: 0.2447 - val_accuracy: 0.8859\n",
            "Epoch 289/500\n",
            "1/1 [==============================] - 0s 49ms/step - loss: 0.2129 - accuracy: 0.9046 - val_loss: 0.2450 - val_accuracy: 0.8859\n",
            "Epoch 290/500\n",
            "1/1 [==============================] - 0s 49ms/step - loss: 0.2129 - accuracy: 0.9035 - val_loss: 0.2448 - val_accuracy: 0.8864\n",
            "Epoch 291/500\n",
            "1/1 [==============================] - 0s 44ms/step - loss: 0.2128 - accuracy: 0.9057 - val_loss: 0.2448 - val_accuracy: 0.8864\n",
            "Epoch 292/500\n",
            "1/1 [==============================] - 0s 53ms/step - loss: 0.2129 - accuracy: 0.9039 - val_loss: 0.2451 - val_accuracy: 0.8859\n",
            "Epoch 293/500\n",
            "1/1 [==============================] - 0s 55ms/step - loss: 0.2128 - accuracy: 0.9035 - val_loss: 0.2450 - val_accuracy: 0.8869\n",
            "Epoch 294/500\n",
            "1/1 [==============================] - 0s 59ms/step - loss: 0.2128 - accuracy: 0.9046 - val_loss: 0.2450 - val_accuracy: 0.8869\n",
            "Epoch 295/500\n",
            "1/1 [==============================] - 0s 45ms/step - loss: 0.2127 - accuracy: 0.9054 - val_loss: 0.2452 - val_accuracy: 0.8859\n",
            "Epoch 296/500\n",
            "1/1 [==============================] - 0s 47ms/step - loss: 0.2127 - accuracy: 0.9035 - val_loss: 0.2450 - val_accuracy: 0.8859\n",
            "Epoch 297/500\n",
            "1/1 [==============================] - 0s 53ms/step - loss: 0.2127 - accuracy: 0.9050 - val_loss: 0.2452 - val_accuracy: 0.8869\n",
            "Epoch 298/500\n",
            "1/1 [==============================] - 0s 54ms/step - loss: 0.2127 - accuracy: 0.9048 - val_loss: 0.2452 - val_accuracy: 0.8869\n",
            "Epoch 299/500\n",
            "1/1 [==============================] - 0s 46ms/step - loss: 0.2126 - accuracy: 0.9046 - val_loss: 0.2452 - val_accuracy: 0.8869\n",
            "Epoch 300/500\n",
            "1/1 [==============================] - 0s 40ms/step - loss: 0.2126 - accuracy: 0.9046 - val_loss: 0.2454 - val_accuracy: 0.8859\n",
            "Epoch 301/500\n",
            "1/1 [==============================] - 0s 53ms/step - loss: 0.2126 - accuracy: 0.9035 - val_loss: 0.2452 - val_accuracy: 0.8864\n",
            "Epoch 302/500\n",
            "1/1 [==============================] - 0s 53ms/step - loss: 0.2126 - accuracy: 0.9050 - val_loss: 0.2454 - val_accuracy: 0.8864\n",
            "Epoch 303/500\n",
            "1/1 [==============================] - 0s 62ms/step - loss: 0.2125 - accuracy: 0.9046 - val_loss: 0.2453 - val_accuracy: 0.8859\n",
            "Epoch 304/500\n",
            "1/1 [==============================] - 0s 53ms/step - loss: 0.2125 - accuracy: 0.9061 - val_loss: 0.2454 - val_accuracy: 0.8859\n",
            "Epoch 305/500\n",
            "1/1 [==============================] - 0s 59ms/step - loss: 0.2125 - accuracy: 0.9059 - val_loss: 0.2455 - val_accuracy: 0.8854\n",
            "Epoch 306/500\n",
            "1/1 [==============================] - 0s 67ms/step - loss: 0.2125 - accuracy: 0.9046 - val_loss: 0.2455 - val_accuracy: 0.8859\n",
            "Epoch 307/500\n",
            "1/1 [==============================] - 0s 48ms/step - loss: 0.2124 - accuracy: 0.9050 - val_loss: 0.2456 - val_accuracy: 0.8859\n",
            "Epoch 308/500\n",
            "1/1 [==============================] - 0s 49ms/step - loss: 0.2124 - accuracy: 0.9061 - val_loss: 0.2456 - val_accuracy: 0.8864\n",
            "Epoch 309/500\n",
            "1/1 [==============================] - 0s 53ms/step - loss: 0.2124 - accuracy: 0.9048 - val_loss: 0.2458 - val_accuracy: 0.8874\n",
            "Epoch 310/500\n",
            "1/1 [==============================] - 0s 43ms/step - loss: 0.2123 - accuracy: 0.9050 - val_loss: 0.2458 - val_accuracy: 0.8864\n",
            "Epoch 311/500\n",
            "1/1 [==============================] - 0s 47ms/step - loss: 0.2123 - accuracy: 0.9050 - val_loss: 0.2458 - val_accuracy: 0.8864\n",
            "Epoch 312/500\n",
            "1/1 [==============================] - 0s 51ms/step - loss: 0.2123 - accuracy: 0.9054 - val_loss: 0.2457 - val_accuracy: 0.8854\n",
            "Epoch 313/500\n",
            "1/1 [==============================] - 0s 48ms/step - loss: 0.2123 - accuracy: 0.9048 - val_loss: 0.2459 - val_accuracy: 0.8874\n",
            "Epoch 314/500\n",
            "1/1 [==============================] - 0s 57ms/step - loss: 0.2123 - accuracy: 0.9048 - val_loss: 0.2459 - val_accuracy: 0.8843\n",
            "Epoch 315/500\n",
            "1/1 [==============================] - 0s 55ms/step - loss: 0.2122 - accuracy: 0.9054 - val_loss: 0.2460 - val_accuracy: 0.8849\n",
            "Epoch 316/500\n",
            "1/1 [==============================] - 0s 54ms/step - loss: 0.2122 - accuracy: 0.9052 - val_loss: 0.2460 - val_accuracy: 0.8849\n",
            "Epoch 317/500\n",
            "1/1 [==============================] - 0s 53ms/step - loss: 0.2122 - accuracy: 0.9057 - val_loss: 0.2460 - val_accuracy: 0.8854\n",
            "Epoch 318/500\n",
            "1/1 [==============================] - 0s 45ms/step - loss: 0.2122 - accuracy: 0.9059 - val_loss: 0.2461 - val_accuracy: 0.8854\n",
            "Epoch 319/500\n",
            "1/1 [==============================] - 0s 54ms/step - loss: 0.2121 - accuracy: 0.9046 - val_loss: 0.2461 - val_accuracy: 0.8859\n",
            "Epoch 320/500\n",
            "1/1 [==============================] - 0s 46ms/step - loss: 0.2121 - accuracy: 0.9050 - val_loss: 0.2462 - val_accuracy: 0.8869\n",
            "Epoch 321/500\n",
            "1/1 [==============================] - 0s 52ms/step - loss: 0.2121 - accuracy: 0.9061 - val_loss: 0.2462 - val_accuracy: 0.8854\n",
            "Epoch 322/500\n",
            "1/1 [==============================] - 0s 47ms/step - loss: 0.2121 - accuracy: 0.9048 - val_loss: 0.2464 - val_accuracy: 0.8859\n",
            "Epoch 323/500\n",
            "1/1 [==============================] - 0s 53ms/step - loss: 0.2120 - accuracy: 0.9057 - val_loss: 0.2463 - val_accuracy: 0.8854\n",
            "Epoch 324/500\n",
            "1/1 [==============================] - 0s 57ms/step - loss: 0.2120 - accuracy: 0.9046 - val_loss: 0.2465 - val_accuracy: 0.8859\n",
            "Epoch 325/500\n",
            "1/1 [==============================] - 0s 52ms/step - loss: 0.2120 - accuracy: 0.9037 - val_loss: 0.2463 - val_accuracy: 0.8854\n",
            "Epoch 326/500\n",
            "1/1 [==============================] - 0s 47ms/step - loss: 0.2120 - accuracy: 0.9048 - val_loss: 0.2464 - val_accuracy: 0.8884\n",
            "Epoch 327/500\n",
            "1/1 [==============================] - 0s 49ms/step - loss: 0.2119 - accuracy: 0.9068 - val_loss: 0.2462 - val_accuracy: 0.8843\n",
            "Epoch 328/500\n",
            "1/1 [==============================] - 0s 50ms/step - loss: 0.2119 - accuracy: 0.9057 - val_loss: 0.2463 - val_accuracy: 0.8849\n",
            "Epoch 329/500\n",
            "1/1 [==============================] - 0s 54ms/step - loss: 0.2119 - accuracy: 0.9061 - val_loss: 0.2464 - val_accuracy: 0.8859\n",
            "Epoch 330/500\n",
            "1/1 [==============================] - 0s 47ms/step - loss: 0.2119 - accuracy: 0.9061 - val_loss: 0.2464 - val_accuracy: 0.8864\n",
            "Epoch 331/500\n",
            "1/1 [==============================] - 0s 46ms/step - loss: 0.2118 - accuracy: 0.9050 - val_loss: 0.2467 - val_accuracy: 0.8864\n",
            "Epoch 332/500\n",
            "1/1 [==============================] - 0s 45ms/step - loss: 0.2118 - accuracy: 0.9037 - val_loss: 0.2464 - val_accuracy: 0.8854\n",
            "Epoch 333/500\n",
            "1/1 [==============================] - 0s 52ms/step - loss: 0.2119 - accuracy: 0.9048 - val_loss: 0.2469 - val_accuracy: 0.8849\n",
            "Epoch 334/500\n",
            "1/1 [==============================] - 0s 56ms/step - loss: 0.2119 - accuracy: 0.9032 - val_loss: 0.2465 - val_accuracy: 0.8859\n",
            "Epoch 335/500\n",
            "1/1 [==============================] - 0s 51ms/step - loss: 0.2120 - accuracy: 0.9046 - val_loss: 0.2472 - val_accuracy: 0.8859\n",
            "Epoch 336/500\n",
            "1/1 [==============================] - 0s 48ms/step - loss: 0.2120 - accuracy: 0.9035 - val_loss: 0.2466 - val_accuracy: 0.8864\n",
            "Epoch 337/500\n",
            "1/1 [==============================] - 0s 50ms/step - loss: 0.2119 - accuracy: 0.9046 - val_loss: 0.2470 - val_accuracy: 0.8854\n",
            "Epoch 338/500\n",
            "1/1 [==============================] - 0s 68ms/step - loss: 0.2118 - accuracy: 0.9030 - val_loss: 0.2467 - val_accuracy: 0.8859\n",
            "Epoch 339/500\n",
            "1/1 [==============================] - 0s 46ms/step - loss: 0.2117 - accuracy: 0.9048 - val_loss: 0.2467 - val_accuracy: 0.8869\n",
            "Epoch 340/500\n",
            "1/1 [==============================] - 0s 48ms/step - loss: 0.2116 - accuracy: 0.9046 - val_loss: 0.2468 - val_accuracy: 0.8859\n",
            "Epoch 341/500\n",
            "1/1 [==============================] - 0s 50ms/step - loss: 0.2116 - accuracy: 0.9048 - val_loss: 0.2467 - val_accuracy: 0.8854\n",
            "Epoch 342/500\n",
            "1/1 [==============================] - 0s 58ms/step - loss: 0.2117 - accuracy: 0.9052 - val_loss: 0.2472 - val_accuracy: 0.8854\n",
            "Epoch 343/500\n",
            "1/1 [==============================] - 0s 55ms/step - loss: 0.2117 - accuracy: 0.9032 - val_loss: 0.2469 - val_accuracy: 0.8854\n",
            "Epoch 344/500\n",
            "1/1 [==============================] - 0s 52ms/step - loss: 0.2117 - accuracy: 0.9048 - val_loss: 0.2474 - val_accuracy: 0.8849\n",
            "Epoch 345/500\n",
            "1/1 [==============================] - 0s 41ms/step - loss: 0.2117 - accuracy: 0.9030 - val_loss: 0.2470 - val_accuracy: 0.8864\n",
            "Epoch 346/500\n",
            "1/1 [==============================] - 0s 47ms/step - loss: 0.2117 - accuracy: 0.9046 - val_loss: 0.2475 - val_accuracy: 0.8859\n",
            "Epoch 347/500\n",
            "1/1 [==============================] - 0s 49ms/step - loss: 0.2116 - accuracy: 0.9037 - val_loss: 0.2471 - val_accuracy: 0.8854\n",
            "Epoch 348/500\n",
            "1/1 [==============================] - 0s 61ms/step - loss: 0.2116 - accuracy: 0.9050 - val_loss: 0.2473 - val_accuracy: 0.8854\n",
            "Epoch 349/500\n",
            "1/1 [==============================] - 0s 44ms/step - loss: 0.2115 - accuracy: 0.9037 - val_loss: 0.2470 - val_accuracy: 0.8854\n",
            "Epoch 350/500\n",
            "1/1 [==============================] - 0s 53ms/step - loss: 0.2115 - accuracy: 0.9050 - val_loss: 0.2471 - val_accuracy: 0.8859\n",
            "Epoch 351/500\n",
            "1/1 [==============================] - 0s 52ms/step - loss: 0.2114 - accuracy: 0.9061 - val_loss: 0.2471 - val_accuracy: 0.8854\n",
            "Epoch 352/500\n",
            "1/1 [==============================] - 0s 62ms/step - loss: 0.2114 - accuracy: 0.9054 - val_loss: 0.2471 - val_accuracy: 0.8843\n",
            "Epoch 353/500\n",
            "1/1 [==============================] - 0s 56ms/step - loss: 0.2114 - accuracy: 0.9052 - val_loss: 0.2474 - val_accuracy: 0.8859\n",
            "Epoch 354/500\n",
            "1/1 [==============================] - 0s 54ms/step - loss: 0.2114 - accuracy: 0.9032 - val_loss: 0.2472 - val_accuracy: 0.8854\n",
            "Epoch 355/500\n",
            "1/1 [==============================] - 0s 50ms/step - loss: 0.2114 - accuracy: 0.9046 - val_loss: 0.2477 - val_accuracy: 0.8849\n",
            "Epoch 356/500\n",
            "1/1 [==============================] - 0s 52ms/step - loss: 0.2114 - accuracy: 0.9032 - val_loss: 0.2474 - val_accuracy: 0.8859\n",
            "Epoch 357/500\n",
            "1/1 [==============================] - 0s 49ms/step - loss: 0.2114 - accuracy: 0.9043 - val_loss: 0.2480 - val_accuracy: 0.8859\n",
            "Epoch 358/500\n",
            "1/1 [==============================] - 0s 44ms/step - loss: 0.2114 - accuracy: 0.9035 - val_loss: 0.2474 - val_accuracy: 0.8859\n",
            "Epoch 359/500\n",
            "1/1 [==============================] - 0s 52ms/step - loss: 0.2115 - accuracy: 0.9041 - val_loss: 0.2480 - val_accuracy: 0.8849\n",
            "Epoch 360/500\n",
            "1/1 [==============================] - 0s 58ms/step - loss: 0.2115 - accuracy: 0.9032 - val_loss: 0.2473 - val_accuracy: 0.8859\n",
            "Epoch 361/500\n",
            "1/1 [==============================] - 0s 53ms/step - loss: 0.2114 - accuracy: 0.9041 - val_loss: 0.2477 - val_accuracy: 0.8854\n",
            "Epoch 362/500\n",
            "1/1 [==============================] - 0s 44ms/step - loss: 0.2113 - accuracy: 0.9035 - val_loss: 0.2474 - val_accuracy: 0.8864\n",
            "Epoch 363/500\n",
            "1/1 [==============================] - 0s 57ms/step - loss: 0.2112 - accuracy: 0.9041 - val_loss: 0.2475 - val_accuracy: 0.8859\n",
            "Epoch 364/500\n",
            "1/1 [==============================] - 0s 48ms/step - loss: 0.2111 - accuracy: 0.9059 - val_loss: 0.2478 - val_accuracy: 0.8854\n",
            "Epoch 365/500\n",
            "1/1 [==============================] - 0s 56ms/step - loss: 0.2112 - accuracy: 0.9037 - val_loss: 0.2475 - val_accuracy: 0.8859\n",
            "Epoch 366/500\n",
            "1/1 [==============================] - 0s 50ms/step - loss: 0.2113 - accuracy: 0.9043 - val_loss: 0.2482 - val_accuracy: 0.8854\n",
            "Epoch 367/500\n",
            "1/1 [==============================] - 0s 48ms/step - loss: 0.2113 - accuracy: 0.9032 - val_loss: 0.2477 - val_accuracy: 0.8859\n",
            "Epoch 368/500\n",
            "1/1 [==============================] - 0s 53ms/step - loss: 0.2113 - accuracy: 0.9043 - val_loss: 0.2482 - val_accuracy: 0.8869\n",
            "Epoch 369/500\n",
            "1/1 [==============================] - 0s 44ms/step - loss: 0.2112 - accuracy: 0.9030 - val_loss: 0.2477 - val_accuracy: 0.8859\n",
            "Epoch 370/500\n",
            "1/1 [==============================] - 0s 48ms/step - loss: 0.2111 - accuracy: 0.9043 - val_loss: 0.2478 - val_accuracy: 0.8859\n",
            "Epoch 371/500\n",
            "1/1 [==============================] - 0s 47ms/step - loss: 0.2110 - accuracy: 0.9039 - val_loss: 0.2479 - val_accuracy: 0.8859\n",
            "Epoch 372/500\n",
            "1/1 [==============================] - 0s 50ms/step - loss: 0.2110 - accuracy: 0.9035 - val_loss: 0.2477 - val_accuracy: 0.8859\n",
            "Epoch 373/500\n",
            "1/1 [==============================] - 0s 47ms/step - loss: 0.2110 - accuracy: 0.9039 - val_loss: 0.2482 - val_accuracy: 0.8859\n",
            "Epoch 374/500\n",
            "1/1 [==============================] - 0s 52ms/step - loss: 0.2111 - accuracy: 0.9032 - val_loss: 0.2478 - val_accuracy: 0.8874\n",
            "Epoch 375/500\n",
            "1/1 [==============================] - 0s 50ms/step - loss: 0.2112 - accuracy: 0.9041 - val_loss: 0.2486 - val_accuracy: 0.8838\n",
            "Epoch 376/500\n",
            "1/1 [==============================] - 0s 51ms/step - loss: 0.2112 - accuracy: 0.9032 - val_loss: 0.2480 - val_accuracy: 0.8859\n",
            "Epoch 377/500\n",
            "1/1 [==============================] - 0s 49ms/step - loss: 0.2111 - accuracy: 0.9043 - val_loss: 0.2484 - val_accuracy: 0.8854\n",
            "Epoch 378/500\n",
            "1/1 [==============================] - 0s 52ms/step - loss: 0.2110 - accuracy: 0.9039 - val_loss: 0.2480 - val_accuracy: 0.8864\n",
            "Epoch 379/500\n",
            "1/1 [==============================] - 0s 60ms/step - loss: 0.2109 - accuracy: 0.9050 - val_loss: 0.2481 - val_accuracy: 0.8854\n",
            "Epoch 380/500\n",
            "1/1 [==============================] - 0s 58ms/step - loss: 0.2108 - accuracy: 0.9046 - val_loss: 0.2481 - val_accuracy: 0.8874\n",
            "Epoch 381/500\n",
            "1/1 [==============================] - 0s 60ms/step - loss: 0.2108 - accuracy: 0.9048 - val_loss: 0.2480 - val_accuracy: 0.8859\n",
            "Epoch 382/500\n",
            "1/1 [==============================] - 0s 59ms/step - loss: 0.2109 - accuracy: 0.9048 - val_loss: 0.2485 - val_accuracy: 0.8859\n",
            "Epoch 383/500\n",
            "1/1 [==============================] - 0s 54ms/step - loss: 0.2109 - accuracy: 0.9028 - val_loss: 0.2481 - val_accuracy: 0.8859\n",
            "Epoch 384/500\n",
            "1/1 [==============================] - 0s 77ms/step - loss: 0.2109 - accuracy: 0.9046 - val_loss: 0.2486 - val_accuracy: 0.8849\n",
            "Epoch 385/500\n",
            "1/1 [==============================] - 0s 52ms/step - loss: 0.2109 - accuracy: 0.9032 - val_loss: 0.2481 - val_accuracy: 0.8854\n",
            "Epoch 386/500\n",
            "1/1 [==============================] - 0s 52ms/step - loss: 0.2108 - accuracy: 0.9052 - val_loss: 0.2482 - val_accuracy: 0.8859\n",
            "Epoch 387/500\n",
            "1/1 [==============================] - 0s 47ms/step - loss: 0.2107 - accuracy: 0.9050 - val_loss: 0.2481 - val_accuracy: 0.8849\n",
            "Epoch 388/500\n",
            "1/1 [==============================] - 0s 45ms/step - loss: 0.2107 - accuracy: 0.9054 - val_loss: 0.2481 - val_accuracy: 0.8843\n",
            "Epoch 389/500\n",
            "1/1 [==============================] - 0s 58ms/step - loss: 0.2107 - accuracy: 0.9046 - val_loss: 0.2484 - val_accuracy: 0.8864\n",
            "Epoch 390/500\n",
            "1/1 [==============================] - 0s 50ms/step - loss: 0.2107 - accuracy: 0.9041 - val_loss: 0.2483 - val_accuracy: 0.8864\n",
            "Epoch 391/500\n",
            "1/1 [==============================] - 0s 59ms/step - loss: 0.2107 - accuracy: 0.9039 - val_loss: 0.2486 - val_accuracy: 0.8869\n",
            "Epoch 392/500\n",
            "1/1 [==============================] - 0s 59ms/step - loss: 0.2107 - accuracy: 0.9043 - val_loss: 0.2483 - val_accuracy: 0.8859\n",
            "Epoch 393/500\n",
            "1/1 [==============================] - 0s 56ms/step - loss: 0.2107 - accuracy: 0.9039 - val_loss: 0.2488 - val_accuracy: 0.8854\n",
            "Epoch 394/500\n",
            "1/1 [==============================] - 0s 54ms/step - loss: 0.2107 - accuracy: 0.9032 - val_loss: 0.2483 - val_accuracy: 0.8859\n",
            "Epoch 395/500\n",
            "1/1 [==============================] - 0s 68ms/step - loss: 0.2108 - accuracy: 0.9041 - val_loss: 0.2489 - val_accuracy: 0.8833\n",
            "Epoch 396/500\n",
            "1/1 [==============================] - 0s 55ms/step - loss: 0.2108 - accuracy: 0.9035 - val_loss: 0.2483 - val_accuracy: 0.8859\n",
            "Epoch 397/500\n",
            "1/1 [==============================] - 0s 42ms/step - loss: 0.2107 - accuracy: 0.9041 - val_loss: 0.2488 - val_accuracy: 0.8864\n",
            "Epoch 398/500\n",
            "1/1 [==============================] - 0s 61ms/step - loss: 0.2106 - accuracy: 0.9035 - val_loss: 0.2485 - val_accuracy: 0.8854\n",
            "Epoch 399/500\n",
            "1/1 [==============================] - 0s 56ms/step - loss: 0.2105 - accuracy: 0.9039 - val_loss: 0.2487 - val_accuracy: 0.8849\n",
            "Epoch 400/500\n",
            "1/1 [==============================] - 0s 49ms/step - loss: 0.2105 - accuracy: 0.9048 - val_loss: 0.2486 - val_accuracy: 0.8854\n",
            "Epoch 401/500\n",
            "1/1 [==============================] - 0s 54ms/step - loss: 0.2105 - accuracy: 0.9041 - val_loss: 0.2484 - val_accuracy: 0.8859\n",
            "Epoch 402/500\n",
            "1/1 [==============================] - 0s 47ms/step - loss: 0.2105 - accuracy: 0.9041 - val_loss: 0.2490 - val_accuracy: 0.8849\n",
            "Epoch 403/500\n",
            "1/1 [==============================] - 0s 64ms/step - loss: 0.2106 - accuracy: 0.9032 - val_loss: 0.2486 - val_accuracy: 0.8864\n",
            "Epoch 404/500\n",
            "1/1 [==============================] - 0s 60ms/step - loss: 0.2107 - accuracy: 0.9043 - val_loss: 0.2494 - val_accuracy: 0.8818\n",
            "Epoch 405/500\n",
            "1/1 [==============================] - 0s 48ms/step - loss: 0.2108 - accuracy: 0.9048 - val_loss: 0.2486 - val_accuracy: 0.8879\n",
            "Epoch 406/500\n",
            "1/1 [==============================] - 0s 48ms/step - loss: 0.2107 - accuracy: 0.9046 - val_loss: 0.2489 - val_accuracy: 0.8854\n",
            "Epoch 407/500\n",
            "1/1 [==============================] - 0s 58ms/step - loss: 0.2105 - accuracy: 0.9032 - val_loss: 0.2485 - val_accuracy: 0.8854\n",
            "Epoch 408/500\n",
            "1/1 [==============================] - 0s 51ms/step - loss: 0.2104 - accuracy: 0.9043 - val_loss: 0.2486 - val_accuracy: 0.8849\n",
            "Epoch 409/500\n",
            "1/1 [==============================] - 0s 56ms/step - loss: 0.2103 - accuracy: 0.9046 - val_loss: 0.2490 - val_accuracy: 0.8864\n",
            "Epoch 410/500\n",
            "1/1 [==============================] - 0s 51ms/step - loss: 0.2104 - accuracy: 0.9032 - val_loss: 0.2487 - val_accuracy: 0.8869\n",
            "Epoch 411/500\n",
            "1/1 [==============================] - 0s 51ms/step - loss: 0.2105 - accuracy: 0.9039 - val_loss: 0.2493 - val_accuracy: 0.8838\n",
            "Epoch 412/500\n",
            "1/1 [==============================] - 0s 54ms/step - loss: 0.2106 - accuracy: 0.9046 - val_loss: 0.2487 - val_accuracy: 0.8869\n",
            "Epoch 413/500\n",
            "1/1 [==============================] - 0s 56ms/step - loss: 0.2106 - accuracy: 0.9041 - val_loss: 0.2492 - val_accuracy: 0.8849\n",
            "Epoch 414/500\n",
            "1/1 [==============================] - 0s 47ms/step - loss: 0.2104 - accuracy: 0.9043 - val_loss: 0.2487 - val_accuracy: 0.8859\n",
            "Epoch 415/500\n",
            "1/1 [==============================] - 0s 57ms/step - loss: 0.2103 - accuracy: 0.9039 - val_loss: 0.2487 - val_accuracy: 0.8849\n",
            "Epoch 416/500\n",
            "1/1 [==============================] - 0s 49ms/step - loss: 0.2102 - accuracy: 0.9059 - val_loss: 0.2488 - val_accuracy: 0.8859\n",
            "Epoch 417/500\n",
            "1/1 [==============================] - 0s 53ms/step - loss: 0.2102 - accuracy: 0.9035 - val_loss: 0.2486 - val_accuracy: 0.8869\n",
            "Epoch 418/500\n",
            "1/1 [==============================] - 0s 50ms/step - loss: 0.2103 - accuracy: 0.9039 - val_loss: 0.2492 - val_accuracy: 0.8859\n",
            "Epoch 419/500\n",
            "1/1 [==============================] - 0s 55ms/step - loss: 0.2103 - accuracy: 0.9035 - val_loss: 0.2488 - val_accuracy: 0.8859\n",
            "Epoch 420/500\n",
            "1/1 [==============================] - 0s 53ms/step - loss: 0.2103 - accuracy: 0.9041 - val_loss: 0.2493 - val_accuracy: 0.8854\n",
            "Epoch 421/500\n",
            "1/1 [==============================] - 0s 47ms/step - loss: 0.2103 - accuracy: 0.9048 - val_loss: 0.2489 - val_accuracy: 0.8864\n",
            "Epoch 422/500\n",
            "1/1 [==============================] - 0s 43ms/step - loss: 0.2102 - accuracy: 0.9050 - val_loss: 0.2490 - val_accuracy: 0.8859\n",
            "Epoch 423/500\n",
            "1/1 [==============================] - 0s 51ms/step - loss: 0.2101 - accuracy: 0.9054 - val_loss: 0.2489 - val_accuracy: 0.8859\n",
            "Epoch 424/500\n",
            "1/1 [==============================] - 0s 45ms/step - loss: 0.2101 - accuracy: 0.9057 - val_loss: 0.2489 - val_accuracy: 0.8854\n",
            "Epoch 425/500\n",
            "1/1 [==============================] - 0s 50ms/step - loss: 0.2101 - accuracy: 0.9048 - val_loss: 0.2493 - val_accuracy: 0.8843\n",
            "Epoch 426/500\n",
            "1/1 [==============================] - 0s 49ms/step - loss: 0.2102 - accuracy: 0.9039 - val_loss: 0.2489 - val_accuracy: 0.8859\n",
            "Epoch 427/500\n",
            "1/1 [==============================] - 0s 67ms/step - loss: 0.2102 - accuracy: 0.9030 - val_loss: 0.2494 - val_accuracy: 0.8849\n",
            "Epoch 428/500\n",
            "1/1 [==============================] - 0s 59ms/step - loss: 0.2103 - accuracy: 0.9052 - val_loss: 0.2490 - val_accuracy: 0.8864\n",
            "Epoch 429/500\n",
            "1/1 [==============================] - 0s 53ms/step - loss: 0.2102 - accuracy: 0.9039 - val_loss: 0.2493 - val_accuracy: 0.8859\n",
            "Epoch 430/500\n",
            "1/1 [==============================] - 0s 72ms/step - loss: 0.2101 - accuracy: 0.9037 - val_loss: 0.2491 - val_accuracy: 0.8859\n",
            "Epoch 431/500\n",
            "1/1 [==============================] - 0s 50ms/step - loss: 0.2100 - accuracy: 0.9057 - val_loss: 0.2490 - val_accuracy: 0.8854\n",
            "Epoch 432/500\n",
            "1/1 [==============================] - 0s 51ms/step - loss: 0.2100 - accuracy: 0.9039 - val_loss: 0.2493 - val_accuracy: 0.8869\n",
            "Epoch 433/500\n",
            "1/1 [==============================] - 0s 56ms/step - loss: 0.2101 - accuracy: 0.9046 - val_loss: 0.2491 - val_accuracy: 0.8864\n",
            "Epoch 434/500\n",
            "1/1 [==============================] - 0s 48ms/step - loss: 0.2102 - accuracy: 0.9035 - val_loss: 0.2498 - val_accuracy: 0.8823\n",
            "Epoch 435/500\n",
            "1/1 [==============================] - 0s 49ms/step - loss: 0.2102 - accuracy: 0.9043 - val_loss: 0.2493 - val_accuracy: 0.8864\n",
            "Epoch 436/500\n",
            "1/1 [==============================] - 0s 45ms/step - loss: 0.2102 - accuracy: 0.9037 - val_loss: 0.2497 - val_accuracy: 0.8854\n",
            "Epoch 437/500\n",
            "1/1 [==============================] - 0s 54ms/step - loss: 0.2100 - accuracy: 0.9035 - val_loss: 0.2492 - val_accuracy: 0.8843\n",
            "Epoch 438/500\n",
            "1/1 [==============================] - 0s 56ms/step - loss: 0.2099 - accuracy: 0.9050 - val_loss: 0.2491 - val_accuracy: 0.8859\n",
            "Epoch 439/500\n",
            "1/1 [==============================] - 0s 62ms/step - loss: 0.2099 - accuracy: 0.9039 - val_loss: 0.2496 - val_accuracy: 0.8849\n",
            "Epoch 440/500\n",
            "1/1 [==============================] - 0s 51ms/step - loss: 0.2100 - accuracy: 0.9032 - val_loss: 0.2493 - val_accuracy: 0.8859\n",
            "Epoch 441/500\n",
            "1/1 [==============================] - 0s 46ms/step - loss: 0.2102 - accuracy: 0.9039 - val_loss: 0.2501 - val_accuracy: 0.8823\n",
            "Epoch 442/500\n",
            "1/1 [==============================] - 0s 52ms/step - loss: 0.2103 - accuracy: 0.9050 - val_loss: 0.2493 - val_accuracy: 0.8879\n",
            "Epoch 443/500\n",
            "1/1 [==============================] - 0s 46ms/step - loss: 0.2101 - accuracy: 0.9035 - val_loss: 0.2496 - val_accuracy: 0.8864\n",
            "Epoch 444/500\n",
            "1/1 [==============================] - 0s 52ms/step - loss: 0.2099 - accuracy: 0.9068 - val_loss: 0.2493 - val_accuracy: 0.8854\n",
            "Epoch 445/500\n",
            "1/1 [==============================] - 0s 50ms/step - loss: 0.2098 - accuracy: 0.9059 - val_loss: 0.2493 - val_accuracy: 0.8854\n",
            "Epoch 446/500\n",
            "1/1 [==============================] - 0s 50ms/step - loss: 0.2098 - accuracy: 0.9041 - val_loss: 0.2499 - val_accuracy: 0.8833\n",
            "Epoch 447/500\n",
            "1/1 [==============================] - 0s 53ms/step - loss: 0.2100 - accuracy: 0.9048 - val_loss: 0.2494 - val_accuracy: 0.8864\n",
            "Epoch 448/500\n",
            "1/1 [==============================] - 0s 58ms/step - loss: 0.2100 - accuracy: 0.9039 - val_loss: 0.2498 - val_accuracy: 0.8859\n",
            "Epoch 449/500\n",
            "1/1 [==============================] - 0s 50ms/step - loss: 0.2099 - accuracy: 0.9032 - val_loss: 0.2494 - val_accuracy: 0.8864\n",
            "Epoch 450/500\n",
            "1/1 [==============================] - 0s 48ms/step - loss: 0.2097 - accuracy: 0.9041 - val_loss: 0.2495 - val_accuracy: 0.8869\n",
            "Epoch 451/500\n",
            "1/1 [==============================] - 0s 47ms/step - loss: 0.2097 - accuracy: 0.9057 - val_loss: 0.2498 - val_accuracy: 0.8859\n",
            "Epoch 452/500\n",
            "1/1 [==============================] - 0s 52ms/step - loss: 0.2097 - accuracy: 0.9065 - val_loss: 0.2495 - val_accuracy: 0.8854\n",
            "Epoch 453/500\n",
            "1/1 [==============================] - 0s 49ms/step - loss: 0.2098 - accuracy: 0.9043 - val_loss: 0.2501 - val_accuracy: 0.8854\n",
            "Epoch 454/500\n",
            "1/1 [==============================] - 0s 45ms/step - loss: 0.2099 - accuracy: 0.9028 - val_loss: 0.2497 - val_accuracy: 0.8864\n",
            "Epoch 455/500\n",
            "1/1 [==============================] - 0s 54ms/step - loss: 0.2098 - accuracy: 0.9046 - val_loss: 0.2500 - val_accuracy: 0.8854\n",
            "Epoch 456/500\n",
            "1/1 [==============================] - 0s 48ms/step - loss: 0.2097 - accuracy: 0.9035 - val_loss: 0.2496 - val_accuracy: 0.8864\n",
            "Epoch 457/500\n",
            "1/1 [==============================] - 0s 62ms/step - loss: 0.2096 - accuracy: 0.9057 - val_loss: 0.2495 - val_accuracy: 0.8869\n",
            "Epoch 458/500\n",
            "1/1 [==============================] - 0s 47ms/step - loss: 0.2096 - accuracy: 0.9046 - val_loss: 0.2497 - val_accuracy: 0.8854\n",
            "Epoch 459/500\n",
            "1/1 [==============================] - 0s 47ms/step - loss: 0.2097 - accuracy: 0.9032 - val_loss: 0.2495 - val_accuracy: 0.8859\n",
            "Epoch 460/500\n",
            "1/1 [==============================] - 0s 50ms/step - loss: 0.2097 - accuracy: 0.9043 - val_loss: 0.2500 - val_accuracy: 0.8843\n",
            "Epoch 461/500\n",
            "1/1 [==============================] - 0s 54ms/step - loss: 0.2097 - accuracy: 0.9052 - val_loss: 0.2497 - val_accuracy: 0.8854\n",
            "Epoch 462/500\n",
            "1/1 [==============================] - 0s 47ms/step - loss: 0.2097 - accuracy: 0.9046 - val_loss: 0.2499 - val_accuracy: 0.8843\n",
            "Epoch 463/500\n",
            "1/1 [==============================] - 0s 50ms/step - loss: 0.2096 - accuracy: 0.9052 - val_loss: 0.2498 - val_accuracy: 0.8854\n",
            "Epoch 464/500\n",
            "1/1 [==============================] - 0s 52ms/step - loss: 0.2095 - accuracy: 0.9057 - val_loss: 0.2498 - val_accuracy: 0.8859\n",
            "Epoch 465/500\n",
            "1/1 [==============================] - 0s 52ms/step - loss: 0.2095 - accuracy: 0.9043 - val_loss: 0.2501 - val_accuracy: 0.8849\n",
            "Epoch 466/500\n",
            "1/1 [==============================] - 0s 61ms/step - loss: 0.2096 - accuracy: 0.9046 - val_loss: 0.2497 - val_accuracy: 0.8864\n",
            "Epoch 467/500\n",
            "1/1 [==============================] - 0s 57ms/step - loss: 0.2097 - accuracy: 0.9046 - val_loss: 0.2501 - val_accuracy: 0.8843\n",
            "Epoch 468/500\n",
            "1/1 [==============================] - 0s 54ms/step - loss: 0.2097 - accuracy: 0.9043 - val_loss: 0.2496 - val_accuracy: 0.8854\n",
            "Epoch 469/500\n",
            "1/1 [==============================] - 0s 61ms/step - loss: 0.2096 - accuracy: 0.9041 - val_loss: 0.2500 - val_accuracy: 0.8854\n",
            "Epoch 470/500\n",
            "1/1 [==============================] - 0s 48ms/step - loss: 0.2095 - accuracy: 0.9070 - val_loss: 0.2499 - val_accuracy: 0.8849\n",
            "Epoch 471/500\n",
            "1/1 [==============================] - 0s 57ms/step - loss: 0.2094 - accuracy: 0.9059 - val_loss: 0.2500 - val_accuracy: 0.8859\n",
            "Epoch 472/500\n",
            "1/1 [==============================] - 0s 50ms/step - loss: 0.2094 - accuracy: 0.9059 - val_loss: 0.2502 - val_accuracy: 0.8833\n",
            "Epoch 473/500\n",
            "1/1 [==============================] - 0s 48ms/step - loss: 0.2094 - accuracy: 0.9039 - val_loss: 0.2499 - val_accuracy: 0.8854\n",
            "Epoch 474/500\n",
            "1/1 [==============================] - 0s 53ms/step - loss: 0.2095 - accuracy: 0.9041 - val_loss: 0.2503 - val_accuracy: 0.8869\n",
            "Epoch 475/500\n",
            "1/1 [==============================] - 0s 51ms/step - loss: 0.2095 - accuracy: 0.9050 - val_loss: 0.2501 - val_accuracy: 0.8854\n",
            "Epoch 476/500\n",
            "1/1 [==============================] - 0s 43ms/step - loss: 0.2095 - accuracy: 0.9039 - val_loss: 0.2505 - val_accuracy: 0.8833\n",
            "Epoch 477/500\n",
            "1/1 [==============================] - 0s 50ms/step - loss: 0.2095 - accuracy: 0.9046 - val_loss: 0.2500 - val_accuracy: 0.8854\n",
            "Epoch 478/500\n",
            "1/1 [==============================] - 0s 52ms/step - loss: 0.2094 - accuracy: 0.9041 - val_loss: 0.2501 - val_accuracy: 0.8859\n",
            "Epoch 479/500\n",
            "1/1 [==============================] - 0s 49ms/step - loss: 0.2093 - accuracy: 0.9061 - val_loss: 0.2500 - val_accuracy: 0.8854\n",
            "Epoch 480/500\n",
            "1/1 [==============================] - 0s 46ms/step - loss: 0.2093 - accuracy: 0.9046 - val_loss: 0.2502 - val_accuracy: 0.8864\n",
            "Epoch 481/500\n",
            "1/1 [==============================] - 0s 55ms/step - loss: 0.2093 - accuracy: 0.9046 - val_loss: 0.2503 - val_accuracy: 0.8854\n",
            "Epoch 482/500\n",
            "1/1 [==============================] - 0s 54ms/step - loss: 0.2092 - accuracy: 0.9043 - val_loss: 0.2503 - val_accuracy: 0.8859\n",
            "Epoch 483/500\n",
            "1/1 [==============================] - 0s 59ms/step - loss: 0.2092 - accuracy: 0.9061 - val_loss: 0.2505 - val_accuracy: 0.8849\n",
            "Epoch 484/500\n",
            "1/1 [==============================] - 0s 58ms/step - loss: 0.2092 - accuracy: 0.9059 - val_loss: 0.2502 - val_accuracy: 0.8859\n",
            "Epoch 485/500\n",
            "1/1 [==============================] - 0s 50ms/step - loss: 0.2092 - accuracy: 0.9043 - val_loss: 0.2504 - val_accuracy: 0.8849\n",
            "Epoch 486/500\n",
            "1/1 [==============================] - 0s 55ms/step - loss: 0.2092 - accuracy: 0.9054 - val_loss: 0.2501 - val_accuracy: 0.8854\n",
            "Epoch 487/500\n",
            "1/1 [==============================] - 0s 48ms/step - loss: 0.2092 - accuracy: 0.9048 - val_loss: 0.2504 - val_accuracy: 0.8859\n",
            "Epoch 488/500\n",
            "1/1 [==============================] - 0s 55ms/step - loss: 0.2092 - accuracy: 0.9063 - val_loss: 0.2502 - val_accuracy: 0.8854\n",
            "Epoch 489/500\n",
            "1/1 [==============================] - 0s 56ms/step - loss: 0.2093 - accuracy: 0.9041 - val_loss: 0.2506 - val_accuracy: 0.8859\n",
            "Epoch 490/500\n",
            "1/1 [==============================] - 0s 46ms/step - loss: 0.2092 - accuracy: 0.9061 - val_loss: 0.2504 - val_accuracy: 0.8859\n",
            "Epoch 491/500\n",
            "1/1 [==============================] - 0s 55ms/step - loss: 0.2092 - accuracy: 0.9048 - val_loss: 0.2507 - val_accuracy: 0.8859\n",
            "Epoch 492/500\n",
            "1/1 [==============================] - 0s 47ms/step - loss: 0.2091 - accuracy: 0.9059 - val_loss: 0.2505 - val_accuracy: 0.8854\n",
            "Epoch 493/500\n",
            "1/1 [==============================] - 0s 48ms/step - loss: 0.2092 - accuracy: 0.9046 - val_loss: 0.2507 - val_accuracy: 0.8833\n",
            "Epoch 494/500\n",
            "1/1 [==============================] - 0s 58ms/step - loss: 0.2091 - accuracy: 0.9059 - val_loss: 0.2505 - val_accuracy: 0.8854\n",
            "Epoch 495/500\n",
            "1/1 [==============================] - 0s 50ms/step - loss: 0.2091 - accuracy: 0.9041 - val_loss: 0.2509 - val_accuracy: 0.8849\n",
            "Epoch 496/500\n",
            "1/1 [==============================] - 0s 53ms/step - loss: 0.2092 - accuracy: 0.9048 - val_loss: 0.2505 - val_accuracy: 0.8849\n",
            "Epoch 497/500\n",
            "1/1 [==============================] - 0s 58ms/step - loss: 0.2092 - accuracy: 0.9039 - val_loss: 0.2510 - val_accuracy: 0.8828\n",
            "Epoch 498/500\n",
            "1/1 [==============================] - 0s 54ms/step - loss: 0.2092 - accuracy: 0.9043 - val_loss: 0.2505 - val_accuracy: 0.8874\n",
            "Epoch 499/500\n",
            "1/1 [==============================] - 0s 54ms/step - loss: 0.2092 - accuracy: 0.9046 - val_loss: 0.2510 - val_accuracy: 0.8843\n",
            "Epoch 500/500\n",
            "1/1 [==============================] - 0s 52ms/step - loss: 0.2091 - accuracy: 0.9043 - val_loss: 0.2506 - val_accuracy: 0.8864\n"
          ],
          "name": "stdout"
        },
        {
          "output_type": "execute_result",
          "data": {
            "text/plain": [
              "0.9043440222740173"
            ]
          },
          "metadata": {
            "tags": []
          },
          "execution_count": 42
        }
      ]
    },
    {
      "cell_type": "code",
      "metadata": {
        "colab": {
          "base_uri": "https://localhost:8080/"
        },
        "id": "ld6f_-5_g6s8",
        "outputId": "5ca25d7d-1389-4474-bf58-323f4298695f"
      },
      "source": [
        "_, train_acc = model.evaluate(X_train, y_train, verbose=0)\n",
        "_, valid_acc = model.evaluate(X_validate, y_validate, verbose=0)\n",
        "print('Train: %.3f, Valid: %.3f' % (train_acc, valid_acc))"
      ],
      "execution_count": 43,
      "outputs": [
        {
          "output_type": "stream",
          "text": [
            "Train: 0.905, Valid: 0.886\n"
          ],
          "name": "stdout"
        }
      ]
    },
    {
      "cell_type": "markdown",
      "metadata": {
        "id": "wvxy8A398cug"
      },
      "source": [
        "## -- Plot Model"
      ]
    },
    {
      "cell_type": "code",
      "metadata": {
        "colab": {
          "base_uri": "https://localhost:8080/",
          "height": 376
        },
        "id": "Q_lRLXUD7ui4",
        "outputId": "aea4ab59-04b7-42a7-bd8e-540bc1d1c28a"
      },
      "source": [
        "import matplotlib.pyplot as plt\n",
        "plt.plot(history.history['accuracy'], color='red')\n",
        "plt.plot(history.history['val_accuracy'], color='blue')\n",
        "plt.ylim(top=1)\n",
        "plt.title('Akurasi Model')\n",
        "plt.ylabel('accuracy')\n",
        "plt.xlabel('epoch')\n",
        "plt.legend(['train', 'test'], loc='upper left')\n",
        "plt.show()"
      ],
      "execution_count": 44,
      "outputs": [
        {
          "output_type": "display_data",
          "data": {
            "image/png": "[encoded data removed]",
            "text/plain": [
              "<Figure size 576x396 with 1 Axes>"
            ]
          },
          "metadata": {
            "tags": []
          }
        }
      ]
    },
    {
      "cell_type": "code",
      "metadata": {
        "colab": {
          "base_uri": "https://localhost:8080/",
          "height": 376
        },
        "id": "ja2Fijxj7ui6",
        "outputId": "c6d439be-1481-41b4-998a-fc593a7ce574"
      },
      "source": [
        "plt.plot(history.history['loss'], color='red')\n",
        "plt.plot(history.history['val_loss'], color='blue')\n",
        "plt.title('Loss Model')\n",
        "plt.ylabel('loss')\n",
        "plt.xlabel('epoch')\n",
        "plt.legend(['train', 'test'], loc='upper left')\n",
        "plt.show()"
      ],
      "execution_count": 45,
      "outputs": [
        {
          "output_type": "display_data",
          "data": {
            "image/png": "[encoded data removed]",
            "text/plain": [
              "<Figure size 576x396 with 1 Axes>"
            ]
          },
          "metadata": {
            "tags": []
          }
        }
      ]
    },
    {
      "cell_type": "markdown",
      "metadata": {
        "id": "zkcw99az8ged"
      },
      "source": [
        "## -- Predict and Evaluate Model"
      ]
    },
    {
      "cell_type": "code",
      "metadata": {
        "id": "niAa2Ht5eAv-",
        "colab": {
          "base_uri": "https://localhost:8080/"
        },
        "outputId": "fcd5dddd-1259-4af9-e677-45af807b3b5e"
      },
      "source": [
        "predictions = model.predict(X_validate)"
      ],
      "execution_count": 46,
      "outputs": [
        {
          "output_type": "stream",
          "text": [
            "WARNING:tensorflow:Model was constructed with shape (None, 6512, 21) for input KerasTensor(type_spec=TensorSpec(shape=(None, 6512, 21), dtype=tf.float32, name='dense_input'), name='dense_input', description=\"created by layer 'dense_input'\"), but it was called on an input with incompatible shape (None, 21).\n"
          ],
          "name": "stdout"
        }
      ]
    },
    {
      "cell_type": "code",
      "metadata": {
        "colab": {
          "base_uri": "https://localhost:8080/",
          "height": 402
        },
        "id": "5E7kpwVquCHA",
        "outputId": "9fd0a1a9-b77a-4dcf-f7d0-a08489b9244c"
      },
      "source": [
        "y_validate"
      ],
      "execution_count": 47,
      "outputs": [
        {
          "output_type": "execute_result",
          "data": {
            "text/html": [
              "<div>\n",
              "<style scoped>\n",
              "    .dataframe tbody tr th:only-of-type {\n",
              "        vertical-align: middle;\n",
              "    }\n",
              "\n",
              "    .dataframe tbody tr th {\n",
              "        vertical-align: top;\n",
              "    }\n",
              "\n",
              "    .dataframe thead th {\n",
              "        text-align: right;\n",
              "    }\n",
              "</style>\n",
              "<table border=\"1\" class=\"dataframe\">\n",
              "  <thead>\n",
              "    <tr style=\"text-align: right;\">\n",
              "      <th></th>\n",
              "      <th>sars_0</th>\n",
              "      <th>sars_1</th>\n",
              "    </tr>\n",
              "  </thead>\n",
              "  <tbody>\n",
              "    <tr>\n",
              "      <th>510</th>\n",
              "      <td>1</td>\n",
              "      <td>0</td>\n",
              "    </tr>\n",
              "    <tr>\n",
              "      <th>1945</th>\n",
              "      <td>1</td>\n",
              "      <td>0</td>\n",
              "    </tr>\n",
              "    <tr>\n",
              "      <th>2068</th>\n",
              "      <td>1</td>\n",
              "      <td>0</td>\n",
              "    </tr>\n",
              "    <tr>\n",
              "      <th>1299</th>\n",
              "      <td>1</td>\n",
              "      <td>0</td>\n",
              "    </tr>\n",
              "    <tr>\n",
              "      <th>2922</th>\n",
              "      <td>0</td>\n",
              "      <td>1</td>\n",
              "    </tr>\n",
              "    <tr>\n",
              "      <th>...</th>\n",
              "      <td>...</td>\n",
              "      <td>...</td>\n",
              "    </tr>\n",
              "    <tr>\n",
              "      <th>6276</th>\n",
              "      <td>1</td>\n",
              "      <td>0</td>\n",
              "    </tr>\n",
              "    <tr>\n",
              "      <th>5795</th>\n",
              "      <td>1</td>\n",
              "      <td>0</td>\n",
              "    </tr>\n",
              "    <tr>\n",
              "      <th>6330</th>\n",
              "      <td>0</td>\n",
              "      <td>1</td>\n",
              "    </tr>\n",
              "    <tr>\n",
              "      <th>1005</th>\n",
              "      <td>1</td>\n",
              "      <td>0</td>\n",
              "    </tr>\n",
              "    <tr>\n",
              "      <th>1439</th>\n",
              "      <td>1</td>\n",
              "      <td>0</td>\n",
              "    </tr>\n",
              "  </tbody>\n",
              "</table>\n",
              "<p>1954 rows × 2 columns</p>\n",
              "</div>"
            ],
            "text/plain": [
              "      sars_0  sars_1\n",
              "510        1       0\n",
              "1945       1       0\n",
              "2068       1       0\n",
              "1299       1       0\n",
              "2922       0       1\n",
              "...      ...     ...\n",
              "6276       1       0\n",
              "5795       1       0\n",
              "6330       0       1\n",
              "1005       1       0\n",
              "1439       1       0\n",
              "\n",
              "[1954 rows x 2 columns]"
            ]
          },
          "metadata": {
            "tags": []
          },
          "execution_count": 47
        }
      ]
    },
    {
      "cell_type": "code",
      "metadata": {
        "id": "54f_2ea-pMsU"
      },
      "source": [
        "y_pred = np.argmax(predictions, axis=1)\n",
        "y_validate = np.argmax(y_validate.values, axis=1)"
      ],
      "execution_count": 48,
      "outputs": []
    },
    {
      "cell_type": "code",
      "metadata": {
        "colab": {
          "base_uri": "https://localhost:8080/"
        },
        "id": "HGc5whT5uJtr",
        "outputId": "0adab49a-9057-4e08-ad0c-0ebc617fff34"
      },
      "source": [
        "y_validate"
      ],
      "execution_count": 49,
      "outputs": [
        {
          "output_type": "execute_result",
          "data": {
            "text/plain": [
              "array([0, 0, 0, ..., 1, 0, 0])"
            ]
          },
          "metadata": {
            "tags": []
          },
          "execution_count": 49
        }
      ]
    },
    {
      "cell_type": "code",
      "metadata": {
        "id": "XtIiFjG8jf2E",
        "colab": {
          "base_uri": "https://localhost:8080/"
        },
        "outputId": "3cc01a4f-129b-470e-96e1-e3bc29a3df8a"
      },
      "source": [
        "from sklearn.metrics import accuracy_score\n",
        "\n",
        "accuracy_score(y_validate, y_pred)"
      ],
      "execution_count": 50,
      "outputs": [
        {
          "output_type": "execute_result",
          "data": {
            "text/plain": [
              "0.8863868986693961"
            ]
          },
          "metadata": {
            "tags": []
          },
          "execution_count": 50
        }
      ]
    },
    {
      "cell_type": "code",
      "metadata": {
        "id": "rAFjFUnPVLat"
      },
      "source": [
        "from sklearn import metrics\n",
        "from sklearn.metrics import f1_score, confusion_matrix, accuracy_score"
      ],
      "execution_count": 51,
      "outputs": []
    },
    {
      "cell_type": "code",
      "metadata": {
        "colab": {
          "base_uri": "https://localhost:8080/",
          "height": 382
        },
        "id": "lPExTeQ2VLau",
        "outputId": "0cf80597-ad3b-40d9-a5d6-34c696146871"
      },
      "source": [
        "ac= accuracy_score(y_validate, y_pred)\n",
        "print('Accuracy is:', ac)\n",
        "cm = confusion_matrix(y_validate, y_pred)\n",
        "sns.heatmap(cm,annot=True,fmt='d')"
      ],
      "execution_count": 52,
      "outputs": [
        {
          "output_type": "stream",
          "text": [
            "Accuracy is: 0.8863868986693961\n"
          ],
          "name": "stdout"
        },
        {
          "output_type": "execute_result",
          "data": {
            "text/plain": [
              "<matplotlib.axes._subplots.AxesSubplot at 0x7f7e3d3848d0>"
            ]
          },
          "metadata": {
            "tags": []
          },
          "execution_count": 52
        },
        {
          "output_type": "display_data",
          "data": {
            "image/png": "[encoded data removed]",
            "text/plain": [
              "<Figure size 576x396 with 2 Axes>"
            ]
          },
          "metadata": {
            "tags": []
          }
        }
      ]
    },
    {
      "cell_type": "code",
      "metadata": {
        "id": "8oOol1PSVLav"
      },
      "source": [
        "from sklearn.metrics import classification_report"
      ],
      "execution_count": 53,
      "outputs": []
    },
    {
      "cell_type": "code",
      "metadata": {
        "colab": {
          "base_uri": "https://localhost:8080/",
          "height": 106
        },
        "id": "in4WPTUL6I_S",
        "outputId": "1f8ca700-9bf8-4be8-d176-b74918a28be0"
      },
      "source": [
        "from sklearn.metrics import classification_report, confusion_matrix\n",
        "cm = np.array(confusion_matrix(y_validate, y_pred, labels=[1,0])) # positive-1, suspected-0\n",
        "confusion = pd.DataFrame(cm, index=['is_covid', 'is_suspected'],\n",
        "                         columns=['predicted_covid', 'predicted_suspected'])\n",
        "confusion"
      ],
      "execution_count": 54,
      "outputs": [
        {
          "output_type": "execute_result",
          "data": {
            "text/html": [
              "<div>\n",
              "<style scoped>\n",
              "    .dataframe tbody tr th:only-of-type {\n",
              "        vertical-align: middle;\n",
              "    }\n",
              "\n",
              "    .dataframe tbody tr th {\n",
              "        vertical-align: top;\n",
              "    }\n",
              "\n",
              "    .dataframe thead th {\n",
              "        text-align: right;\n",
              "    }\n",
              "</style>\n",
              "<table border=\"1\" class=\"dataframe\">\n",
              "  <thead>\n",
              "    <tr style=\"text-align: right;\">\n",
              "      <th></th>\n",
              "      <th>predicted_covid</th>\n",
              "      <th>predicted_suspected</th>\n",
              "    </tr>\n",
              "  </thead>\n",
              "  <tbody>\n",
              "    <tr>\n",
              "      <th>is_covid</th>\n",
              "      <td>294</td>\n",
              "      <td>178</td>\n",
              "    </tr>\n",
              "    <tr>\n",
              "      <th>is_suspected</th>\n",
              "      <td>44</td>\n",
              "      <td>1438</td>\n",
              "    </tr>\n",
              "  </tbody>\n",
              "</table>\n",
              "</div>"
            ],
            "text/plain": [
              "              predicted_covid  predicted_suspected\n",
              "is_covid                  294                  178\n",
              "is_suspected               44                 1438"
            ]
          },
          "metadata": {
            "tags": []
          },
          "execution_count": 54
        }
      ]
    },
    {
      "cell_type": "code",
      "metadata": {
        "colab": {
          "base_uri": "https://localhost:8080/"
        },
        "id": "UvRtCGorVLax",
        "outputId": "fff59503-68a8-4e2a-d035-b224b9ef959f"
      },
      "source": [
        "print('Acc',classification_report(y_validate, y_pred))"
      ],
      "execution_count": 55,
      "outputs": [
        {
          "output_type": "stream",
          "text": [
            "Acc               precision    recall  f1-score   support\n",
            "\n",
            "           0       0.89      0.97      0.93      1482\n",
            "           1       0.87      0.62      0.73       472\n",
            "\n",
            "    accuracy                           0.89      1954\n",
            "   macro avg       0.88      0.80      0.83      1954\n",
            "weighted avg       0.89      0.89      0.88      1954\n",
            "\n"
          ],
          "name": "stdout"
        }
      ]
    },
    {
      "cell_type": "markdown",
      "metadata": {
        "id": "FM1kWD-l8mIj"
      },
      "source": [
        "## -- Save Model\n"
      ]
    },
    {
      "cell_type": "code",
      "metadata": {
        "id": "7zcflMOu3cKz",
        "colab": {
          "base_uri": "https://localhost:8080/"
        },
        "outputId": "132bcf51-bb3f-4319-a652-d410f9caaa21"
      },
      "source": [
        "import tempfile\n",
        "MODEL_DIR = tempfile.gettempdir()\n",
        "\n",
        "version = 1\n",
        "\n",
        "export_path = os.path.join(MODEL_DIR, str(version))\n",
        "\n",
        "if os.path.isdir(export_path):\n",
        "    print('\\nAlready saved a model, cleaning up\\n')\n",
        "    !rm -r {export_path}\n",
        "\n",
        "model.save(export_path, save_format=\"tf\")\n",
        "\n",
        "print('\\nexport_path = {}'.format(export_path))\n",
        "!ls -l {export_path}"
      ],
      "execution_count": 56,
      "outputs": [
        {
          "output_type": "stream",
          "text": [
            "INFO:tensorflow:Assets written to: /tmp/1/assets\n",
            "\n",
            "export_path = /tmp/1\n",
            "total 200\n",
            "drwxr-xr-x 2 root root   4096 May 31 07:21 assets\n",
            "-rw-r--r-- 1 root root  10062 May 31 07:21 keras_metadata.pb\n",
            "-rw-r--r-- 1 root root 183314 May 31 07:21 saved_model.pb\n",
            "drwxr-xr-x 2 root root   4096 May 31 07:21 variables\n"
          ],
          "name": "stdout"
        }
      ]
    },
    {
      "cell_type": "code",
      "metadata": {
        "id": "xO-Z12V69djD"
      },
      "source": [
        "# Intialize the TFLite converter to load the SavedModel\n",
        "converter = tf.lite.TFLiteConverter.from_saved_model(export_path)\n",
        "\n",
        "# Set the optimization strategy for 'size' in the converter \n",
        "converter.optimizations = [tf.lite.Optimize.OPTIMIZE_FOR_SIZE]\n",
        "\n",
        "# Use the tool to finally convert the model\n",
        "tflite_model = converter.convert()\n",
        "\n",
        "# Write TFLite model\n",
        "tflite_model_file = 'covid_model_01.tflite'\n",
        "\n",
        "with open(tflite_model_file, \"wb\") as f:\n",
        "    f.write(tflite_model)\n",
        "\n",
        "with open('covid_labels_01.txt', 'w') as f:\n",
        "    f.write('\\n'.join(label_types))"
      ],
      "execution_count": 57,
      "outputs": []
    },
    {
      "cell_type": "code",
      "metadata": {
        "id": "WgaqF80YBQIq",
        "colab": {
          "base_uri": "https://localhost:8080/",
          "height": 17
        },
        "outputId": "7f0b8fa7-7c5d-4deb-ed50-f89354455f93"
      },
      "source": [
        "try:\n",
        "    files.download('covid_model_01.tflite')\n",
        "    files.download('covid_labels_01.txt')\n",
        "except:\n",
        "    pass"
      ],
      "execution_count": 58,
      "outputs": [
        {
          "output_type": "display_data",
          "data": {
            "application/javascript": [
              "\n",
              "    async function download(id, filename, size) {\n",
              "      if (!google.colab.kernel.accessAllowed) {\n",
              "        return;\n",
              "      }\n",
              "      const div = document.createElement('div');\n",
              "      const label = document.createElement('label');\n",
              "      label.textContent = `Downloading \"${filename}\": `;\n",
              "      div.appendChild(label);\n",
              "      const progress = document.createElement('progress');\n",
              "      progress.max = size;\n",
              "      div.appendChild(progress);\n",
              "      document.body.appendChild(div);\n",
              "\n",
              "      const buffers = [];\n",
              "      let downloaded = 0;\n",
              "\n",
              "      const channel = await google.colab.kernel.comms.open(id);\n",
              "      // Send a message to notify the kernel that we're ready.\n",
              "      channel.send({})\n",
              "\n",
              "      for await (const message of channel.messages) {\n",
              "        // Send a message to notify the kernel that we're ready.\n",
              "        channel.send({})\n",
              "        if (message.buffers) {\n",
              "          for (const buffer of message.buffers) {\n",
              "            buffers.push(buffer);\n",
              "            downloaded += buffer.byteLength;\n",
              "            progress.value = downloaded;\n",
              "          }\n",
              "        }\n",
              "      }\n",
              "      const blob = new Blob(buffers, {type: 'application/binary'});\n",
              "      const a = document.createElement('a');\n",
              "      a.href = window.URL.createObjectURL(blob);\n",
              "      a.download = filename;\n",
              "      div.appendChild(a);\n",
              "      a.click();\n",
              "      div.remove();\n",
              "    }\n",
              "  "
            ],
            "text/plain": [
              "<IPython.core.display.Javascript object>"
            ]
          },
          "metadata": {
            "tags": []
          }
        },
        {
          "output_type": "display_data",
          "data": {
            "application/javascript": [
              "download(\"download_80755ed4-e8d2-4c7d-b988-92469d5ac435\", \"covid_model_01.tflite\", 23808)"
            ],
            "text/plain": [
              "<IPython.core.display.Javascript object>"
            ]
          },
          "metadata": {
            "tags": []
          }
        },
        {
          "output_type": "display_data",
          "data": {
            "application/javascript": [
              "\n",
              "    async function download(id, filename, size) {\n",
              "      if (!google.colab.kernel.accessAllowed) {\n",
              "        return;\n",
              "      }\n",
              "      const div = document.createElement('div');\n",
              "      const label = document.createElement('label');\n",
              "      label.textContent = `Downloading \"${filename}\": `;\n",
              "      div.appendChild(label);\n",
              "      const progress = document.createElement('progress');\n",
              "      progress.max = size;\n",
              "      div.appendChild(progress);\n",
              "      document.body.appendChild(div);\n",
              "\n",
              "      const buffers = [];\n",
              "      let downloaded = 0;\n",
              "\n",
              "      const channel = await google.colab.kernel.comms.open(id);\n",
              "      // Send a message to notify the kernel that we're ready.\n",
              "      channel.send({})\n",
              "\n",
              "      for await (const message of channel.messages) {\n",
              "        // Send a message to notify the kernel that we're ready.\n",
              "        channel.send({})\n",
              "        if (message.buffers) {\n",
              "          for (const buffer of message.buffers) {\n",
              "            buffers.push(buffer);\n",
              "            downloaded += buffer.byteLength;\n",
              "            progress.value = downloaded;\n",
              "          }\n",
              "        }\n",
              "      }\n",
              "      const blob = new Blob(buffers, {type: 'application/binary'});\n",
              "      const a = document.createElement('a');\n",
              "      a.href = window.URL.createObjectURL(blob);\n",
              "      a.download = filename;\n",
              "      div.appendChild(a);\n",
              "      a.click();\n",
              "      div.remove();\n",
              "    }\n",
              "  "
            ],
            "text/plain": [
              "<IPython.core.display.Javascript object>"
            ]
          },
          "metadata": {
            "tags": []
          }
        },
        {
          "output_type": "display_data",
          "data": {
            "application/javascript": [
              "download(\"download_a37ba026-7edb-48a4-bf0a-fd00c4a08311\", \"covid_labels_01.txt\", 18)"
            ],
            "text/plain": [
              "<IPython.core.display.Javascript object>"
            ]
          },
          "metadata": {
            "tags": []
          }
        }
      ]
    }
  ]
}
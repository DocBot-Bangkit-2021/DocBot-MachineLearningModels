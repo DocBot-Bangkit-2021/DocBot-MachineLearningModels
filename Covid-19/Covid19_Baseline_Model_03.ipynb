{
  "nbformat": 4,
  "nbformat_minor": 0,
  "metadata": {
    "colab": {
      "name": "Covid19_Baseline_Model_03.ipynb",
      "provenance": [],
      "collapsed_sections": []
    },
    "kernelspec": {
      "name": "python3",
      "display_name": "Python 3"
    },
    "language_info": {
      "name": "python"
    }
  },
  "cells": [
    {
      "cell_type": "markdown",
      "metadata": {
        "id": "view-in-github"
      },
      "source": [
        "<a href=\"https://colab.research.google.com/github/DocBot-Bangkit-2021/DocBot-MachineLearningModels/blob/main/Covid-19/Covid19_Baseline_Model_02.ipynb\" target=\"_parent\"><img src=\"https://colab.research.google.com/assets/colab-badge.svg\" alt=\"Open In Colab\"/></a>"
      ]
    },
    {
      "cell_type": "markdown",
      "metadata": {
        "id": "C77gV-UqcqmC"
      },
      "source": [
        "# **Import Library**"
      ]
    },
    {
      "cell_type": "code",
      "metadata": {
        "id": "Qomv9XbWWQbT"
      },
      "source": [
        "import numpy as np \n",
        "import pandas as pd \n",
        "import matplotlib.pyplot as plt \n",
        "import seaborn as sns\n",
        "import zipfile\n",
        "import os"
      ],
      "execution_count": null,
      "outputs": []
    },
    {
      "cell_type": "code",
      "metadata": {
        "id": "DFWela_L_K6W"
      },
      "source": [
        "plt.style.use('seaborn')"
      ],
      "execution_count": null,
      "outputs": []
    },
    {
      "cell_type": "markdown",
      "metadata": {
        "id": "P6Zvp9Zac5wV"
      },
      "source": [
        "# **Data Loading**\n",
        "\n",
        "[Early stage symptoms of COVID-19 patient's](https://www.kaggle.com/martuza/early-stage-symptoms-of-covid19-patients)\n",
        "\n",
        "### **A machine learning model to identify early stage symptoms of SARS-Cov-2 infected patients**\n",
        "\n",
        "### **Dataset description**\n",
        "\n",
        "The dataset contains 6,512 individuals with follows attributes :\n",
        "\n",
        "* `Gender` - (male, female)\n",
        "* `Age` - (Numeric)\n",
        "* `Fever` - (yes-1, no-0)\n",
        "* `Cough` - (yes-1, no-0)\n",
        "* `Runny nose` - (yes-1, no-0)\n",
        "* `Muscle soreness` - (yes-1, no-0)\n",
        "* `Pneumonia` - (yes-1, no-0)\n",
        "* `Diarrhea` - (yes-1, no-0)\n",
        "* `Lung infection` - (yes-1, no-0)\n",
        "* `Travel history` - (yes-1, no-0)\n",
        "* `Isolation treatment` - (yes-1, no-0)\n",
        "* `SARS-CoV-2 Positive` - (positive-1, suspected-0)\n",
        "\n",
        "### **Related paper**\n",
        "\n",
        "[A machine learning model to identify early stage symptoms of SARS-Cov-2 infected patients](https://www.ncbi.nlm.nih.gov/pmc/articles/PMC7305929/)\n",
        "\n",
        "Ahamad MM, Aktar S, Rashed-Al-Mahfuz M, et al. A machine learning model to identify early stage symptoms of SARS-Cov-2 infected patients. Expert Systems with Applications. 2020;160:113661. doi:10.1016/j.eswa.2020.113661"
      ]
    },
    {
      "cell_type": "markdown",
      "metadata": {
        "id": "cUA5wJ7cDjrK"
      },
      "source": [
        "## **Download dataset from Kaggle**\n",
        "\n",
        "How to get data from kaggle :\n",
        "https://www.kaggle.com/general/51898"
      ]
    },
    {
      "cell_type": "code",
      "metadata": {
        "id": "vvmLli7zBeTL",
        "colab": {
          "resources": {
            "http://localhost:8080/nbextensions/google.colab/files.js": {
              "data": "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",
              "ok": true,
              "headers": [
                [
                  "content-type",
                  "application/javascript"
                ]
              ],
              "status": 200,
              "status_text": ""
            }
          },
          "base_uri": "https://localhost:8080/",
          "height": 197
        },
        "outputId": "7c72a1f9-807c-4a19-aa09-9ef47c4e9a4a"
      },
      "source": [
        "# Upload kaggle.json \n",
        "print(\"Upload your kaggle.json\")\n",
        "from google.colab import files\n",
        "kaggle_file = files.upload()\n",
        "\n",
        "# Change file permission\n",
        "! chmod 600 kaggle.json \n",
        "# Check or make kaggle folder\n",
        "! (ls ~/.kaggle 2>/dev/null || mkdir ~/.kaggle)\n",
        "# Move kaggle.json to kaggle folder\n",
        "! mv kaggle.json ~/.kaggle/ && echo 'Done'\n",
        "# Download dataset from kaggle\n",
        "! kaggle datasets download -d martuza/early-stage-symptoms-of-covid19-patients\n",
        "\n",
        "# unzipping/extract data .zip\n",
        "# file_zip = 'early-stage-symptoms-of-covid19-patients.zip'\n",
        "# with zipfile.ZipFile(file_zip) as zip_file:\n",
        "#     zip_file.extractall('./sars-cov-2/')\n",
        "file_zip = 'early-stage-symptoms-of-covid19-patients.zip'\n",
        "zip_ref = zipfile.ZipFile(file_zip, 'r')\n",
        "zip_ref.extractall('./sars-cov-2/')\n",
        "zip_ref.close()\n",
        "\n",
        "print('Done')\n",
        "print(os.listdir('./sars-cov-2/'))"
      ],
      "execution_count": null,
      "outputs": [
        {
          "output_type": "stream",
          "text": [
            "Upload your kaggle.json\n"
          ],
          "name": "stdout"
        },
        {
          "output_type": "display_data",
          "data": {
            "text/html": [
              "\n",
              "     <input type=\"file\" id=\"files-5039a7b9-6e6b-43b4-bb04-8b1b03b73d81\" name=\"files[]\" multiple disabled\n",
              "        style=\"border:none\" />\n",
              "     <output id=\"result-5039a7b9-6e6b-43b4-bb04-8b1b03b73d81\">\n",
              "      Upload widget is only available when the cell has been executed in the\n",
              "      current browser session. Please rerun this cell to enable.\n",
              "      </output>\n",
              "      <script src=\"/nbextensions/google.colab/files.js\"></script> "
            ],
            "text/plain": [
              "<IPython.core.display.HTML object>"
            ]
          },
          "metadata": {
            "tags": []
          }
        },
        {
          "output_type": "stream",
          "text": [
            "Saving kaggle.json to kaggle.json\n",
            "Done\n",
            "Downloading early-stage-symptoms-of-covid19-patients.zip to /content\n",
            "  0% 0.00/15.5k [00:00<?, ?B/s]\n",
            "100% 15.5k/15.5k [00:00<00:00, 29.9MB/s]\n",
            "Done\n",
            "['covid_early_stage_symptoms.csv']\n"
          ],
          "name": "stdout"
        }
      ]
    },
    {
      "cell_type": "code",
      "metadata": {
        "id": "V6hYfYuXF7Fy",
        "colab": {
          "base_uri": "https://localhost:8080/",
          "height": 249
        },
        "outputId": "38f6ba42-3aa2-48cf-94db-134a10f5f7d8"
      },
      "source": [
        "import pandas as pd\n",
        "df = pd.read_csv('sars-cov-2/covid_early_stage_symptoms.csv')\n",
        "df.head()"
      ],
      "execution_count": null,
      "outputs": [
        {
          "output_type": "execute_result",
          "data": {
            "text/html": [
              "<div>\n",
              "<style scoped>\n",
              "    .dataframe tbody tr th:only-of-type {\n",
              "        vertical-align: middle;\n",
              "    }\n",
              "\n",
              "    .dataframe tbody tr th {\n",
              "        vertical-align: top;\n",
              "    }\n",
              "\n",
              "    .dataframe thead th {\n",
              "        text-align: right;\n",
              "    }\n",
              "</style>\n",
              "<table border=\"1\" class=\"dataframe\">\n",
              "  <thead>\n",
              "    <tr style=\"text-align: right;\">\n",
              "      <th></th>\n",
              "      <th>gender</th>\n",
              "      <th>age_year</th>\n",
              "      <th>fever</th>\n",
              "      <th>cough</th>\n",
              "      <th>runny_nose</th>\n",
              "      <th>muscle_soreness</th>\n",
              "      <th>pneumonia</th>\n",
              "      <th>diarrhea</th>\n",
              "      <th>lung_infection</th>\n",
              "      <th>travel_history</th>\n",
              "      <th>isolation_treatment</th>\n",
              "      <th>SARS-CoV-2 Positive</th>\n",
              "    </tr>\n",
              "  </thead>\n",
              "  <tbody>\n",
              "    <tr>\n",
              "      <th>0</th>\n",
              "      <td>male</td>\n",
              "      <td>89</td>\n",
              "      <td>1</td>\n",
              "      <td>1</td>\n",
              "      <td>0</td>\n",
              "      <td>0</td>\n",
              "      <td>0</td>\n",
              "      <td>0</td>\n",
              "      <td>0</td>\n",
              "      <td>1</td>\n",
              "      <td>0</td>\n",
              "      <td>0</td>\n",
              "    </tr>\n",
              "    <tr>\n",
              "      <th>1</th>\n",
              "      <td>male</td>\n",
              "      <td>68</td>\n",
              "      <td>1</td>\n",
              "      <td>0</td>\n",
              "      <td>0</td>\n",
              "      <td>0</td>\n",
              "      <td>0</td>\n",
              "      <td>0</td>\n",
              "      <td>0</td>\n",
              "      <td>0</td>\n",
              "      <td>0</td>\n",
              "      <td>0</td>\n",
              "    </tr>\n",
              "    <tr>\n",
              "      <th>2</th>\n",
              "      <td>male</td>\n",
              "      <td>68</td>\n",
              "      <td>0</td>\n",
              "      <td>0</td>\n",
              "      <td>0</td>\n",
              "      <td>0</td>\n",
              "      <td>0</td>\n",
              "      <td>0</td>\n",
              "      <td>0</td>\n",
              "      <td>1</td>\n",
              "      <td>0</td>\n",
              "      <td>0</td>\n",
              "    </tr>\n",
              "    <tr>\n",
              "      <th>3</th>\n",
              "      <td>male</td>\n",
              "      <td>68</td>\n",
              "      <td>1</td>\n",
              "      <td>1</td>\n",
              "      <td>0</td>\n",
              "      <td>0</td>\n",
              "      <td>0</td>\n",
              "      <td>0</td>\n",
              "      <td>0</td>\n",
              "      <td>1</td>\n",
              "      <td>1</td>\n",
              "      <td>1</td>\n",
              "    </tr>\n",
              "    <tr>\n",
              "      <th>4</th>\n",
              "      <td>male</td>\n",
              "      <td>50</td>\n",
              "      <td>1</td>\n",
              "      <td>1</td>\n",
              "      <td>1</td>\n",
              "      <td>0</td>\n",
              "      <td>1</td>\n",
              "      <td>0</td>\n",
              "      <td>0</td>\n",
              "      <td>1</td>\n",
              "      <td>0</td>\n",
              "      <td>1</td>\n",
              "    </tr>\n",
              "  </tbody>\n",
              "</table>\n",
              "</div>"
            ],
            "text/plain": [
              "  gender  age_year  ...  isolation_treatment  SARS-CoV-2 Positive\n",
              "0   male        89  ...                    0                    0\n",
              "1   male        68  ...                    0                    0\n",
              "2   male        68  ...                    0                    0\n",
              "3   male        68  ...                    1                    1\n",
              "4   male        50  ...                    0                    1\n",
              "\n",
              "[5 rows x 12 columns]"
            ]
          },
          "metadata": {
            "tags": []
          },
          "execution_count": 4
        }
      ]
    },
    {
      "cell_type": "markdown",
      "metadata": {
        "id": "mY1TYn4ZE9U6"
      },
      "source": [
        "## **Download dataset from GDrive [Optional]**"
      ]
    },
    {
      "cell_type": "code",
      "metadata": {
        "id": "Yb08cPnniD2-"
      },
      "source": [
        "# import pandas as pd\n",
        "# df = pd.read_csv('https://drive.google.com/uc?id=11w6cKQANeVoWnbjNJ8RQy2BLomdfCTBJ')\n",
        "# df.head()"
      ],
      "execution_count": null,
      "outputs": []
    },
    {
      "cell_type": "markdown",
      "metadata": {
        "id": "OOMd0rcpGK48"
      },
      "source": [
        "## **Download dataset from GitHub [Optional]**"
      ]
    },
    {
      "cell_type": "code",
      "metadata": {
        "id": "fw4nSndmGK5i",
        "colab": {
          "base_uri": "https://localhost:8080/",
          "height": 249
        },
        "outputId": "8d386109-be0b-4dfa-85f1-dba28594ee72"
      },
      "source": [
        "# import pandas as pd\n",
        "# df = pd.read_csv('https://raw.githubusercontent.com/DocBot-Bangkit-2021/DocBot-MachineLearningModels/main/Covid-19/covid_early_stage_symptoms.csv')\n",
        "# df.head()"
      ],
      "execution_count": null,
      "outputs": [
        {
          "output_type": "execute_result",
          "data": {
            "text/html": [
              "<div>\n",
              "<style scoped>\n",
              "    .dataframe tbody tr th:only-of-type {\n",
              "        vertical-align: middle;\n",
              "    }\n",
              "\n",
              "    .dataframe tbody tr th {\n",
              "        vertical-align: top;\n",
              "    }\n",
              "\n",
              "    .dataframe thead th {\n",
              "        text-align: right;\n",
              "    }\n",
              "</style>\n",
              "<table border=\"1\" class=\"dataframe\">\n",
              "  <thead>\n",
              "    <tr style=\"text-align: right;\">\n",
              "      <th></th>\n",
              "      <th>gender</th>\n",
              "      <th>age_year</th>\n",
              "      <th>fever</th>\n",
              "      <th>cough</th>\n",
              "      <th>runny_nose</th>\n",
              "      <th>muscle_soreness</th>\n",
              "      <th>pneumonia</th>\n",
              "      <th>diarrhea</th>\n",
              "      <th>lung_infection</th>\n",
              "      <th>travel_history</th>\n",
              "      <th>isolation_treatment</th>\n",
              "      <th>SARS-CoV-2 Positive</th>\n",
              "    </tr>\n",
              "  </thead>\n",
              "  <tbody>\n",
              "    <tr>\n",
              "      <th>0</th>\n",
              "      <td>male</td>\n",
              "      <td>89</td>\n",
              "      <td>1</td>\n",
              "      <td>1</td>\n",
              "      <td>0</td>\n",
              "      <td>0</td>\n",
              "      <td>0</td>\n",
              "      <td>0</td>\n",
              "      <td>0</td>\n",
              "      <td>1</td>\n",
              "      <td>0</td>\n",
              "      <td>0</td>\n",
              "    </tr>\n",
              "    <tr>\n",
              "      <th>1</th>\n",
              "      <td>male</td>\n",
              "      <td>68</td>\n",
              "      <td>1</td>\n",
              "      <td>0</td>\n",
              "      <td>0</td>\n",
              "      <td>0</td>\n",
              "      <td>0</td>\n",
              "      <td>0</td>\n",
              "      <td>0</td>\n",
              "      <td>0</td>\n",
              "      <td>0</td>\n",
              "      <td>0</td>\n",
              "    </tr>\n",
              "    <tr>\n",
              "      <th>2</th>\n",
              "      <td>male</td>\n",
              "      <td>68</td>\n",
              "      <td>0</td>\n",
              "      <td>0</td>\n",
              "      <td>0</td>\n",
              "      <td>0</td>\n",
              "      <td>0</td>\n",
              "      <td>0</td>\n",
              "      <td>0</td>\n",
              "      <td>1</td>\n",
              "      <td>0</td>\n",
              "      <td>0</td>\n",
              "    </tr>\n",
              "    <tr>\n",
              "      <th>3</th>\n",
              "      <td>male</td>\n",
              "      <td>68</td>\n",
              "      <td>1</td>\n",
              "      <td>1</td>\n",
              "      <td>0</td>\n",
              "      <td>0</td>\n",
              "      <td>0</td>\n",
              "      <td>0</td>\n",
              "      <td>0</td>\n",
              "      <td>1</td>\n",
              "      <td>1</td>\n",
              "      <td>1</td>\n",
              "    </tr>\n",
              "    <tr>\n",
              "      <th>4</th>\n",
              "      <td>male</td>\n",
              "      <td>50</td>\n",
              "      <td>1</td>\n",
              "      <td>1</td>\n",
              "      <td>1</td>\n",
              "      <td>0</td>\n",
              "      <td>1</td>\n",
              "      <td>0</td>\n",
              "      <td>0</td>\n",
              "      <td>1</td>\n",
              "      <td>0</td>\n",
              "      <td>1</td>\n",
              "    </tr>\n",
              "  </tbody>\n",
              "</table>\n",
              "</div>"
            ],
            "text/plain": [
              "  gender  age_year  ...  isolation_treatment  SARS-CoV-2 Positive\n",
              "0   male        89  ...                    0                    0\n",
              "1   male        68  ...                    0                    0\n",
              "2   male        68  ...                    0                    0\n",
              "3   male        68  ...                    1                    1\n",
              "4   male        50  ...                    0                    1\n",
              "\n",
              "[5 rows x 12 columns]"
            ]
          },
          "metadata": {
            "tags": []
          },
          "execution_count": 1
        }
      ]
    },
    {
      "cell_type": "markdown",
      "metadata": {
        "id": "gcBzF8ZX4xA_"
      },
      "source": [
        "# **Exploratory Data Analyis (EDA)**"
      ]
    },
    {
      "cell_type": "markdown",
      "metadata": {
        "id": "eJpdHIVrk5Vo"
      },
      "source": [
        "Displays a list of columns"
      ]
    },
    {
      "cell_type": "code",
      "metadata": {
        "colab": {
          "base_uri": "https://localhost:8080/"
        },
        "id": "bwzjcTFtkYlV",
        "outputId": "a5d2a271-51ff-4923-edf2-b28c516181c7"
      },
      "source": [
        "# column list\n",
        "df.columns"
      ],
      "execution_count": null,
      "outputs": [
        {
          "output_type": "execute_result",
          "data": {
            "text/plain": [
              "Index(['gender', 'age_year', 'fever', 'cough', 'runny_nose', 'muscle_soreness',\n",
              "       'pneumonia', 'diarrhea', 'lung_infection', 'travel_history',\n",
              "       'isolation_treatment', 'SARS-CoV-2 Positive'],\n",
              "      dtype='object')"
            ]
          },
          "metadata": {
            "tags": []
          },
          "execution_count": 6
        }
      ]
    },
    {
      "cell_type": "code",
      "metadata": {
        "colab": {
          "base_uri": "https://localhost:8080/",
          "height": 321
        },
        "id": "y9_vZDiT4j5k",
        "outputId": "7f93334e-39fb-42d8-821d-8be86766dc23"
      },
      "source": [
        "# statistical description of the data\n",
        "df.describe()"
      ],
      "execution_count": null,
      "outputs": [
        {
          "output_type": "execute_result",
          "data": {
            "text/html": [
              "<div>\n",
              "<style scoped>\n",
              "    .dataframe tbody tr th:only-of-type {\n",
              "        vertical-align: middle;\n",
              "    }\n",
              "\n",
              "    .dataframe tbody tr th {\n",
              "        vertical-align: top;\n",
              "    }\n",
              "\n",
              "    .dataframe thead th {\n",
              "        text-align: right;\n",
              "    }\n",
              "</style>\n",
              "<table border=\"1\" class=\"dataframe\">\n",
              "  <thead>\n",
              "    <tr style=\"text-align: right;\">\n",
              "      <th></th>\n",
              "      <th>age_year</th>\n",
              "      <th>fever</th>\n",
              "      <th>cough</th>\n",
              "      <th>runny_nose</th>\n",
              "      <th>muscle_soreness</th>\n",
              "      <th>pneumonia</th>\n",
              "      <th>diarrhea</th>\n",
              "      <th>lung_infection</th>\n",
              "      <th>travel_history</th>\n",
              "      <th>isolation_treatment</th>\n",
              "      <th>SARS-CoV-2 Positive</th>\n",
              "    </tr>\n",
              "  </thead>\n",
              "  <tbody>\n",
              "    <tr>\n",
              "      <th>count</th>\n",
              "      <td>6512.000000</td>\n",
              "      <td>6512.000000</td>\n",
              "      <td>6512.000000</td>\n",
              "      <td>6512.000000</td>\n",
              "      <td>6512.000000</td>\n",
              "      <td>6512.000000</td>\n",
              "      <td>6512.000000</td>\n",
              "      <td>6512.000000</td>\n",
              "      <td>6512.000000</td>\n",
              "      <td>6512.000000</td>\n",
              "      <td>6512.000000</td>\n",
              "    </tr>\n",
              "    <tr>\n",
              "      <th>mean</th>\n",
              "      <td>44.019502</td>\n",
              "      <td>0.410780</td>\n",
              "      <td>0.303286</td>\n",
              "      <td>0.084306</td>\n",
              "      <td>0.003993</td>\n",
              "      <td>0.074785</td>\n",
              "      <td>0.005682</td>\n",
              "      <td>0.131296</td>\n",
              "      <td>0.650952</td>\n",
              "      <td>0.216984</td>\n",
              "      <td>0.241400</td>\n",
              "    </tr>\n",
              "    <tr>\n",
              "      <th>std</th>\n",
              "      <td>16.112865</td>\n",
              "      <td>0.492013</td>\n",
              "      <td>0.459713</td>\n",
              "      <td>0.277867</td>\n",
              "      <td>0.063066</td>\n",
              "      <td>0.263064</td>\n",
              "      <td>0.075169</td>\n",
              "      <td>0.337750</td>\n",
              "      <td>0.476706</td>\n",
              "      <td>0.412223</td>\n",
              "      <td>0.427965</td>\n",
              "    </tr>\n",
              "    <tr>\n",
              "      <th>min</th>\n",
              "      <td>1.000000</td>\n",
              "      <td>0.000000</td>\n",
              "      <td>0.000000</td>\n",
              "      <td>0.000000</td>\n",
              "      <td>0.000000</td>\n",
              "      <td>0.000000</td>\n",
              "      <td>0.000000</td>\n",
              "      <td>0.000000</td>\n",
              "      <td>0.000000</td>\n",
              "      <td>0.000000</td>\n",
              "      <td>0.000000</td>\n",
              "    </tr>\n",
              "    <tr>\n",
              "      <th>25%</th>\n",
              "      <td>32.000000</td>\n",
              "      <td>0.000000</td>\n",
              "      <td>0.000000</td>\n",
              "      <td>0.000000</td>\n",
              "      <td>0.000000</td>\n",
              "      <td>0.000000</td>\n",
              "      <td>0.000000</td>\n",
              "      <td>0.000000</td>\n",
              "      <td>0.000000</td>\n",
              "      <td>0.000000</td>\n",
              "      <td>0.000000</td>\n",
              "    </tr>\n",
              "    <tr>\n",
              "      <th>50%</th>\n",
              "      <td>43.000000</td>\n",
              "      <td>0.000000</td>\n",
              "      <td>0.000000</td>\n",
              "      <td>0.000000</td>\n",
              "      <td>0.000000</td>\n",
              "      <td>0.000000</td>\n",
              "      <td>0.000000</td>\n",
              "      <td>0.000000</td>\n",
              "      <td>1.000000</td>\n",
              "      <td>0.000000</td>\n",
              "      <td>0.000000</td>\n",
              "    </tr>\n",
              "    <tr>\n",
              "      <th>75%</th>\n",
              "      <td>55.000000</td>\n",
              "      <td>1.000000</td>\n",
              "      <td>1.000000</td>\n",
              "      <td>0.000000</td>\n",
              "      <td>0.000000</td>\n",
              "      <td>0.000000</td>\n",
              "      <td>0.000000</td>\n",
              "      <td>0.000000</td>\n",
              "      <td>1.000000</td>\n",
              "      <td>0.000000</td>\n",
              "      <td>0.000000</td>\n",
              "    </tr>\n",
              "    <tr>\n",
              "      <th>max</th>\n",
              "      <td>96.000000</td>\n",
              "      <td>1.000000</td>\n",
              "      <td>1.000000</td>\n",
              "      <td>1.000000</td>\n",
              "      <td>1.000000</td>\n",
              "      <td>1.000000</td>\n",
              "      <td>1.000000</td>\n",
              "      <td>1.000000</td>\n",
              "      <td>1.000000</td>\n",
              "      <td>1.000000</td>\n",
              "      <td>1.000000</td>\n",
              "    </tr>\n",
              "  </tbody>\n",
              "</table>\n",
              "</div>"
            ],
            "text/plain": [
              "          age_year        fever  ...  isolation_treatment  SARS-CoV-2 Positive\n",
              "count  6512.000000  6512.000000  ...          6512.000000          6512.000000\n",
              "mean     44.019502     0.410780  ...             0.216984             0.241400\n",
              "std      16.112865     0.492013  ...             0.412223             0.427965\n",
              "min       1.000000     0.000000  ...             0.000000             0.000000\n",
              "25%      32.000000     0.000000  ...             0.000000             0.000000\n",
              "50%      43.000000     0.000000  ...             0.000000             0.000000\n",
              "75%      55.000000     1.000000  ...             0.000000             0.000000\n",
              "max      96.000000     1.000000  ...             1.000000             1.000000\n",
              "\n",
              "[8 rows x 11 columns]"
            ]
          },
          "metadata": {
            "tags": []
          },
          "execution_count": 7
        }
      ]
    },
    {
      "cell_type": "code",
      "metadata": {
        "colab": {
          "base_uri": "https://localhost:8080/"
        },
        "id": "UN2iDlZ25Xo-",
        "outputId": "6c8005fa-e7f9-4ca7-f38e-fd6739c01b16"
      },
      "source": [
        "# additional info about data: type, number of nulls, number of rows and others\n",
        "df.info()"
      ],
      "execution_count": null,
      "outputs": [
        {
          "output_type": "stream",
          "text": [
            "<class 'pandas.core.frame.DataFrame'>\n",
            "RangeIndex: 6512 entries, 0 to 6511\n",
            "Data columns (total 12 columns):\n",
            " #   Column               Non-Null Count  Dtype \n",
            "---  ------               --------------  ----- \n",
            " 0   gender               6512 non-null   object\n",
            " 1   age_year             6512 non-null   int64 \n",
            " 2   fever                6512 non-null   int64 \n",
            " 3   cough                6512 non-null   int64 \n",
            " 4   runny_nose           6512 non-null   int64 \n",
            " 5   muscle_soreness      6512 non-null   int64 \n",
            " 6   pneumonia            6512 non-null   int64 \n",
            " 7   diarrhea             6512 non-null   int64 \n",
            " 8   lung_infection       6512 non-null   int64 \n",
            " 9   travel_history       6512 non-null   int64 \n",
            " 10  isolation_treatment  6512 non-null   int64 \n",
            " 11  SARS-CoV-2 Positive  6512 non-null   int64 \n",
            "dtypes: int64(11), object(1)\n",
            "memory usage: 610.6+ KB\n"
          ],
          "name": "stdout"
        }
      ]
    },
    {
      "cell_type": "code",
      "metadata": {
        "colab": {
          "base_uri": "https://localhost:8080/"
        },
        "id": "k8FWB4Go3rko",
        "outputId": "8ad86bac-e09b-4bce-bf1e-513fb3a2476d"
      },
      "source": [
        "# check for null counts\n",
        "df.isnull().sum()"
      ],
      "execution_count": null,
      "outputs": [
        {
          "output_type": "execute_result",
          "data": {
            "text/plain": [
              "gender                 0\n",
              "age_year               0\n",
              "fever                  0\n",
              "cough                  0\n",
              "runny_nose             0\n",
              "muscle_soreness        0\n",
              "pneumonia              0\n",
              "diarrhea               0\n",
              "lung_infection         0\n",
              "travel_history         0\n",
              "isolation_treatment    0\n",
              "SARS-CoV-2 Positive    0\n",
              "dtype: int64"
            ]
          },
          "metadata": {
            "tags": []
          },
          "execution_count": 9
        }
      ]
    },
    {
      "cell_type": "code",
      "metadata": {
        "colab": {
          "base_uri": "https://localhost:8080/"
        },
        "id": "gzQNvh_444VY",
        "outputId": "57f78533-4ff4-4493-9fd2-aee37bda154a"
      },
      "source": [
        "# large amount of data based on SARS-CoV-2 Positive target - (positive-1, Suspected-0)\n",
        "df[\"SARS-CoV-2 Positive\"].value_counts()"
      ],
      "execution_count": null,
      "outputs": [
        {
          "output_type": "execute_result",
          "data": {
            "text/plain": [
              "0    4940\n",
              "1    1572\n",
              "Name: SARS-CoV-2 Positive, dtype: int64"
            ]
          },
          "metadata": {
            "tags": []
          },
          "execution_count": 10
        }
      ]
    },
    {
      "cell_type": "code",
      "metadata": {
        "colab": {
          "base_uri": "https://localhost:8080/"
        },
        "id": "AwTxzD3n5eAS",
        "outputId": "23f72762-855e-4f3b-f019-25e0c8d470ad"
      },
      "source": [
        "# the number of rows and columns in the data\n",
        "print('Total Row:', df.shape[0])\n",
        "print('Total Columns:', df.shape[1])\n",
        "df.shape"
      ],
      "execution_count": null,
      "outputs": [
        {
          "output_type": "stream",
          "text": [
            "Total Row: 6512\n",
            "Total Columns: 12\n"
          ],
          "name": "stdout"
        },
        {
          "output_type": "execute_result",
          "data": {
            "text/plain": [
              "(6512, 12)"
            ]
          },
          "metadata": {
            "tags": []
          },
          "execution_count": 11
        }
      ]
    },
    {
      "cell_type": "code",
      "metadata": {
        "colab": {
          "base_uri": "https://localhost:8080/"
        },
        "id": "q64Af9lLS0hw",
        "outputId": "58e389b9-9da4-4247-811d-d7638041d6ff"
      },
      "source": [
        "# defines the column category and the amount in each type\n",
        "col_cat = ['gender', 'fever', 'cough', 'runny_nose', 'muscle_soreness',\n",
        "       'pneumonia', 'diarrhea', 'lung_infection', 'travel_history',\n",
        "       'isolation_treatment', 'SARS-CoV-2 Positive']\n",
        "for col in col_cat :\n",
        "  print(df[col].value_counts(), \"\\n\")"
      ],
      "execution_count": null,
      "outputs": [
        {
          "output_type": "stream",
          "text": [
            "male      3367\n",
            "female    3145\n",
            "Name: gender, dtype: int64 \n",
            "\n",
            "0    3837\n",
            "1    2675\n",
            "Name: fever, dtype: int64 \n",
            "\n",
            "0    4537\n",
            "1    1975\n",
            "Name: cough, dtype: int64 \n",
            "\n",
            "0    5963\n",
            "1     549\n",
            "Name: runny_nose, dtype: int64 \n",
            "\n",
            "0    6486\n",
            "1      26\n",
            "Name: muscle_soreness, dtype: int64 \n",
            "\n",
            "0    6025\n",
            "1     487\n",
            "Name: pneumonia, dtype: int64 \n",
            "\n",
            "0    6475\n",
            "1      37\n",
            "Name: diarrhea, dtype: int64 \n",
            "\n",
            "0    5657\n",
            "1     855\n",
            "Name: lung_infection, dtype: int64 \n",
            "\n",
            "1    4239\n",
            "0    2273\n",
            "Name: travel_history, dtype: int64 \n",
            "\n",
            "0    5099\n",
            "1    1413\n",
            "Name: isolation_treatment, dtype: int64 \n",
            "\n",
            "0    4940\n",
            "1    1572\n",
            "Name: SARS-CoV-2 Positive, dtype: int64 \n",
            "\n"
          ],
          "name": "stdout"
        }
      ]
    },
    {
      "cell_type": "markdown",
      "metadata": {
        "id": "Vzqgnxyi497W"
      },
      "source": [
        "# **Data Visualization**"
      ]
    },
    {
      "cell_type": "code",
      "metadata": {
        "colab": {
          "base_uri": "https://localhost:8080/",
          "height": 434
        },
        "id": "dC9BLaOJT_ve",
        "outputId": "68c79a4d-dd6a-49a1-f8d8-ffb18f39c00b"
      },
      "source": [
        "# display of data distribution distribution on SARS-CoV-2 Positive - (positive-1, Suspected-0)\n",
        "sns.countplot(df['SARS-CoV-2 Positive'], label=\"SARS-CoV-2 Positive\")"
      ],
      "execution_count": null,
      "outputs": [
        {
          "output_type": "stream",
          "text": [
            "/usr/local/lib/python3.7/dist-packages/seaborn/_decorators.py:43: FutureWarning: Pass the following variable as a keyword arg: x. From version 0.12, the only valid positional argument will be `data`, and passing other arguments without an explicit keyword will result in an error or misinterpretation.\n",
            "  FutureWarning\n"
          ],
          "name": "stderr"
        },
        {
          "output_type": "execute_result",
          "data": {
            "text/plain": [
              "<matplotlib.axes._subplots.AxesSubplot at 0x7fee32447710>"
            ]
          },
          "metadata": {
            "tags": []
          },
          "execution_count": 13
        },
        {
          "output_type": "display_data",
          "data": {
            "image/png": "[encoded data removed]",
            "text/plain": [
              "<Figure size 576x396 with 1 Axes>"
            ]
          },
          "metadata": {
            "tags": []
          }
        }
      ]
    },
    {
      "cell_type": "code",
      "metadata": {
        "colab": {
          "base_uri": "https://localhost:8080/"
        },
        "id": "o8q3D0GOVbhK",
        "outputId": "1a15a4e4-2045-4445-c050-70d48eaf711a"
      },
      "source": [
        "# SARS-CoV-2 Positive\n",
        "# positive --> 1\n",
        "# Suspected --> 0\n",
        "df['SARS-CoV-2 Positive'].unique()"
      ],
      "execution_count": null,
      "outputs": [
        {
          "output_type": "execute_result",
          "data": {
            "text/plain": [
              "array([0, 1])"
            ]
          },
          "metadata": {
            "tags": []
          },
          "execution_count": 14
        }
      ]
    },
    {
      "cell_type": "code",
      "metadata": {
        "colab": {
          "base_uri": "https://localhost:8080/",
          "height": 345
        },
        "id": "GOgBQuEQSy9s",
        "outputId": "68c930de-9141-483f-b181-47202317a577"
      },
      "source": [
        "target = df['SARS-CoV-2 Positive'].value_counts()\n",
        "label =['Suspected', 'Positif']\n",
        "target.plot(kind='pie', labels=label, autopct='%1.1f%%')\n",
        "plt.title('SARS-CoV-2 Positive Presentation')\n",
        "plt.show()"
      ],
      "execution_count": null,
      "outputs": [
        {
          "output_type": "display_data",
          "data": {
            "image/png": "[encoded data removed]",
            "text/plain": [
              "<Figure size 576x396 with 1 Axes>"
            ]
          },
          "metadata": {
            "tags": []
          }
        }
      ]
    },
    {
      "cell_type": "code",
      "metadata": {
        "colab": {
          "base_uri": "https://localhost:8080/",
          "height": 703
        },
        "id": "7rEsOm7D49ko",
        "outputId": "ac09ad77-c454-4903-baf0-9630bcc43141"
      },
      "source": [
        "fig = plt.figure(figsize=(20, 20))\n",
        "axs = fig.add_subplot()\n",
        "df.hist(ax=axs);"
      ],
      "execution_count": null,
      "outputs": [
        {
          "output_type": "stream",
          "text": [
            "/usr/local/lib/python3.7/dist-packages/ipykernel_launcher.py:3: UserWarning: To output multiple subplots, the figure containing the passed axes is being cleared\n",
            "  This is separate from the ipykernel package so we can avoid doing imports until\n"
          ],
          "name": "stderr"
        },
        {
          "output_type": "display_data",
          "data": {
            "image/png": "[encoded data removed]",
            "text/plain": [
              "<Figure size 1440x1440 with 12 Axes>"
            ]
          },
          "metadata": {
            "tags": []
          }
        }
      ]
    },
    {
      "cell_type": "code",
      "metadata": {
        "colab": {
          "base_uri": "https://localhost:8080/",
          "height": 478
        },
        "id": "1ifi-UosFhMJ",
        "outputId": "a3bbaeca-b48b-44d4-ad63-59b4bae4bfb4"
      },
      "source": [
        "plt.figure(figsize=(20,12)) \n",
        "sns.heatmap(df.corr(), annot=True)"
      ],
      "execution_count": null,
      "outputs": [
        {
          "output_type": "execute_result",
          "data": {
            "text/plain": [
              "<matplotlib.axes._subplots.AxesSubplot at 0x7fee332c9b50>"
            ]
          },
          "metadata": {
            "tags": []
          },
          "execution_count": 17
        },
        {
          "output_type": "display_data",
          "data": {
            "image/png": "[encoded data removed]",
            "text/plain": [
              "<Figure size 1440x864 with 2 Axes>"
            ]
          },
          "metadata": {
            "tags": []
          }
        }
      ]
    },
    {
      "cell_type": "markdown",
      "metadata": {
        "id": "e5ffd63d"
      },
      "source": [
        "# Data cleaning\n",
        "check missing value, Check duplicate value, check data type, check outlier, check typo, check imbalance data\n"
      ]
    },
    {
      "cell_type": "markdown",
      "metadata": {
        "id": "716e5434"
      },
      "source": [
        "## -- Check missing value"
      ]
    },
    {
      "cell_type": "code",
      "metadata": {
        "id": "29bb981e",
        "colab": {
          "base_uri": "https://localhost:8080/"
        },
        "outputId": "aec95808-1807-4090-dcd3-85291dac28d0"
      },
      "source": [
        "# Check missing value\n",
        "df.isnull().sum()"
      ],
      "execution_count": null,
      "outputs": [
        {
          "output_type": "execute_result",
          "data": {
            "text/plain": [
              "gender                 0\n",
              "age_year               0\n",
              "fever                  0\n",
              "cough                  0\n",
              "runny_nose             0\n",
              "muscle_soreness        0\n",
              "pneumonia              0\n",
              "diarrhea               0\n",
              "lung_infection         0\n",
              "travel_history         0\n",
              "isolation_treatment    0\n",
              "SARS-CoV-2 Positive    0\n",
              "dtype: int64"
            ]
          },
          "metadata": {
            "tags": []
          },
          "execution_count": 18
        }
      ]
    },
    {
      "cell_type": "code",
      "metadata": {
        "id": "718e7553"
      },
      "source": [
        "# Preview rows contain missing value\n",
        "# NOte : There is no preview because the data is not null\n",
        "\n",
        "# if df.isnull().any(axis=None):\n",
        "#     print(\"Preview of data with null values\")\n",
        "#     print(\"Null values : \", df.isnull().sum().sum())\n",
        "#     display(df[df.isnull().any(axis=1)])"
      ],
      "execution_count": null,
      "outputs": []
    },
    {
      "cell_type": "code",
      "metadata": {
        "id": "631a273a"
      },
      "source": [
        "# Replace missing value with median value\n",
        "# df = df.fillna(df.median())"
      ],
      "execution_count": null,
      "outputs": []
    },
    {
      "cell_type": "markdown",
      "metadata": {
        "id": "42af0599"
      },
      "source": [
        "The method chosen to overcome missing value is the median. <br>\n",
        "Reason: Columns that have a passing value have a categorical data type."
      ]
    },
    {
      "cell_type": "code",
      "metadata": {
        "id": "af75014f",
        "colab": {
          "base_uri": "https://localhost:8080/"
        },
        "outputId": "7963cbd1-442d-4d22-a9b4-fe480332d378"
      },
      "source": [
        "print(\"Null values : \",df.isnull().sum().sum())\n",
        "print(\"Shape of data: \", df.shape)"
      ],
      "execution_count": null,
      "outputs": [
        {
          "output_type": "stream",
          "text": [
            "Null values :  0\n",
            "Shape of data:  (6512, 12)\n"
          ],
          "name": "stdout"
        }
      ]
    },
    {
      "cell_type": "markdown",
      "metadata": {
        "id": "c0342aa5"
      },
      "source": [
        "With the replace method, it can overcome missing values without reducing data"
      ]
    },
    {
      "cell_type": "markdown",
      "metadata": {
        "id": "61a07b72"
      },
      "source": [
        "## -- Check duplicate"
      ]
    },
    {
      "cell_type": "code",
      "metadata": {
        "id": "e7f56ea1",
        "colab": {
          "base_uri": "https://localhost:8080/"
        },
        "outputId": "e1dbe7d6-0ef7-4a29-de31-8c622813f2cf"
      },
      "source": [
        "# Check duplicate data\n",
        "print(\"Data duplicated: \", df.duplicated().sum())"
      ],
      "execution_count": null,
      "outputs": [
        {
          "output_type": "stream",
          "text": [
            "Data duplicated:  4285\n"
          ],
          "name": "stdout"
        }
      ]
    },
    {
      "cell_type": "markdown",
      "metadata": {
        "id": "6eb40f0c"
      },
      "source": [
        "## -- Check imbalance data"
      ]
    },
    {
      "cell_type": "code",
      "metadata": {
        "id": "65e653c2",
        "colab": {
          "base_uri": "https://localhost:8080/",
          "height": 414
        },
        "outputId": "ef646486-02c1-48fb-f329-88ccbd9a7d72"
      },
      "source": [
        "# Check imbalance dataset\n",
        "import seaborn as sns\n",
        "\n",
        "sns.countplot(x=df['SARS-CoV-2 Positive'])\n",
        "print(df['SARS-CoV-2 Positive'].value_counts())"
      ],
      "execution_count": null,
      "outputs": [
        {
          "output_type": "stream",
          "text": [
            "0    4940\n",
            "1    1572\n",
            "Name: SARS-CoV-2 Positive, dtype: int64\n"
          ],
          "name": "stdout"
        },
        {
          "output_type": "display_data",
          "data": {
            "image/png": "[encoded data removed]",
            "text/plain": [
              "<Figure size 576x396 with 1 Axes>"
            ]
          },
          "metadata": {
            "tags": []
          }
        }
      ]
    },
    {
      "cell_type": "markdown",
      "metadata": {
        "id": "QNlVGTiAQXlR"
      },
      "source": [
        "# **Data Preprocessing**"
      ]
    },
    {
      "cell_type": "markdown",
      "metadata": {
        "id": "YgbuWrlEnspO"
      },
      "source": [
        "## -- Spitting features and label"
      ]
    },
    {
      "cell_type": "code",
      "metadata": {
        "colab": {
          "base_uri": "https://localhost:8080/"
        },
        "id": "5HPNaEWiYOnW",
        "outputId": "716e215c-11e0-4db4-fce0-f4f29d58258e"
      },
      "source": [
        "features = df.drop(columns=['SARS-CoV-2 Positive'])\n",
        "label = df[['SARS-CoV-2 Positive']]\n",
        "\n",
        "print(features.shape)\n",
        "print(label.shape)\n",
        "\n",
        "features.columns, label.columns"
      ],
      "execution_count": null,
      "outputs": [
        {
          "output_type": "stream",
          "text": [
            "(6512, 11)\n",
            "(6512, 1)\n"
          ],
          "name": "stdout"
        },
        {
          "output_type": "execute_result",
          "data": {
            "text/plain": [
              "(Index(['gender', 'age_year', 'fever', 'cough', 'runny_nose', 'muscle_soreness',\n",
              "        'pneumonia', 'diarrhea', 'lung_infection', 'travel_history',\n",
              "        'isolation_treatment'],\n",
              "       dtype='object'), Index(['SARS-CoV-2 Positive'], dtype='object'))"
            ]
          },
          "metadata": {
            "tags": []
          },
          "execution_count": 24
        }
      ]
    },
    {
      "cell_type": "markdown",
      "metadata": {
        "id": "7f159889"
      },
      "source": [
        "## -- Check Data type\n",
        "Menyesuaikan tipe data sesuai dengan metadata yang diberikan\n",
        "\n",
        "* **Categorical** (`gender`, `fever`, `cough`, `runny_nose`, `muscle_soreness`, `pneumonia`, `diarrhea`, `lung_infection`, `travel_history`, `isolation_treatment`, `SARS-CoV-2 Positive`)\n",
        "* **Numeric** (`age_year`)"
      ]
    },
    {
      "cell_type": "code",
      "metadata": {
        "id": "1ff3608a",
        "colab": {
          "base_uri": "https://localhost:8080/"
        },
        "outputId": "434a3688-918c-4b42-a0ee-a59ba74fad86"
      },
      "source": [
        "features.info()"
      ],
      "execution_count": null,
      "outputs": [
        {
          "output_type": "stream",
          "text": [
            "<class 'pandas.core.frame.DataFrame'>\n",
            "RangeIndex: 6512 entries, 0 to 6511\n",
            "Data columns (total 11 columns):\n",
            " #   Column               Non-Null Count  Dtype \n",
            "---  ------               --------------  ----- \n",
            " 0   gender               6512 non-null   object\n",
            " 1   age_year             6512 non-null   int64 \n",
            " 2   fever                6512 non-null   int64 \n",
            " 3   cough                6512 non-null   int64 \n",
            " 4   runny_nose           6512 non-null   int64 \n",
            " 5   muscle_soreness      6512 non-null   int64 \n",
            " 6   pneumonia            6512 non-null   int64 \n",
            " 7   diarrhea             6512 non-null   int64 \n",
            " 8   lung_infection       6512 non-null   int64 \n",
            " 9   travel_history       6512 non-null   int64 \n",
            " 10  isolation_treatment  6512 non-null   int64 \n",
            "dtypes: int64(10), object(1)\n",
            "memory usage: 559.8+ KB\n"
          ],
          "name": "stdout"
        }
      ]
    },
    {
      "cell_type": "code",
      "metadata": {
        "id": "49c13096"
      },
      "source": [
        "col_cat_features = ['gender', 'fever', 'cough', 'runny_nose', 'muscle_soreness',\n",
        "       'pneumonia', 'diarrhea', 'lung_infection', 'travel_history',\n",
        "       'isolation_treatment']\n",
        "\n",
        "features[col_cat_features] = features[col_cat_features].astype('category')"
      ],
      "execution_count": null,
      "outputs": []
    },
    {
      "cell_type": "code",
      "metadata": {
        "id": "237b8d3b",
        "colab": {
          "base_uri": "https://localhost:8080/"
        },
        "outputId": "2928f6bf-5fc9-4b19-f2cc-f9a5eb8e71f5"
      },
      "source": [
        "features.info()"
      ],
      "execution_count": null,
      "outputs": [
        {
          "output_type": "stream",
          "text": [
            "<class 'pandas.core.frame.DataFrame'>\n",
            "RangeIndex: 6512 entries, 0 to 6511\n",
            "Data columns (total 11 columns):\n",
            " #   Column               Non-Null Count  Dtype   \n",
            "---  ------               --------------  -----   \n",
            " 0   gender               6512 non-null   category\n",
            " 1   age_year             6512 non-null   int64   \n",
            " 2   fever                6512 non-null   category\n",
            " 3   cough                6512 non-null   category\n",
            " 4   runny_nose           6512 non-null   category\n",
            " 5   muscle_soreness      6512 non-null   category\n",
            " 6   pneumonia            6512 non-null   category\n",
            " 7   diarrhea             6512 non-null   category\n",
            " 8   lung_infection       6512 non-null   category\n",
            " 9   travel_history       6512 non-null   category\n",
            " 10  isolation_treatment  6512 non-null   category\n",
            "dtypes: category(10), int64(1)\n",
            "memory usage: 115.5 KB\n"
          ],
          "name": "stdout"
        }
      ]
    },
    {
      "cell_type": "code",
      "metadata": {
        "id": "0NEDNhev9qaN"
      },
      "source": [
        "label_types = ['Positive', 'Suspected']"
      ],
      "execution_count": null,
      "outputs": []
    },
    {
      "cell_type": "markdown",
      "metadata": {
        "id": "qJ5CRPd-nuoq"
      },
      "source": [
        "## -- Normalize Data"
      ]
    },
    {
      "cell_type": "code",
      "metadata": {
        "id": "W7HbgasNlNuC"
      },
      "source": [
        "from sklearn.preprocessing import MinMaxScaler"
      ],
      "execution_count": null,
      "outputs": []
    },
    {
      "cell_type": "code",
      "metadata": {
        "id": "XS-0hyU1lWNv"
      },
      "source": [
        "mx = MinMaxScaler()"
      ],
      "execution_count": null,
      "outputs": []
    },
    {
      "cell_type": "code",
      "metadata": {
        "colab": {
          "base_uri": "https://localhost:8080/",
          "height": 126
        },
        "id": "3KtUu3GdlXrE",
        "outputId": "ba8cba42-35fd-4cf3-b2b2-8862573063ca"
      },
      "source": [
        "features['age_year'] = mx.fit_transform(features[['age_year']])\n",
        "features.head(2)"
      ],
      "execution_count": null,
      "outputs": [
        {
          "output_type": "execute_result",
          "data": {
            "text/html": [
              "<div>\n",
              "<style scoped>\n",
              "    .dataframe tbody tr th:only-of-type {\n",
              "        vertical-align: middle;\n",
              "    }\n",
              "\n",
              "    .dataframe tbody tr th {\n",
              "        vertical-align: top;\n",
              "    }\n",
              "\n",
              "    .dataframe thead th {\n",
              "        text-align: right;\n",
              "    }\n",
              "</style>\n",
              "<table border=\"1\" class=\"dataframe\">\n",
              "  <thead>\n",
              "    <tr style=\"text-align: right;\">\n",
              "      <th></th>\n",
              "      <th>gender</th>\n",
              "      <th>age_year</th>\n",
              "      <th>fever</th>\n",
              "      <th>cough</th>\n",
              "      <th>runny_nose</th>\n",
              "      <th>muscle_soreness</th>\n",
              "      <th>pneumonia</th>\n",
              "      <th>diarrhea</th>\n",
              "      <th>lung_infection</th>\n",
              "      <th>travel_history</th>\n",
              "      <th>isolation_treatment</th>\n",
              "    </tr>\n",
              "  </thead>\n",
              "  <tbody>\n",
              "    <tr>\n",
              "      <th>0</th>\n",
              "      <td>male</td>\n",
              "      <td>0.926316</td>\n",
              "      <td>1</td>\n",
              "      <td>1</td>\n",
              "      <td>0</td>\n",
              "      <td>0</td>\n",
              "      <td>0</td>\n",
              "      <td>0</td>\n",
              "      <td>0</td>\n",
              "      <td>1</td>\n",
              "      <td>0</td>\n",
              "    </tr>\n",
              "    <tr>\n",
              "      <th>1</th>\n",
              "      <td>male</td>\n",
              "      <td>0.705263</td>\n",
              "      <td>1</td>\n",
              "      <td>0</td>\n",
              "      <td>0</td>\n",
              "      <td>0</td>\n",
              "      <td>0</td>\n",
              "      <td>0</td>\n",
              "      <td>0</td>\n",
              "      <td>0</td>\n",
              "      <td>0</td>\n",
              "    </tr>\n",
              "  </tbody>\n",
              "</table>\n",
              "</div>"
            ],
            "text/plain": [
              "  gender  age_year fever  ... lung_infection travel_history isolation_treatment\n",
              "0   male  0.926316     1  ...              0              1                   0\n",
              "1   male  0.705263     1  ...              0              0                   0\n",
              "\n",
              "[2 rows x 11 columns]"
            ]
          },
          "metadata": {
            "tags": []
          },
          "execution_count": 31
        }
      ]
    },
    {
      "cell_type": "markdown",
      "metadata": {
        "id": "TADzhknUqc9f"
      },
      "source": [
        "## -- Categorical"
      ]
    },
    {
      "cell_type": "markdown",
      "metadata": {
        "id": "VxJMh0Dfq5cr"
      },
      "source": [
        "Change the categorical column to one hot encoding"
      ]
    },
    {
      "cell_type": "code",
      "metadata": {
        "colab": {
          "base_uri": "https://localhost:8080/",
          "height": 215
        },
        "id": "zxbUQGzjqaco",
        "outputId": "913a59eb-6574-4d8e-cc4d-a411889500cc"
      },
      "source": [
        "features_cat = pd.get_dummies(features[col_cat_features])\n",
        "features = pd.concat([features, features_cat], axis = 1)\n",
        "features = features.drop(columns = col_cat_features)\n",
        "features.head()"
      ],
      "execution_count": null,
      "outputs": [
        {
          "output_type": "execute_result",
          "data": {
            "text/html": [
              "<div>\n",
              "<style scoped>\n",
              "    .dataframe tbody tr th:only-of-type {\n",
              "        vertical-align: middle;\n",
              "    }\n",
              "\n",
              "    .dataframe tbody tr th {\n",
              "        vertical-align: top;\n",
              "    }\n",
              "\n",
              "    .dataframe thead th {\n",
              "        text-align: right;\n",
              "    }\n",
              "</style>\n",
              "<table border=\"1\" class=\"dataframe\">\n",
              "  <thead>\n",
              "    <tr style=\"text-align: right;\">\n",
              "      <th></th>\n",
              "      <th>age_year</th>\n",
              "      <th>gender_female</th>\n",
              "      <th>gender_male</th>\n",
              "      <th>fever_0</th>\n",
              "      <th>fever_1</th>\n",
              "      <th>cough_0</th>\n",
              "      <th>cough_1</th>\n",
              "      <th>runny_nose_0</th>\n",
              "      <th>runny_nose_1</th>\n",
              "      <th>muscle_soreness_0</th>\n",
              "      <th>muscle_soreness_1</th>\n",
              "      <th>pneumonia_0</th>\n",
              "      <th>pneumonia_1</th>\n",
              "      <th>diarrhea_0</th>\n",
              "      <th>diarrhea_1</th>\n",
              "      <th>lung_infection_0</th>\n",
              "      <th>lung_infection_1</th>\n",
              "      <th>travel_history_0</th>\n",
              "      <th>travel_history_1</th>\n",
              "      <th>isolation_treatment_0</th>\n",
              "      <th>isolation_treatment_1</th>\n",
              "    </tr>\n",
              "  </thead>\n",
              "  <tbody>\n",
              "    <tr>\n",
              "      <th>0</th>\n",
              "      <td>0.926316</td>\n",
              "      <td>0</td>\n",
              "      <td>1</td>\n",
              "      <td>0</td>\n",
              "      <td>1</td>\n",
              "      <td>0</td>\n",
              "      <td>1</td>\n",
              "      <td>1</td>\n",
              "      <td>0</td>\n",
              "      <td>1</td>\n",
              "      <td>0</td>\n",
              "      <td>1</td>\n",
              "      <td>0</td>\n",
              "      <td>1</td>\n",
              "      <td>0</td>\n",
              "      <td>1</td>\n",
              "      <td>0</td>\n",
              "      <td>0</td>\n",
              "      <td>1</td>\n",
              "      <td>1</td>\n",
              "      <td>0</td>\n",
              "    </tr>\n",
              "    <tr>\n",
              "      <th>1</th>\n",
              "      <td>0.705263</td>\n",
              "      <td>0</td>\n",
              "      <td>1</td>\n",
              "      <td>0</td>\n",
              "      <td>1</td>\n",
              "      <td>1</td>\n",
              "      <td>0</td>\n",
              "      <td>1</td>\n",
              "      <td>0</td>\n",
              "      <td>1</td>\n",
              "      <td>0</td>\n",
              "      <td>1</td>\n",
              "      <td>0</td>\n",
              "      <td>1</td>\n",
              "      <td>0</td>\n",
              "      <td>1</td>\n",
              "      <td>0</td>\n",
              "      <td>1</td>\n",
              "      <td>0</td>\n",
              "      <td>1</td>\n",
              "      <td>0</td>\n",
              "    </tr>\n",
              "    <tr>\n",
              "      <th>2</th>\n",
              "      <td>0.705263</td>\n",
              "      <td>0</td>\n",
              "      <td>1</td>\n",
              "      <td>1</td>\n",
              "      <td>0</td>\n",
              "      <td>1</td>\n",
              "      <td>0</td>\n",
              "      <td>1</td>\n",
              "      <td>0</td>\n",
              "      <td>1</td>\n",
              "      <td>0</td>\n",
              "      <td>1</td>\n",
              "      <td>0</td>\n",
              "      <td>1</td>\n",
              "      <td>0</td>\n",
              "      <td>1</td>\n",
              "      <td>0</td>\n",
              "      <td>0</td>\n",
              "      <td>1</td>\n",
              "      <td>1</td>\n",
              "      <td>0</td>\n",
              "    </tr>\n",
              "    <tr>\n",
              "      <th>3</th>\n",
              "      <td>0.705263</td>\n",
              "      <td>0</td>\n",
              "      <td>1</td>\n",
              "      <td>0</td>\n",
              "      <td>1</td>\n",
              "      <td>0</td>\n",
              "      <td>1</td>\n",
              "      <td>1</td>\n",
              "      <td>0</td>\n",
              "      <td>1</td>\n",
              "      <td>0</td>\n",
              "      <td>1</td>\n",
              "      <td>0</td>\n",
              "      <td>1</td>\n",
              "      <td>0</td>\n",
              "      <td>1</td>\n",
              "      <td>0</td>\n",
              "      <td>0</td>\n",
              "      <td>1</td>\n",
              "      <td>0</td>\n",
              "      <td>1</td>\n",
              "    </tr>\n",
              "    <tr>\n",
              "      <th>4</th>\n",
              "      <td>0.515789</td>\n",
              "      <td>0</td>\n",
              "      <td>1</td>\n",
              "      <td>0</td>\n",
              "      <td>1</td>\n",
              "      <td>0</td>\n",
              "      <td>1</td>\n",
              "      <td>0</td>\n",
              "      <td>1</td>\n",
              "      <td>1</td>\n",
              "      <td>0</td>\n",
              "      <td>0</td>\n",
              "      <td>1</td>\n",
              "      <td>1</td>\n",
              "      <td>0</td>\n",
              "      <td>1</td>\n",
              "      <td>0</td>\n",
              "      <td>0</td>\n",
              "      <td>1</td>\n",
              "      <td>1</td>\n",
              "      <td>0</td>\n",
              "    </tr>\n",
              "  </tbody>\n",
              "</table>\n",
              "</div>"
            ],
            "text/plain": [
              "   age_year  gender_female  ...  isolation_treatment_0  isolation_treatment_1\n",
              "0  0.926316              0  ...                      1                      0\n",
              "1  0.705263              0  ...                      1                      0\n",
              "2  0.705263              0  ...                      1                      0\n",
              "3  0.705263              0  ...                      0                      1\n",
              "4  0.515789              0  ...                      1                      0\n",
              "\n",
              "[5 rows x 21 columns]"
            ]
          },
          "metadata": {
            "tags": []
          },
          "execution_count": 32
        }
      ]
    },
    {
      "cell_type": "code",
      "metadata": {
        "id": "s6E_NYizsOBe"
      },
      "source": [
        "# label_cat = pd.get_dummies(label['SARS-CoV-2 Positive'], prefix=\"sars\")\n",
        "# label = pd.concat([label, label_cat], axis = 1)\n",
        "# label = label.drop(columns = 'SARS-CoV-2 Positive')\n",
        "# label.head()"
      ],
      "execution_count": null,
      "outputs": []
    },
    {
      "cell_type": "markdown",
      "metadata": {
        "id": "Up060Nyc54v0"
      },
      "source": [
        "## -- Split Data"
      ]
    },
    {
      "cell_type": "code",
      "metadata": {
        "id": "jemPFDaguyRP"
      },
      "source": [
        "from sklearn.model_selection import train_test_split"
      ],
      "execution_count": null,
      "outputs": []
    },
    {
      "cell_type": "code",
      "metadata": {
        "id": "69XQQLwFuyRQ"
      },
      "source": [
        "X_train, X_validate, y_train, y_validate = train_test_split(\n",
        "    features, label, test_size=0.3, shuffle=True, stratify=label)"
      ],
      "execution_count": null,
      "outputs": []
    },
    {
      "cell_type": "code",
      "metadata": {
        "id": "RRZ2nJ-YuyRQ",
        "colab": {
          "base_uri": "https://localhost:8080/"
        },
        "outputId": "46ecfe9b-58f7-47fa-f7d6-c05b747aa921"
      },
      "source": [
        "X_train.shape, X_validate.shape"
      ],
      "execution_count": null,
      "outputs": [
        {
          "output_type": "execute_result",
          "data": {
            "text/plain": [
              "((4558, 21), (1954, 21))"
            ]
          },
          "metadata": {
            "tags": []
          },
          "execution_count": 36
        }
      ]
    },
    {
      "cell_type": "code",
      "metadata": {
        "colab": {
          "base_uri": "https://localhost:8080/"
        },
        "id": "1JxDIEUm_nVt",
        "outputId": "ee993e7e-a564-4f7e-fa80-b6b7c3c62e1e"
      },
      "source": [
        "y_train.count()"
      ],
      "execution_count": null,
      "outputs": [
        {
          "output_type": "execute_result",
          "data": {
            "text/plain": [
              "SARS-CoV-2 Positive    4558\n",
              "dtype: int64"
            ]
          },
          "metadata": {
            "tags": []
          },
          "execution_count": 37
        }
      ]
    },
    {
      "cell_type": "code",
      "metadata": {
        "colab": {
          "base_uri": "https://localhost:8080/"
        },
        "id": "LYZtUQep_xGQ",
        "outputId": "af025b60-7262-4517-bdd4-9292bf49a9eb"
      },
      "source": [
        "y_validate.count()"
      ],
      "execution_count": null,
      "outputs": [
        {
          "output_type": "execute_result",
          "data": {
            "text/plain": [
              "SARS-CoV-2 Positive    1954\n",
              "dtype: int64"
            ]
          },
          "metadata": {
            "tags": []
          },
          "execution_count": 38
        }
      ]
    },
    {
      "cell_type": "markdown",
      "metadata": {
        "id": "Y0cv3xRrvi9l"
      },
      "source": [
        "# **Data Modelling**"
      ]
    },
    {
      "cell_type": "markdown",
      "metadata": {
        "id": "Qro8tA9f8NYJ"
      },
      "source": [
        "## -- Train Model"
      ]
    },
    {
      "cell_type": "code",
      "metadata": {
        "colab": {
          "base_uri": "https://localhost:8080/"
        },
        "id": "_Em1NjXaZboK",
        "outputId": "f6ead2d8-dc75-4440-fdab-ca719043b78e"
      },
      "source": [
        "import tensorflow as tf\n",
        "\n",
        "model = tf.keras.Sequential([\n",
        "    tf.keras.layers.Dense(256, activation=\"relu\", input_shape=(features.columns.size,)),\n",
        "    tf.keras.layers.Dense(128, activation=tf.nn.relu),\n",
        "    tf.keras.layers.Dense(64, activation=tf.nn.relu),\n",
        "    tf.keras.layers.Dense(32, activation=tf.nn.relu),\n",
        "    tf.keras.layers.Dense(1, activation=\"sigmoid\")\n",
        "])\n",
        "\n",
        "model.summary()"
      ],
      "execution_count": null,
      "outputs": [
        {
          "output_type": "stream",
          "text": [
            "Model: \"sequential\"\n",
            "_________________________________________________________________\n",
            "Layer (type)                 Output Shape              Param #   \n",
            "=================================================================\n",
            "dense (Dense)                (None, 256)               5632      \n",
            "_________________________________________________________________\n",
            "dense_1 (Dense)              (None, 128)               32896     \n",
            "_________________________________________________________________\n",
            "dense_2 (Dense)              (None, 64)                8256      \n",
            "_________________________________________________________________\n",
            "dense_3 (Dense)              (None, 32)                2080      \n",
            "_________________________________________________________________\n",
            "dense_4 (Dense)              (None, 1)                 33        \n",
            "=================================================================\n",
            "Total params: 48,897\n",
            "Trainable params: 48,897\n",
            "Non-trainable params: 0\n",
            "_________________________________________________________________\n"
          ],
          "name": "stdout"
        }
      ]
    },
    {
      "cell_type": "code",
      "metadata": {
        "id": "VAWpmoySZewM"
      },
      "source": [
        "from keras.optimizers import SGD\n",
        "opt = SGD(1E-3, momentum=0.9)\n",
        "model.compile(\n",
        "    loss='binary_crossentropy',\n",
        "    optimizer='Adam',\n",
        "    metrics=['accuracy']\n",
        ")"
      ],
      "execution_count": null,
      "outputs": []
    },
    {
      "cell_type": "code",
      "metadata": {
        "id": "pyZUNQ_PramS"
      },
      "source": [
        "class myCallback(tf.keras.callbacks.Callback):\n",
        "  def on_epoch_end(self, epoch, logs={}):\n",
        "    if(logs.get('accuracy')>0.95 and logs.get('val_accuracy')>0.95):\n",
        "      self.model.stop_training = True\n",
        "      print(\"\\nThe accuracy of the training set and the validation set has reached > 95%!\")\n",
        "callbacks = myCallback()"
      ],
      "execution_count": null,
      "outputs": []
    },
    {
      "cell_type": "code",
      "metadata": {
        "id": "Wj0WHRqvGCQI"
      },
      "source": [
        "from keras.callbacks import EarlyStopping\n",
        "from keras.callbacks import ModelCheckpoint\n",
        "# simple early stopping\n",
        "es = EarlyStopping(monitor='val_loss', mode='min', verbose=1, patience=50)"
      ],
      "execution_count": null,
      "outputs": []
    },
    {
      "cell_type": "code",
      "metadata": {
        "id": "8sMeYeb0GCQI"
      },
      "source": [
        "mc = ModelCheckpoint('best_model.h5', monitor='val_accuracy', mode='max', verbose=1, save_best_only=True)"
      ],
      "execution_count": null,
      "outputs": []
    },
    {
      "cell_type": "code",
      "metadata": {
        "colab": {
          "base_uri": "https://localhost:8080/"
        },
        "id": "WlGvATyaZgw8",
        "outputId": "cdb6b34f-82bc-4b77-88c6-e6da5bc90999"
      },
      "source": [
        "history = model.fit(\n",
        "    X_train, \n",
        "    y_train, \n",
        "    validation_data=(X_validate, y_validate), \n",
        "    epochs=500, \n",
        "    batch_size=128, \n",
        "    callbacks=[es, mc], \n",
        "    verbose=2\n",
        ")\n",
        "\n",
        "history.history['accuracy'][-1]"
      ],
      "execution_count": null,
      "outputs": [
        {
          "output_type": "stream",
          "text": [
            "Epoch 1/500\n",
            "36/36 - 1s - loss: 0.3761 - accuracy: 0.8232 - val_loss: 0.2697 - val_accuracy: 0.8639\n",
            "\n",
            "Epoch 00001: val_accuracy improved from -inf to 0.86387, saving model to best_model.h5\n",
            "Epoch 2/500\n",
            "36/36 - 0s - loss: 0.2520 - accuracy: 0.8872 - val_loss: 0.2486 - val_accuracy: 0.8915\n",
            "\n",
            "Epoch 00002: val_accuracy improved from 0.86387 to 0.89150, saving model to best_model.h5\n",
            "Epoch 3/500\n",
            "36/36 - 0s - loss: 0.2405 - accuracy: 0.8875 - val_loss: 0.2408 - val_accuracy: 0.8982\n",
            "\n",
            "Epoch 00003: val_accuracy improved from 0.89150 to 0.89816, saving model to best_model.h5\n",
            "Epoch 4/500\n",
            "36/36 - 0s - loss: 0.2387 - accuracy: 0.8899 - val_loss: 0.2501 - val_accuracy: 0.8792\n",
            "\n",
            "Epoch 00004: val_accuracy did not improve from 0.89816\n",
            "Epoch 5/500\n",
            "36/36 - 0s - loss: 0.2323 - accuracy: 0.8918 - val_loss: 0.2466 - val_accuracy: 0.8756\n",
            "\n",
            "Epoch 00005: val_accuracy did not improve from 0.89816\n",
            "Epoch 6/500\n",
            "36/36 - 0s - loss: 0.2308 - accuracy: 0.8956 - val_loss: 0.2397 - val_accuracy: 0.8920\n",
            "\n",
            "Epoch 00006: val_accuracy did not improve from 0.89816\n",
            "Epoch 7/500\n",
            "36/36 - 0s - loss: 0.2323 - accuracy: 0.8936 - val_loss: 0.2422 - val_accuracy: 0.8859\n",
            "\n",
            "Epoch 00007: val_accuracy did not improve from 0.89816\n",
            "Epoch 8/500\n",
            "36/36 - 0s - loss: 0.2268 - accuracy: 0.8938 - val_loss: 0.2398 - val_accuracy: 0.8992\n",
            "\n",
            "Epoch 00008: val_accuracy improved from 0.89816 to 0.89918, saving model to best_model.h5\n",
            "Epoch 9/500\n",
            "36/36 - 0s - loss: 0.2261 - accuracy: 0.8973 - val_loss: 0.2411 - val_accuracy: 0.8966\n",
            "\n",
            "Epoch 00009: val_accuracy did not improve from 0.89918\n",
            "Epoch 10/500\n",
            "36/36 - 0s - loss: 0.2269 - accuracy: 0.8953 - val_loss: 0.2383 - val_accuracy: 0.8982\n",
            "\n",
            "Epoch 00010: val_accuracy did not improve from 0.89918\n",
            "Epoch 11/500\n",
            "36/36 - 0s - loss: 0.2258 - accuracy: 0.8964 - val_loss: 0.2403 - val_accuracy: 0.8879\n",
            "\n",
            "Epoch 00011: val_accuracy did not improve from 0.89918\n",
            "Epoch 12/500\n",
            "36/36 - 0s - loss: 0.2243 - accuracy: 0.8964 - val_loss: 0.2414 - val_accuracy: 0.8992\n",
            "\n",
            "Epoch 00012: val_accuracy did not improve from 0.89918\n",
            "Epoch 13/500\n",
            "36/36 - 0s - loss: 0.2282 - accuracy: 0.8903 - val_loss: 0.2414 - val_accuracy: 0.8992\n",
            "\n",
            "Epoch 00013: val_accuracy did not improve from 0.89918\n",
            "Epoch 14/500\n",
            "36/36 - 0s - loss: 0.2243 - accuracy: 0.8991 - val_loss: 0.2389 - val_accuracy: 0.8895\n",
            "\n",
            "Epoch 00014: val_accuracy did not improve from 0.89918\n",
            "Epoch 15/500\n",
            "36/36 - 0s - loss: 0.2228 - accuracy: 0.8989 - val_loss: 0.2401 - val_accuracy: 0.8849\n",
            "\n",
            "Epoch 00015: val_accuracy did not improve from 0.89918\n",
            "Epoch 16/500\n",
            "36/36 - 0s - loss: 0.2230 - accuracy: 0.8960 - val_loss: 0.2475 - val_accuracy: 0.8762\n",
            "\n",
            "Epoch 00016: val_accuracy did not improve from 0.89918\n",
            "Epoch 17/500\n",
            "36/36 - 0s - loss: 0.2251 - accuracy: 0.8962 - val_loss: 0.2398 - val_accuracy: 0.8982\n",
            "\n",
            "Epoch 00017: val_accuracy did not improve from 0.89918\n",
            "Epoch 18/500\n",
            "36/36 - 0s - loss: 0.2245 - accuracy: 0.8975 - val_loss: 0.2386 - val_accuracy: 0.8895\n",
            "\n",
            "Epoch 00018: val_accuracy did not improve from 0.89918\n",
            "Epoch 19/500\n",
            "36/36 - 0s - loss: 0.2254 - accuracy: 0.9004 - val_loss: 0.2429 - val_accuracy: 0.8920\n",
            "\n",
            "Epoch 00019: val_accuracy did not improve from 0.89918\n",
            "Epoch 20/500\n",
            "36/36 - 0s - loss: 0.2234 - accuracy: 0.9015 - val_loss: 0.2410 - val_accuracy: 0.8976\n",
            "\n",
            "Epoch 00020: val_accuracy did not improve from 0.89918\n",
            "Epoch 21/500\n",
            "36/36 - 0s - loss: 0.2221 - accuracy: 0.8982 - val_loss: 0.2400 - val_accuracy: 0.8930\n",
            "\n",
            "Epoch 00021: val_accuracy did not improve from 0.89918\n",
            "Epoch 22/500\n",
            "36/36 - 0s - loss: 0.2217 - accuracy: 0.9006 - val_loss: 0.2389 - val_accuracy: 0.8920\n",
            "\n",
            "Epoch 00022: val_accuracy did not improve from 0.89918\n",
            "Epoch 23/500\n",
            "36/36 - 0s - loss: 0.2207 - accuracy: 0.8980 - val_loss: 0.2415 - val_accuracy: 0.8930\n",
            "\n",
            "Epoch 00023: val_accuracy did not improve from 0.89918\n",
            "Epoch 24/500\n",
            "36/36 - 0s - loss: 0.2213 - accuracy: 0.8997 - val_loss: 0.2401 - val_accuracy: 0.8889\n",
            "\n",
            "Epoch 00024: val_accuracy did not improve from 0.89918\n",
            "Epoch 25/500\n",
            "36/36 - 0s - loss: 0.2202 - accuracy: 0.8997 - val_loss: 0.2397 - val_accuracy: 0.8895\n",
            "\n",
            "Epoch 00025: val_accuracy did not improve from 0.89918\n",
            "Epoch 26/500\n",
            "36/36 - 0s - loss: 0.2205 - accuracy: 0.8978 - val_loss: 0.2409 - val_accuracy: 0.8920\n",
            "\n",
            "Epoch 00026: val_accuracy did not improve from 0.89918\n",
            "Epoch 27/500\n",
            "36/36 - 0s - loss: 0.2198 - accuracy: 0.8984 - val_loss: 0.2422 - val_accuracy: 0.8910\n",
            "\n",
            "Epoch 00027: val_accuracy did not improve from 0.89918\n",
            "Epoch 28/500\n",
            "36/36 - 0s - loss: 0.2181 - accuracy: 0.9000 - val_loss: 0.2408 - val_accuracy: 0.8987\n",
            "\n",
            "Epoch 00028: val_accuracy did not improve from 0.89918\n",
            "Epoch 29/500\n",
            "36/36 - 0s - loss: 0.2217 - accuracy: 0.8951 - val_loss: 0.2414 - val_accuracy: 0.8849\n",
            "\n",
            "Epoch 00029: val_accuracy did not improve from 0.89918\n",
            "Epoch 30/500\n",
            "36/36 - 0s - loss: 0.2210 - accuracy: 0.8991 - val_loss: 0.2486 - val_accuracy: 0.8946\n",
            "\n",
            "Epoch 00030: val_accuracy did not improve from 0.89918\n",
            "Epoch 31/500\n",
            "36/36 - 0s - loss: 0.2219 - accuracy: 0.8982 - val_loss: 0.2404 - val_accuracy: 0.8910\n",
            "\n",
            "Epoch 00031: val_accuracy did not improve from 0.89918\n",
            "Epoch 32/500\n",
            "36/36 - 0s - loss: 0.2191 - accuracy: 0.9000 - val_loss: 0.2401 - val_accuracy: 0.8915\n",
            "\n",
            "Epoch 00032: val_accuracy did not improve from 0.89918\n",
            "Epoch 33/500\n",
            "36/36 - 0s - loss: 0.2211 - accuracy: 0.8993 - val_loss: 0.2425 - val_accuracy: 0.8946\n",
            "\n",
            "Epoch 00033: val_accuracy did not improve from 0.89918\n",
            "Epoch 34/500\n",
            "36/36 - 0s - loss: 0.2190 - accuracy: 0.8980 - val_loss: 0.2427 - val_accuracy: 0.8920\n",
            "\n",
            "Epoch 00034: val_accuracy did not improve from 0.89918\n",
            "Epoch 35/500\n",
            "36/36 - 0s - loss: 0.2179 - accuracy: 0.8969 - val_loss: 0.2427 - val_accuracy: 0.8854\n",
            "\n",
            "Epoch 00035: val_accuracy did not improve from 0.89918\n",
            "Epoch 36/500\n",
            "36/36 - 0s - loss: 0.2186 - accuracy: 0.8980 - val_loss: 0.2410 - val_accuracy: 0.8920\n",
            "\n",
            "Epoch 00036: val_accuracy did not improve from 0.89918\n",
            "Epoch 37/500\n",
            "36/36 - 0s - loss: 0.2173 - accuracy: 0.9006 - val_loss: 0.2422 - val_accuracy: 0.8925\n",
            "\n",
            "Epoch 00037: val_accuracy did not improve from 0.89918\n",
            "Epoch 38/500\n",
            "36/36 - 0s - loss: 0.2166 - accuracy: 0.9017 - val_loss: 0.2445 - val_accuracy: 0.8915\n",
            "\n",
            "Epoch 00038: val_accuracy did not improve from 0.89918\n",
            "Epoch 39/500\n",
            "36/36 - 0s - loss: 0.2179 - accuracy: 0.9006 - val_loss: 0.2431 - val_accuracy: 0.8925\n",
            "\n",
            "Epoch 00039: val_accuracy did not improve from 0.89918\n",
            "Epoch 40/500\n",
            "36/36 - 0s - loss: 0.2169 - accuracy: 0.9006 - val_loss: 0.2413 - val_accuracy: 0.8925\n",
            "\n",
            "Epoch 00040: val_accuracy did not improve from 0.89918\n",
            "Epoch 41/500\n",
            "36/36 - 0s - loss: 0.2166 - accuracy: 0.9015 - val_loss: 0.2429 - val_accuracy: 0.8910\n",
            "\n",
            "Epoch 00041: val_accuracy did not improve from 0.89918\n",
            "Epoch 42/500\n",
            "36/36 - 0s - loss: 0.2173 - accuracy: 0.8997 - val_loss: 0.2446 - val_accuracy: 0.8915\n",
            "\n",
            "Epoch 00042: val_accuracy did not improve from 0.89918\n",
            "Epoch 43/500\n",
            "36/36 - 0s - loss: 0.2174 - accuracy: 0.8986 - val_loss: 0.2413 - val_accuracy: 0.8987\n",
            "\n",
            "Epoch 00043: val_accuracy did not improve from 0.89918\n",
            "Epoch 44/500\n",
            "36/36 - 0s - loss: 0.2166 - accuracy: 0.8978 - val_loss: 0.2455 - val_accuracy: 0.8920\n",
            "\n",
            "Epoch 00044: val_accuracy did not improve from 0.89918\n",
            "Epoch 45/500\n",
            "36/36 - 0s - loss: 0.2164 - accuracy: 0.9019 - val_loss: 0.2424 - val_accuracy: 0.8930\n",
            "\n",
            "Epoch 00045: val_accuracy did not improve from 0.89918\n",
            "Epoch 46/500\n",
            "36/36 - 0s - loss: 0.2172 - accuracy: 0.8993 - val_loss: 0.2424 - val_accuracy: 0.8966\n",
            "\n",
            "Epoch 00046: val_accuracy did not improve from 0.89918\n",
            "Epoch 47/500\n",
            "36/36 - 0s - loss: 0.2160 - accuracy: 0.9024 - val_loss: 0.2419 - val_accuracy: 0.8930\n",
            "\n",
            "Epoch 00047: val_accuracy did not improve from 0.89918\n",
            "Epoch 48/500\n",
            "36/36 - 0s - loss: 0.2155 - accuracy: 0.9024 - val_loss: 0.2467 - val_accuracy: 0.8828\n",
            "\n",
            "Epoch 00048: val_accuracy did not improve from 0.89918\n",
            "Epoch 49/500\n",
            "36/36 - 0s - loss: 0.2165 - accuracy: 0.9008 - val_loss: 0.2460 - val_accuracy: 0.8976\n",
            "\n",
            "Epoch 00049: val_accuracy did not improve from 0.89918\n",
            "Epoch 50/500\n",
            "36/36 - 0s - loss: 0.2157 - accuracy: 0.9002 - val_loss: 0.2450 - val_accuracy: 0.8920\n",
            "\n",
            "Epoch 00050: val_accuracy did not improve from 0.89918\n",
            "Epoch 51/500\n",
            "36/36 - 0s - loss: 0.2153 - accuracy: 0.9030 - val_loss: 0.2414 - val_accuracy: 0.8976\n",
            "\n",
            "Epoch 00051: val_accuracy did not improve from 0.89918\n",
            "Epoch 52/500\n",
            "36/36 - 0s - loss: 0.2144 - accuracy: 0.9008 - val_loss: 0.2457 - val_accuracy: 0.8915\n",
            "\n",
            "Epoch 00052: val_accuracy did not improve from 0.89918\n",
            "Epoch 53/500\n",
            "36/36 - 0s - loss: 0.2164 - accuracy: 0.8971 - val_loss: 0.2438 - val_accuracy: 0.8992\n",
            "\n",
            "Epoch 00053: val_accuracy did not improve from 0.89918\n",
            "Epoch 54/500\n",
            "36/36 - 0s - loss: 0.2167 - accuracy: 0.9024 - val_loss: 0.2482 - val_accuracy: 0.8930\n",
            "\n",
            "Epoch 00054: val_accuracy did not improve from 0.89918\n",
            "Epoch 55/500\n",
            "36/36 - 0s - loss: 0.2181 - accuracy: 0.9017 - val_loss: 0.2427 - val_accuracy: 0.8920\n",
            "\n",
            "Epoch 00055: val_accuracy did not improve from 0.89918\n",
            "Epoch 56/500\n",
            "36/36 - 0s - loss: 0.2143 - accuracy: 0.9032 - val_loss: 0.2440 - val_accuracy: 0.8915\n",
            "\n",
            "Epoch 00056: val_accuracy did not improve from 0.89918\n",
            "Epoch 57/500\n",
            "36/36 - 0s - loss: 0.2168 - accuracy: 0.9017 - val_loss: 0.2445 - val_accuracy: 0.8920\n",
            "\n",
            "Epoch 00057: val_accuracy did not improve from 0.89918\n",
            "Epoch 58/500\n",
            "36/36 - 0s - loss: 0.2136 - accuracy: 0.9028 - val_loss: 0.2432 - val_accuracy: 0.8900\n",
            "\n",
            "Epoch 00058: val_accuracy did not improve from 0.89918\n",
            "Epoch 59/500\n",
            "36/36 - 0s - loss: 0.2140 - accuracy: 0.9011 - val_loss: 0.2437 - val_accuracy: 0.8925\n",
            "\n",
            "Epoch 00059: val_accuracy did not improve from 0.89918\n",
            "Epoch 60/500\n",
            "36/36 - 0s - loss: 0.2138 - accuracy: 0.9017 - val_loss: 0.2460 - val_accuracy: 0.8915\n",
            "\n",
            "Epoch 00060: val_accuracy did not improve from 0.89918\n",
            "Epoch 00060: early stopping\n"
          ],
          "name": "stdout"
        },
        {
          "output_type": "execute_result",
          "data": {
            "text/plain": [
              "0.9017112851142883"
            ]
          },
          "metadata": {
            "tags": []
          },
          "execution_count": 44
        }
      ]
    },
    {
      "cell_type": "code",
      "metadata": {
        "colab": {
          "base_uri": "https://localhost:8080/"
        },
        "id": "ld6f_-5_g6s8",
        "outputId": "9f2d97c5-a5d7-4883-8f10-acbfb21730b5"
      },
      "source": [
        "_, train_acc = model.evaluate(X_train, y_train, verbose=0)\n",
        "_, valid_acc = model.evaluate(X_validate, y_validate, verbose=0)\n",
        "print('Train: %.3f, Valid: %.3f' % (train_acc, valid_acc))"
      ],
      "execution_count": null,
      "outputs": [
        {
          "output_type": "stream",
          "text": [
            "Train: 0.903, Valid: 0.892\n"
          ],
          "name": "stdout"
        }
      ]
    },
    {
      "cell_type": "code",
      "metadata": {
        "colab": {
          "base_uri": "https://localhost:8080/"
        },
        "id": "psy65QUACONX",
        "outputId": "0cabe488-393a-4864-99b7-8a6709303211"
      },
      "source": [
        "from keras.models import load_model\n",
        "saved_model = load_model('best_model.h5')\n",
        "_, train_acc = saved_model.evaluate(X_train, y_train, verbose=0)\n",
        "_, valid_acc = saved_model.evaluate(X_validate, y_validate, verbose=0)\n",
        "print('Train: %.3f, Valid: %.3f' % (train_acc, valid_acc))"
      ],
      "execution_count": null,
      "outputs": [
        {
          "output_type": "stream",
          "text": [
            "Train: 0.898, Valid: 0.899\n"
          ],
          "name": "stdout"
        }
      ]
    },
    {
      "cell_type": "markdown",
      "metadata": {
        "id": "wvxy8A398cug"
      },
      "source": [
        "## -- Plot Model"
      ]
    },
    {
      "cell_type": "code",
      "metadata": {
        "colab": {
          "base_uri": "https://localhost:8080/",
          "height": 376
        },
        "id": "Q_lRLXUD7ui4",
        "outputId": "38badbc7-bf3f-4f3a-eb5a-18cd2a5559d0"
      },
      "source": [
        "import matplotlib.pyplot as plt\n",
        "plt.plot(history.history['accuracy'], color='red')\n",
        "plt.plot(history.history['val_accuracy'], color='blue')\n",
        "plt.ylim(top=1)\n",
        "plt.title('Akurasi Model')\n",
        "plt.ylabel('accuracy')\n",
        "plt.xlabel('epoch')\n",
        "plt.legend(['train', 'test'], loc='upper left')\n",
        "plt.show()"
      ],
      "execution_count": null,
      "outputs": [
        {
          "output_type": "display_data",
          "data": {
            "image/png": "[encoded data removed]",
            "text/plain": [
              "<Figure size 576x396 with 1 Axes>"
            ]
          },
          "metadata": {
            "tags": []
          }
        }
      ]
    },
    {
      "cell_type": "code",
      "metadata": {
        "colab": {
          "base_uri": "https://localhost:8080/",
          "height": 376
        },
        "id": "ja2Fijxj7ui6",
        "outputId": "1ae0e907-f3c3-4276-bde8-81fda30a9880"
      },
      "source": [
        "plt.plot(history.history['loss'], color='red')\n",
        "plt.plot(history.history['val_loss'], color='blue')\n",
        "plt.title('Loss Model')\n",
        "plt.ylabel('loss')\n",
        "plt.xlabel('epoch')\n",
        "plt.legend(['train', 'test'], loc='upper left')\n",
        "plt.show()"
      ],
      "execution_count": null,
      "outputs": [
        {
          "output_type": "display_data",
          "data": {
            "image/png": "[encoded data removed]",
            "text/plain": [
              "<Figure size 576x396 with 1 Axes>"
            ]
          },
          "metadata": {
            "tags": []
          }
        }
      ]
    },
    {
      "cell_type": "code",
      "metadata": {
        "id": "8eC20mw4sfwz"
      },
      "source": [
        "from keras.optimizers import SGD\n",
        "# fit a model and plot learning curve\n",
        "def fit_model(X_train, y_train, X_validate, y_validate, learning_rate):\n",
        "  model = tf.keras.Sequential([\n",
        "    tf.keras.layers.Dense(256, activation=\"relu\", input_shape=(features.columns.size,)),\n",
        "    tf.keras.layers.Dense(128, activation=tf.nn.relu),\n",
        "    tf.keras.layers.Dense(64, activation=tf.nn.relu),\n",
        "    tf.keras.layers.Dense(32, activation=tf.nn.relu),\n",
        "    tf.keras.layers.Dense(1, activation=\"sigmoid\")\n",
        "  ])\n",
        "  opt = SGD(learning_rate, momentum=0.9)\n",
        "  model.compile(\n",
        "    loss='binary_crossentropy',\n",
        "    optimizer=opt,\n",
        "    metrics=['accuracy']\n",
        "  )\n",
        "\n",
        "  history = model.fit(X_train, y_train, validation_data=(X_validate, y_validate), epochs=500, batch_size=128, verbose=0)\n",
        "  plt.plot(history.history['accuracy'], label='train')\n",
        "  plt.plot(history.history['val_accuracy'], label='test')\n",
        "  plt.ylim(top=1)\n",
        "  plt.title('Learning Rate = '+str(learning_rate))\n",
        "  plt.legend()\n"
      ],
      "execution_count": null,
      "outputs": []
    },
    {
      "cell_type": "code",
      "metadata": {
        "id": "w8n-_6HZsfxQ",
        "colab": {
          "base_uri": "https://localhost:8080/",
          "height": 1000
        },
        "outputId": "8f7111a5-5e34-4ec2-f66c-f0a784179faa"
      },
      "source": [
        "learning_rate = [1, 1E-1, 1E-2, 1E-3, 1E-4, 1E-5]\n",
        "\n",
        "plt.figure(figsize=(10, 20))\n",
        "for i in range(len(learning_rate)):\n",
        "  # determine the plot number\n",
        "  plt.subplot(3,2,i+1)\n",
        "    \n",
        "  # fit model and plot learning curves for a batch size\n",
        "  fit_model(X_train, y_train, X_validate, y_validate, learning_rate[i])\n",
        "  # show learning curves\n",
        "plt.show()"
      ],
      "execution_count": null,
      "outputs": [
        {
          "output_type": "display_data",
          "data": {
            "image/png": "[encoded data removed]",
            "text/plain": [
              "<Figure size 720x1440 with 6 Axes>"
            ]
          },
          "metadata": {
            "tags": []
          }
        }
      ]
    },
    {
      "cell_type": "markdown",
      "metadata": {
        "id": "zkcw99az8ged"
      },
      "source": [
        "## -- Predict and Evaluate Model"
      ]
    },
    {
      "cell_type": "code",
      "metadata": {
        "id": "niAa2Ht5eAv-",
        "colab": {
          "base_uri": "https://localhost:8080/"
        },
        "outputId": "39cb45b5-cba1-4199-b305-3ab409c926d2"
      },
      "source": [
        "predictions = model.predict(X_validate)\n",
        "predictions"
      ],
      "execution_count": null,
      "outputs": [
        {
          "output_type": "execute_result",
          "data": {
            "text/plain": [
              "array([[0.04524082],\n",
              "       [0.52242506],\n",
              "       [0.01084223],\n",
              "       ...,\n",
              "       [0.99858904],\n",
              "       [0.00931242],\n",
              "       [0.02328277]], dtype=float32)"
            ]
          },
          "metadata": {
            "tags": []
          },
          "execution_count": 51
        }
      ]
    },
    {
      "cell_type": "code",
      "metadata": {
        "colab": {
          "base_uri": "https://localhost:8080/"
        },
        "id": "O-nDIfVfeJA3",
        "outputId": "493562bd-c792-4a92-a00e-ec45756c2d55"
      },
      "source": [
        "y_pred = np.where(predictions < 0.5, 0, 1)\n",
        "y_pred"
      ],
      "execution_count": null,
      "outputs": [
        {
          "output_type": "execute_result",
          "data": {
            "text/plain": [
              "array([[0],\n",
              "       [1],\n",
              "       [0],\n",
              "       ...,\n",
              "       [1],\n",
              "       [0],\n",
              "       [0]])"
            ]
          },
          "metadata": {
            "tags": []
          },
          "execution_count": 52
        }
      ]
    },
    {
      "cell_type": "code",
      "metadata": {
        "colab": {
          "base_uri": "https://localhost:8080/",
          "height": 402
        },
        "id": "5E7kpwVquCHA",
        "outputId": "b52d316b-5134-4ee7-ff26-f8a9971ccd7a"
      },
      "source": [
        "y_validate"
      ],
      "execution_count": null,
      "outputs": [
        {
          "output_type": "execute_result",
          "data": {
            "text/html": [
              "<div>\n",
              "<style scoped>\n",
              "    .dataframe tbody tr th:only-of-type {\n",
              "        vertical-align: middle;\n",
              "    }\n",
              "\n",
              "    .dataframe tbody tr th {\n",
              "        vertical-align: top;\n",
              "    }\n",
              "\n",
              "    .dataframe thead th {\n",
              "        text-align: right;\n",
              "    }\n",
              "</style>\n",
              "<table border=\"1\" class=\"dataframe\">\n",
              "  <thead>\n",
              "    <tr style=\"text-align: right;\">\n",
              "      <th></th>\n",
              "      <th>SARS-CoV-2 Positive</th>\n",
              "    </tr>\n",
              "  </thead>\n",
              "  <tbody>\n",
              "    <tr>\n",
              "      <th>1446</th>\n",
              "      <td>0</td>\n",
              "    </tr>\n",
              "    <tr>\n",
              "      <th>74</th>\n",
              "      <td>0</td>\n",
              "    </tr>\n",
              "    <tr>\n",
              "      <th>5764</th>\n",
              "      <td>0</td>\n",
              "    </tr>\n",
              "    <tr>\n",
              "      <th>1197</th>\n",
              "      <td>1</td>\n",
              "    </tr>\n",
              "    <tr>\n",
              "      <th>6185</th>\n",
              "      <td>0</td>\n",
              "    </tr>\n",
              "    <tr>\n",
              "      <th>...</th>\n",
              "      <td>...</td>\n",
              "    </tr>\n",
              "    <tr>\n",
              "      <th>1701</th>\n",
              "      <td>1</td>\n",
              "    </tr>\n",
              "    <tr>\n",
              "      <th>998</th>\n",
              "      <td>0</td>\n",
              "    </tr>\n",
              "    <tr>\n",
              "      <th>935</th>\n",
              "      <td>1</td>\n",
              "    </tr>\n",
              "    <tr>\n",
              "      <th>5265</th>\n",
              "      <td>0</td>\n",
              "    </tr>\n",
              "    <tr>\n",
              "      <th>2516</th>\n",
              "      <td>0</td>\n",
              "    </tr>\n",
              "  </tbody>\n",
              "</table>\n",
              "<p>1954 rows × 1 columns</p>\n",
              "</div>"
            ],
            "text/plain": [
              "      SARS-CoV-2 Positive\n",
              "1446                    0\n",
              "74                      0\n",
              "5764                    0\n",
              "1197                    1\n",
              "6185                    0\n",
              "...                   ...\n",
              "1701                    1\n",
              "998                     0\n",
              "935                     1\n",
              "5265                    0\n",
              "2516                    0\n",
              "\n",
              "[1954 rows x 1 columns]"
            ]
          },
          "metadata": {
            "tags": []
          },
          "execution_count": 53
        }
      ]
    },
    {
      "cell_type": "code",
      "metadata": {
        "id": "54f_2ea-pMsU"
      },
      "source": [
        "# y_pred = np.argmax(predictions, axis=1)\n",
        "# y_validate = np.argmax(y_validate.values, axis=1)"
      ],
      "execution_count": null,
      "outputs": []
    },
    {
      "cell_type": "code",
      "metadata": {
        "id": "XtIiFjG8jf2E",
        "colab": {
          "base_uri": "https://localhost:8080/"
        },
        "outputId": "45a05289-58e8-4eff-a54b-48e02be9af02"
      },
      "source": [
        "from sklearn.metrics import accuracy_score\n",
        "\n",
        "accuracy_score(y_validate, y_pred)"
      ],
      "execution_count": null,
      "outputs": [
        {
          "output_type": "execute_result",
          "data": {
            "text/plain": [
              "0.8915046059365405"
            ]
          },
          "metadata": {
            "tags": []
          },
          "execution_count": 55
        }
      ]
    },
    {
      "cell_type": "code",
      "metadata": {
        "id": "rAFjFUnPVLat"
      },
      "source": [
        "from sklearn import metrics\n",
        "from sklearn.metrics import f1_score, confusion_matrix, accuracy_score"
      ],
      "execution_count": null,
      "outputs": []
    },
    {
      "cell_type": "code",
      "metadata": {
        "colab": {
          "base_uri": "https://localhost:8080/",
          "height": 386
        },
        "id": "lPExTeQ2VLau",
        "outputId": "b20720d7-21ee-4117-fdde-d927822f56dc"
      },
      "source": [
        "ac= accuracy_score(y_validate, y_pred)\n",
        "print('Accuracy is:', ac)\n",
        "cm = confusion_matrix(y_validate, y_pred)\n",
        "sns.heatmap(cm,annot=True,fmt='d')"
      ],
      "execution_count": null,
      "outputs": [
        {
          "output_type": "stream",
          "text": [
            "Accuracy is: 0.8915046059365405\n"
          ],
          "name": "stdout"
        },
        {
          "output_type": "execute_result",
          "data": {
            "text/plain": [
              "<matplotlib.axes._subplots.AxesSubplot at 0x7fede37dbdd0>"
            ]
          },
          "metadata": {
            "tags": []
          },
          "execution_count": 57
        },
        {
          "output_type": "display_data",
          "data": {
            "image/png": "[encoded data removed]",
            "text/plain": [
              "<Figure size 576x396 with 2 Axes>"
            ]
          },
          "metadata": {
            "tags": []
          }
        }
      ]
    },
    {
      "cell_type": "code",
      "metadata": {
        "id": "8oOol1PSVLav"
      },
      "source": [
        "from sklearn.metrics import classification_report"
      ],
      "execution_count": null,
      "outputs": []
    },
    {
      "cell_type": "code",
      "metadata": {
        "colab": {
          "base_uri": "https://localhost:8080/",
          "height": 106
        },
        "id": "in4WPTUL6I_S",
        "outputId": "bbe3d1d8-4e73-43e5-ea0a-71ddb5a96b39"
      },
      "source": [
        "from sklearn.metrics import classification_report, confusion_matrix\n",
        "cm = np.array(confusion_matrix(y_validate, y_pred, labels=[1,0])) # positive-1, suspected-0\n",
        "confusion = pd.DataFrame(cm, index=['is_covid', 'is_suspected'],\n",
        "                         columns=['predicted_covid', 'predicted_suspected'])\n",
        "confusion"
      ],
      "execution_count": null,
      "outputs": [
        {
          "output_type": "execute_result",
          "data": {
            "text/html": [
              "<div>\n",
              "<style scoped>\n",
              "    .dataframe tbody tr th:only-of-type {\n",
              "        vertical-align: middle;\n",
              "    }\n",
              "\n",
              "    .dataframe tbody tr th {\n",
              "        vertical-align: top;\n",
              "    }\n",
              "\n",
              "    .dataframe thead th {\n",
              "        text-align: right;\n",
              "    }\n",
              "</style>\n",
              "<table border=\"1\" class=\"dataframe\">\n",
              "  <thead>\n",
              "    <tr style=\"text-align: right;\">\n",
              "      <th></th>\n",
              "      <th>predicted_covid</th>\n",
              "      <th>predicted_suspected</th>\n",
              "    </tr>\n",
              "  </thead>\n",
              "  <tbody>\n",
              "    <tr>\n",
              "      <th>is_covid</th>\n",
              "      <td>337</td>\n",
              "      <td>135</td>\n",
              "    </tr>\n",
              "    <tr>\n",
              "      <th>is_suspected</th>\n",
              "      <td>77</td>\n",
              "      <td>1405</td>\n",
              "    </tr>\n",
              "  </tbody>\n",
              "</table>\n",
              "</div>"
            ],
            "text/plain": [
              "              predicted_covid  predicted_suspected\n",
              "is_covid                  337                  135\n",
              "is_suspected               77                 1405"
            ]
          },
          "metadata": {
            "tags": []
          },
          "execution_count": 59
        }
      ]
    },
    {
      "cell_type": "code",
      "metadata": {
        "colab": {
          "base_uri": "https://localhost:8080/"
        },
        "id": "UvRtCGorVLax",
        "outputId": "71ee0406-52fd-43e8-f205-d201b6ae2c38"
      },
      "source": [
        "print('Acc',classification_report(y_validate, y_pred))"
      ],
      "execution_count": null,
      "outputs": [
        {
          "output_type": "stream",
          "text": [
            "Acc               precision    recall  f1-score   support\n",
            "\n",
            "           0       0.91      0.95      0.93      1482\n",
            "           1       0.81      0.71      0.76       472\n",
            "\n",
            "    accuracy                           0.89      1954\n",
            "   macro avg       0.86      0.83      0.85      1954\n",
            "weighted avg       0.89      0.89      0.89      1954\n",
            "\n"
          ],
          "name": "stdout"
        }
      ]
    },
    {
      "cell_type": "markdown",
      "metadata": {
        "id": "FM1kWD-l8mIj"
      },
      "source": [
        "## -- Save Model\n"
      ]
    },
    {
      "cell_type": "code",
      "metadata": {
        "id": "7zcflMOu3cKz",
        "colab": {
          "base_uri": "https://localhost:8080/"
        },
        "outputId": "1d73ea65-7cec-4f73-f682-b7c587adc2c8"
      },
      "source": [
        "import tempfile\n",
        "MODEL_DIR = tempfile.gettempdir()\n",
        "\n",
        "version = 1\n",
        "\n",
        "export_path = os.path.join(MODEL_DIR, str(version))\n",
        "\n",
        "if os.path.isdir(export_path):\n",
        "    print('\\nAlready saved a model, cleaning up\\n')\n",
        "    !rm -r {export_path}\n",
        "\n",
        "model.save(export_path, save_format=\"tf\")\n",
        "\n",
        "print('\\nexport_path = {}'.format(export_path))\n",
        "!ls -l {export_path}"
      ],
      "execution_count": null,
      "outputs": [
        {
          "output_type": "stream",
          "text": [
            "INFO:tensorflow:Assets written to: /tmp/1/assets\n",
            "\n",
            "export_path = /tmp/1\n",
            "total 156\n",
            "drwxr-xr-x 2 root root   4096 May 31 11:33 assets\n",
            "-rw-r--r-- 1 root root  11876 May 31 11:33 keras_metadata.pb\n",
            "-rw-r--r-- 1 root root 137383 May 31 11:33 saved_model.pb\n",
            "drwxr-xr-x 2 root root   4096 May 31 11:33 variables\n"
          ],
          "name": "stdout"
        }
      ]
    },
    {
      "cell_type": "code",
      "metadata": {
        "id": "xO-Z12V69djD"
      },
      "source": [
        "# Intialize the TFLite converter to load the SavedModel\n",
        "converter = tf.lite.TFLiteConverter.from_saved_model(export_path)\n",
        "\n",
        "# Set the optimization strategy for 'size' in the converter \n",
        "converter.optimizations = [tf.lite.Optimize.OPTIMIZE_FOR_SIZE]\n",
        "\n",
        "# Use the tool to finally convert the model\n",
        "tflite_model = converter.convert()\n",
        "\n",
        "# Write TFLite model\n",
        "tflite_model_file = 'covid_model_03.tflite'\n",
        "\n",
        "with open(tflite_model_file, \"wb\") as f:\n",
        "    f.write(tflite_model)\n",
        "\n",
        "with open('covid_labels_03.txt', 'w') as f:\n",
        "    f.write('\\n'.join(label_types))"
      ],
      "execution_count": null,
      "outputs": []
    },
    {
      "cell_type": "code",
      "metadata": {
        "id": "WgaqF80YBQIq",
        "colab": {
          "base_uri": "https://localhost:8080/",
          "height": 17
        },
        "outputId": "b5146826-3acb-44a4-f24b-f054d8cea853"
      },
      "source": [
        "try:\n",
        "    files.download('covid_model_03.tflite')\n",
        "    files.download('covid_labels_03.txt')\n",
        "except:\n",
        "    pass"
      ],
      "execution_count": null,
      "outputs": [
        {
          "output_type": "display_data",
          "data": {
            "application/javascript": [
              "\n",
              "    async function download(id, filename, size) {\n",
              "      if (!google.colab.kernel.accessAllowed) {\n",
              "        return;\n",
              "      }\n",
              "      const div = document.createElement('div');\n",
              "      const label = document.createElement('label');\n",
              "      label.textContent = `Downloading \"${filename}\": `;\n",
              "      div.appendChild(label);\n",
              "      const progress = document.createElement('progress');\n",
              "      progress.max = size;\n",
              "      div.appendChild(progress);\n",
              "      document.body.appendChild(div);\n",
              "\n",
              "      const buffers = [];\n",
              "      let downloaded = 0;\n",
              "\n",
              "      const channel = await google.colab.kernel.comms.open(id);\n",
              "      // Send a message to notify the kernel that we're ready.\n",
              "      channel.send({})\n",
              "\n",
              "      for await (const message of channel.messages) {\n",
              "        // Send a message to notify the kernel that we're ready.\n",
              "        channel.send({})\n",
              "        if (message.buffers) {\n",
              "          for (const buffer of message.buffers) {\n",
              "            buffers.push(buffer);\n",
              "            downloaded += buffer.byteLength;\n",
              "            progress.value = downloaded;\n",
              "          }\n",
              "        }\n",
              "      }\n",
              "      const blob = new Blob(buffers, {type: 'application/binary'});\n",
              "      const a = document.createElement('a');\n",
              "      a.href = window.URL.createObjectURL(blob);\n",
              "      a.download = filename;\n",
              "      div.appendChild(a);\n",
              "      a.click();\n",
              "      div.remove();\n",
              "    }\n",
              "  "
            ],
            "text/plain": [
              "<IPython.core.display.Javascript object>"
            ]
          },
          "metadata": {
            "tags": []
          }
        },
        {
          "output_type": "display_data",
          "data": {
            "application/javascript": [
              "download(\"download_5310a6f4-2feb-4125-9e13-951229ceba4c\", \"covid_model_02.tflite\", 53312)"
            ],
            "text/plain": [
              "<IPython.core.display.Javascript object>"
            ]
          },
          "metadata": {
            "tags": []
          }
        },
        {
          "output_type": "display_data",
          "data": {
            "application/javascript": [
              "\n",
              "    async function download(id, filename, size) {\n",
              "      if (!google.colab.kernel.accessAllowed) {\n",
              "        return;\n",
              "      }\n",
              "      const div = document.createElement('div');\n",
              "      const label = document.createElement('label');\n",
              "      label.textContent = `Downloading \"${filename}\": `;\n",
              "      div.appendChild(label);\n",
              "      const progress = document.createElement('progress');\n",
              "      progress.max = size;\n",
              "      div.appendChild(progress);\n",
              "      document.body.appendChild(div);\n",
              "\n",
              "      const buffers = [];\n",
              "      let downloaded = 0;\n",
              "\n",
              "      const channel = await google.colab.kernel.comms.open(id);\n",
              "      // Send a message to notify the kernel that we're ready.\n",
              "      channel.send({})\n",
              "\n",
              "      for await (const message of channel.messages) {\n",
              "        // Send a message to notify the kernel that we're ready.\n",
              "        channel.send({})\n",
              "        if (message.buffers) {\n",
              "          for (const buffer of message.buffers) {\n",
              "            buffers.push(buffer);\n",
              "            downloaded += buffer.byteLength;\n",
              "            progress.value = downloaded;\n",
              "          }\n",
              "        }\n",
              "      }\n",
              "      const blob = new Blob(buffers, {type: 'application/binary'});\n",
              "      const a = document.createElement('a');\n",
              "      a.href = window.URL.createObjectURL(blob);\n",
              "      a.download = filename;\n",
              "      div.appendChild(a);\n",
              "      a.click();\n",
              "      div.remove();\n",
              "    }\n",
              "  "
            ],
            "text/plain": [
              "<IPython.core.display.Javascript object>"
            ]
          },
          "metadata": {
            "tags": []
          }
        },
        {
          "output_type": "display_data",
          "data": {
            "application/javascript": [
              "download(\"download_eac6f26f-a6f3-4170-b72b-13b43000c322\", \"covid_labels_02.txt\", 18)"
            ],
            "text/plain": [
              "<IPython.core.display.Javascript object>"
            ]
          },
          "metadata": {
            "tags": []
          }
        }
      ]
    },
    {
      "cell_type": "markdown",
      "metadata": {
        "id": "CPyojt2kkeVN"
      },
      "source": [
        "## -- Save Model 02 for best_model.h5\n"
      ]
    },
    {
      "cell_type": "code",
      "metadata": {
        "colab": {
          "base_uri": "https://localhost:8080/"
        },
        "id": "_g4Mr9YgkeVS",
        "outputId": "694659e0-2ddb-44f8-cfdb-8ebf7107b53f"
      },
      "source": [
        "import tempfile\n",
        "MODEL_DIR = tempfile.gettempdir()\n",
        "\n",
        "version = 2\n",
        "\n",
        "export_path = os.path.join(MODEL_DIR, str(version))\n",
        "\n",
        "if os.path.isdir(export_path):\n",
        "    print('\\nAlready saved a model, cleaning up\\n')\n",
        "    !rm -r {export_path}\n",
        "\n",
        "saved_model.save(export_path, save_format=\"tf\")\n",
        "\n",
        "print('\\nexport_path = {}'.format(export_path))\n",
        "!ls -l {export_path}"
      ],
      "execution_count": null,
      "outputs": [
        {
          "output_type": "stream",
          "text": [
            "INFO:tensorflow:Assets written to: /tmp/2/assets\n",
            "\n",
            "export_path = /tmp/2\n",
            "total 156\n",
            "drwxr-xr-x 2 root root   4096 May 31 11:33 assets\n",
            "-rw-r--r-- 1 root root  11876 May 31 11:33 keras_metadata.pb\n",
            "-rw-r--r-- 1 root root 135869 May 31 11:33 saved_model.pb\n",
            "drwxr-xr-x 2 root root   4096 May 31 11:33 variables\n"
          ],
          "name": "stdout"
        }
      ]
    },
    {
      "cell_type": "code",
      "metadata": {
        "id": "3SrkdJDVkeVU"
      },
      "source": [
        "# Intialize the TFLite converter to load the SavedModel\n",
        "converter = tf.lite.TFLiteConverter.from_saved_model(export_path)\n",
        "\n",
        "# Set the optimization strategy for 'size' in the converter \n",
        "converter.optimizations = [tf.lite.Optimize.OPTIMIZE_FOR_SIZE]\n",
        "\n",
        "# Use the tool to finally convert the model\n",
        "tflite_model = converter.convert()\n",
        "\n",
        "# Write TFLite model\n",
        "tflite_model_file = 'covid_model_03_v2.tflite'\n",
        "\n",
        "with open(tflite_model_file, \"wb\") as f:\n",
        "    f.write(tflite_model)\n",
        "\n",
        "with open('covid_labels_03_v2.txt', 'w') as f:\n",
        "    f.write('\\n'.join(label_types))"
      ],
      "execution_count": null,
      "outputs": []
    },
    {
      "cell_type": "code",
      "metadata": {
        "colab": {
          "base_uri": "https://localhost:8080/",
          "height": 17
        },
        "id": "UXO1KyYHkeVU",
        "outputId": "d4e3d6bb-7b92-4e16-bd32-8010685fac52"
      },
      "source": [
        "try:\n",
        "    files.download('covid_model_03_v2.tflite')\n",
        "    files.download('covid_labels_03_v2.txt')\n",
        "except:\n",
        "    pass"
      ],
      "execution_count": null,
      "outputs": [
        {
          "output_type": "display_data",
          "data": {
            "application/javascript": [
              "\n",
              "    async function download(id, filename, size) {\n",
              "      if (!google.colab.kernel.accessAllowed) {\n",
              "        return;\n",
              "      }\n",
              "      const div = document.createElement('div');\n",
              "      const label = document.createElement('label');\n",
              "      label.textContent = `Downloading \"${filename}\": `;\n",
              "      div.appendChild(label);\n",
              "      const progress = document.createElement('progress');\n",
              "      progress.max = size;\n",
              "      div.appendChild(progress);\n",
              "      document.body.appendChild(div);\n",
              "\n",
              "      const buffers = [];\n",
              "      let downloaded = 0;\n",
              "\n",
              "      const channel = await google.colab.kernel.comms.open(id);\n",
              "      // Send a message to notify the kernel that we're ready.\n",
              "      channel.send({})\n",
              "\n",
              "      for await (const message of channel.messages) {\n",
              "        // Send a message to notify the kernel that we're ready.\n",
              "        channel.send({})\n",
              "        if (message.buffers) {\n",
              "          for (const buffer of message.buffers) {\n",
              "            buffers.push(buffer);\n",
              "            downloaded += buffer.byteLength;\n",
              "            progress.value = downloaded;\n",
              "          }\n",
              "        }\n",
              "      }\n",
              "      const blob = new Blob(buffers, {type: 'application/binary'});\n",
              "      const a = document.createElement('a');\n",
              "      a.href = window.URL.createObjectURL(blob);\n",
              "      a.download = filename;\n",
              "      div.appendChild(a);\n",
              "      a.click();\n",
              "      div.remove();\n",
              "    }\n",
              "  "
            ],
            "text/plain": [
              "<IPython.core.display.Javascript object>"
            ]
          },
          "metadata": {
            "tags": []
          }
        },
        {
          "output_type": "display_data",
          "data": {
            "application/javascript": [
              "download(\"download_1b8d03ce-7d48-4466-923e-0eb49c08ed7f\", \"covid_model_02_v2.tflite\", 53312)"
            ],
            "text/plain": [
              "<IPython.core.display.Javascript object>"
            ]
          },
          "metadata": {
            "tags": []
          }
        },
        {
          "output_type": "display_data",
          "data": {
            "application/javascript": [
              "\n",
              "    async function download(id, filename, size) {\n",
              "      if (!google.colab.kernel.accessAllowed) {\n",
              "        return;\n",
              "      }\n",
              "      const div = document.createElement('div');\n",
              "      const label = document.createElement('label');\n",
              "      label.textContent = `Downloading \"${filename}\": `;\n",
              "      div.appendChild(label);\n",
              "      const progress = document.createElement('progress');\n",
              "      progress.max = size;\n",
              "      div.appendChild(progress);\n",
              "      document.body.appendChild(div);\n",
              "\n",
              "      const buffers = [];\n",
              "      let downloaded = 0;\n",
              "\n",
              "      const channel = await google.colab.kernel.comms.open(id);\n",
              "      // Send a message to notify the kernel that we're ready.\n",
              "      channel.send({})\n",
              "\n",
              "      for await (const message of channel.messages) {\n",
              "        // Send a message to notify the kernel that we're ready.\n",
              "        channel.send({})\n",
              "        if (message.buffers) {\n",
              "          for (const buffer of message.buffers) {\n",
              "            buffers.push(buffer);\n",
              "            downloaded += buffer.byteLength;\n",
              "            progress.value = downloaded;\n",
              "          }\n",
              "        }\n",
              "      }\n",
              "      const blob = new Blob(buffers, {type: 'application/binary'});\n",
              "      const a = document.createElement('a');\n",
              "      a.href = window.URL.createObjectURL(blob);\n",
              "      a.download = filename;\n",
              "      div.appendChild(a);\n",
              "      a.click();\n",
              "      div.remove();\n",
              "    }\n",
              "  "
            ],
            "text/plain": [
              "<IPython.core.display.Javascript object>"
            ]
          },
          "metadata": {
            "tags": []
          }
        },
        {
          "output_type": "display_data",
          "data": {
            "application/javascript": [
              "download(\"download_d4101ec7-435b-4917-87f5-8f0131a628df\", \"covid_labels_02_v2.txt\", 18)"
            ],
            "text/plain": [
              "<IPython.core.display.Javascript object>"
            ]
          },
          "metadata": {
            "tags": []
          }
        }
      ]
    }
  ]
}
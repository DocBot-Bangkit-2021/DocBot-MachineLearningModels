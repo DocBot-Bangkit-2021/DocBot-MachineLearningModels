{
  "nbformat": 4,
  "nbformat_minor": 0,
  "metadata": {
    "colab": {
      "name": "Covid19_Baseline_Model_03.ipynb",
      "provenance": [],
      "collapsed_sections": []
    },
    "kernelspec": {
      "name": "python3",
      "display_name": "Python 3"
    },
    "language_info": {
      "name": "python"
    }
  },
  "cells": [
    {
      "cell_type": "markdown",
      "metadata": {
        "id": "view-in-github"
      },
      "source": [
        "<a href=\"https://colab.research.google.com/github/DocBot-Bangkit-2021/DocBot-MachineLearningModels/blob/main/Covid-19/Covid19_Baseline_Model_03.ipynb\" target=\"_parent\"><img src=\"https://colab.research.google.com/assets/colab-badge.svg\" alt=\"Open In Colab\"/></a>"
      ]
    },
    {
      "cell_type": "markdown",
      "metadata": {
        "id": "C77gV-UqcqmC"
      },
      "source": [
        "# **Import Library**"
      ]
    },
    {
      "cell_type": "code",
      "metadata": {
        "id": "Qomv9XbWWQbT"
      },
      "source": [
        "import numpy as np \n",
        "import pandas as pd \n",
        "import matplotlib.pyplot as plt \n",
        "import seaborn as sns\n",
        "import zipfile\n",
        "import os"
      ],
      "execution_count": null,
      "outputs": []
    },
    {
      "cell_type": "code",
      "metadata": {
        "id": "DFWela_L_K6W"
      },
      "source": [
        "plt.style.use('seaborn')"
      ],
      "execution_count": null,
      "outputs": []
    },
    {
      "cell_type": "markdown",
      "metadata": {
        "id": "P6Zvp9Zac5wV"
      },
      "source": [
        "# **Data Loading**\n",
        "\n",
        "[Early stage symptoms of COVID-19 patient's](https://www.kaggle.com/martuza/early-stage-symptoms-of-covid19-patients)\n",
        "\n",
        "### **A machine learning model to identify early stage symptoms of SARS-Cov-2 infected patients**\n",
        "\n",
        "### **Dataset description**\n",
        "\n",
        "The dataset contains 6,512 individuals with follows attributes :\n",
        "\n",
        "* `Gender` - (male, female)\n",
        "* `Age` - (Numeric)\n",
        "* `Fever` - (yes-1, no-0)\n",
        "* `Cough` - (yes-1, no-0)\n",
        "* `Runny nose` - (yes-1, no-0)\n",
        "* `Muscle soreness` - (yes-1, no-0)\n",
        "* `Pneumonia` - (yes-1, no-0)\n",
        "* `Diarrhea` - (yes-1, no-0)\n",
        "* `Lung infection` - (yes-1, no-0)\n",
        "* `Travel history` - (yes-1, no-0)\n",
        "* `Isolation treatment` - (yes-1, no-0)\n",
        "* `SARS-CoV-2 Positive` - (positive-1, suspected-0)\n",
        "\n",
        "### **Related paper**\n",
        "\n",
        "[A machine learning model to identify early stage symptoms of SARS-Cov-2 infected patients](https://www.ncbi.nlm.nih.gov/pmc/articles/PMC7305929/)\n",
        "\n",
        "Ahamad MM, Aktar S, Rashed-Al-Mahfuz M, et al. A machine learning model to identify early stage symptoms of SARS-Cov-2 infected patients. Expert Systems with Applications. 2020;160:113661. doi:10.1016/j.eswa.2020.113661"
      ]
    },
    {
      "cell_type": "markdown",
      "metadata": {
        "id": "cUA5wJ7cDjrK"
      },
      "source": [
        "## **Download dataset from Kaggle**\n",
        "\n",
        "How to get data from kaggle :\n",
        "https://www.kaggle.com/general/51898"
      ]
    },
    {
      "cell_type": "code",
      "metadata": {
        "id": "vvmLli7zBeTL",
        "colab": {
          "resources": {
            "http://localhost:8080/nbextensions/google.colab/files.js": {
              "data": "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",
              "ok": true,
              "headers": [
                [
                  "content-type",
                  "application/javascript"
                ]
              ],
              "status": 200,
              "status_text": ""
            }
          },
          "base_uri": "https://localhost:8080/",
          "height": 197
        },
        "outputId": "902eb4da-eae8-40b6-b38f-340aed639133"
      },
      "source": [
        "# Upload kaggle.json \n",
        "print(\"Upload your kaggle.json\")\n",
        "from google.colab import files\n",
        "kaggle_file = files.upload()\n",
        "\n",
        "# Change file permission\n",
        "! chmod 600 kaggle.json \n",
        "# Check or make kaggle folder\n",
        "! (ls ~/.kaggle 2>/dev/null || mkdir ~/.kaggle)\n",
        "# Move kaggle.json to kaggle folder\n",
        "! mv kaggle.json ~/.kaggle/ && echo 'Done'\n",
        "# Download dataset from kaggle\n",
        "! kaggle datasets download -d martuza/early-stage-symptoms-of-covid19-patients\n",
        "\n",
        "# unzipping/extract data .zip\n",
        "# file_zip = 'early-stage-symptoms-of-covid19-patients.zip'\n",
        "# with zipfile.ZipFile(file_zip) as zip_file:\n",
        "#     zip_file.extractall('./sars-cov-2/')\n",
        "file_zip = 'early-stage-symptoms-of-covid19-patients.zip'\n",
        "zip_ref = zipfile.ZipFile(file_zip, 'r')\n",
        "zip_ref.extractall('./sars-cov-2/')\n",
        "zip_ref.close()\n",
        "\n",
        "print('Done')\n",
        "print(os.listdir('./sars-cov-2/'))"
      ],
      "execution_count": null,
      "outputs": [
        {
          "output_type": "stream",
          "text": [
            "Upload your kaggle.json\n"
          ],
          "name": "stdout"
        },
        {
          "output_type": "display_data",
          "data": {
            "text/html": [
              "\n",
              "     <input type=\"file\" id=\"files-d3d3a542-805c-4eb9-8c5e-85b0279a66bc\" name=\"files[]\" multiple disabled\n",
              "        style=\"border:none\" />\n",
              "     <output id=\"result-d3d3a542-805c-4eb9-8c5e-85b0279a66bc\">\n",
              "      Upload widget is only available when the cell has been executed in the\n",
              "      current browser session. Please rerun this cell to enable.\n",
              "      </output>\n",
              "      <script src=\"/nbextensions/google.colab/files.js\"></script> "
            ],
            "text/plain": [
              "<IPython.core.display.HTML object>"
            ]
          },
          "metadata": {
            "tags": []
          }
        },
        {
          "output_type": "stream",
          "text": [
            "Saving kaggle.json to kaggle.json\n",
            "Done\n",
            "Downloading early-stage-symptoms-of-covid19-patients.zip to /content\n",
            "  0% 0.00/15.5k [00:00<?, ?B/s]\n",
            "100% 15.5k/15.5k [00:00<00:00, 14.5MB/s]\n",
            "Done\n",
            "['covid_early_stage_symptoms.csv']\n"
          ],
          "name": "stdout"
        }
      ]
    },
    {
      "cell_type": "code",
      "metadata": {
        "id": "V6hYfYuXF7Fy",
        "colab": {
          "base_uri": "https://localhost:8080/",
          "height": 249
        },
        "outputId": "50227aa2-8707-46b1-b9fa-ac37effe1e62"
      },
      "source": [
        "import pandas as pd\n",
        "df = pd.read_csv('sars-cov-2/covid_early_stage_symptoms.csv')\n",
        "df.head()"
      ],
      "execution_count": null,
      "outputs": [
        {
          "output_type": "execute_result",
          "data": {
            "text/html": [
              "<div>\n",
              "<style scoped>\n",
              "    .dataframe tbody tr th:only-of-type {\n",
              "        vertical-align: middle;\n",
              "    }\n",
              "\n",
              "    .dataframe tbody tr th {\n",
              "        vertical-align: top;\n",
              "    }\n",
              "\n",
              "    .dataframe thead th {\n",
              "        text-align: right;\n",
              "    }\n",
              "</style>\n",
              "<table border=\"1\" class=\"dataframe\">\n",
              "  <thead>\n",
              "    <tr style=\"text-align: right;\">\n",
              "      <th></th>\n",
              "      <th>gender</th>\n",
              "      <th>age_year</th>\n",
              "      <th>fever</th>\n",
              "      <th>cough</th>\n",
              "      <th>runny_nose</th>\n",
              "      <th>muscle_soreness</th>\n",
              "      <th>pneumonia</th>\n",
              "      <th>diarrhea</th>\n",
              "      <th>lung_infection</th>\n",
              "      <th>travel_history</th>\n",
              "      <th>isolation_treatment</th>\n",
              "      <th>SARS-CoV-2 Positive</th>\n",
              "    </tr>\n",
              "  </thead>\n",
              "  <tbody>\n",
              "    <tr>\n",
              "      <th>0</th>\n",
              "      <td>male</td>\n",
              "      <td>89</td>\n",
              "      <td>1</td>\n",
              "      <td>1</td>\n",
              "      <td>0</td>\n",
              "      <td>0</td>\n",
              "      <td>0</td>\n",
              "      <td>0</td>\n",
              "      <td>0</td>\n",
              "      <td>1</td>\n",
              "      <td>0</td>\n",
              "      <td>0</td>\n",
              "    </tr>\n",
              "    <tr>\n",
              "      <th>1</th>\n",
              "      <td>male</td>\n",
              "      <td>68</td>\n",
              "      <td>1</td>\n",
              "      <td>0</td>\n",
              "      <td>0</td>\n",
              "      <td>0</td>\n",
              "      <td>0</td>\n",
              "      <td>0</td>\n",
              "      <td>0</td>\n",
              "      <td>0</td>\n",
              "      <td>0</td>\n",
              "      <td>0</td>\n",
              "    </tr>\n",
              "    <tr>\n",
              "      <th>2</th>\n",
              "      <td>male</td>\n",
              "      <td>68</td>\n",
              "      <td>0</td>\n",
              "      <td>0</td>\n",
              "      <td>0</td>\n",
              "      <td>0</td>\n",
              "      <td>0</td>\n",
              "      <td>0</td>\n",
              "      <td>0</td>\n",
              "      <td>1</td>\n",
              "      <td>0</td>\n",
              "      <td>0</td>\n",
              "    </tr>\n",
              "    <tr>\n",
              "      <th>3</th>\n",
              "      <td>male</td>\n",
              "      <td>68</td>\n",
              "      <td>1</td>\n",
              "      <td>1</td>\n",
              "      <td>0</td>\n",
              "      <td>0</td>\n",
              "      <td>0</td>\n",
              "      <td>0</td>\n",
              "      <td>0</td>\n",
              "      <td>1</td>\n",
              "      <td>1</td>\n",
              "      <td>1</td>\n",
              "    </tr>\n",
              "    <tr>\n",
              "      <th>4</th>\n",
              "      <td>male</td>\n",
              "      <td>50</td>\n",
              "      <td>1</td>\n",
              "      <td>1</td>\n",
              "      <td>1</td>\n",
              "      <td>0</td>\n",
              "      <td>1</td>\n",
              "      <td>0</td>\n",
              "      <td>0</td>\n",
              "      <td>1</td>\n",
              "      <td>0</td>\n",
              "      <td>1</td>\n",
              "    </tr>\n",
              "  </tbody>\n",
              "</table>\n",
              "</div>"
            ],
            "text/plain": [
              "  gender  age_year  ...  isolation_treatment  SARS-CoV-2 Positive\n",
              "0   male        89  ...                    0                    0\n",
              "1   male        68  ...                    0                    0\n",
              "2   male        68  ...                    0                    0\n",
              "3   male        68  ...                    1                    1\n",
              "4   male        50  ...                    0                    1\n",
              "\n",
              "[5 rows x 12 columns]"
            ]
          },
          "metadata": {
            "tags": []
          },
          "execution_count": 4
        }
      ]
    },
    {
      "cell_type": "markdown",
      "metadata": {
        "id": "mY1TYn4ZE9U6"
      },
      "source": [
        "## **Download dataset from GDrive [Optional]**"
      ]
    },
    {
      "cell_type": "code",
      "metadata": {
        "id": "Yb08cPnniD2-"
      },
      "source": [
        "# import pandas as pd\n",
        "# df = pd.read_csv('https://drive.google.com/uc?id=11w6cKQANeVoWnbjNJ8RQy2BLomdfCTBJ')\n",
        "# df.head()"
      ],
      "execution_count": null,
      "outputs": []
    },
    {
      "cell_type": "markdown",
      "metadata": {
        "id": "OOMd0rcpGK48"
      },
      "source": [
        "## **Download dataset from GitHub [Optional]**"
      ]
    },
    {
      "cell_type": "code",
      "metadata": {
        "id": "fw4nSndmGK5i"
      },
      "source": [
        "# import pandas as pd\n",
        "# df = pd.read_csv('https://raw.githubusercontent.com/DocBot-Bangkit-2021/DocBot-MachineLearningModels/main/Covid-19/covid_early_stage_symptoms.csv')\n",
        "# df.head()"
      ],
      "execution_count": null,
      "outputs": []
    },
    {
      "cell_type": "markdown",
      "metadata": {
        "id": "gcBzF8ZX4xA_"
      },
      "source": [
        "# **Exploratory Data Analyis (EDA)**"
      ]
    },
    {
      "cell_type": "markdown",
      "metadata": {
        "id": "eJpdHIVrk5Vo"
      },
      "source": [
        "Displays a list of columns"
      ]
    },
    {
      "cell_type": "code",
      "metadata": {
        "colab": {
          "base_uri": "https://localhost:8080/"
        },
        "id": "bwzjcTFtkYlV",
        "outputId": "11bef335-6a3d-451a-8701-fe2da8dea1b4"
      },
      "source": [
        "# column list\n",
        "df.columns"
      ],
      "execution_count": null,
      "outputs": [
        {
          "output_type": "execute_result",
          "data": {
            "text/plain": [
              "Index(['gender', 'age_year', 'fever', 'cough', 'runny_nose', 'muscle_soreness',\n",
              "       'pneumonia', 'diarrhea', 'lung_infection', 'travel_history',\n",
              "       'isolation_treatment', 'SARS-CoV-2 Positive'],\n",
              "      dtype='object')"
            ]
          },
          "metadata": {
            "tags": []
          },
          "execution_count": 7
        }
      ]
    },
    {
      "cell_type": "code",
      "metadata": {
        "colab": {
          "base_uri": "https://localhost:8080/",
          "height": 321
        },
        "id": "y9_vZDiT4j5k",
        "outputId": "229bc2da-f223-42ed-a3cd-242dd3c57293"
      },
      "source": [
        "# statistical description of the data\n",
        "df.describe()"
      ],
      "execution_count": null,
      "outputs": [
        {
          "output_type": "execute_result",
          "data": {
            "text/html": [
              "<div>\n",
              "<style scoped>\n",
              "    .dataframe tbody tr th:only-of-type {\n",
              "        vertical-align: middle;\n",
              "    }\n",
              "\n",
              "    .dataframe tbody tr th {\n",
              "        vertical-align: top;\n",
              "    }\n",
              "\n",
              "    .dataframe thead th {\n",
              "        text-align: right;\n",
              "    }\n",
              "</style>\n",
              "<table border=\"1\" class=\"dataframe\">\n",
              "  <thead>\n",
              "    <tr style=\"text-align: right;\">\n",
              "      <th></th>\n",
              "      <th>age_year</th>\n",
              "      <th>fever</th>\n",
              "      <th>cough</th>\n",
              "      <th>runny_nose</th>\n",
              "      <th>muscle_soreness</th>\n",
              "      <th>pneumonia</th>\n",
              "      <th>diarrhea</th>\n",
              "      <th>lung_infection</th>\n",
              "      <th>travel_history</th>\n",
              "      <th>isolation_treatment</th>\n",
              "      <th>SARS-CoV-2 Positive</th>\n",
              "    </tr>\n",
              "  </thead>\n",
              "  <tbody>\n",
              "    <tr>\n",
              "      <th>count</th>\n",
              "      <td>6512.000000</td>\n",
              "      <td>6512.000000</td>\n",
              "      <td>6512.000000</td>\n",
              "      <td>6512.000000</td>\n",
              "      <td>6512.000000</td>\n",
              "      <td>6512.000000</td>\n",
              "      <td>6512.000000</td>\n",
              "      <td>6512.000000</td>\n",
              "      <td>6512.000000</td>\n",
              "      <td>6512.000000</td>\n",
              "      <td>6512.000000</td>\n",
              "    </tr>\n",
              "    <tr>\n",
              "      <th>mean</th>\n",
              "      <td>44.019502</td>\n",
              "      <td>0.410780</td>\n",
              "      <td>0.303286</td>\n",
              "      <td>0.084306</td>\n",
              "      <td>0.003993</td>\n",
              "      <td>0.074785</td>\n",
              "      <td>0.005682</td>\n",
              "      <td>0.131296</td>\n",
              "      <td>0.650952</td>\n",
              "      <td>0.216984</td>\n",
              "      <td>0.241400</td>\n",
              "    </tr>\n",
              "    <tr>\n",
              "      <th>std</th>\n",
              "      <td>16.112865</td>\n",
              "      <td>0.492013</td>\n",
              "      <td>0.459713</td>\n",
              "      <td>0.277867</td>\n",
              "      <td>0.063066</td>\n",
              "      <td>0.263064</td>\n",
              "      <td>0.075169</td>\n",
              "      <td>0.337750</td>\n",
              "      <td>0.476706</td>\n",
              "      <td>0.412223</td>\n",
              "      <td>0.427965</td>\n",
              "    </tr>\n",
              "    <tr>\n",
              "      <th>min</th>\n",
              "      <td>1.000000</td>\n",
              "      <td>0.000000</td>\n",
              "      <td>0.000000</td>\n",
              "      <td>0.000000</td>\n",
              "      <td>0.000000</td>\n",
              "      <td>0.000000</td>\n",
              "      <td>0.000000</td>\n",
              "      <td>0.000000</td>\n",
              "      <td>0.000000</td>\n",
              "      <td>0.000000</td>\n",
              "      <td>0.000000</td>\n",
              "    </tr>\n",
              "    <tr>\n",
              "      <th>25%</th>\n",
              "      <td>32.000000</td>\n",
              "      <td>0.000000</td>\n",
              "      <td>0.000000</td>\n",
              "      <td>0.000000</td>\n",
              "      <td>0.000000</td>\n",
              "      <td>0.000000</td>\n",
              "      <td>0.000000</td>\n",
              "      <td>0.000000</td>\n",
              "      <td>0.000000</td>\n",
              "      <td>0.000000</td>\n",
              "      <td>0.000000</td>\n",
              "    </tr>\n",
              "    <tr>\n",
              "      <th>50%</th>\n",
              "      <td>43.000000</td>\n",
              "      <td>0.000000</td>\n",
              "      <td>0.000000</td>\n",
              "      <td>0.000000</td>\n",
              "      <td>0.000000</td>\n",
              "      <td>0.000000</td>\n",
              "      <td>0.000000</td>\n",
              "      <td>0.000000</td>\n",
              "      <td>1.000000</td>\n",
              "      <td>0.000000</td>\n",
              "      <td>0.000000</td>\n",
              "    </tr>\n",
              "    <tr>\n",
              "      <th>75%</th>\n",
              "      <td>55.000000</td>\n",
              "      <td>1.000000</td>\n",
              "      <td>1.000000</td>\n",
              "      <td>0.000000</td>\n",
              "      <td>0.000000</td>\n",
              "      <td>0.000000</td>\n",
              "      <td>0.000000</td>\n",
              "      <td>0.000000</td>\n",
              "      <td>1.000000</td>\n",
              "      <td>0.000000</td>\n",
              "      <td>0.000000</td>\n",
              "    </tr>\n",
              "    <tr>\n",
              "      <th>max</th>\n",
              "      <td>96.000000</td>\n",
              "      <td>1.000000</td>\n",
              "      <td>1.000000</td>\n",
              "      <td>1.000000</td>\n",
              "      <td>1.000000</td>\n",
              "      <td>1.000000</td>\n",
              "      <td>1.000000</td>\n",
              "      <td>1.000000</td>\n",
              "      <td>1.000000</td>\n",
              "      <td>1.000000</td>\n",
              "      <td>1.000000</td>\n",
              "    </tr>\n",
              "  </tbody>\n",
              "</table>\n",
              "</div>"
            ],
            "text/plain": [
              "          age_year        fever  ...  isolation_treatment  SARS-CoV-2 Positive\n",
              "count  6512.000000  6512.000000  ...          6512.000000          6512.000000\n",
              "mean     44.019502     0.410780  ...             0.216984             0.241400\n",
              "std      16.112865     0.492013  ...             0.412223             0.427965\n",
              "min       1.000000     0.000000  ...             0.000000             0.000000\n",
              "25%      32.000000     0.000000  ...             0.000000             0.000000\n",
              "50%      43.000000     0.000000  ...             0.000000             0.000000\n",
              "75%      55.000000     1.000000  ...             0.000000             0.000000\n",
              "max      96.000000     1.000000  ...             1.000000             1.000000\n",
              "\n",
              "[8 rows x 11 columns]"
            ]
          },
          "metadata": {
            "tags": []
          },
          "execution_count": 8
        }
      ]
    },
    {
      "cell_type": "code",
      "metadata": {
        "colab": {
          "base_uri": "https://localhost:8080/"
        },
        "id": "UN2iDlZ25Xo-",
        "outputId": "ccf239a2-37a7-4a14-c6b5-b45332ca24a0"
      },
      "source": [
        "# additional info about data: type, number of nulls, number of rows and others\n",
        "df.info()"
      ],
      "execution_count": null,
      "outputs": [
        {
          "output_type": "stream",
          "text": [
            "<class 'pandas.core.frame.DataFrame'>\n",
            "RangeIndex: 6512 entries, 0 to 6511\n",
            "Data columns (total 12 columns):\n",
            " #   Column               Non-Null Count  Dtype \n",
            "---  ------               --------------  ----- \n",
            " 0   gender               6512 non-null   object\n",
            " 1   age_year             6512 non-null   int64 \n",
            " 2   fever                6512 non-null   int64 \n",
            " 3   cough                6512 non-null   int64 \n",
            " 4   runny_nose           6512 non-null   int64 \n",
            " 5   muscle_soreness      6512 non-null   int64 \n",
            " 6   pneumonia            6512 non-null   int64 \n",
            " 7   diarrhea             6512 non-null   int64 \n",
            " 8   lung_infection       6512 non-null   int64 \n",
            " 9   travel_history       6512 non-null   int64 \n",
            " 10  isolation_treatment  6512 non-null   int64 \n",
            " 11  SARS-CoV-2 Positive  6512 non-null   int64 \n",
            "dtypes: int64(11), object(1)\n",
            "memory usage: 610.6+ KB\n"
          ],
          "name": "stdout"
        }
      ]
    },
    {
      "cell_type": "code",
      "metadata": {
        "colab": {
          "base_uri": "https://localhost:8080/"
        },
        "id": "k8FWB4Go3rko",
        "outputId": "c04a1d44-d778-4de8-d3e6-bd06d9504a6e"
      },
      "source": [
        "# check for null counts\n",
        "df.isnull().sum()"
      ],
      "execution_count": null,
      "outputs": [
        {
          "output_type": "execute_result",
          "data": {
            "text/plain": [
              "gender                 0\n",
              "age_year               0\n",
              "fever                  0\n",
              "cough                  0\n",
              "runny_nose             0\n",
              "muscle_soreness        0\n",
              "pneumonia              0\n",
              "diarrhea               0\n",
              "lung_infection         0\n",
              "travel_history         0\n",
              "isolation_treatment    0\n",
              "SARS-CoV-2 Positive    0\n",
              "dtype: int64"
            ]
          },
          "metadata": {
            "tags": []
          },
          "execution_count": 10
        }
      ]
    },
    {
      "cell_type": "code",
      "metadata": {
        "colab": {
          "base_uri": "https://localhost:8080/"
        },
        "id": "gzQNvh_444VY",
        "outputId": "6dbb592a-171c-44e0-b54f-0c5e4241f563"
      },
      "source": [
        "# large amount of data based on SARS-CoV-2 Positive target - (positive-1, Suspected-0)\n",
        "df[\"SARS-CoV-2 Positive\"].value_counts()"
      ],
      "execution_count": null,
      "outputs": [
        {
          "output_type": "execute_result",
          "data": {
            "text/plain": [
              "0    4940\n",
              "1    1572\n",
              "Name: SARS-CoV-2 Positive, dtype: int64"
            ]
          },
          "metadata": {
            "tags": []
          },
          "execution_count": 11
        }
      ]
    },
    {
      "cell_type": "code",
      "metadata": {
        "colab": {
          "base_uri": "https://localhost:8080/"
        },
        "id": "AwTxzD3n5eAS",
        "outputId": "2f8f8791-e8fa-431c-a58b-062189547b2b"
      },
      "source": [
        "# the number of rows and columns in the data\n",
        "print('Total Row:', df.shape[0])\n",
        "print('Total Columns:', df.shape[1])\n",
        "df.shape"
      ],
      "execution_count": null,
      "outputs": [
        {
          "output_type": "stream",
          "text": [
            "Total Row: 6512\n",
            "Total Columns: 12\n"
          ],
          "name": "stdout"
        },
        {
          "output_type": "execute_result",
          "data": {
            "text/plain": [
              "(6512, 12)"
            ]
          },
          "metadata": {
            "tags": []
          },
          "execution_count": 12
        }
      ]
    },
    {
      "cell_type": "code",
      "metadata": {
        "colab": {
          "base_uri": "https://localhost:8080/"
        },
        "id": "q64Af9lLS0hw",
        "outputId": "0ac61210-f37c-473a-8ff2-584528cb59be"
      },
      "source": [
        "# defines the column category and the amount in each type\n",
        "col_cat = ['gender', 'fever', 'cough', 'runny_nose', 'muscle_soreness',\n",
        "       'pneumonia', 'diarrhea', 'lung_infection', 'travel_history',\n",
        "       'isolation_treatment', 'SARS-CoV-2 Positive']\n",
        "for col in col_cat :\n",
        "  print(df[col].value_counts(), \"\\n\")"
      ],
      "execution_count": null,
      "outputs": [
        {
          "output_type": "stream",
          "text": [
            "male      3367\n",
            "female    3145\n",
            "Name: gender, dtype: int64 \n",
            "\n",
            "0    3837\n",
            "1    2675\n",
            "Name: fever, dtype: int64 \n",
            "\n",
            "0    4537\n",
            "1    1975\n",
            "Name: cough, dtype: int64 \n",
            "\n",
            "0    5963\n",
            "1     549\n",
            "Name: runny_nose, dtype: int64 \n",
            "\n",
            "0    6486\n",
            "1      26\n",
            "Name: muscle_soreness, dtype: int64 \n",
            "\n",
            "0    6025\n",
            "1     487\n",
            "Name: pneumonia, dtype: int64 \n",
            "\n",
            "0    6475\n",
            "1      37\n",
            "Name: diarrhea, dtype: int64 \n",
            "\n",
            "0    5657\n",
            "1     855\n",
            "Name: lung_infection, dtype: int64 \n",
            "\n",
            "1    4239\n",
            "0    2273\n",
            "Name: travel_history, dtype: int64 \n",
            "\n",
            "0    5099\n",
            "1    1413\n",
            "Name: isolation_treatment, dtype: int64 \n",
            "\n",
            "0    4940\n",
            "1    1572\n",
            "Name: SARS-CoV-2 Positive, dtype: int64 \n",
            "\n"
          ],
          "name": "stdout"
        }
      ]
    },
    {
      "cell_type": "markdown",
      "metadata": {
        "id": "Vzqgnxyi497W"
      },
      "source": [
        "# **Data Visualization**"
      ]
    },
    {
      "cell_type": "code",
      "metadata": {
        "colab": {
          "base_uri": "https://localhost:8080/",
          "height": 434
        },
        "id": "dC9BLaOJT_ve",
        "outputId": "4fd7cfe9-7c19-4bb7-fa72-437a9be45d7c"
      },
      "source": [
        "# display of data distribution distribution on SARS-CoV-2 Positive - (positive-1, Suspected-0)\n",
        "sns.countplot(df['SARS-CoV-2 Positive'], label=\"SARS-CoV-2 Positive\")"
      ],
      "execution_count": null,
      "outputs": [
        {
          "output_type": "stream",
          "text": [
            "/usr/local/lib/python3.7/dist-packages/seaborn/_decorators.py:43: FutureWarning: Pass the following variable as a keyword arg: x. From version 0.12, the only valid positional argument will be `data`, and passing other arguments without an explicit keyword will result in an error or misinterpretation.\n",
            "  FutureWarning\n"
          ],
          "name": "stderr"
        },
        {
          "output_type": "execute_result",
          "data": {
            "text/plain": [
              "<matplotlib.axes._subplots.AxesSubplot at 0x7f5712ab2790>"
            ]
          },
          "metadata": {
            "tags": []
          },
          "execution_count": 14
        },
        {
          "output_type": "display_data",
          "data": {
            "image/png": "[encoded data removed]",
            "text/plain": [
              "<Figure size 576x396 with 1 Axes>"
            ]
          },
          "metadata": {
            "tags": []
          }
        }
      ]
    },
    {
      "cell_type": "code",
      "metadata": {
        "colab": {
          "base_uri": "https://localhost:8080/"
        },
        "id": "o8q3D0GOVbhK",
        "outputId": "b0856de7-3ce4-4560-e182-7ab87abf8371"
      },
      "source": [
        "# SARS-CoV-2 Positive\n",
        "# positive --> 1\n",
        "# Suspected --> 0\n",
        "df['SARS-CoV-2 Positive'].unique()"
      ],
      "execution_count": null,
      "outputs": [
        {
          "output_type": "execute_result",
          "data": {
            "text/plain": [
              "array([0, 1])"
            ]
          },
          "metadata": {
            "tags": []
          },
          "execution_count": 15
        }
      ]
    },
    {
      "cell_type": "code",
      "metadata": {
        "colab": {
          "base_uri": "https://localhost:8080/",
          "height": 345
        },
        "id": "GOgBQuEQSy9s",
        "outputId": "08ad0098-c980-4a8a-ead4-20edaa7fcb8a"
      },
      "source": [
        "target = df['SARS-CoV-2 Positive'].value_counts()\n",
        "label =['Suspected', 'Positif']\n",
        "target.plot(kind='pie', labels=label, autopct='%1.1f%%')\n",
        "plt.title('SARS-CoV-2 Positive Presentation')\n",
        "plt.show()"
      ],
      "execution_count": null,
      "outputs": [
        {
          "output_type": "display_data",
          "data": {
            "image/png": "[encoded data removed]",
            "text/plain": [
              "<Figure size 576x396 with 1 Axes>"
            ]
          },
          "metadata": {
            "tags": []
          }
        }
      ]
    },
    {
      "cell_type": "code",
      "metadata": {
        "colab": {
          "base_uri": "https://localhost:8080/",
          "height": 703
        },
        "id": "7rEsOm7D49ko",
        "outputId": "4b06f7ff-ddcf-4e27-d5f8-5b48836c500f"
      },
      "source": [
        "fig = plt.figure(figsize=(20, 20))\n",
        "axs = fig.add_subplot()\n",
        "df.hist(ax=axs);"
      ],
      "execution_count": null,
      "outputs": [
        {
          "output_type": "stream",
          "text": [
            "/usr/local/lib/python3.7/dist-packages/ipykernel_launcher.py:3: UserWarning: To output multiple subplots, the figure containing the passed axes is being cleared\n",
            "  This is separate from the ipykernel package so we can avoid doing imports until\n"
          ],
          "name": "stderr"
        },
        {
          "output_type": "display_data",
          "data": {
            "image/png": "[encoded data removed]",
            "text/plain": [
              "<Figure size 1440x1440 with 12 Axes>"
            ]
          },
          "metadata": {
            "tags": []
          }
        }
      ]
    },
    {
      "cell_type": "code",
      "metadata": {
        "colab": {
          "base_uri": "https://localhost:8080/",
          "height": 478
        },
        "id": "1ifi-UosFhMJ",
        "outputId": "164f27be-84e7-4bb6-ce72-c084ef1f6804"
      },
      "source": [
        "plt.figure(figsize=(20,12)) \n",
        "sns.heatmap(df.corr(), annot=True)"
      ],
      "execution_count": null,
      "outputs": [
        {
          "output_type": "execute_result",
          "data": {
            "text/plain": [
              "<matplotlib.axes._subplots.AxesSubplot at 0x7f5711ce5bd0>"
            ]
          },
          "metadata": {
            "tags": []
          },
          "execution_count": 18
        },
        {
          "output_type": "display_data",
          "data": {
            "image/png": "[encoded data removed]",
            "text/plain": [
              "<Figure size 1440x864 with 2 Axes>"
            ]
          },
          "metadata": {
            "tags": []
          }
        }
      ]
    },
    {
      "cell_type": "markdown",
      "metadata": {
        "id": "e5ffd63d"
      },
      "source": [
        "# Data cleaning\n",
        "check missing value, Check duplicate value, check data type, check outlier, check typo, check imbalance data\n"
      ]
    },
    {
      "cell_type": "markdown",
      "metadata": {
        "id": "716e5434"
      },
      "source": [
        "## -- Check missing value"
      ]
    },
    {
      "cell_type": "code",
      "metadata": {
        "id": "29bb981e",
        "colab": {
          "base_uri": "https://localhost:8080/"
        },
        "outputId": "c85b99a3-ce7b-45a2-8551-35f00a0fcde4"
      },
      "source": [
        "# Check missing value\n",
        "df.isnull().sum()"
      ],
      "execution_count": null,
      "outputs": [
        {
          "output_type": "execute_result",
          "data": {
            "text/plain": [
              "gender                 0\n",
              "age_year               0\n",
              "fever                  0\n",
              "cough                  0\n",
              "runny_nose             0\n",
              "muscle_soreness        0\n",
              "pneumonia              0\n",
              "diarrhea               0\n",
              "lung_infection         0\n",
              "travel_history         0\n",
              "isolation_treatment    0\n",
              "SARS-CoV-2 Positive    0\n",
              "dtype: int64"
            ]
          },
          "metadata": {
            "tags": []
          },
          "execution_count": 19
        }
      ]
    },
    {
      "cell_type": "code",
      "metadata": {
        "id": "718e7553"
      },
      "source": [
        "# Preview rows contain missing value\n",
        "# NOte : There is no preview because the data is not null\n",
        "\n",
        "# if df.isnull().any(axis=None):\n",
        "#     print(\"Preview of data with null values\")\n",
        "#     print(\"Null values : \", df.isnull().sum().sum())\n",
        "#     display(df[df.isnull().any(axis=1)])"
      ],
      "execution_count": null,
      "outputs": []
    },
    {
      "cell_type": "code",
      "metadata": {
        "id": "631a273a"
      },
      "source": [
        "# Replace missing value with median value\n",
        "# df = df.fillna(df.median())"
      ],
      "execution_count": null,
      "outputs": []
    },
    {
      "cell_type": "markdown",
      "metadata": {
        "id": "42af0599"
      },
      "source": [
        "The method chosen to overcome missing value is the median. <br>\n",
        "Reason: Columns that have a passing value have a categorical data type."
      ]
    },
    {
      "cell_type": "code",
      "metadata": {
        "id": "af75014f",
        "colab": {
          "base_uri": "https://localhost:8080/"
        },
        "outputId": "c64ce4c9-c32e-4b8c-c6bc-2b0ad0d2f96e"
      },
      "source": [
        "print(\"Null values : \",df.isnull().sum().sum())\n",
        "print(\"Shape of data: \", df.shape)"
      ],
      "execution_count": null,
      "outputs": [
        {
          "output_type": "stream",
          "text": [
            "Null values :  0\n",
            "Shape of data:  (6512, 12)\n"
          ],
          "name": "stdout"
        }
      ]
    },
    {
      "cell_type": "markdown",
      "metadata": {
        "id": "c0342aa5"
      },
      "source": [
        "With the replace method, it can overcome missing values without reducing data"
      ]
    },
    {
      "cell_type": "markdown",
      "metadata": {
        "id": "61a07b72"
      },
      "source": [
        "## -- Check duplicate"
      ]
    },
    {
      "cell_type": "code",
      "metadata": {
        "id": "e7f56ea1",
        "colab": {
          "base_uri": "https://localhost:8080/"
        },
        "outputId": "a8d0302a-cc1b-4c30-e4ac-0787d1aea696"
      },
      "source": [
        "# Check duplicate data\n",
        "print(\"Data duplicated: \", df.duplicated().sum())"
      ],
      "execution_count": null,
      "outputs": [
        {
          "output_type": "stream",
          "text": [
            "Data duplicated:  4285\n"
          ],
          "name": "stdout"
        }
      ]
    },
    {
      "cell_type": "markdown",
      "metadata": {
        "id": "6eb40f0c"
      },
      "source": [
        "## -- Check imbalance data"
      ]
    },
    {
      "cell_type": "code",
      "metadata": {
        "id": "65e653c2",
        "colab": {
          "base_uri": "https://localhost:8080/",
          "height": 414
        },
        "outputId": "6188fc45-c757-4526-e829-7a8fcec5ae63"
      },
      "source": [
        "# Check imbalance dataset\n",
        "import seaborn as sns\n",
        "\n",
        "sns.countplot(x=df['SARS-CoV-2 Positive'])\n",
        "print(df['SARS-CoV-2 Positive'].value_counts())"
      ],
      "execution_count": null,
      "outputs": [
        {
          "output_type": "stream",
          "text": [
            "0    4940\n",
            "1    1572\n",
            "Name: SARS-CoV-2 Positive, dtype: int64\n"
          ],
          "name": "stdout"
        },
        {
          "output_type": "display_data",
          "data": {
            "image/png": "[encoded data removed]",
            "text/plain": [
              "<Figure size 576x396 with 1 Axes>"
            ]
          },
          "metadata": {
            "tags": []
          }
        }
      ]
    },
    {
      "cell_type": "markdown",
      "metadata": {
        "id": "QNlVGTiAQXlR"
      },
      "source": [
        "# **Data Preprocessing**"
      ]
    },
    {
      "cell_type": "markdown",
      "metadata": {
        "id": "YgbuWrlEnspO"
      },
      "source": [
        "## -- Spitting features and label"
      ]
    },
    {
      "cell_type": "code",
      "metadata": {
        "colab": {
          "base_uri": "https://localhost:8080/"
        },
        "id": "5HPNaEWiYOnW",
        "outputId": "28d3c28f-271f-4f05-fef1-e3ef8918caf4"
      },
      "source": [
        "features = df.drop(columns=['SARS-CoV-2 Positive'])\n",
        "label = df[['SARS-CoV-2 Positive']]\n",
        "\n",
        "print(features.shape)\n",
        "print(label.shape)\n",
        "\n",
        "features.columns, label.columns"
      ],
      "execution_count": null,
      "outputs": [
        {
          "output_type": "stream",
          "text": [
            "(6512, 11)\n",
            "(6512, 1)\n"
          ],
          "name": "stdout"
        },
        {
          "output_type": "execute_result",
          "data": {
            "text/plain": [
              "(Index(['gender', 'age_year', 'fever', 'cough', 'runny_nose', 'muscle_soreness',\n",
              "        'pneumonia', 'diarrhea', 'lung_infection', 'travel_history',\n",
              "        'isolation_treatment'],\n",
              "       dtype='object'), Index(['SARS-CoV-2 Positive'], dtype='object'))"
            ]
          },
          "metadata": {
            "tags": []
          },
          "execution_count": 25
        }
      ]
    },
    {
      "cell_type": "markdown",
      "metadata": {
        "id": "7f159889"
      },
      "source": [
        "## -- Check Data type\n",
        "Menyesuaikan tipe data sesuai dengan metadata yang diberikan\n",
        "\n",
        "* **Categorical** (`gender`, `fever`, `cough`, `runny_nose`, `muscle_soreness`, `pneumonia`, `diarrhea`, `lung_infection`, `travel_history`, `isolation_treatment`, `SARS-CoV-2 Positive`)\n",
        "* **Numeric** (`age_year`)"
      ]
    },
    {
      "cell_type": "code",
      "metadata": {
        "id": "1ff3608a",
        "colab": {
          "base_uri": "https://localhost:8080/"
        },
        "outputId": "3eeef9a5-c451-4c3a-8fca-418458483d22"
      },
      "source": [
        "features.info()"
      ],
      "execution_count": null,
      "outputs": [
        {
          "output_type": "stream",
          "text": [
            "<class 'pandas.core.frame.DataFrame'>\n",
            "RangeIndex: 6512 entries, 0 to 6511\n",
            "Data columns (total 11 columns):\n",
            " #   Column               Non-Null Count  Dtype \n",
            "---  ------               --------------  ----- \n",
            " 0   gender               6512 non-null   object\n",
            " 1   age_year             6512 non-null   int64 \n",
            " 2   fever                6512 non-null   int64 \n",
            " 3   cough                6512 non-null   int64 \n",
            " 4   runny_nose           6512 non-null   int64 \n",
            " 5   muscle_soreness      6512 non-null   int64 \n",
            " 6   pneumonia            6512 non-null   int64 \n",
            " 7   diarrhea             6512 non-null   int64 \n",
            " 8   lung_infection       6512 non-null   int64 \n",
            " 9   travel_history       6512 non-null   int64 \n",
            " 10  isolation_treatment  6512 non-null   int64 \n",
            "dtypes: int64(10), object(1)\n",
            "memory usage: 559.8+ KB\n"
          ],
          "name": "stdout"
        }
      ]
    },
    {
      "cell_type": "code",
      "metadata": {
        "id": "49c13096"
      },
      "source": [
        "col_cat_features = ['gender', 'fever', 'cough', 'runny_nose', 'muscle_soreness',\n",
        "       'pneumonia', 'diarrhea', 'lung_infection', 'travel_history',\n",
        "       'isolation_treatment']\n",
        "\n",
        "features[col_cat_features] = features[col_cat_features].astype('category')"
      ],
      "execution_count": null,
      "outputs": []
    },
    {
      "cell_type": "code",
      "metadata": {
        "id": "237b8d3b",
        "colab": {
          "base_uri": "https://localhost:8080/"
        },
        "outputId": "09d40633-bcbf-46a5-cec8-6f97bbc4b3a0"
      },
      "source": [
        "features.info()"
      ],
      "execution_count": null,
      "outputs": [
        {
          "output_type": "stream",
          "text": [
            "<class 'pandas.core.frame.DataFrame'>\n",
            "RangeIndex: 6512 entries, 0 to 6511\n",
            "Data columns (total 11 columns):\n",
            " #   Column               Non-Null Count  Dtype   \n",
            "---  ------               --------------  -----   \n",
            " 0   gender               6512 non-null   category\n",
            " 1   age_year             6512 non-null   int64   \n",
            " 2   fever                6512 non-null   category\n",
            " 3   cough                6512 non-null   category\n",
            " 4   runny_nose           6512 non-null   category\n",
            " 5   muscle_soreness      6512 non-null   category\n",
            " 6   pneumonia            6512 non-null   category\n",
            " 7   diarrhea             6512 non-null   category\n",
            " 8   lung_infection       6512 non-null   category\n",
            " 9   travel_history       6512 non-null   category\n",
            " 10  isolation_treatment  6512 non-null   category\n",
            "dtypes: category(10), int64(1)\n",
            "memory usage: 115.5 KB\n"
          ],
          "name": "stdout"
        }
      ]
    },
    {
      "cell_type": "code",
      "metadata": {
        "id": "0NEDNhev9qaN"
      },
      "source": [
        "label_types = ['Positive', 'Suspected']"
      ],
      "execution_count": null,
      "outputs": []
    },
    {
      "cell_type": "markdown",
      "metadata": {
        "id": "qJ5CRPd-nuoq"
      },
      "source": [
        "## -- Normalize Data"
      ]
    },
    {
      "cell_type": "code",
      "metadata": {
        "id": "W7HbgasNlNuC"
      },
      "source": [
        "from sklearn.preprocessing import MinMaxScaler"
      ],
      "execution_count": null,
      "outputs": []
    },
    {
      "cell_type": "code",
      "metadata": {
        "id": "XS-0hyU1lWNv"
      },
      "source": [
        "mx = MinMaxScaler()"
      ],
      "execution_count": null,
      "outputs": []
    },
    {
      "cell_type": "code",
      "metadata": {
        "colab": {
          "base_uri": "https://localhost:8080/",
          "height": 126
        },
        "id": "3KtUu3GdlXrE",
        "outputId": "335c30e8-8482-4bc3-d07a-a4256e41956f"
      },
      "source": [
        "features['age_year'] = mx.fit_transform(features[['age_year']])\n",
        "features.head(2)"
      ],
      "execution_count": null,
      "outputs": [
        {
          "output_type": "execute_result",
          "data": {
            "text/html": [
              "<div>\n",
              "<style scoped>\n",
              "    .dataframe tbody tr th:only-of-type {\n",
              "        vertical-align: middle;\n",
              "    }\n",
              "\n",
              "    .dataframe tbody tr th {\n",
              "        vertical-align: top;\n",
              "    }\n",
              "\n",
              "    .dataframe thead th {\n",
              "        text-align: right;\n",
              "    }\n",
              "</style>\n",
              "<table border=\"1\" class=\"dataframe\">\n",
              "  <thead>\n",
              "    <tr style=\"text-align: right;\">\n",
              "      <th></th>\n",
              "      <th>gender</th>\n",
              "      <th>age_year</th>\n",
              "      <th>fever</th>\n",
              "      <th>cough</th>\n",
              "      <th>runny_nose</th>\n",
              "      <th>muscle_soreness</th>\n",
              "      <th>pneumonia</th>\n",
              "      <th>diarrhea</th>\n",
              "      <th>lung_infection</th>\n",
              "      <th>travel_history</th>\n",
              "      <th>isolation_treatment</th>\n",
              "    </tr>\n",
              "  </thead>\n",
              "  <tbody>\n",
              "    <tr>\n",
              "      <th>0</th>\n",
              "      <td>male</td>\n",
              "      <td>0.926316</td>\n",
              "      <td>1</td>\n",
              "      <td>1</td>\n",
              "      <td>0</td>\n",
              "      <td>0</td>\n",
              "      <td>0</td>\n",
              "      <td>0</td>\n",
              "      <td>0</td>\n",
              "      <td>1</td>\n",
              "      <td>0</td>\n",
              "    </tr>\n",
              "    <tr>\n",
              "      <th>1</th>\n",
              "      <td>male</td>\n",
              "      <td>0.705263</td>\n",
              "      <td>1</td>\n",
              "      <td>0</td>\n",
              "      <td>0</td>\n",
              "      <td>0</td>\n",
              "      <td>0</td>\n",
              "      <td>0</td>\n",
              "      <td>0</td>\n",
              "      <td>0</td>\n",
              "      <td>0</td>\n",
              "    </tr>\n",
              "  </tbody>\n",
              "</table>\n",
              "</div>"
            ],
            "text/plain": [
              "  gender  age_year fever  ... lung_infection travel_history isolation_treatment\n",
              "0   male  0.926316     1  ...              0              1                   0\n",
              "1   male  0.705263     1  ...              0              0                   0\n",
              "\n",
              "[2 rows x 11 columns]"
            ]
          },
          "metadata": {
            "tags": []
          },
          "execution_count": 32
        }
      ]
    },
    {
      "cell_type": "markdown",
      "metadata": {
        "id": "TADzhknUqc9f"
      },
      "source": [
        "## -- Categorical"
      ]
    },
    {
      "cell_type": "markdown",
      "metadata": {
        "id": "VxJMh0Dfq5cr"
      },
      "source": [
        "Change the categorical column to one hot encoding"
      ]
    },
    {
      "cell_type": "code",
      "metadata": {
        "colab": {
          "base_uri": "https://localhost:8080/",
          "height": 215
        },
        "id": "zxbUQGzjqaco",
        "outputId": "b95e1c96-5d7b-4bcc-9e89-b962c20310d9"
      },
      "source": [
        "features_cat = pd.get_dummies(features[col_cat_features])\n",
        "features = pd.concat([features, features_cat], axis = 1)\n",
        "features = features.drop(columns = col_cat_features)\n",
        "features.head()"
      ],
      "execution_count": null,
      "outputs": [
        {
          "output_type": "execute_result",
          "data": {
            "text/html": [
              "<div>\n",
              "<style scoped>\n",
              "    .dataframe tbody tr th:only-of-type {\n",
              "        vertical-align: middle;\n",
              "    }\n",
              "\n",
              "    .dataframe tbody tr th {\n",
              "        vertical-align: top;\n",
              "    }\n",
              "\n",
              "    .dataframe thead th {\n",
              "        text-align: right;\n",
              "    }\n",
              "</style>\n",
              "<table border=\"1\" class=\"dataframe\">\n",
              "  <thead>\n",
              "    <tr style=\"text-align: right;\">\n",
              "      <th></th>\n",
              "      <th>age_year</th>\n",
              "      <th>gender_female</th>\n",
              "      <th>gender_male</th>\n",
              "      <th>fever_0</th>\n",
              "      <th>fever_1</th>\n",
              "      <th>cough_0</th>\n",
              "      <th>cough_1</th>\n",
              "      <th>runny_nose_0</th>\n",
              "      <th>runny_nose_1</th>\n",
              "      <th>muscle_soreness_0</th>\n",
              "      <th>muscle_soreness_1</th>\n",
              "      <th>pneumonia_0</th>\n",
              "      <th>pneumonia_1</th>\n",
              "      <th>diarrhea_0</th>\n",
              "      <th>diarrhea_1</th>\n",
              "      <th>lung_infection_0</th>\n",
              "      <th>lung_infection_1</th>\n",
              "      <th>travel_history_0</th>\n",
              "      <th>travel_history_1</th>\n",
              "      <th>isolation_treatment_0</th>\n",
              "      <th>isolation_treatment_1</th>\n",
              "    </tr>\n",
              "  </thead>\n",
              "  <tbody>\n",
              "    <tr>\n",
              "      <th>0</th>\n",
              "      <td>0.926316</td>\n",
              "      <td>0</td>\n",
              "      <td>1</td>\n",
              "      <td>0</td>\n",
              "      <td>1</td>\n",
              "      <td>0</td>\n",
              "      <td>1</td>\n",
              "      <td>1</td>\n",
              "      <td>0</td>\n",
              "      <td>1</td>\n",
              "      <td>0</td>\n",
              "      <td>1</td>\n",
              "      <td>0</td>\n",
              "      <td>1</td>\n",
              "      <td>0</td>\n",
              "      <td>1</td>\n",
              "      <td>0</td>\n",
              "      <td>0</td>\n",
              "      <td>1</td>\n",
              "      <td>1</td>\n",
              "      <td>0</td>\n",
              "    </tr>\n",
              "    <tr>\n",
              "      <th>1</th>\n",
              "      <td>0.705263</td>\n",
              "      <td>0</td>\n",
              "      <td>1</td>\n",
              "      <td>0</td>\n",
              "      <td>1</td>\n",
              "      <td>1</td>\n",
              "      <td>0</td>\n",
              "      <td>1</td>\n",
              "      <td>0</td>\n",
              "      <td>1</td>\n",
              "      <td>0</td>\n",
              "      <td>1</td>\n",
              "      <td>0</td>\n",
              "      <td>1</td>\n",
              "      <td>0</td>\n",
              "      <td>1</td>\n",
              "      <td>0</td>\n",
              "      <td>1</td>\n",
              "      <td>0</td>\n",
              "      <td>1</td>\n",
              "      <td>0</td>\n",
              "    </tr>\n",
              "    <tr>\n",
              "      <th>2</th>\n",
              "      <td>0.705263</td>\n",
              "      <td>0</td>\n",
              "      <td>1</td>\n",
              "      <td>1</td>\n",
              "      <td>0</td>\n",
              "      <td>1</td>\n",
              "      <td>0</td>\n",
              "      <td>1</td>\n",
              "      <td>0</td>\n",
              "      <td>1</td>\n",
              "      <td>0</td>\n",
              "      <td>1</td>\n",
              "      <td>0</td>\n",
              "      <td>1</td>\n",
              "      <td>0</td>\n",
              "      <td>1</td>\n",
              "      <td>0</td>\n",
              "      <td>0</td>\n",
              "      <td>1</td>\n",
              "      <td>1</td>\n",
              "      <td>0</td>\n",
              "    </tr>\n",
              "    <tr>\n",
              "      <th>3</th>\n",
              "      <td>0.705263</td>\n",
              "      <td>0</td>\n",
              "      <td>1</td>\n",
              "      <td>0</td>\n",
              "      <td>1</td>\n",
              "      <td>0</td>\n",
              "      <td>1</td>\n",
              "      <td>1</td>\n",
              "      <td>0</td>\n",
              "      <td>1</td>\n",
              "      <td>0</td>\n",
              "      <td>1</td>\n",
              "      <td>0</td>\n",
              "      <td>1</td>\n",
              "      <td>0</td>\n",
              "      <td>1</td>\n",
              "      <td>0</td>\n",
              "      <td>0</td>\n",
              "      <td>1</td>\n",
              "      <td>0</td>\n",
              "      <td>1</td>\n",
              "    </tr>\n",
              "    <tr>\n",
              "      <th>4</th>\n",
              "      <td>0.515789</td>\n",
              "      <td>0</td>\n",
              "      <td>1</td>\n",
              "      <td>0</td>\n",
              "      <td>1</td>\n",
              "      <td>0</td>\n",
              "      <td>1</td>\n",
              "      <td>0</td>\n",
              "      <td>1</td>\n",
              "      <td>1</td>\n",
              "      <td>0</td>\n",
              "      <td>0</td>\n",
              "      <td>1</td>\n",
              "      <td>1</td>\n",
              "      <td>0</td>\n",
              "      <td>1</td>\n",
              "      <td>0</td>\n",
              "      <td>0</td>\n",
              "      <td>1</td>\n",
              "      <td>1</td>\n",
              "      <td>0</td>\n",
              "    </tr>\n",
              "  </tbody>\n",
              "</table>\n",
              "</div>"
            ],
            "text/plain": [
              "   age_year  gender_female  ...  isolation_treatment_0  isolation_treatment_1\n",
              "0  0.926316              0  ...                      1                      0\n",
              "1  0.705263              0  ...                      1                      0\n",
              "2  0.705263              0  ...                      1                      0\n",
              "3  0.705263              0  ...                      0                      1\n",
              "4  0.515789              0  ...                      1                      0\n",
              "\n",
              "[5 rows x 21 columns]"
            ]
          },
          "metadata": {
            "tags": []
          },
          "execution_count": 33
        }
      ]
    },
    {
      "cell_type": "code",
      "metadata": {
        "id": "s6E_NYizsOBe"
      },
      "source": [
        "# label_cat = pd.get_dummies(label['SARS-CoV-2 Positive'], prefix=\"sars\")\n",
        "# label = pd.concat([label, label_cat], axis = 1)\n",
        "# label = label.drop(columns = 'SARS-CoV-2 Positive')\n",
        "# label.head()"
      ],
      "execution_count": null,
      "outputs": []
    },
    {
      "cell_type": "markdown",
      "metadata": {
        "id": "Up060Nyc54v0"
      },
      "source": [
        "## -- Split Data"
      ]
    },
    {
      "cell_type": "code",
      "metadata": {
        "id": "jemPFDaguyRP"
      },
      "source": [
        "from sklearn.model_selection import train_test_split"
      ],
      "execution_count": null,
      "outputs": []
    },
    {
      "cell_type": "code",
      "metadata": {
        "id": "69XQQLwFuyRQ"
      },
      "source": [
        "X_train, X_validate, y_train, y_validate = train_test_split(\n",
        "    features, label, test_size=0.3, shuffle=True, stratify=label)"
      ],
      "execution_count": null,
      "outputs": []
    },
    {
      "cell_type": "code",
      "metadata": {
        "id": "RRZ2nJ-YuyRQ",
        "colab": {
          "base_uri": "https://localhost:8080/"
        },
        "outputId": "ddc7ac0b-abe8-46b4-9549-b2330884061a"
      },
      "source": [
        "X_train.shape, X_validate.shape"
      ],
      "execution_count": null,
      "outputs": [
        {
          "output_type": "execute_result",
          "data": {
            "text/plain": [
              "((4558, 21), (1954, 21))"
            ]
          },
          "metadata": {
            "tags": []
          },
          "execution_count": 37
        }
      ]
    },
    {
      "cell_type": "code",
      "metadata": {
        "colab": {
          "base_uri": "https://localhost:8080/"
        },
        "id": "1JxDIEUm_nVt",
        "outputId": "7b2662cf-96c5-4127-d3e9-5f498f89dde3"
      },
      "source": [
        "y_train.count()"
      ],
      "execution_count": null,
      "outputs": [
        {
          "output_type": "execute_result",
          "data": {
            "text/plain": [
              "SARS-CoV-2 Positive    4558\n",
              "dtype: int64"
            ]
          },
          "metadata": {
            "tags": []
          },
          "execution_count": 38
        }
      ]
    },
    {
      "cell_type": "code",
      "metadata": {
        "colab": {
          "base_uri": "https://localhost:8080/"
        },
        "id": "LYZtUQep_xGQ",
        "outputId": "872711d4-7e4f-44c5-d65d-0f9d0b5a7766"
      },
      "source": [
        "y_validate.count()"
      ],
      "execution_count": null,
      "outputs": [
        {
          "output_type": "execute_result",
          "data": {
            "text/plain": [
              "SARS-CoV-2 Positive    1954\n",
              "dtype: int64"
            ]
          },
          "metadata": {
            "tags": []
          },
          "execution_count": 39
        }
      ]
    },
    {
      "cell_type": "markdown",
      "metadata": {
        "id": "Y0cv3xRrvi9l"
      },
      "source": [
        "# **Data Modelling**"
      ]
    },
    {
      "cell_type": "markdown",
      "metadata": {
        "id": "Qro8tA9f8NYJ"
      },
      "source": [
        "## -- Train Model"
      ]
    },
    {
      "cell_type": "code",
      "metadata": {
        "colab": {
          "base_uri": "https://localhost:8080/"
        },
        "id": "_Em1NjXaZboK",
        "outputId": "759613c1-a18c-4d85-97e5-b57d91fbfb95"
      },
      "source": [
        "import tensorflow as tf\n",
        "\n",
        "model = tf.keras.Sequential([\n",
        "    tf.keras.layers.Dense(256, activation=\"relu\", input_shape=(features.columns.size,)),\n",
        "    tf.keras.layers.Dense(128, activation=tf.nn.relu),\n",
        "    tf.keras.layers.Dense(64, activation=tf.nn.relu),\n",
        "    tf.keras.layers.Dense(32, activation=tf.nn.relu),\n",
        "    tf.keras.layers.Dense(1, activation=\"sigmoid\")\n",
        "])\n",
        "\n",
        "model.summary()"
      ],
      "execution_count": null,
      "outputs": [
        {
          "output_type": "stream",
          "text": [
            "Model: \"sequential\"\n",
            "_________________________________________________________________\n",
            "Layer (type)                 Output Shape              Param #   \n",
            "=================================================================\n",
            "dense (Dense)                (None, 256)               5632      \n",
            "_________________________________________________________________\n",
            "dense_1 (Dense)              (None, 128)               32896     \n",
            "_________________________________________________________________\n",
            "dense_2 (Dense)              (None, 64)                8256      \n",
            "_________________________________________________________________\n",
            "dense_3 (Dense)              (None, 32)                2080      \n",
            "_________________________________________________________________\n",
            "dense_4 (Dense)              (None, 1)                 33        \n",
            "=================================================================\n",
            "Total params: 48,897\n",
            "Trainable params: 48,897\n",
            "Non-trainable params: 0\n",
            "_________________________________________________________________\n"
          ],
          "name": "stdout"
        }
      ]
    },
    {
      "cell_type": "code",
      "metadata": {
        "id": "VAWpmoySZewM"
      },
      "source": [
        "from keras.optimizers import SGD\n",
        "opt = SGD(1E-3, momentum=0.9)\n",
        "model.compile(\n",
        "    loss='binary_crossentropy',\n",
        "    optimizer='Adam',\n",
        "    metrics=['accuracy']\n",
        ")"
      ],
      "execution_count": null,
      "outputs": []
    },
    {
      "cell_type": "code",
      "metadata": {
        "id": "pyZUNQ_PramS"
      },
      "source": [
        "class myCallback(tf.keras.callbacks.Callback):\n",
        "  def on_epoch_end(self, epoch, logs={}):\n",
        "    if(logs.get('accuracy')>0.95 and logs.get('val_accuracy')>0.95):\n",
        "      self.model.stop_training = True\n",
        "      print(\"\\nThe accuracy of the training set and the validation set has reached > 95%!\")\n",
        "callbacks = myCallback()"
      ],
      "execution_count": null,
      "outputs": []
    },
    {
      "cell_type": "code",
      "metadata": {
        "id": "Wj0WHRqvGCQI"
      },
      "source": [
        "from keras.callbacks import EarlyStopping\n",
        "from keras.callbacks import ModelCheckpoint\n",
        "# simple early stopping\n",
        "es = EarlyStopping(monitor='val_loss', mode='min', verbose=1, patience=50)"
      ],
      "execution_count": null,
      "outputs": []
    },
    {
      "cell_type": "code",
      "metadata": {
        "id": "8sMeYeb0GCQI"
      },
      "source": [
        "mc = ModelCheckpoint('covid_model_03.h5', monitor='val_accuracy', mode='max', verbose=1, save_best_only=True)"
      ],
      "execution_count": null,
      "outputs": []
    },
    {
      "cell_type": "code",
      "metadata": {
        "colab": {
          "base_uri": "https://localhost:8080/"
        },
        "id": "WlGvATyaZgw8",
        "outputId": "5919ff56-4a32-4c0e-ef58-2e299631140c"
      },
      "source": [
        "history = model.fit(\n",
        "    X_train, \n",
        "    y_train, \n",
        "    validation_data=(X_validate, y_validate), \n",
        "    epochs=500, \n",
        "    batch_size=128, \n",
        "    callbacks=[es, mc], \n",
        "    verbose=2\n",
        ")\n",
        "\n",
        "history.history['accuracy'][-1]"
      ],
      "execution_count": null,
      "outputs": [
        {
          "output_type": "stream",
          "text": [
            "Epoch 1/500\n",
            "36/36 - 1s - loss: 0.3784 - accuracy: 0.8111 - val_loss: 0.2819 - val_accuracy: 0.8792\n",
            "\n",
            "Epoch 00001: val_accuracy improved from -inf to 0.87922, saving model to covid_model_03.h5\n",
            "Epoch 2/500\n",
            "36/36 - 0s - loss: 0.2526 - accuracy: 0.8831 - val_loss: 0.2630 - val_accuracy: 0.8833\n",
            "\n",
            "Epoch 00002: val_accuracy improved from 0.87922 to 0.88332, saving model to covid_model_03.h5\n",
            "Epoch 3/500\n",
            "36/36 - 0s - loss: 0.2372 - accuracy: 0.8947 - val_loss: 0.2541 - val_accuracy: 0.8915\n",
            "\n",
            "Epoch 00003: val_accuracy improved from 0.88332 to 0.89150, saving model to covid_model_03.h5\n",
            "Epoch 4/500\n",
            "36/36 - 0s - loss: 0.2304 - accuracy: 0.8958 - val_loss: 0.2492 - val_accuracy: 0.8905\n",
            "\n",
            "Epoch 00004: val_accuracy did not improve from 0.89150\n",
            "Epoch 5/500\n",
            "36/36 - 0s - loss: 0.2273 - accuracy: 0.8945 - val_loss: 0.2580 - val_accuracy: 0.8910\n",
            "\n",
            "Epoch 00005: val_accuracy did not improve from 0.89150\n",
            "Epoch 6/500\n",
            "36/36 - 0s - loss: 0.2289 - accuracy: 0.8949 - val_loss: 0.2518 - val_accuracy: 0.8915\n",
            "\n",
            "Epoch 00006: val_accuracy did not improve from 0.89150\n",
            "Epoch 7/500\n",
            "36/36 - 0s - loss: 0.2285 - accuracy: 0.8989 - val_loss: 0.2610 - val_accuracy: 0.8818\n",
            "\n",
            "Epoch 00007: val_accuracy did not improve from 0.89150\n",
            "Epoch 8/500\n",
            "36/36 - 0s - loss: 0.2283 - accuracy: 0.8949 - val_loss: 0.2458 - val_accuracy: 0.8910\n",
            "\n",
            "Epoch 00008: val_accuracy did not improve from 0.89150\n",
            "Epoch 9/500\n",
            "36/36 - 0s - loss: 0.2241 - accuracy: 0.8973 - val_loss: 0.2488 - val_accuracy: 0.8905\n",
            "\n",
            "Epoch 00009: val_accuracy did not improve from 0.89150\n",
            "Epoch 10/500\n",
            "36/36 - 0s - loss: 0.2249 - accuracy: 0.9000 - val_loss: 0.2498 - val_accuracy: 0.8925\n",
            "\n",
            "Epoch 00010: val_accuracy improved from 0.89150 to 0.89253, saving model to covid_model_03.h5\n",
            "Epoch 11/500\n",
            "36/36 - 0s - loss: 0.2249 - accuracy: 0.8971 - val_loss: 0.2517 - val_accuracy: 0.8976\n",
            "\n",
            "Epoch 00011: val_accuracy improved from 0.89253 to 0.89765, saving model to covid_model_03.h5\n",
            "Epoch 12/500\n",
            "36/36 - 0s - loss: 0.2214 - accuracy: 0.8982 - val_loss: 0.2516 - val_accuracy: 0.8869\n",
            "\n",
            "Epoch 00012: val_accuracy did not improve from 0.89765\n",
            "Epoch 13/500\n",
            "36/36 - 0s - loss: 0.2225 - accuracy: 0.8960 - val_loss: 0.2458 - val_accuracy: 0.8910\n",
            "\n",
            "Epoch 00013: val_accuracy did not improve from 0.89765\n",
            "Epoch 14/500\n",
            "36/36 - 0s - loss: 0.2201 - accuracy: 0.9002 - val_loss: 0.2525 - val_accuracy: 0.8884\n",
            "\n",
            "Epoch 00014: val_accuracy did not improve from 0.89765\n",
            "Epoch 15/500\n",
            "36/36 - 0s - loss: 0.2231 - accuracy: 0.8956 - val_loss: 0.2531 - val_accuracy: 0.8874\n",
            "\n",
            "Epoch 00015: val_accuracy did not improve from 0.89765\n",
            "Epoch 16/500\n",
            "36/36 - 0s - loss: 0.2213 - accuracy: 0.9002 - val_loss: 0.2511 - val_accuracy: 0.8910\n",
            "\n",
            "Epoch 00016: val_accuracy did not improve from 0.89765\n",
            "Epoch 17/500\n",
            "36/36 - 0s - loss: 0.2202 - accuracy: 0.8995 - val_loss: 0.2503 - val_accuracy: 0.8915\n",
            "\n",
            "Epoch 00017: val_accuracy did not improve from 0.89765\n",
            "Epoch 18/500\n",
            "36/36 - 0s - loss: 0.2213 - accuracy: 0.8980 - val_loss: 0.2495 - val_accuracy: 0.8915\n",
            "\n",
            "Epoch 00018: val_accuracy did not improve from 0.89765\n",
            "Epoch 19/500\n",
            "36/36 - 0s - loss: 0.2200 - accuracy: 0.9006 - val_loss: 0.2496 - val_accuracy: 0.8941\n",
            "\n",
            "Epoch 00019: val_accuracy did not improve from 0.89765\n",
            "Epoch 20/500\n",
            "36/36 - 0s - loss: 0.2212 - accuracy: 0.9000 - val_loss: 0.2502 - val_accuracy: 0.8925\n",
            "\n",
            "Epoch 00020: val_accuracy did not improve from 0.89765\n",
            "Epoch 21/500\n",
            "36/36 - 0s - loss: 0.2206 - accuracy: 0.8997 - val_loss: 0.2517 - val_accuracy: 0.8925\n",
            "\n",
            "Epoch 00021: val_accuracy did not improve from 0.89765\n",
            "Epoch 22/500\n",
            "36/36 - 0s - loss: 0.2206 - accuracy: 0.8980 - val_loss: 0.2501 - val_accuracy: 0.8915\n",
            "\n",
            "Epoch 00022: val_accuracy did not improve from 0.89765\n",
            "Epoch 23/500\n",
            "36/36 - 0s - loss: 0.2202 - accuracy: 0.9000 - val_loss: 0.2486 - val_accuracy: 0.8900\n",
            "\n",
            "Epoch 00023: val_accuracy did not improve from 0.89765\n",
            "Epoch 24/500\n",
            "36/36 - 0s - loss: 0.2211 - accuracy: 0.8943 - val_loss: 0.2562 - val_accuracy: 0.8900\n",
            "\n",
            "Epoch 00024: val_accuracy did not improve from 0.89765\n",
            "Epoch 25/500\n",
            "36/36 - 0s - loss: 0.2200 - accuracy: 0.9008 - val_loss: 0.2519 - val_accuracy: 0.8915\n",
            "\n",
            "Epoch 00025: val_accuracy did not improve from 0.89765\n",
            "Epoch 26/500\n",
            "36/36 - 0s - loss: 0.2183 - accuracy: 0.9011 - val_loss: 0.2496 - val_accuracy: 0.8915\n",
            "\n",
            "Epoch 00026: val_accuracy did not improve from 0.89765\n",
            "Epoch 27/500\n",
            "36/36 - 0s - loss: 0.2183 - accuracy: 0.8984 - val_loss: 0.2520 - val_accuracy: 0.8910\n",
            "\n",
            "Epoch 00027: val_accuracy did not improve from 0.89765\n",
            "Epoch 28/500\n",
            "36/36 - 0s - loss: 0.2180 - accuracy: 0.8951 - val_loss: 0.2509 - val_accuracy: 0.8889\n",
            "\n",
            "Epoch 00028: val_accuracy did not improve from 0.89765\n",
            "Epoch 29/500\n",
            "36/36 - 0s - loss: 0.2187 - accuracy: 0.8967 - val_loss: 0.2519 - val_accuracy: 0.8920\n",
            "\n",
            "Epoch 00029: val_accuracy did not improve from 0.89765\n",
            "Epoch 30/500\n",
            "36/36 - 0s - loss: 0.2162 - accuracy: 0.9019 - val_loss: 0.2512 - val_accuracy: 0.8941\n",
            "\n",
            "Epoch 00030: val_accuracy did not improve from 0.89765\n",
            "Epoch 31/500\n",
            "36/36 - 0s - loss: 0.2203 - accuracy: 0.8984 - val_loss: 0.2488 - val_accuracy: 0.8915\n",
            "\n",
            "Epoch 00031: val_accuracy did not improve from 0.89765\n",
            "Epoch 32/500\n",
            "36/36 - 0s - loss: 0.2183 - accuracy: 0.9008 - val_loss: 0.2508 - val_accuracy: 0.8930\n",
            "\n",
            "Epoch 00032: val_accuracy did not improve from 0.89765\n",
            "Epoch 33/500\n",
            "36/36 - 0s - loss: 0.2169 - accuracy: 0.9013 - val_loss: 0.2522 - val_accuracy: 0.8915\n",
            "\n",
            "Epoch 00033: val_accuracy did not improve from 0.89765\n",
            "Epoch 34/500\n",
            "36/36 - 0s - loss: 0.2156 - accuracy: 0.8991 - val_loss: 0.2541 - val_accuracy: 0.8915\n",
            "\n",
            "Epoch 00034: val_accuracy did not improve from 0.89765\n",
            "Epoch 35/500\n",
            "36/36 - 0s - loss: 0.2182 - accuracy: 0.9000 - val_loss: 0.2544 - val_accuracy: 0.8859\n",
            "\n",
            "Epoch 00035: val_accuracy did not improve from 0.89765\n",
            "Epoch 36/500\n",
            "36/36 - 0s - loss: 0.2176 - accuracy: 0.9006 - val_loss: 0.2486 - val_accuracy: 0.8910\n",
            "\n",
            "Epoch 00036: val_accuracy did not improve from 0.89765\n",
            "Epoch 37/500\n",
            "36/36 - 0s - loss: 0.2165 - accuracy: 0.9019 - val_loss: 0.2530 - val_accuracy: 0.8910\n",
            "\n",
            "Epoch 00037: val_accuracy did not improve from 0.89765\n",
            "Epoch 38/500\n",
            "36/36 - 0s - loss: 0.2170 - accuracy: 0.9019 - val_loss: 0.2579 - val_accuracy: 0.8869\n",
            "\n",
            "Epoch 00038: val_accuracy did not improve from 0.89765\n",
            "Epoch 39/500\n",
            "36/36 - 0s - loss: 0.2167 - accuracy: 0.8989 - val_loss: 0.2534 - val_accuracy: 0.8920\n",
            "\n",
            "Epoch 00039: val_accuracy did not improve from 0.89765\n",
            "Epoch 40/500\n",
            "36/36 - 0s - loss: 0.2158 - accuracy: 0.9011 - val_loss: 0.2533 - val_accuracy: 0.8910\n",
            "\n",
            "Epoch 00040: val_accuracy did not improve from 0.89765\n",
            "Epoch 41/500\n",
            "36/36 - 0s - loss: 0.2165 - accuracy: 0.9008 - val_loss: 0.2542 - val_accuracy: 0.8910\n",
            "\n",
            "Epoch 00041: val_accuracy did not improve from 0.89765\n",
            "Epoch 42/500\n",
            "36/36 - 0s - loss: 0.2161 - accuracy: 0.9013 - val_loss: 0.2505 - val_accuracy: 0.8915\n",
            "\n",
            "Epoch 00042: val_accuracy did not improve from 0.89765\n",
            "Epoch 43/500\n",
            "36/36 - 0s - loss: 0.2153 - accuracy: 0.9008 - val_loss: 0.2557 - val_accuracy: 0.8915\n",
            "\n",
            "Epoch 00043: val_accuracy did not improve from 0.89765\n",
            "Epoch 44/500\n",
            "36/36 - 0s - loss: 0.2164 - accuracy: 0.9002 - val_loss: 0.2526 - val_accuracy: 0.8920\n",
            "\n",
            "Epoch 00044: val_accuracy did not improve from 0.89765\n",
            "Epoch 45/500\n",
            "36/36 - 0s - loss: 0.2161 - accuracy: 0.9008 - val_loss: 0.2522 - val_accuracy: 0.8915\n",
            "\n",
            "Epoch 00045: val_accuracy did not improve from 0.89765\n",
            "Epoch 46/500\n",
            "36/36 - 0s - loss: 0.2161 - accuracy: 0.9013 - val_loss: 0.2520 - val_accuracy: 0.8920\n",
            "\n",
            "Epoch 00046: val_accuracy did not improve from 0.89765\n",
            "Epoch 47/500\n",
            "36/36 - 0s - loss: 0.2155 - accuracy: 0.9017 - val_loss: 0.2477 - val_accuracy: 0.8915\n",
            "\n",
            "Epoch 00047: val_accuracy did not improve from 0.89765\n",
            "Epoch 48/500\n",
            "36/36 - 0s - loss: 0.2151 - accuracy: 0.8995 - val_loss: 0.2536 - val_accuracy: 0.8859\n",
            "\n",
            "Epoch 00048: val_accuracy did not improve from 0.89765\n",
            "Epoch 49/500\n",
            "36/36 - 0s - loss: 0.2148 - accuracy: 0.9028 - val_loss: 0.2522 - val_accuracy: 0.8915\n",
            "\n",
            "Epoch 00049: val_accuracy did not improve from 0.89765\n",
            "Epoch 50/500\n",
            "36/36 - 0s - loss: 0.2154 - accuracy: 0.9008 - val_loss: 0.2518 - val_accuracy: 0.8864\n",
            "\n",
            "Epoch 00050: val_accuracy did not improve from 0.89765\n",
            "Epoch 51/500\n",
            "36/36 - 0s - loss: 0.2166 - accuracy: 0.9013 - val_loss: 0.2520 - val_accuracy: 0.8910\n",
            "\n",
            "Epoch 00051: val_accuracy did not improve from 0.89765\n",
            "Epoch 52/500\n",
            "36/36 - 0s - loss: 0.2143 - accuracy: 0.9017 - val_loss: 0.2520 - val_accuracy: 0.8920\n",
            "\n",
            "Epoch 00052: val_accuracy did not improve from 0.89765\n",
            "Epoch 53/500\n",
            "36/36 - 0s - loss: 0.2147 - accuracy: 0.8995 - val_loss: 0.2566 - val_accuracy: 0.8910\n",
            "\n",
            "Epoch 00053: val_accuracy did not improve from 0.89765\n",
            "Epoch 54/500\n",
            "36/36 - 0s - loss: 0.2134 - accuracy: 0.9006 - val_loss: 0.2517 - val_accuracy: 0.8915\n",
            "\n",
            "Epoch 00054: val_accuracy did not improve from 0.89765\n",
            "Epoch 55/500\n",
            "36/36 - 0s - loss: 0.2184 - accuracy: 0.9011 - val_loss: 0.2533 - val_accuracy: 0.8910\n",
            "\n",
            "Epoch 00055: val_accuracy did not improve from 0.89765\n",
            "Epoch 56/500\n",
            "36/36 - 0s - loss: 0.2143 - accuracy: 0.9002 - val_loss: 0.2543 - val_accuracy: 0.8915\n",
            "\n",
            "Epoch 00056: val_accuracy did not improve from 0.89765\n",
            "Epoch 57/500\n",
            "36/36 - 0s - loss: 0.2143 - accuracy: 0.9011 - val_loss: 0.2603 - val_accuracy: 0.8910\n",
            "\n",
            "Epoch 00057: val_accuracy did not improve from 0.89765\n",
            "Epoch 58/500\n",
            "36/36 - 0s - loss: 0.2149 - accuracy: 0.9022 - val_loss: 0.2533 - val_accuracy: 0.8920\n",
            "\n",
            "Epoch 00058: val_accuracy did not improve from 0.89765\n",
            "Epoch 00058: early stopping\n"
          ],
          "name": "stdout"
        },
        {
          "output_type": "execute_result",
          "data": {
            "text/plain": [
              "0.9021500945091248"
            ]
          },
          "metadata": {
            "tags": []
          },
          "execution_count": 45
        }
      ]
    },
    {
      "cell_type": "code",
      "metadata": {
        "colab": {
          "base_uri": "https://localhost:8080/"
        },
        "id": "ld6f_-5_g6s8",
        "outputId": "24a73c89-5659-474b-f67e-991bd93f740d"
      },
      "source": [
        "_, train_acc = model.evaluate(X_train, y_train, verbose=0)\n",
        "_, valid_acc = model.evaluate(X_validate, y_validate, verbose=0)\n",
        "print('Train: %.3f, Valid: %.3f' % (train_acc, valid_acc))"
      ],
      "execution_count": null,
      "outputs": [
        {
          "output_type": "stream",
          "text": [
            "Train: 0.902, Valid: 0.892\n"
          ],
          "name": "stdout"
        }
      ]
    },
    {
      "cell_type": "code",
      "metadata": {
        "colab": {
          "base_uri": "https://localhost:8080/"
        },
        "id": "psy65QUACONX",
        "outputId": "2857b69b-fa6b-4d1a-9375-bda55123f137"
      },
      "source": [
        "from keras.models import load_model\n",
        "saved_model = load_model('covid_model_03.h5')\n",
        "_, train_acc = saved_model.evaluate(X_train, y_train, verbose=0)\n",
        "_, valid_acc = saved_model.evaluate(X_validate, y_validate, verbose=0)\n",
        "print('Train: %.3f, Valid: %.3f' % (train_acc, valid_acc))"
      ],
      "execution_count": null,
      "outputs": [
        {
          "output_type": "stream",
          "text": [
            "Train: 0.892, Valid: 0.898\n"
          ],
          "name": "stdout"
        }
      ]
    },
    {
      "cell_type": "markdown",
      "metadata": {
        "id": "wvxy8A398cug"
      },
      "source": [
        "## -- Plot Model"
      ]
    },
    {
      "cell_type": "code",
      "metadata": {
        "colab": {
          "base_uri": "https://localhost:8080/",
          "height": 376
        },
        "id": "Q_lRLXUD7ui4",
        "outputId": "958a6537-18fe-48a2-d362-2309e75fb6cd"
      },
      "source": [
        "import matplotlib.pyplot as plt\n",
        "plt.plot(history.history['accuracy'], color='red')\n",
        "plt.plot(history.history['val_accuracy'], color='blue')\n",
        "plt.ylim(top=1)\n",
        "plt.title('Akurasi Model')\n",
        "plt.ylabel('accuracy')\n",
        "plt.xlabel('epoch')\n",
        "plt.legend(['train', 'test'], loc='upper left')\n",
        "plt.show()"
      ],
      "execution_count": null,
      "outputs": [
        {
          "output_type": "display_data",
          "data": {
            "image/png": "[encoded data removed]",
            "text/plain": [
              "<Figure size 576x396 with 1 Axes>"
            ]
          },
          "metadata": {
            "tags": []
          }
        }
      ]
    },
    {
      "cell_type": "code",
      "metadata": {
        "colab": {
          "base_uri": "https://localhost:8080/",
          "height": 376
        },
        "id": "ja2Fijxj7ui6",
        "outputId": "cd7e1dab-7975-4469-c552-a2394cfc8c09"
      },
      "source": [
        "plt.plot(history.history['loss'], color='red')\n",
        "plt.plot(history.history['val_loss'], color='blue')\n",
        "plt.title('Loss Model')\n",
        "plt.ylabel('loss')\n",
        "plt.xlabel('epoch')\n",
        "plt.legend(['train', 'test'], loc='upper left')\n",
        "plt.show()"
      ],
      "execution_count": null,
      "outputs": [
        {
          "output_type": "display_data",
          "data": {
            "image/png": "[encoded data removed]",
            "text/plain": [
              "<Figure size 576x396 with 1 Axes>"
            ]
          },
          "metadata": {
            "tags": []
          }
        }
      ]
    },
    {
      "cell_type": "code",
      "metadata": {
        "id": "8eC20mw4sfwz"
      },
      "source": [
        "from keras.optimizers import SGD\n",
        "# fit a model and plot learning curve\n",
        "def fit_model(X_train, y_train, X_validate, y_validate, learning_rate):\n",
        "  model = tf.keras.Sequential([\n",
        "    tf.keras.layers.Dense(256, activation=\"relu\", input_shape=(features.columns.size,)),\n",
        "    tf.keras.layers.Dense(128, activation=tf.nn.relu),\n",
        "    tf.keras.layers.Dense(64, activation=tf.nn.relu),\n",
        "    tf.keras.layers.Dense(32, activation=tf.nn.relu),\n",
        "    tf.keras.layers.Dense(1, activation=\"sigmoid\")\n",
        "  ])\n",
        "  opt = SGD(learning_rate, momentum=0.9)\n",
        "  model.compile(\n",
        "    loss='binary_crossentropy',\n",
        "    optimizer=opt,\n",
        "    metrics=['accuracy']\n",
        "  )\n",
        "\n",
        "  history = model.fit(X_train, y_train, validation_data=(X_validate, y_validate), epochs=500, batch_size=128, verbose=0)\n",
        "  plt.plot(history.history['accuracy'], label='train')\n",
        "  plt.plot(history.history['val_accuracy'], label='test')\n",
        "  plt.ylim(top=1)\n",
        "  plt.title('Learning Rate = '+str(learning_rate))\n",
        "  plt.legend()\n"
      ],
      "execution_count": null,
      "outputs": []
    },
    {
      "cell_type": "code",
      "metadata": {
        "id": "w8n-_6HZsfxQ",
        "colab": {
          "base_uri": "https://localhost:8080/",
          "height": 1000
        },
        "outputId": "53147af7-9383-4bb4-c583-32db2fdab187"
      },
      "source": [
        "learning_rate = [1, 1E-1, 1E-2, 1E-3, 1E-4, 1E-5]\n",
        "\n",
        "plt.figure(figsize=(10, 20))\n",
        "for i in range(len(learning_rate)):\n",
        "  # determine the plot number\n",
        "  plt.subplot(3,2,i+1)\n",
        "    \n",
        "  # fit model and plot learning curves for a batch size\n",
        "  fit_model(X_train, y_train, X_validate, y_validate, learning_rate[i])\n",
        "  # show learning curves\n",
        "plt.show()"
      ],
      "execution_count": null,
      "outputs": [
        {
          "output_type": "display_data",
          "data": {
            "image/png": "[encoded data removed]",
            "text/plain": [
              "<Figure size 720x1440 with 6 Axes>"
            ]
          },
          "metadata": {
            "tags": []
          }
        }
      ]
    },
    {
      "cell_type": "markdown",
      "metadata": {
        "id": "zkcw99az8ged"
      },
      "source": [
        "## -- Predict and Evaluate Model"
      ]
    },
    {
      "cell_type": "code",
      "metadata": {
        "id": "niAa2Ht5eAv-",
        "colab": {
          "base_uri": "https://localhost:8080/"
        },
        "outputId": "da901472-73c2-44fa-8299-b016b4b0e8cb"
      },
      "source": [
        "predictions = model.predict(X_validate)\n",
        "predictions"
      ],
      "execution_count": null,
      "outputs": [
        {
          "output_type": "execute_result",
          "data": {
            "text/plain": [
              "array([[0.12745729],\n",
              "       [0.9975116 ],\n",
              "       [0.13452157],\n",
              "       ...,\n",
              "       [1.        ],\n",
              "       [0.00383735],\n",
              "       [0.01269776]], dtype=float32)"
            ]
          },
          "metadata": {
            "tags": []
          },
          "execution_count": 52
        }
      ]
    },
    {
      "cell_type": "code",
      "metadata": {
        "colab": {
          "base_uri": "https://localhost:8080/"
        },
        "id": "O-nDIfVfeJA3",
        "outputId": "ec4e038e-dff9-4fdf-d86d-fa9fe9d025de"
      },
      "source": [
        "y_pred = np.where(predictions < 0.5, 0, 1)\n",
        "y_pred"
      ],
      "execution_count": null,
      "outputs": [
        {
          "output_type": "execute_result",
          "data": {
            "text/plain": [
              "array([[0],\n",
              "       [1],\n",
              "       [0],\n",
              "       ...,\n",
              "       [1],\n",
              "       [0],\n",
              "       [0]])"
            ]
          },
          "metadata": {
            "tags": []
          },
          "execution_count": 53
        }
      ]
    },
    {
      "cell_type": "code",
      "metadata": {
        "colab": {
          "base_uri": "https://localhost:8080/",
          "height": 402
        },
        "id": "5E7kpwVquCHA",
        "outputId": "26f355a4-4164-4a64-b84c-b7f57ace815e"
      },
      "source": [
        "y_validate"
      ],
      "execution_count": null,
      "outputs": [
        {
          "output_type": "execute_result",
          "data": {
            "text/html": [
              "<div>\n",
              "<style scoped>\n",
              "    .dataframe tbody tr th:only-of-type {\n",
              "        vertical-align: middle;\n",
              "    }\n",
              "\n",
              "    .dataframe tbody tr th {\n",
              "        vertical-align: top;\n",
              "    }\n",
              "\n",
              "    .dataframe thead th {\n",
              "        text-align: right;\n",
              "    }\n",
              "</style>\n",
              "<table border=\"1\" class=\"dataframe\">\n",
              "  <thead>\n",
              "    <tr style=\"text-align: right;\">\n",
              "      <th></th>\n",
              "      <th>SARS-CoV-2 Positive</th>\n",
              "    </tr>\n",
              "  </thead>\n",
              "  <tbody>\n",
              "    <tr>\n",
              "      <th>1502</th>\n",
              "      <td>1</td>\n",
              "    </tr>\n",
              "    <tr>\n",
              "      <th>2636</th>\n",
              "      <td>1</td>\n",
              "    </tr>\n",
              "    <tr>\n",
              "      <th>3993</th>\n",
              "      <td>0</td>\n",
              "    </tr>\n",
              "    <tr>\n",
              "      <th>1312</th>\n",
              "      <td>0</td>\n",
              "    </tr>\n",
              "    <tr>\n",
              "      <th>2924</th>\n",
              "      <td>0</td>\n",
              "    </tr>\n",
              "    <tr>\n",
              "      <th>...</th>\n",
              "      <td>...</td>\n",
              "    </tr>\n",
              "    <tr>\n",
              "      <th>1083</th>\n",
              "      <td>0</td>\n",
              "    </tr>\n",
              "    <tr>\n",
              "      <th>1325</th>\n",
              "      <td>1</td>\n",
              "    </tr>\n",
              "    <tr>\n",
              "      <th>620</th>\n",
              "      <td>1</td>\n",
              "    </tr>\n",
              "    <tr>\n",
              "      <th>1064</th>\n",
              "      <td>1</td>\n",
              "    </tr>\n",
              "    <tr>\n",
              "      <th>2433</th>\n",
              "      <td>0</td>\n",
              "    </tr>\n",
              "  </tbody>\n",
              "</table>\n",
              "<p>1954 rows × 1 columns</p>\n",
              "</div>"
            ],
            "text/plain": [
              "      SARS-CoV-2 Positive\n",
              "1502                    1\n",
              "2636                    1\n",
              "3993                    0\n",
              "1312                    0\n",
              "2924                    0\n",
              "...                   ...\n",
              "1083                    0\n",
              "1325                    1\n",
              "620                     1\n",
              "1064                    1\n",
              "2433                    0\n",
              "\n",
              "[1954 rows x 1 columns]"
            ]
          },
          "metadata": {
            "tags": []
          },
          "execution_count": 54
        }
      ]
    },
    {
      "cell_type": "code",
      "metadata": {
        "id": "54f_2ea-pMsU"
      },
      "source": [
        "# y_pred = np.argmax(predictions, axis=1)\n",
        "# y_validate = np.argmax(y_validate.values, axis=1)"
      ],
      "execution_count": null,
      "outputs": []
    },
    {
      "cell_type": "code",
      "metadata": {
        "id": "XtIiFjG8jf2E",
        "colab": {
          "base_uri": "https://localhost:8080/"
        },
        "outputId": "a0739627-3937-4f0b-d267-87b81e3f2e93"
      },
      "source": [
        "from sklearn.metrics import accuracy_score\n",
        "\n",
        "accuracy_score(y_validate, y_pred)"
      ],
      "execution_count": null,
      "outputs": [
        {
          "output_type": "execute_result",
          "data": {
            "text/plain": [
              "0.8920163766632548"
            ]
          },
          "metadata": {
            "tags": []
          },
          "execution_count": 56
        }
      ]
    },
    {
      "cell_type": "code",
      "metadata": {
        "id": "rAFjFUnPVLat"
      },
      "source": [
        "from sklearn import metrics\n",
        "from sklearn.metrics import f1_score, confusion_matrix, accuracy_score"
      ],
      "execution_count": null,
      "outputs": []
    },
    {
      "cell_type": "code",
      "metadata": {
        "colab": {
          "base_uri": "https://localhost:8080/",
          "height": 382
        },
        "id": "lPExTeQ2VLau",
        "outputId": "b8481b26-7112-4a04-8c82-fd2e06bd85ee"
      },
      "source": [
        "ac= accuracy_score(y_validate, y_pred)\n",
        "print('Accuracy is:', ac)\n",
        "cm = confusion_matrix(y_validate, y_pred)\n",
        "sns.heatmap(cm,annot=True,fmt='d')"
      ],
      "execution_count": null,
      "outputs": [
        {
          "output_type": "stream",
          "text": [
            "Accuracy is: 0.8920163766632548\n"
          ],
          "name": "stdout"
        },
        {
          "output_type": "execute_result",
          "data": {
            "text/plain": [
              "<matplotlib.axes._subplots.AxesSubplot at 0x7f56c3e58450>"
            ]
          },
          "metadata": {
            "tags": []
          },
          "execution_count": 58
        },
        {
          "output_type": "display_data",
          "data": {
            "image/png": "[encoded data removed]",
            "text/plain": [
              "<Figure size 576x396 with 2 Axes>"
            ]
          },
          "metadata": {
            "tags": []
          }
        }
      ]
    },
    {
      "cell_type": "code",
      "metadata": {
        "id": "8oOol1PSVLav"
      },
      "source": [
        "from sklearn.metrics import classification_report"
      ],
      "execution_count": null,
      "outputs": []
    },
    {
      "cell_type": "code",
      "metadata": {
        "colab": {
          "base_uri": "https://localhost:8080/",
          "height": 106
        },
        "id": "in4WPTUL6I_S",
        "outputId": "afeec77c-6af2-4052-f33e-771d369b805b"
      },
      "source": [
        "from sklearn.metrics import classification_report, confusion_matrix\n",
        "cm = np.array(confusion_matrix(y_validate, y_pred, labels=[1,0])) # positive-1, suspected-0\n",
        "confusion = pd.DataFrame(cm, index=['is_covid', 'is_suspected'],\n",
        "                         columns=['predicted_covid', 'predicted_suspected'])\n",
        "confusion"
      ],
      "execution_count": null,
      "outputs": [
        {
          "output_type": "execute_result",
          "data": {
            "text/html": [
              "<div>\n",
              "<style scoped>\n",
              "    .dataframe tbody tr th:only-of-type {\n",
              "        vertical-align: middle;\n",
              "    }\n",
              "\n",
              "    .dataframe tbody tr th {\n",
              "        vertical-align: top;\n",
              "    }\n",
              "\n",
              "    .dataframe thead th {\n",
              "        text-align: right;\n",
              "    }\n",
              "</style>\n",
              "<table border=\"1\" class=\"dataframe\">\n",
              "  <thead>\n",
              "    <tr style=\"text-align: right;\">\n",
              "      <th></th>\n",
              "      <th>predicted_covid</th>\n",
              "      <th>predicted_suspected</th>\n",
              "    </tr>\n",
              "  </thead>\n",
              "  <tbody>\n",
              "    <tr>\n",
              "      <th>is_covid</th>\n",
              "      <td>294</td>\n",
              "      <td>178</td>\n",
              "    </tr>\n",
              "    <tr>\n",
              "      <th>is_suspected</th>\n",
              "      <td>33</td>\n",
              "      <td>1449</td>\n",
              "    </tr>\n",
              "  </tbody>\n",
              "</table>\n",
              "</div>"
            ],
            "text/plain": [
              "              predicted_covid  predicted_suspected\n",
              "is_covid                  294                  178\n",
              "is_suspected               33                 1449"
            ]
          },
          "metadata": {
            "tags": []
          },
          "execution_count": 60
        }
      ]
    },
    {
      "cell_type": "code",
      "metadata": {
        "colab": {
          "base_uri": "https://localhost:8080/"
        },
        "id": "UvRtCGorVLax",
        "outputId": "03796708-6ffc-458f-d53f-5295c31ffc83"
      },
      "source": [
        "print('Acc',classification_report(y_validate, y_pred))"
      ],
      "execution_count": null,
      "outputs": [
        {
          "output_type": "stream",
          "text": [
            "Acc               precision    recall  f1-score   support\n",
            "\n",
            "           0       0.89      0.98      0.93      1482\n",
            "           1       0.90      0.62      0.74       472\n",
            "\n",
            "    accuracy                           0.89      1954\n",
            "   macro avg       0.89      0.80      0.83      1954\n",
            "weighted avg       0.89      0.89      0.88      1954\n",
            "\n"
          ],
          "name": "stdout"
        }
      ]
    },
    {
      "cell_type": "markdown",
      "metadata": {
        "id": "FM1kWD-l8mIj"
      },
      "source": [
        "## -- Save Model\n"
      ]
    },
    {
      "cell_type": "code",
      "metadata": {
        "id": "7zcflMOu3cKz",
        "colab": {
          "base_uri": "https://localhost:8080/"
        },
        "outputId": "131c7cbc-cfa3-41ea-ab3d-adff9e16ebb3"
      },
      "source": [
        "import tempfile\n",
        "MODEL_DIR = tempfile.gettempdir()\n",
        "\n",
        "version = 1\n",
        "\n",
        "export_path = os.path.join(MODEL_DIR, str(version))\n",
        "\n",
        "if os.path.isdir(export_path):\n",
        "    print('\\nAlready saved a model, cleaning up\\n')\n",
        "    !rm -r {export_path}\n",
        "\n",
        "model.save(export_path, save_format=\"tf\")\n",
        "\n",
        "print('\\nexport_path = {}'.format(export_path))\n",
        "!ls -l {export_path}"
      ],
      "execution_count": null,
      "outputs": [
        {
          "output_type": "stream",
          "text": [
            "INFO:tensorflow:Assets written to: /tmp/1/assets\n",
            "\n",
            "export_path = /tmp/1\n",
            "total 156\n",
            "drwxr-xr-x 2 root root   4096 Jun  1 16:13 assets\n",
            "-rw-r--r-- 1 root root  11876 Jun  1 16:13 keras_metadata.pb\n",
            "-rw-r--r-- 1 root root 137383 Jun  1 16:13 saved_model.pb\n",
            "drwxr-xr-x 2 root root   4096 Jun  1 16:13 variables\n"
          ],
          "name": "stdout"
        }
      ]
    },
    {
      "cell_type": "code",
      "metadata": {
        "id": "xO-Z12V69djD"
      },
      "source": [
        "# Intialize the TFLite converter to load the SavedModel\n",
        "converter = tf.lite.TFLiteConverter.from_saved_model(export_path)\n",
        "\n",
        "# Set the optimization strategy for 'size' in the converter \n",
        "converter.optimizations = [tf.lite.Optimize.OPTIMIZE_FOR_SIZE]\n",
        "\n",
        "# Use the tool to finally convert the model\n",
        "tflite_model = converter.convert()\n",
        "\n",
        "# Write TFLite model\n",
        "tflite_model_file = 'covid_model_03.tflite'\n",
        "\n",
        "with open(tflite_model_file, \"wb\") as f:\n",
        "    f.write(tflite_model)\n",
        "\n",
        "with open('covid_labels_03.txt', 'w') as f:\n",
        "    f.write('\\n'.join(label_types))"
      ],
      "execution_count": null,
      "outputs": []
    },
    {
      "cell_type": "code",
      "metadata": {
        "id": "WgaqF80YBQIq",
        "colab": {
          "base_uri": "https://localhost:8080/",
          "height": 17
        },
        "outputId": "3d89d74a-595f-43fd-de5d-dc5bdc7f0672"
      },
      "source": [
        "try:\n",
        "    files.download('covid_model_03.tflite')\n",
        "    files.download('covid_labels_03.txt')\n",
        "except:\n",
        "    pass"
      ],
      "execution_count": null,
      "outputs": [
        {
          "output_type": "display_data",
          "data": {
            "application/javascript": [
              "\n",
              "    async function download(id, filename, size) {\n",
              "      if (!google.colab.kernel.accessAllowed) {\n",
              "        return;\n",
              "      }\n",
              "      const div = document.createElement('div');\n",
              "      const label = document.createElement('label');\n",
              "      label.textContent = `Downloading \"${filename}\": `;\n",
              "      div.appendChild(label);\n",
              "      const progress = document.createElement('progress');\n",
              "      progress.max = size;\n",
              "      div.appendChild(progress);\n",
              "      document.body.appendChild(div);\n",
              "\n",
              "      const buffers = [];\n",
              "      let downloaded = 0;\n",
              "\n",
              "      const channel = await google.colab.kernel.comms.open(id);\n",
              "      // Send a message to notify the kernel that we're ready.\n",
              "      channel.send({})\n",
              "\n",
              "      for await (const message of channel.messages) {\n",
              "        // Send a message to notify the kernel that we're ready.\n",
              "        channel.send({})\n",
              "        if (message.buffers) {\n",
              "          for (const buffer of message.buffers) {\n",
              "            buffers.push(buffer);\n",
              "            downloaded += buffer.byteLength;\n",
              "            progress.value = downloaded;\n",
              "          }\n",
              "        }\n",
              "      }\n",
              "      const blob = new Blob(buffers, {type: 'application/binary'});\n",
              "      const a = document.createElement('a');\n",
              "      a.href = window.URL.createObjectURL(blob);\n",
              "      a.download = filename;\n",
              "      div.appendChild(a);\n",
              "      a.click();\n",
              "      div.remove();\n",
              "    }\n",
              "  "
            ],
            "text/plain": [
              "<IPython.core.display.Javascript object>"
            ]
          },
          "metadata": {
            "tags": []
          }
        },
        {
          "output_type": "display_data",
          "data": {
            "application/javascript": [
              "download(\"download_a04a0a06-9239-4724-923a-41c68fc87149\", \"covid_model_03.tflite\", 53312)"
            ],
            "text/plain": [
              "<IPython.core.display.Javascript object>"
            ]
          },
          "metadata": {
            "tags": []
          }
        },
        {
          "output_type": "display_data",
          "data": {
            "application/javascript": [
              "\n",
              "    async function download(id, filename, size) {\n",
              "      if (!google.colab.kernel.accessAllowed) {\n",
              "        return;\n",
              "      }\n",
              "      const div = document.createElement('div');\n",
              "      const label = document.createElement('label');\n",
              "      label.textContent = `Downloading \"${filename}\": `;\n",
              "      div.appendChild(label);\n",
              "      const progress = document.createElement('progress');\n",
              "      progress.max = size;\n",
              "      div.appendChild(progress);\n",
              "      document.body.appendChild(div);\n",
              "\n",
              "      const buffers = [];\n",
              "      let downloaded = 0;\n",
              "\n",
              "      const channel = await google.colab.kernel.comms.open(id);\n",
              "      // Send a message to notify the kernel that we're ready.\n",
              "      channel.send({})\n",
              "\n",
              "      for await (const message of channel.messages) {\n",
              "        // Send a message to notify the kernel that we're ready.\n",
              "        channel.send({})\n",
              "        if (message.buffers) {\n",
              "          for (const buffer of message.buffers) {\n",
              "            buffers.push(buffer);\n",
              "            downloaded += buffer.byteLength;\n",
              "            progress.value = downloaded;\n",
              "          }\n",
              "        }\n",
              "      }\n",
              "      const blob = new Blob(buffers, {type: 'application/binary'});\n",
              "      const a = document.createElement('a');\n",
              "      a.href = window.URL.createObjectURL(blob);\n",
              "      a.download = filename;\n",
              "      div.appendChild(a);\n",
              "      a.click();\n",
              "      div.remove();\n",
              "    }\n",
              "  "
            ],
            "text/plain": [
              "<IPython.core.display.Javascript object>"
            ]
          },
          "metadata": {
            "tags": []
          }
        },
        {
          "output_type": "display_data",
          "data": {
            "application/javascript": [
              "download(\"download_c1078f5c-d5be-4904-b57f-3cf860763c59\", \"covid_labels_03.txt\", 18)"
            ],
            "text/plain": [
              "<IPython.core.display.Javascript object>"
            ]
          },
          "metadata": {
            "tags": []
          }
        }
      ]
    },
    {
      "cell_type": "markdown",
      "metadata": {
        "id": "CPyojt2kkeVN"
      },
      "source": [
        "## -- Save Model 02 for best_model.h5\n"
      ]
    },
    {
      "cell_type": "code",
      "metadata": {
        "colab": {
          "base_uri": "https://localhost:8080/"
        },
        "id": "_g4Mr9YgkeVS",
        "outputId": "a35eb469-8398-452a-f770-7a19300cdd08"
      },
      "source": [
        "import tempfile\n",
        "MODEL_DIR = tempfile.gettempdir()\n",
        "\n",
        "version = 2\n",
        "\n",
        "export_path = os.path.join(MODEL_DIR, str(version))\n",
        "\n",
        "if os.path.isdir(export_path):\n",
        "    print('\\nAlready saved a model, cleaning up\\n')\n",
        "    !rm -r {export_path}\n",
        "\n",
        "saved_model.save(export_path, save_format=\"tf\")\n",
        "\n",
        "print('\\nexport_path = {}'.format(export_path))\n",
        "!ls -l {export_path}"
      ],
      "execution_count": null,
      "outputs": [
        {
          "output_type": "stream",
          "text": [
            "INFO:tensorflow:Assets written to: /tmp/2/assets\n",
            "\n",
            "export_path = /tmp/2\n",
            "total 156\n",
            "drwxr-xr-x 2 root root   4096 Jun  1 16:13 assets\n",
            "-rw-r--r-- 1 root root  11876 Jun  1 16:13 keras_metadata.pb\n",
            "-rw-r--r-- 1 root root 135869 Jun  1 16:13 saved_model.pb\n",
            "drwxr-xr-x 2 root root   4096 Jun  1 16:13 variables\n"
          ],
          "name": "stdout"
        }
      ]
    },
    {
      "cell_type": "code",
      "metadata": {
        "id": "3SrkdJDVkeVU"
      },
      "source": [
        "# Intialize the TFLite converter to load the SavedModel\n",
        "converter = tf.lite.TFLiteConverter.from_saved_model(export_path)\n",
        "\n",
        "# Set the optimization strategy for 'size' in the converter \n",
        "converter.optimizations = [tf.lite.Optimize.OPTIMIZE_FOR_SIZE]\n",
        "\n",
        "# Use the tool to finally convert the model\n",
        "tflite_model = converter.convert()\n",
        "\n",
        "# Write TFLite model\n",
        "tflite_model_file = 'covid_model_03_v2.tflite'\n",
        "\n",
        "with open(tflite_model_file, \"wb\") as f:\n",
        "    f.write(tflite_model)\n",
        "\n",
        "with open('covid_labels_03_v2.txt', 'w') as f:\n",
        "    f.write('\\n'.join(label_types))"
      ],
      "execution_count": null,
      "outputs": []
    },
    {
      "cell_type": "code",
      "metadata": {
        "colab": {
          "base_uri": "https://localhost:8080/",
          "height": 17
        },
        "id": "UXO1KyYHkeVU",
        "outputId": "a78b118b-1e17-443a-e1c9-a03cb16047cd"
      },
      "source": [
        "try:\n",
        "    files.download('covid_model_03_v2.tflite')\n",
        "    files.download('covid_labels_03_v2.txt')\n",
        "except:\n",
        "    pass"
      ],
      "execution_count": null,
      "outputs": [
        {
          "output_type": "display_data",
          "data": {
            "application/javascript": [
              "\n",
              "    async function download(id, filename, size) {\n",
              "      if (!google.colab.kernel.accessAllowed) {\n",
              "        return;\n",
              "      }\n",
              "      const div = document.createElement('div');\n",
              "      const label = document.createElement('label');\n",
              "      label.textContent = `Downloading \"${filename}\": `;\n",
              "      div.appendChild(label);\n",
              "      const progress = document.createElement('progress');\n",
              "      progress.max = size;\n",
              "      div.appendChild(progress);\n",
              "      document.body.appendChild(div);\n",
              "\n",
              "      const buffers = [];\n",
              "      let downloaded = 0;\n",
              "\n",
              "      const channel = await google.colab.kernel.comms.open(id);\n",
              "      // Send a message to notify the kernel that we're ready.\n",
              "      channel.send({})\n",
              "\n",
              "      for await (const message of channel.messages) {\n",
              "        // Send a message to notify the kernel that we're ready.\n",
              "        channel.send({})\n",
              "        if (message.buffers) {\n",
              "          for (const buffer of message.buffers) {\n",
              "            buffers.push(buffer);\n",
              "            downloaded += buffer.byteLength;\n",
              "            progress.value = downloaded;\n",
              "          }\n",
              "        }\n",
              "      }\n",
              "      const blob = new Blob(buffers, {type: 'application/binary'});\n",
              "      const a = document.createElement('a');\n",
              "      a.href = window.URL.createObjectURL(blob);\n",
              "      a.download = filename;\n",
              "      div.appendChild(a);\n",
              "      a.click();\n",
              "      div.remove();\n",
              "    }\n",
              "  "
            ],
            "text/plain": [
              "<IPython.core.display.Javascript object>"
            ]
          },
          "metadata": {
            "tags": []
          }
        },
        {
          "output_type": "display_data",
          "data": {
            "application/javascript": [
              "download(\"download_984dbfcc-47e7-48e7-8dd0-3197d173e850\", \"covid_model_03_v2.tflite\", 53312)"
            ],
            "text/plain": [
              "<IPython.core.display.Javascript object>"
            ]
          },
          "metadata": {
            "tags": []
          }
        },
        {
          "output_type": "display_data",
          "data": {
            "application/javascript": [
              "\n",
              "    async function download(id, filename, size) {\n",
              "      if (!google.colab.kernel.accessAllowed) {\n",
              "        return;\n",
              "      }\n",
              "      const div = document.createElement('div');\n",
              "      const label = document.createElement('label');\n",
              "      label.textContent = `Downloading \"${filename}\": `;\n",
              "      div.appendChild(label);\n",
              "      const progress = document.createElement('progress');\n",
              "      progress.max = size;\n",
              "      div.appendChild(progress);\n",
              "      document.body.appendChild(div);\n",
              "\n",
              "      const buffers = [];\n",
              "      let downloaded = 0;\n",
              "\n",
              "      const channel = await google.colab.kernel.comms.open(id);\n",
              "      // Send a message to notify the kernel that we're ready.\n",
              "      channel.send({})\n",
              "\n",
              "      for await (const message of channel.messages) {\n",
              "        // Send a message to notify the kernel that we're ready.\n",
              "        channel.send({})\n",
              "        if (message.buffers) {\n",
              "          for (const buffer of message.buffers) {\n",
              "            buffers.push(buffer);\n",
              "            downloaded += buffer.byteLength;\n",
              "            progress.value = downloaded;\n",
              "          }\n",
              "        }\n",
              "      }\n",
              "      const blob = new Blob(buffers, {type: 'application/binary'});\n",
              "      const a = document.createElement('a');\n",
              "      a.href = window.URL.createObjectURL(blob);\n",
              "      a.download = filename;\n",
              "      div.appendChild(a);\n",
              "      a.click();\n",
              "      div.remove();\n",
              "    }\n",
              "  "
            ],
            "text/plain": [
              "<IPython.core.display.Javascript object>"
            ]
          },
          "metadata": {
            "tags": []
          }
        },
        {
          "output_type": "display_data",
          "data": {
            "application/javascript": [
              "download(\"download_a931e74c-daae-41c4-94a2-61029e204c48\", \"covid_labels_03_v2.txt\", 18)"
            ],
            "text/plain": [
              "<IPython.core.display.Javascript object>"
            ]
          },
          "metadata": {
            "tags": []
          }
        }
      ]
    }
  ]
}
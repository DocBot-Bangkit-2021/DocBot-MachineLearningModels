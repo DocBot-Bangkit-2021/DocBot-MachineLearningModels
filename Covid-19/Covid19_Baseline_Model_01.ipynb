{
  "nbformat": 4,
  "nbformat_minor": 0,
  "metadata": {
    "colab": {
      "name": "Covid19_Baseline_Model_01.ipynb",
      "provenance": [],
      "collapsed_sections": [],
      "toc_visible": true
    },
    "kernelspec": {
      "name": "python3",
      "display_name": "Python 3"
    },
    "language_info": {
      "name": "python"
    }
  },
  "cells": [
    {
      "cell_type": "markdown",
      "metadata": {
        "id": "view-in-github"
      },
      "source": [
        "<a href=\"https://colab.research.google.com/github/DocBot-Bangkit-2021/DocBot-MachineLearningModels/blob/main/Covid-19/Covid19_Baseline_Model_01.ipynb\" target=\"_parent\"><img src=\"https://colab.research.google.com/assets/colab-badge.svg\" alt=\"Open In Colab\"/></a>"
      ]
    },
    {
      "cell_type": "markdown",
      "metadata": {
        "id": "C77gV-UqcqmC"
      },
      "source": [
        "# **Import Library**"
      ]
    },
    {
      "cell_type": "code",
      "metadata": {
        "id": "Qomv9XbWWQbT"
      },
      "source": [
        "import numpy as np \n",
        "import pandas as pd \n",
        "import matplotlib.pyplot as plt \n",
        "import seaborn as sns\n",
        "import zipfile\n",
        "import os"
      ],
      "execution_count": null,
      "outputs": []
    },
    {
      "cell_type": "code",
      "metadata": {
        "id": "DFWela_L_K6W"
      },
      "source": [
        "plt.style.use('seaborn')"
      ],
      "execution_count": null,
      "outputs": []
    },
    {
      "cell_type": "markdown",
      "metadata": {
        "id": "P6Zvp9Zac5wV"
      },
      "source": [
        "# **Data Loading**\n",
        "\n",
        "[Early stage symptoms of COVID-19 patient's](https://www.kaggle.com/martuza/early-stage-symptoms-of-covid19-patients)\n",
        "\n",
        "### **A machine learning model to identify early stage symptoms of SARS-Cov-2 infected patients**\n",
        "\n",
        "### **Dataset description**\n",
        "\n",
        "The dataset contains 6,512 individuals with follows attributes :\n",
        "\n",
        "* `Gender` - (male, female)\n",
        "* `Age` - (Numeric)\n",
        "* `Fever` - (yes-1, no-0)\n",
        "* `Cough` - (yes-1, no-0)\n",
        "* `Runny nose` - (yes-1, no-0)\n",
        "* `Muscle soreness` - (yes-1, no-0)\n",
        "* `Pneumonia` - (yes-1, no-0)\n",
        "* `Diarrhea` - (yes-1, no-0)\n",
        "* `Lung infection` - (yes-1, no-0)\n",
        "* `Travel history` - (yes-1, no-0)\n",
        "* `Isolation treatment` - (yes-1, no-0)\n",
        "* `SARS-CoV-2 Positive` - (positive-1, suspected-0)\n",
        "\n",
        "### **Related paper**\n",
        "\n",
        "[A machine learning model to identify early stage symptoms of SARS-Cov-2 infected patients](https://www.ncbi.nlm.nih.gov/pmc/articles/PMC7305929/)\n",
        "\n",
        "Ahamad MM, Aktar S, Rashed-Al-Mahfuz M, et al. A machine learning model to identify early stage symptoms of SARS-Cov-2 infected patients. Expert Systems with Applications. 2020;160:113661. doi:10.1016/j.eswa.2020.113661"
      ]
    },
    {
      "cell_type": "markdown",
      "metadata": {
        "id": "cUA5wJ7cDjrK"
      },
      "source": [
        "## **Download dataset from Kaggle**\n",
        "\n",
        "How to get data from kaggle :\n",
        "https://www.kaggle.com/general/51898"
      ]
    },
    {
      "cell_type": "code",
      "metadata": {
        "id": "vvmLli7zBeTL"
      },
      "source": [
        "# Upload kaggle.json \n",
        "print(\"Upload your kaggle.json\")\n",
        "from google.colab import files\n",
        "kaggle_file = files.upload()\n",
        "\n",
        "# Change file permission\n",
        "! chmod 600 kaggle.json \n",
        "# Check or make kaggle folder\n",
        "! (ls ~/.kaggle 2>/dev/null || mkdir ~/.kaggle)\n",
        "# Move kaggle.json to kaggle folder\n",
        "! mv kaggle.json ~/.kaggle/ && echo 'Done'\n",
        "# Download dataset from kaggle\n",
        "! kaggle datasets download -d martuza/early-stage-symptoms-of-covid19-patients\n",
        "\n",
        "# unzipping/extract data .zip\n",
        "# file_zip = 'early-stage-symptoms-of-covid19-patients.zip'\n",
        "# with zipfile.ZipFile(file_zip) as zip_file:\n",
        "#     zip_file.extractall('./sars-cov-2/')\n",
        "file_zip = 'early-stage-symptoms-of-covid19-patients.zip'\n",
        "zip_ref = zipfile.ZipFile(file_zip, 'r')\n",
        "zip_ref.extractall('./sars-cov-2/')\n",
        "zip_ref.close()\n",
        "\n",
        "print('Done')\n",
        "print(os.listdir('./sars-cov-2/'))"
      ],
      "execution_count": null,
      "outputs": []
    },
    {
      "cell_type": "code",
      "metadata": {
        "id": "V6hYfYuXF7Fy"
      },
      "source": [
        "import pandas as pd\n",
        "df = pd.read_csv('sars-cov-2/covid_early_stage_symptoms.csv')\n",
        "df.head()"
      ],
      "execution_count": null,
      "outputs": []
    },
    {
      "cell_type": "markdown",
      "metadata": {
        "id": "mY1TYn4ZE9U6"
      },
      "source": [
        "## **Download dataset from GDrive [Optional]**"
      ]
    },
    {
      "cell_type": "code",
      "metadata": {
        "id": "Yb08cPnniD2-"
      },
      "source": [
        "# import pandas as pd\n",
        "# df = pd.read_csv('https://drive.google.com/uc?id=11w6cKQANeVoWnbjNJ8RQy2BLomdfCTBJ')\n",
        "# df.head()"
      ],
      "execution_count": null,
      "outputs": []
    },
    {
      "cell_type": "markdown",
      "metadata": {
        "id": "OOMd0rcpGK48"
      },
      "source": [
        "## **Download dataset from GitHub [Optional]**"
      ]
    },
    {
      "cell_type": "code",
      "metadata": {
        "id": "fw4nSndmGK5i",
        "colab": {
          "base_uri": "https://localhost:8080/",
          "height": 249
        },
        "outputId": "8d386109-be0b-4dfa-85f1-dba28594ee72"
      },
      "source": [
        "# import pandas as pd\n",
        "# df = pd.read_csv('https://raw.githubusercontent.com/DocBot-Bangkit-2021/DocBot-MachineLearningModels/main/Covid-19/covid_early_stage_symptoms.csv')\n",
        "# df.head()"
      ],
      "execution_count": null,
      "outputs": [
        {
          "output_type": "execute_result",
          "data": {
            "text/html": [
              "<div>\n",
              "<style scoped>\n",
              "    .dataframe tbody tr th:only-of-type {\n",
              "        vertical-align: middle;\n",
              "    }\n",
              "\n",
              "    .dataframe tbody tr th {\n",
              "        vertical-align: top;\n",
              "    }\n",
              "\n",
              "    .dataframe thead th {\n",
              "        text-align: right;\n",
              "    }\n",
              "</style>\n",
              "<table border=\"1\" class=\"dataframe\">\n",
              "  <thead>\n",
              "    <tr style=\"text-align: right;\">\n",
              "      <th></th>\n",
              "      <th>gender</th>\n",
              "      <th>age_year</th>\n",
              "      <th>fever</th>\n",
              "      <th>cough</th>\n",
              "      <th>runny_nose</th>\n",
              "      <th>muscle_soreness</th>\n",
              "      <th>pneumonia</th>\n",
              "      <th>diarrhea</th>\n",
              "      <th>lung_infection</th>\n",
              "      <th>travel_history</th>\n",
              "      <th>isolation_treatment</th>\n",
              "      <th>SARS-CoV-2 Positive</th>\n",
              "    </tr>\n",
              "  </thead>\n",
              "  <tbody>\n",
              "    <tr>\n",
              "      <th>0</th>\n",
              "      <td>male</td>\n",
              "      <td>89</td>\n",
              "      <td>1</td>\n",
              "      <td>1</td>\n",
              "      <td>0</td>\n",
              "      <td>0</td>\n",
              "      <td>0</td>\n",
              "      <td>0</td>\n",
              "      <td>0</td>\n",
              "      <td>1</td>\n",
              "      <td>0</td>\n",
              "      <td>0</td>\n",
              "    </tr>\n",
              "    <tr>\n",
              "      <th>1</th>\n",
              "      <td>male</td>\n",
              "      <td>68</td>\n",
              "      <td>1</td>\n",
              "      <td>0</td>\n",
              "      <td>0</td>\n",
              "      <td>0</td>\n",
              "      <td>0</td>\n",
              "      <td>0</td>\n",
              "      <td>0</td>\n",
              "      <td>0</td>\n",
              "      <td>0</td>\n",
              "      <td>0</td>\n",
              "    </tr>\n",
              "    <tr>\n",
              "      <th>2</th>\n",
              "      <td>male</td>\n",
              "      <td>68</td>\n",
              "      <td>0</td>\n",
              "      <td>0</td>\n",
              "      <td>0</td>\n",
              "      <td>0</td>\n",
              "      <td>0</td>\n",
              "      <td>0</td>\n",
              "      <td>0</td>\n",
              "      <td>1</td>\n",
              "      <td>0</td>\n",
              "      <td>0</td>\n",
              "    </tr>\n",
              "    <tr>\n",
              "      <th>3</th>\n",
              "      <td>male</td>\n",
              "      <td>68</td>\n",
              "      <td>1</td>\n",
              "      <td>1</td>\n",
              "      <td>0</td>\n",
              "      <td>0</td>\n",
              "      <td>0</td>\n",
              "      <td>0</td>\n",
              "      <td>0</td>\n",
              "      <td>1</td>\n",
              "      <td>1</td>\n",
              "      <td>1</td>\n",
              "    </tr>\n",
              "    <tr>\n",
              "      <th>4</th>\n",
              "      <td>male</td>\n",
              "      <td>50</td>\n",
              "      <td>1</td>\n",
              "      <td>1</td>\n",
              "      <td>1</td>\n",
              "      <td>0</td>\n",
              "      <td>1</td>\n",
              "      <td>0</td>\n",
              "      <td>0</td>\n",
              "      <td>1</td>\n",
              "      <td>0</td>\n",
              "      <td>1</td>\n",
              "    </tr>\n",
              "  </tbody>\n",
              "</table>\n",
              "</div>"
            ],
            "text/plain": [
              "  gender  age_year  ...  isolation_treatment  SARS-CoV-2 Positive\n",
              "0   male        89  ...                    0                    0\n",
              "1   male        68  ...                    0                    0\n",
              "2   male        68  ...                    0                    0\n",
              "3   male        68  ...                    1                    1\n",
              "4   male        50  ...                    0                    1\n",
              "\n",
              "[5 rows x 12 columns]"
            ]
          },
          "metadata": {
            "tags": []
          },
          "execution_count": 1
        }
      ]
    },
    {
      "cell_type": "markdown",
      "metadata": {
        "id": "gcBzF8ZX4xA_"
      },
      "source": [
        "# **Exploratory Data Analyis (EDA)**"
      ]
    },
    {
      "cell_type": "markdown",
      "metadata": {
        "id": "eJpdHIVrk5Vo"
      },
      "source": [
        "Displays a list of columns"
      ]
    },
    {
      "cell_type": "code",
      "metadata": {
        "colab": {
          "base_uri": "https://localhost:8080/"
        },
        "id": "bwzjcTFtkYlV",
        "outputId": "00a21279-a396-40b6-8361-a8a7794bf978"
      },
      "source": [
        "# column list\n",
        "df.columns"
      ],
      "execution_count": null,
      "outputs": [
        {
          "output_type": "execute_result",
          "data": {
            "text/plain": [
              "Index(['gender', 'age_year', 'fever', 'cough', 'runny_nose', 'muscle_soreness',\n",
              "       'pneumonia', 'diarrhea', 'lung_infection', 'travel_history',\n",
              "       'isolation_treatment', 'SARS-CoV-2 Positive'],\n",
              "      dtype='object')"
            ]
          },
          "metadata": {
            "tags": []
          },
          "execution_count": 6
        }
      ]
    },
    {
      "cell_type": "code",
      "metadata": {
        "colab": {
          "base_uri": "https://localhost:8080/",
          "height": 321
        },
        "id": "y9_vZDiT4j5k",
        "outputId": "789e1a98-0397-4c28-8ef2-acc02cc34b95"
      },
      "source": [
        "# statistical description of the data\n",
        "df.describe()"
      ],
      "execution_count": null,
      "outputs": [
        {
          "output_type": "execute_result",
          "data": {
            "text/html": [
              "<div>\n",
              "<style scoped>\n",
              "    .dataframe tbody tr th:only-of-type {\n",
              "        vertical-align: middle;\n",
              "    }\n",
              "\n",
              "    .dataframe tbody tr th {\n",
              "        vertical-align: top;\n",
              "    }\n",
              "\n",
              "    .dataframe thead th {\n",
              "        text-align: right;\n",
              "    }\n",
              "</style>\n",
              "<table border=\"1\" class=\"dataframe\">\n",
              "  <thead>\n",
              "    <tr style=\"text-align: right;\">\n",
              "      <th></th>\n",
              "      <th>age_year</th>\n",
              "      <th>fever</th>\n",
              "      <th>cough</th>\n",
              "      <th>runny_nose</th>\n",
              "      <th>muscle_soreness</th>\n",
              "      <th>pneumonia</th>\n",
              "      <th>diarrhea</th>\n",
              "      <th>lung_infection</th>\n",
              "      <th>travel_history</th>\n",
              "      <th>isolation_treatment</th>\n",
              "      <th>SARS-CoV-2 Positive</th>\n",
              "    </tr>\n",
              "  </thead>\n",
              "  <tbody>\n",
              "    <tr>\n",
              "      <th>count</th>\n",
              "      <td>6512.000000</td>\n",
              "      <td>6512.000000</td>\n",
              "      <td>6512.000000</td>\n",
              "      <td>6512.000000</td>\n",
              "      <td>6512.000000</td>\n",
              "      <td>6512.000000</td>\n",
              "      <td>6512.000000</td>\n",
              "      <td>6512.000000</td>\n",
              "      <td>6512.000000</td>\n",
              "      <td>6512.000000</td>\n",
              "      <td>6512.000000</td>\n",
              "    </tr>\n",
              "    <tr>\n",
              "      <th>mean</th>\n",
              "      <td>44.019502</td>\n",
              "      <td>0.410780</td>\n",
              "      <td>0.303286</td>\n",
              "      <td>0.084306</td>\n",
              "      <td>0.003993</td>\n",
              "      <td>0.074785</td>\n",
              "      <td>0.005682</td>\n",
              "      <td>0.131296</td>\n",
              "      <td>0.650952</td>\n",
              "      <td>0.216984</td>\n",
              "      <td>0.241400</td>\n",
              "    </tr>\n",
              "    <tr>\n",
              "      <th>std</th>\n",
              "      <td>16.112865</td>\n",
              "      <td>0.492013</td>\n",
              "      <td>0.459713</td>\n",
              "      <td>0.277867</td>\n",
              "      <td>0.063066</td>\n",
              "      <td>0.263064</td>\n",
              "      <td>0.075169</td>\n",
              "      <td>0.337750</td>\n",
              "      <td>0.476706</td>\n",
              "      <td>0.412223</td>\n",
              "      <td>0.427965</td>\n",
              "    </tr>\n",
              "    <tr>\n",
              "      <th>min</th>\n",
              "      <td>1.000000</td>\n",
              "      <td>0.000000</td>\n",
              "      <td>0.000000</td>\n",
              "      <td>0.000000</td>\n",
              "      <td>0.000000</td>\n",
              "      <td>0.000000</td>\n",
              "      <td>0.000000</td>\n",
              "      <td>0.000000</td>\n",
              "      <td>0.000000</td>\n",
              "      <td>0.000000</td>\n",
              "      <td>0.000000</td>\n",
              "    </tr>\n",
              "    <tr>\n",
              "      <th>25%</th>\n",
              "      <td>32.000000</td>\n",
              "      <td>0.000000</td>\n",
              "      <td>0.000000</td>\n",
              "      <td>0.000000</td>\n",
              "      <td>0.000000</td>\n",
              "      <td>0.000000</td>\n",
              "      <td>0.000000</td>\n",
              "      <td>0.000000</td>\n",
              "      <td>0.000000</td>\n",
              "      <td>0.000000</td>\n",
              "      <td>0.000000</td>\n",
              "    </tr>\n",
              "    <tr>\n",
              "      <th>50%</th>\n",
              "      <td>43.000000</td>\n",
              "      <td>0.000000</td>\n",
              "      <td>0.000000</td>\n",
              "      <td>0.000000</td>\n",
              "      <td>0.000000</td>\n",
              "      <td>0.000000</td>\n",
              "      <td>0.000000</td>\n",
              "      <td>0.000000</td>\n",
              "      <td>1.000000</td>\n",
              "      <td>0.000000</td>\n",
              "      <td>0.000000</td>\n",
              "    </tr>\n",
              "    <tr>\n",
              "      <th>75%</th>\n",
              "      <td>55.000000</td>\n",
              "      <td>1.000000</td>\n",
              "      <td>1.000000</td>\n",
              "      <td>0.000000</td>\n",
              "      <td>0.000000</td>\n",
              "      <td>0.000000</td>\n",
              "      <td>0.000000</td>\n",
              "      <td>0.000000</td>\n",
              "      <td>1.000000</td>\n",
              "      <td>0.000000</td>\n",
              "      <td>0.000000</td>\n",
              "    </tr>\n",
              "    <tr>\n",
              "      <th>max</th>\n",
              "      <td>96.000000</td>\n",
              "      <td>1.000000</td>\n",
              "      <td>1.000000</td>\n",
              "      <td>1.000000</td>\n",
              "      <td>1.000000</td>\n",
              "      <td>1.000000</td>\n",
              "      <td>1.000000</td>\n",
              "      <td>1.000000</td>\n",
              "      <td>1.000000</td>\n",
              "      <td>1.000000</td>\n",
              "      <td>1.000000</td>\n",
              "    </tr>\n",
              "  </tbody>\n",
              "</table>\n",
              "</div>"
            ],
            "text/plain": [
              "          age_year        fever  ...  isolation_treatment  SARS-CoV-2 Positive\n",
              "count  6512.000000  6512.000000  ...          6512.000000          6512.000000\n",
              "mean     44.019502     0.410780  ...             0.216984             0.241400\n",
              "std      16.112865     0.492013  ...             0.412223             0.427965\n",
              "min       1.000000     0.000000  ...             0.000000             0.000000\n",
              "25%      32.000000     0.000000  ...             0.000000             0.000000\n",
              "50%      43.000000     0.000000  ...             0.000000             0.000000\n",
              "75%      55.000000     1.000000  ...             0.000000             0.000000\n",
              "max      96.000000     1.000000  ...             1.000000             1.000000\n",
              "\n",
              "[8 rows x 11 columns]"
            ]
          },
          "metadata": {
            "tags": []
          },
          "execution_count": 7
        }
      ]
    },
    {
      "cell_type": "code",
      "metadata": {
        "colab": {
          "base_uri": "https://localhost:8080/"
        },
        "id": "UN2iDlZ25Xo-",
        "outputId": "6b39e8a3-417a-435b-8bff-05e4e1a89ee0"
      },
      "source": [
        "# additional info about data: type, number of nulls, number of rows and others\n",
        "df.info()"
      ],
      "execution_count": null,
      "outputs": [
        {
          "output_type": "stream",
          "text": [
            "<class 'pandas.core.frame.DataFrame'>\n",
            "RangeIndex: 6512 entries, 0 to 6511\n",
            "Data columns (total 12 columns):\n",
            " #   Column               Non-Null Count  Dtype \n",
            "---  ------               --------------  ----- \n",
            " 0   gender               6512 non-null   object\n",
            " 1   age_year             6512 non-null   int64 \n",
            " 2   fever                6512 non-null   int64 \n",
            " 3   cough                6512 non-null   int64 \n",
            " 4   runny_nose           6512 non-null   int64 \n",
            " 5   muscle_soreness      6512 non-null   int64 \n",
            " 6   pneumonia            6512 non-null   int64 \n",
            " 7   diarrhea             6512 non-null   int64 \n",
            " 8   lung_infection       6512 non-null   int64 \n",
            " 9   travel_history       6512 non-null   int64 \n",
            " 10  isolation_treatment  6512 non-null   int64 \n",
            " 11  SARS-CoV-2 Positive  6512 non-null   int64 \n",
            "dtypes: int64(11), object(1)\n",
            "memory usage: 610.6+ KB\n"
          ],
          "name": "stdout"
        }
      ]
    },
    {
      "cell_type": "code",
      "metadata": {
        "colab": {
          "base_uri": "https://localhost:8080/"
        },
        "id": "k8FWB4Go3rko",
        "outputId": "58250b75-b678-4dcc-95f3-90f0866c03eb"
      },
      "source": [
        "# check for null counts\n",
        "df.isnull().sum()"
      ],
      "execution_count": null,
      "outputs": [
        {
          "output_type": "execute_result",
          "data": {
            "text/plain": [
              "gender                 0\n",
              "age_year               0\n",
              "fever                  0\n",
              "cough                  0\n",
              "runny_nose             0\n",
              "muscle_soreness        0\n",
              "pneumonia              0\n",
              "diarrhea               0\n",
              "lung_infection         0\n",
              "travel_history         0\n",
              "isolation_treatment    0\n",
              "SARS-CoV-2 Positive    0\n",
              "dtype: int64"
            ]
          },
          "metadata": {
            "tags": []
          },
          "execution_count": 9
        }
      ]
    },
    {
      "cell_type": "code",
      "metadata": {
        "colab": {
          "base_uri": "https://localhost:8080/"
        },
        "id": "gzQNvh_444VY",
        "outputId": "a3830cde-9a2c-4999-af67-54ae82656983"
      },
      "source": [
        "# large amount of data based on SARS-CoV-2 Positive target - (positive-1, Suspected-0)\n",
        "df[\"SARS-CoV-2 Positive\"].value_counts()"
      ],
      "execution_count": null,
      "outputs": [
        {
          "output_type": "execute_result",
          "data": {
            "text/plain": [
              "0    4940\n",
              "1    1572\n",
              "Name: SARS-CoV-2 Positive, dtype: int64"
            ]
          },
          "metadata": {
            "tags": []
          },
          "execution_count": 10
        }
      ]
    },
    {
      "cell_type": "code",
      "metadata": {
        "colab": {
          "base_uri": "https://localhost:8080/"
        },
        "id": "AwTxzD3n5eAS",
        "outputId": "0481f8f9-fbfa-4d1e-f86d-6ef8355a2ee0"
      },
      "source": [
        "# the number of rows and columns in the data\n",
        "print('Total Row:', df.shape[0])\n",
        "print('Total Columns:', df.shape[1])\n",
        "df.shape"
      ],
      "execution_count": null,
      "outputs": [
        {
          "output_type": "stream",
          "text": [
            "Total Row: 6512\n",
            "Total Columns: 12\n"
          ],
          "name": "stdout"
        },
        {
          "output_type": "execute_result",
          "data": {
            "text/plain": [
              "(6512, 12)"
            ]
          },
          "metadata": {
            "tags": []
          },
          "execution_count": 11
        }
      ]
    },
    {
      "cell_type": "code",
      "metadata": {
        "colab": {
          "base_uri": "https://localhost:8080/"
        },
        "id": "q64Af9lLS0hw",
        "outputId": "1cce6da3-e32a-4dcf-f247-b3896fd40ef4"
      },
      "source": [
        "# defines the column category and the amount in each type\n",
        "col_cat = ['gender', 'fever', 'cough', 'runny_nose', 'muscle_soreness',\n",
        "       'pneumonia', 'diarrhea', 'lung_infection', 'travel_history',\n",
        "       'isolation_treatment', 'SARS-CoV-2 Positive']\n",
        "for col in col_cat :\n",
        "  print(df[col].value_counts(), \"\\n\")"
      ],
      "execution_count": null,
      "outputs": [
        {
          "output_type": "stream",
          "text": [
            "male      3367\n",
            "female    3145\n",
            "Name: gender, dtype: int64 \n",
            "\n",
            "0    3837\n",
            "1    2675\n",
            "Name: fever, dtype: int64 \n",
            "\n",
            "0    4537\n",
            "1    1975\n",
            "Name: cough, dtype: int64 \n",
            "\n",
            "0    5963\n",
            "1     549\n",
            "Name: runny_nose, dtype: int64 \n",
            "\n",
            "0    6486\n",
            "1      26\n",
            "Name: muscle_soreness, dtype: int64 \n",
            "\n",
            "0    6025\n",
            "1     487\n",
            "Name: pneumonia, dtype: int64 \n",
            "\n",
            "0    6475\n",
            "1      37\n",
            "Name: diarrhea, dtype: int64 \n",
            "\n",
            "0    5657\n",
            "1     855\n",
            "Name: lung_infection, dtype: int64 \n",
            "\n",
            "1    4239\n",
            "0    2273\n",
            "Name: travel_history, dtype: int64 \n",
            "\n",
            "0    5099\n",
            "1    1413\n",
            "Name: isolation_treatment, dtype: int64 \n",
            "\n",
            "0    4940\n",
            "1    1572\n",
            "Name: SARS-CoV-2 Positive, dtype: int64 \n",
            "\n"
          ],
          "name": "stdout"
        }
      ]
    },
    {
      "cell_type": "markdown",
      "metadata": {
        "id": "Vzqgnxyi497W"
      },
      "source": [
        "# **Data Visualization**"
      ]
    },
    {
      "cell_type": "code",
      "metadata": {
        "colab": {
          "base_uri": "https://localhost:8080/",
          "height": 434
        },
        "id": "dC9BLaOJT_ve",
        "outputId": "ff7a48d7-69c3-4f44-ece2-08206932458b"
      },
      "source": [
        "# display of data distribution distribution on SARS-CoV-2 Positive - (positive-1, Suspected-0)\n",
        "sns.countplot(df['SARS-CoV-2 Positive'], label=\"SARS-CoV-2 Positive\")"
      ],
      "execution_count": null,
      "outputs": [
        {
          "output_type": "stream",
          "text": [
            "/usr/local/lib/python3.7/dist-packages/seaborn/_decorators.py:43: FutureWarning: Pass the following variable as a keyword arg: x. From version 0.12, the only valid positional argument will be `data`, and passing other arguments without an explicit keyword will result in an error or misinterpretation.\n",
            "  FutureWarning\n"
          ],
          "name": "stderr"
        },
        {
          "output_type": "execute_result",
          "data": {
            "text/plain": [
              "<matplotlib.axes._subplots.AxesSubplot at 0x7fc0fe681590>"
            ]
          },
          "metadata": {
            "tags": []
          },
          "execution_count": 13
        },
        {
          "output_type": "display_data",
          "data": {
            "image/png": "[encoded data removed]",
            "text/plain": [
              "<Figure size 576x396 with 1 Axes>"
            ]
          },
          "metadata": {
            "tags": []
          }
        }
      ]
    },
    {
      "cell_type": "code",
      "metadata": {
        "colab": {
          "base_uri": "https://localhost:8080/"
        },
        "id": "o8q3D0GOVbhK",
        "outputId": "bdee026c-25ce-4e34-d053-eb179e3a8ae3"
      },
      "source": [
        "# SARS-CoV-2 Positive\n",
        "# positive --> 1\n",
        "# Suspected --> 0\n",
        "df['SARS-CoV-2 Positive'].unique()"
      ],
      "execution_count": null,
      "outputs": [
        {
          "output_type": "execute_result",
          "data": {
            "text/plain": [
              "array([0, 1])"
            ]
          },
          "metadata": {
            "tags": []
          },
          "execution_count": 14
        }
      ]
    },
    {
      "cell_type": "code",
      "metadata": {
        "colab": {
          "base_uri": "https://localhost:8080/",
          "height": 345
        },
        "id": "GOgBQuEQSy9s",
        "outputId": "89c82c17-26fe-49bf-9897-d998e4dfdbe9"
      },
      "source": [
        "target = df['SARS-CoV-2 Positive'].value_counts()\n",
        "label =['Suspected', 'Positif']\n",
        "target.plot(kind='pie', labels=label, autopct='%1.1f%%')\n",
        "plt.title('SARS-CoV-2 Positive Presentation')\n",
        "plt.show()"
      ],
      "execution_count": null,
      "outputs": [
        {
          "output_type": "display_data",
          "data": {
            "image/png": "[encoded data removed]",
            "text/plain": [
              "<Figure size 576x396 with 1 Axes>"
            ]
          },
          "metadata": {
            "tags": []
          }
        }
      ]
    },
    {
      "cell_type": "code",
      "metadata": {
        "colab": {
          "base_uri": "https://localhost:8080/",
          "height": 686
        },
        "id": "7rEsOm7D49ko",
        "outputId": "50971525-0667-4146-fd62-cae402fa91db"
      },
      "source": [
        "fig = plt.figure(figsize=(20, 20))\n",
        "axs = fig.add_subplot()\n",
        "df.hist(ax=axs);"
      ],
      "execution_count": null,
      "outputs": [
        {
          "output_type": "stream",
          "text": [
            "/usr/local/lib/python3.7/dist-packages/ipykernel_launcher.py:3: UserWarning: To output multiple subplots, the figure containing the passed axes is being cleared\n",
            "  This is separate from the ipykernel package so we can avoid doing imports until\n"
          ],
          "name": "stderr"
        },
        {
          "output_type": "display_data",
          "data": {
            "image/png": "[encoded data removed]",
            "text/plain": [
              "<Figure size 1440x1440 with 12 Axes>"
            ]
          },
          "metadata": {
            "tags": []
          }
        }
      ]
    },
    {
      "cell_type": "code",
      "metadata": {
        "colab": {
          "base_uri": "https://localhost:8080/",
          "height": 467
        },
        "id": "1ifi-UosFhMJ",
        "outputId": "059b7029-528e-40cd-dca5-bf3a65744436"
      },
      "source": [
        "plt.figure(figsize=(20,12)) \n",
        "sns.heatmap(df.corr(), annot=True)"
      ],
      "execution_count": null,
      "outputs": [
        {
          "output_type": "execute_result",
          "data": {
            "text/plain": [
              "<matplotlib.axes._subplots.AxesSubplot at 0x7fc0fde74990>"
            ]
          },
          "metadata": {
            "tags": []
          },
          "execution_count": 17
        },
        {
          "output_type": "display_data",
          "data": {
            "image/png": "[encoded data removed]",
            "text/plain": [
              "<Figure size 1440x864 with 2 Axes>"
            ]
          },
          "metadata": {
            "tags": []
          }
        }
      ]
    },
    {
      "cell_type": "markdown",
      "metadata": {
        "id": "e5ffd63d"
      },
      "source": [
        "# Data cleaning\n",
        "check missing value, Check duplicate value, check data type, check outlier, check typo, check imbalance data\n"
      ]
    },
    {
      "cell_type": "markdown",
      "metadata": {
        "id": "716e5434"
      },
      "source": [
        "## -- Check missing value"
      ]
    },
    {
      "cell_type": "code",
      "metadata": {
        "id": "29bb981e",
        "colab": {
          "base_uri": "https://localhost:8080/"
        },
        "outputId": "a0f7fce0-8745-4800-f6e0-ea686739140b"
      },
      "source": [
        "# Check missing value\n",
        "df.isnull().sum()"
      ],
      "execution_count": null,
      "outputs": [
        {
          "output_type": "execute_result",
          "data": {
            "text/plain": [
              "gender                 0\n",
              "age_year               0\n",
              "fever                  0\n",
              "cough                  0\n",
              "runny_nose             0\n",
              "muscle_soreness        0\n",
              "pneumonia              0\n",
              "diarrhea               0\n",
              "lung_infection         0\n",
              "travel_history         0\n",
              "isolation_treatment    0\n",
              "SARS-CoV-2 Positive    0\n",
              "dtype: int64"
            ]
          },
          "metadata": {
            "tags": []
          },
          "execution_count": 18
        }
      ]
    },
    {
      "cell_type": "code",
      "metadata": {
        "id": "718e7553"
      },
      "source": [
        "# Preview rows contain missing value\n",
        "# NOte : There is no preview because the data is not null\n",
        "\n",
        "# if df.isnull().any(axis=None):\n",
        "#     print(\"Preview of data with null values\")\n",
        "#     print(\"Null values : \", df.isnull().sum().sum())\n",
        "#     display(df[df.isnull().any(axis=1)])"
      ],
      "execution_count": null,
      "outputs": []
    },
    {
      "cell_type": "code",
      "metadata": {
        "id": "631a273a"
      },
      "source": [
        "# Replace missing value with median value\n",
        "# df = df.fillna(df.median())"
      ],
      "execution_count": null,
      "outputs": []
    },
    {
      "cell_type": "markdown",
      "metadata": {
        "id": "42af0599"
      },
      "source": [
        "The method chosen to overcome missing value is the median. <br>\n",
        "Reason: Columns that have a passing value have a categorical data type."
      ]
    },
    {
      "cell_type": "code",
      "metadata": {
        "id": "af75014f",
        "colab": {
          "base_uri": "https://localhost:8080/"
        },
        "outputId": "4ca50a1a-16d9-4c4a-eec7-e9748ce8ee7a"
      },
      "source": [
        "print(\"Null values : \",df.isnull().sum().sum())\n",
        "print(\"Shape of data: \", df.shape)"
      ],
      "execution_count": null,
      "outputs": [
        {
          "output_type": "stream",
          "text": [
            "Null values :  0\n",
            "Shape of data:  (6512, 12)\n"
          ],
          "name": "stdout"
        }
      ]
    },
    {
      "cell_type": "markdown",
      "metadata": {
        "id": "c0342aa5"
      },
      "source": [
        "With the replace method, it can overcome missing values without reducing data"
      ]
    },
    {
      "cell_type": "markdown",
      "metadata": {
        "id": "61a07b72"
      },
      "source": [
        "## -- Check duplicate"
      ]
    },
    {
      "cell_type": "code",
      "metadata": {
        "id": "e7f56ea1",
        "colab": {
          "base_uri": "https://localhost:8080/"
        },
        "outputId": "eb3d0fee-2815-4135-a4b8-567f1d3503cb"
      },
      "source": [
        "# Check duplicate data\n",
        "print(\"Data duplicated: \", df.duplicated().sum())"
      ],
      "execution_count": null,
      "outputs": [
        {
          "output_type": "stream",
          "text": [
            "Data duplicated:  4285\n"
          ],
          "name": "stdout"
        }
      ]
    },
    {
      "cell_type": "markdown",
      "metadata": {
        "id": "6eb40f0c"
      },
      "source": [
        "## -- Check imbalance data"
      ]
    },
    {
      "cell_type": "code",
      "metadata": {
        "id": "65e653c2",
        "colab": {
          "base_uri": "https://localhost:8080/",
          "height": 414
        },
        "outputId": "f670bd9e-ea64-43c9-d3fa-589968e0ce82"
      },
      "source": [
        "# Check imbalance dataset\n",
        "import seaborn as sns\n",
        "\n",
        "sns.countplot(x=df['SARS-CoV-2 Positive'])\n",
        "print(df['SARS-CoV-2 Positive'].value_counts())"
      ],
      "execution_count": null,
      "outputs": [
        {
          "output_type": "stream",
          "text": [
            "0    4940\n",
            "1    1572\n",
            "Name: SARS-CoV-2 Positive, dtype: int64\n"
          ],
          "name": "stdout"
        },
        {
          "output_type": "display_data",
          "data": {
            "image/png": "[encoded data removed]",
            "text/plain": [
              "<Figure size 576x396 with 1 Axes>"
            ]
          },
          "metadata": {
            "tags": []
          }
        }
      ]
    },
    {
      "cell_type": "markdown",
      "metadata": {
        "id": "QNlVGTiAQXlR"
      },
      "source": [
        "# **Data Preprocessing**"
      ]
    },
    {
      "cell_type": "markdown",
      "metadata": {
        "id": "YgbuWrlEnspO"
      },
      "source": [
        "## -- Spitting features and label"
      ]
    },
    {
      "cell_type": "code",
      "metadata": {
        "colab": {
          "base_uri": "https://localhost:8080/"
        },
        "id": "5HPNaEWiYOnW",
        "outputId": "9bf00f6b-d595-444f-c57f-c428974adcda"
      },
      "source": [
        "features = df.drop(columns=['SARS-CoV-2 Positive'])\n",
        "label = df[['SARS-CoV-2 Positive']]\n",
        "\n",
        "print(features.shape)\n",
        "print(label.shape)\n",
        "\n",
        "features.columns, label.columns"
      ],
      "execution_count": null,
      "outputs": [
        {
          "output_type": "stream",
          "text": [
            "(6512, 11)\n",
            "(6512, 1)\n"
          ],
          "name": "stdout"
        },
        {
          "output_type": "execute_result",
          "data": {
            "text/plain": [
              "(Index(['gender', 'age_year', 'fever', 'cough', 'runny_nose', 'muscle_soreness',\n",
              "        'pneumonia', 'diarrhea', 'lung_infection', 'travel_history',\n",
              "        'isolation_treatment'],\n",
              "       dtype='object'), Index(['SARS-CoV-2 Positive'], dtype='object'))"
            ]
          },
          "metadata": {
            "tags": []
          },
          "execution_count": 24
        }
      ]
    },
    {
      "cell_type": "markdown",
      "metadata": {
        "id": "7f159889"
      },
      "source": [
        "## -- Check Data type\n",
        "Menyesuaikan tipe data sesuai dengan metadata yang diberikan\n",
        "\n",
        "* **Categorical** (`gender`, `fever`, `cough`, `runny_nose`, `muscle_soreness`, `pneumonia`, `diarrhea`, `lung_infection`, `travel_history`, `isolation_treatment`, `SARS-CoV-2 Positive`)\n",
        "* **Numeric** (`age_year`)"
      ]
    },
    {
      "cell_type": "code",
      "metadata": {
        "id": "1ff3608a",
        "colab": {
          "base_uri": "https://localhost:8080/"
        },
        "outputId": "152ce17e-a3f4-4b07-d295-6e8b9b326764"
      },
      "source": [
        "features.info()"
      ],
      "execution_count": null,
      "outputs": [
        {
          "output_type": "stream",
          "text": [
            "<class 'pandas.core.frame.DataFrame'>\n",
            "RangeIndex: 6512 entries, 0 to 6511\n",
            "Data columns (total 11 columns):\n",
            " #   Column               Non-Null Count  Dtype \n",
            "---  ------               --------------  ----- \n",
            " 0   gender               6512 non-null   object\n",
            " 1   age_year             6512 non-null   int64 \n",
            " 2   fever                6512 non-null   int64 \n",
            " 3   cough                6512 non-null   int64 \n",
            " 4   runny_nose           6512 non-null   int64 \n",
            " 5   muscle_soreness      6512 non-null   int64 \n",
            " 6   pneumonia            6512 non-null   int64 \n",
            " 7   diarrhea             6512 non-null   int64 \n",
            " 8   lung_infection       6512 non-null   int64 \n",
            " 9   travel_history       6512 non-null   int64 \n",
            " 10  isolation_treatment  6512 non-null   int64 \n",
            "dtypes: int64(10), object(1)\n",
            "memory usage: 559.8+ KB\n"
          ],
          "name": "stdout"
        }
      ]
    },
    {
      "cell_type": "code",
      "metadata": {
        "id": "49c13096"
      },
      "source": [
        "col_cat_features = ['gender', 'fever', 'cough', 'runny_nose', 'muscle_soreness',\n",
        "       'pneumonia', 'diarrhea', 'lung_infection', 'travel_history',\n",
        "       'isolation_treatment']\n",
        "\n",
        "features[col_cat_features] = features[col_cat_features].astype('category')"
      ],
      "execution_count": null,
      "outputs": []
    },
    {
      "cell_type": "code",
      "metadata": {
        "id": "237b8d3b",
        "colab": {
          "base_uri": "https://localhost:8080/"
        },
        "outputId": "5080d5bd-56cd-4bf5-e1c0-cbbfa7bc9d6a"
      },
      "source": [
        "features.info()"
      ],
      "execution_count": null,
      "outputs": [
        {
          "output_type": "stream",
          "text": [
            "<class 'pandas.core.frame.DataFrame'>\n",
            "RangeIndex: 6512 entries, 0 to 6511\n",
            "Data columns (total 11 columns):\n",
            " #   Column               Non-Null Count  Dtype   \n",
            "---  ------               --------------  -----   \n",
            " 0   gender               6512 non-null   category\n",
            " 1   age_year             6512 non-null   int64   \n",
            " 2   fever                6512 non-null   category\n",
            " 3   cough                6512 non-null   category\n",
            " 4   runny_nose           6512 non-null   category\n",
            " 5   muscle_soreness      6512 non-null   category\n",
            " 6   pneumonia            6512 non-null   category\n",
            " 7   diarrhea             6512 non-null   category\n",
            " 8   lung_infection       6512 non-null   category\n",
            " 9   travel_history       6512 non-null   category\n",
            " 10  isolation_treatment  6512 non-null   category\n",
            "dtypes: category(10), int64(1)\n",
            "memory usage: 115.5 KB\n"
          ],
          "name": "stdout"
        }
      ]
    },
    {
      "cell_type": "code",
      "metadata": {
        "id": "0NEDNhev9qaN"
      },
      "source": [
        "label_types = ['Positive', 'Suspected']"
      ],
      "execution_count": null,
      "outputs": []
    },
    {
      "cell_type": "markdown",
      "metadata": {
        "id": "qJ5CRPd-nuoq"
      },
      "source": [
        "## -- Normalize Data"
      ]
    },
    {
      "cell_type": "code",
      "metadata": {
        "id": "W7HbgasNlNuC"
      },
      "source": [
        "from sklearn.preprocessing import MinMaxScaler"
      ],
      "execution_count": null,
      "outputs": []
    },
    {
      "cell_type": "code",
      "metadata": {
        "id": "XS-0hyU1lWNv"
      },
      "source": [
        "mx = MinMaxScaler()"
      ],
      "execution_count": null,
      "outputs": []
    },
    {
      "cell_type": "code",
      "metadata": {
        "colab": {
          "base_uri": "https://localhost:8080/",
          "height": 126
        },
        "id": "3KtUu3GdlXrE",
        "outputId": "84ff8f5b-d461-45e2-d6f3-8042678fba53"
      },
      "source": [
        "features['age_year'] = mx.fit_transform(features[['age_year']])\n",
        "features.head(2)"
      ],
      "execution_count": null,
      "outputs": [
        {
          "output_type": "execute_result",
          "data": {
            "text/html": [
              "<div>\n",
              "<style scoped>\n",
              "    .dataframe tbody tr th:only-of-type {\n",
              "        vertical-align: middle;\n",
              "    }\n",
              "\n",
              "    .dataframe tbody tr th {\n",
              "        vertical-align: top;\n",
              "    }\n",
              "\n",
              "    .dataframe thead th {\n",
              "        text-align: right;\n",
              "    }\n",
              "</style>\n",
              "<table border=\"1\" class=\"dataframe\">\n",
              "  <thead>\n",
              "    <tr style=\"text-align: right;\">\n",
              "      <th></th>\n",
              "      <th>gender</th>\n",
              "      <th>age_year</th>\n",
              "      <th>fever</th>\n",
              "      <th>cough</th>\n",
              "      <th>runny_nose</th>\n",
              "      <th>muscle_soreness</th>\n",
              "      <th>pneumonia</th>\n",
              "      <th>diarrhea</th>\n",
              "      <th>lung_infection</th>\n",
              "      <th>travel_history</th>\n",
              "      <th>isolation_treatment</th>\n",
              "    </tr>\n",
              "  </thead>\n",
              "  <tbody>\n",
              "    <tr>\n",
              "      <th>0</th>\n",
              "      <td>male</td>\n",
              "      <td>0.926316</td>\n",
              "      <td>1</td>\n",
              "      <td>1</td>\n",
              "      <td>0</td>\n",
              "      <td>0</td>\n",
              "      <td>0</td>\n",
              "      <td>0</td>\n",
              "      <td>0</td>\n",
              "      <td>1</td>\n",
              "      <td>0</td>\n",
              "    </tr>\n",
              "    <tr>\n",
              "      <th>1</th>\n",
              "      <td>male</td>\n",
              "      <td>0.705263</td>\n",
              "      <td>1</td>\n",
              "      <td>0</td>\n",
              "      <td>0</td>\n",
              "      <td>0</td>\n",
              "      <td>0</td>\n",
              "      <td>0</td>\n",
              "      <td>0</td>\n",
              "      <td>0</td>\n",
              "      <td>0</td>\n",
              "    </tr>\n",
              "  </tbody>\n",
              "</table>\n",
              "</div>"
            ],
            "text/plain": [
              "  gender  age_year fever  ... lung_infection travel_history isolation_treatment\n",
              "0   male  0.926316     1  ...              0              1                   0\n",
              "1   male  0.705263     1  ...              0              0                   0\n",
              "\n",
              "[2 rows x 11 columns]"
            ]
          },
          "metadata": {
            "tags": []
          },
          "execution_count": 31
        }
      ]
    },
    {
      "cell_type": "markdown",
      "metadata": {
        "id": "TADzhknUqc9f"
      },
      "source": [
        "## -- Categorical"
      ]
    },
    {
      "cell_type": "markdown",
      "metadata": {
        "id": "VxJMh0Dfq5cr"
      },
      "source": [
        "Change the categorical column to one hot encoding"
      ]
    },
    {
      "cell_type": "code",
      "metadata": {
        "colab": {
          "base_uri": "https://localhost:8080/",
          "height": 215
        },
        "id": "zxbUQGzjqaco",
        "outputId": "331339b9-03f4-4826-f9ae-7cc980cef2c1"
      },
      "source": [
        "features_cat = pd.get_dummies(features[col_cat_features])\n",
        "features = pd.concat([features, features_cat], axis = 1)\n",
        "features = features.drop(columns = col_cat_features)\n",
        "features.head()"
      ],
      "execution_count": null,
      "outputs": [
        {
          "output_type": "execute_result",
          "data": {
            "text/html": [
              "<div>\n",
              "<style scoped>\n",
              "    .dataframe tbody tr th:only-of-type {\n",
              "        vertical-align: middle;\n",
              "    }\n",
              "\n",
              "    .dataframe tbody tr th {\n",
              "        vertical-align: top;\n",
              "    }\n",
              "\n",
              "    .dataframe thead th {\n",
              "        text-align: right;\n",
              "    }\n",
              "</style>\n",
              "<table border=\"1\" class=\"dataframe\">\n",
              "  <thead>\n",
              "    <tr style=\"text-align: right;\">\n",
              "      <th></th>\n",
              "      <th>age_year</th>\n",
              "      <th>gender_female</th>\n",
              "      <th>gender_male</th>\n",
              "      <th>fever_0</th>\n",
              "      <th>fever_1</th>\n",
              "      <th>cough_0</th>\n",
              "      <th>cough_1</th>\n",
              "      <th>runny_nose_0</th>\n",
              "      <th>runny_nose_1</th>\n",
              "      <th>muscle_soreness_0</th>\n",
              "      <th>muscle_soreness_1</th>\n",
              "      <th>pneumonia_0</th>\n",
              "      <th>pneumonia_1</th>\n",
              "      <th>diarrhea_0</th>\n",
              "      <th>diarrhea_1</th>\n",
              "      <th>lung_infection_0</th>\n",
              "      <th>lung_infection_1</th>\n",
              "      <th>travel_history_0</th>\n",
              "      <th>travel_history_1</th>\n",
              "      <th>isolation_treatment_0</th>\n",
              "      <th>isolation_treatment_1</th>\n",
              "    </tr>\n",
              "  </thead>\n",
              "  <tbody>\n",
              "    <tr>\n",
              "      <th>0</th>\n",
              "      <td>0.926316</td>\n",
              "      <td>0</td>\n",
              "      <td>1</td>\n",
              "      <td>0</td>\n",
              "      <td>1</td>\n",
              "      <td>0</td>\n",
              "      <td>1</td>\n",
              "      <td>1</td>\n",
              "      <td>0</td>\n",
              "      <td>1</td>\n",
              "      <td>0</td>\n",
              "      <td>1</td>\n",
              "      <td>0</td>\n",
              "      <td>1</td>\n",
              "      <td>0</td>\n",
              "      <td>1</td>\n",
              "      <td>0</td>\n",
              "      <td>0</td>\n",
              "      <td>1</td>\n",
              "      <td>1</td>\n",
              "      <td>0</td>\n",
              "    </tr>\n",
              "    <tr>\n",
              "      <th>1</th>\n",
              "      <td>0.705263</td>\n",
              "      <td>0</td>\n",
              "      <td>1</td>\n",
              "      <td>0</td>\n",
              "      <td>1</td>\n",
              "      <td>1</td>\n",
              "      <td>0</td>\n",
              "      <td>1</td>\n",
              "      <td>0</td>\n",
              "      <td>1</td>\n",
              "      <td>0</td>\n",
              "      <td>1</td>\n",
              "      <td>0</td>\n",
              "      <td>1</td>\n",
              "      <td>0</td>\n",
              "      <td>1</td>\n",
              "      <td>0</td>\n",
              "      <td>1</td>\n",
              "      <td>0</td>\n",
              "      <td>1</td>\n",
              "      <td>0</td>\n",
              "    </tr>\n",
              "    <tr>\n",
              "      <th>2</th>\n",
              "      <td>0.705263</td>\n",
              "      <td>0</td>\n",
              "      <td>1</td>\n",
              "      <td>1</td>\n",
              "      <td>0</td>\n",
              "      <td>1</td>\n",
              "      <td>0</td>\n",
              "      <td>1</td>\n",
              "      <td>0</td>\n",
              "      <td>1</td>\n",
              "      <td>0</td>\n",
              "      <td>1</td>\n",
              "      <td>0</td>\n",
              "      <td>1</td>\n",
              "      <td>0</td>\n",
              "      <td>1</td>\n",
              "      <td>0</td>\n",
              "      <td>0</td>\n",
              "      <td>1</td>\n",
              "      <td>1</td>\n",
              "      <td>0</td>\n",
              "    </tr>\n",
              "    <tr>\n",
              "      <th>3</th>\n",
              "      <td>0.705263</td>\n",
              "      <td>0</td>\n",
              "      <td>1</td>\n",
              "      <td>0</td>\n",
              "      <td>1</td>\n",
              "      <td>0</td>\n",
              "      <td>1</td>\n",
              "      <td>1</td>\n",
              "      <td>0</td>\n",
              "      <td>1</td>\n",
              "      <td>0</td>\n",
              "      <td>1</td>\n",
              "      <td>0</td>\n",
              "      <td>1</td>\n",
              "      <td>0</td>\n",
              "      <td>1</td>\n",
              "      <td>0</td>\n",
              "      <td>0</td>\n",
              "      <td>1</td>\n",
              "      <td>0</td>\n",
              "      <td>1</td>\n",
              "    </tr>\n",
              "    <tr>\n",
              "      <th>4</th>\n",
              "      <td>0.515789</td>\n",
              "      <td>0</td>\n",
              "      <td>1</td>\n",
              "      <td>0</td>\n",
              "      <td>1</td>\n",
              "      <td>0</td>\n",
              "      <td>1</td>\n",
              "      <td>0</td>\n",
              "      <td>1</td>\n",
              "      <td>1</td>\n",
              "      <td>0</td>\n",
              "      <td>0</td>\n",
              "      <td>1</td>\n",
              "      <td>1</td>\n",
              "      <td>0</td>\n",
              "      <td>1</td>\n",
              "      <td>0</td>\n",
              "      <td>0</td>\n",
              "      <td>1</td>\n",
              "      <td>1</td>\n",
              "      <td>0</td>\n",
              "    </tr>\n",
              "  </tbody>\n",
              "</table>\n",
              "</div>"
            ],
            "text/plain": [
              "   age_year  gender_female  ...  isolation_treatment_0  isolation_treatment_1\n",
              "0  0.926316              0  ...                      1                      0\n",
              "1  0.705263              0  ...                      1                      0\n",
              "2  0.705263              0  ...                      1                      0\n",
              "3  0.705263              0  ...                      0                      1\n",
              "4  0.515789              0  ...                      1                      0\n",
              "\n",
              "[5 rows x 21 columns]"
            ]
          },
          "metadata": {
            "tags": []
          },
          "execution_count": 32
        }
      ]
    },
    {
      "cell_type": "code",
      "metadata": {
        "id": "s6E_NYizsOBe"
      },
      "source": [
        "# label_cat = pd.get_dummies(label['SARS-CoV-2 Positive'], prefix=\"sars\")\n",
        "# label = pd.concat([label, label_cat], axis = 1)\n",
        "# label = label.drop(columns = 'SARS-CoV-2 Positive')\n",
        "# label.head()"
      ],
      "execution_count": null,
      "outputs": []
    },
    {
      "cell_type": "markdown",
      "metadata": {
        "id": "Up060Nyc54v0"
      },
      "source": [
        "## -- Split Data"
      ]
    },
    {
      "cell_type": "code",
      "metadata": {
        "id": "jemPFDaguyRP"
      },
      "source": [
        "from sklearn.model_selection import train_test_split"
      ],
      "execution_count": null,
      "outputs": []
    },
    {
      "cell_type": "code",
      "metadata": {
        "id": "69XQQLwFuyRQ"
      },
      "source": [
        "X_train, X_validate, y_train, y_validate = train_test_split(\n",
        "    features, label, test_size=0.3, shuffle=True, stratify=label)"
      ],
      "execution_count": null,
      "outputs": []
    },
    {
      "cell_type": "code",
      "metadata": {
        "id": "RRZ2nJ-YuyRQ",
        "colab": {
          "base_uri": "https://localhost:8080/"
        },
        "outputId": "721106bb-b840-4f2d-8cea-c477ddd0da32"
      },
      "source": [
        "X_train.shape, X_validate.shape"
      ],
      "execution_count": null,
      "outputs": [
        {
          "output_type": "execute_result",
          "data": {
            "text/plain": [
              "((4558, 21), (1954, 21))"
            ]
          },
          "metadata": {
            "tags": []
          },
          "execution_count": 36
        }
      ]
    },
    {
      "cell_type": "code",
      "metadata": {
        "colab": {
          "base_uri": "https://localhost:8080/"
        },
        "id": "1JxDIEUm_nVt",
        "outputId": "c40b8f73-9e88-433a-f983-2c91fa29a4ec"
      },
      "source": [
        "unique, counts = np.unique(y_train, return_counts=True)\n",
        "print(\"y_train\")\n",
        "for i in range(2):\n",
        "  print(label_types[i])\n",
        "  print(unique[i], \"     \", counts[i])"
      ],
      "execution_count": null,
      "outputs": [
        {
          "output_type": "stream",
          "text": [
            "y_train\n",
            "Positive\n",
            "0       3458\n",
            "Suspected\n",
            "1       1100\n"
          ],
          "name": "stdout"
        }
      ]
    },
    {
      "cell_type": "code",
      "metadata": {
        "colab": {
          "base_uri": "https://localhost:8080/"
        },
        "id": "LYZtUQep_xGQ",
        "outputId": "a05186c6-6fb6-430f-85f1-414ad27f8c76"
      },
      "source": [
        "unique, counts = np.unique(y_validate, return_counts=True)\n",
        "print(\"y_validate\")\n",
        "for i in range(2):\n",
        "  print(label_types[i])\n",
        "  print(unique[i], \"     \", counts[i])"
      ],
      "execution_count": null,
      "outputs": [
        {
          "output_type": "stream",
          "text": [
            "y_validate\n",
            "Positive\n",
            "0       1482\n",
            "Suspected\n",
            "1       472\n"
          ],
          "name": "stdout"
        }
      ]
    },
    {
      "cell_type": "markdown",
      "metadata": {
        "id": "Y0cv3xRrvi9l"
      },
      "source": [
        "# **Data Modelling**"
      ]
    },
    {
      "cell_type": "markdown",
      "metadata": {
        "id": "Qro8tA9f8NYJ"
      },
      "source": [
        "## -- Train Model"
      ]
    },
    {
      "cell_type": "code",
      "metadata": {
        "colab": {
          "base_uri": "https://localhost:8080/"
        },
        "id": "_Em1NjXaZboK",
        "outputId": "0d2b65b5-ff4c-47b5-f51d-c95413a560f3"
      },
      "source": [
        "import tensorflow as tf\n",
        "\n",
        "model = tf.keras.Sequential([\n",
        "    tf.keras.layers.Dense(128, activation=\"relu\", input_shape=(features.columns.size,)),\n",
        "    tf.keras.layers.Dense(64, activation=tf.nn.relu),\n",
        "    tf.keras.layers.Dense(32, activation=tf.nn.relu),\n",
        "    tf.keras.layers.Dense(1, activation=\"sigmoid\")\n",
        "])\n",
        "\n",
        "model.summary()"
      ],
      "execution_count": null,
      "outputs": [
        {
          "output_type": "stream",
          "text": [
            "Model: \"sequential\"\n",
            "_________________________________________________________________\n",
            "Layer (type)                 Output Shape              Param #   \n",
            "=================================================================\n",
            "dense (Dense)                (None, 128)               2816      \n",
            "_________________________________________________________________\n",
            "dense_1 (Dense)              (None, 64)                8256      \n",
            "_________________________________________________________________\n",
            "dense_2 (Dense)              (None, 32)                2080      \n",
            "_________________________________________________________________\n",
            "dense_3 (Dense)              (None, 1)                 33        \n",
            "=================================================================\n",
            "Total params: 13,185\n",
            "Trainable params: 13,185\n",
            "Non-trainable params: 0\n",
            "_________________________________________________________________\n"
          ],
          "name": "stdout"
        }
      ]
    },
    {
      "cell_type": "code",
      "metadata": {
        "id": "VAWpmoySZewM"
      },
      "source": [
        "model.compile(\n",
        "    loss='binary_crossentropy',\n",
        "    optimizer='Adam',\n",
        "    metrics=['accuracy']\n",
        ")"
      ],
      "execution_count": null,
      "outputs": []
    },
    {
      "cell_type": "code",
      "metadata": {
        "id": "pyZUNQ_PramS"
      },
      "source": [
        "class myCallback(tf.keras.callbacks.Callback):\n",
        "  def on_epoch_end(self, epoch, logs={}):\n",
        "    if(logs.get('accuracy')>0.95 and logs.get('val_accuracy')>0.95):\n",
        "      self.model.stop_training = True\n",
        "      print(\"\\nThe accuracy of the training set and the validation set has reached > 95%!\")\n",
        "callbacks = myCallback()"
      ],
      "execution_count": null,
      "outputs": []
    },
    {
      "cell_type": "code",
      "metadata": {
        "colab": {
          "base_uri": "https://localhost:8080/"
        },
        "id": "WlGvATyaZgw8",
        "outputId": "a6facbb9-e0b3-4081-ec88-271f58819906"
      },
      "source": [
        "history = model.fit(\n",
        "    X_train, \n",
        "    y_train, \n",
        "    validation_data=(X_validate, y_validate), \n",
        "    epochs=500, \n",
        "    batch_size=len(X_train), \n",
        "    callbacks=[callbacks], \n",
        "    verbose=1\n",
        ")\n",
        "\n",
        "history.history['accuracy'][-1]"
      ],
      "execution_count": null,
      "outputs": [
        {
          "output_type": "stream",
          "text": [
            "Epoch 1/500\n",
            "1/1 [==============================] - 1s 1s/step - loss: 0.6903 - accuracy: 0.5059 - val_loss: 0.6613 - val_accuracy: 0.7758\n",
            "Epoch 2/500\n",
            "1/1 [==============================] - 0s 40ms/step - loss: 0.6611 - accuracy: 0.7780 - val_loss: 0.6345 - val_accuracy: 0.7845\n",
            "Epoch 3/500\n",
            "1/1 [==============================] - 0s 38ms/step - loss: 0.6345 - accuracy: 0.7909 - val_loss: 0.6090 - val_accuracy: 0.7979\n",
            "Epoch 4/500\n",
            "1/1 [==============================] - 0s 57ms/step - loss: 0.6092 - accuracy: 0.8019 - val_loss: 0.5846 - val_accuracy: 0.7994\n",
            "Epoch 5/500\n",
            "1/1 [==============================] - 0s 43ms/step - loss: 0.5851 - accuracy: 0.8030 - val_loss: 0.5626 - val_accuracy: 0.8050\n",
            "Epoch 6/500\n",
            "1/1 [==============================] - 0s 39ms/step - loss: 0.5632 - accuracy: 0.8089 - val_loss: 0.5427 - val_accuracy: 0.8050\n",
            "Epoch 7/500\n",
            "1/1 [==============================] - 0s 46ms/step - loss: 0.5436 - accuracy: 0.8098 - val_loss: 0.5247 - val_accuracy: 0.8060\n",
            "Epoch 8/500\n",
            "1/1 [==============================] - 0s 40ms/step - loss: 0.5257 - accuracy: 0.8102 - val_loss: 0.5074 - val_accuracy: 0.8066\n",
            "Epoch 9/500\n",
            "1/1 [==============================] - 0s 40ms/step - loss: 0.5086 - accuracy: 0.8104 - val_loss: 0.4906 - val_accuracy: 0.8122\n",
            "Epoch 10/500\n",
            "1/1 [==============================] - 0s 42ms/step - loss: 0.4919 - accuracy: 0.8148 - val_loss: 0.4743 - val_accuracy: 0.8127\n",
            "Epoch 11/500\n",
            "1/1 [==============================] - 0s 43ms/step - loss: 0.4758 - accuracy: 0.8151 - val_loss: 0.4583 - val_accuracy: 0.8214\n",
            "Epoch 12/500\n",
            "1/1 [==============================] - 0s 41ms/step - loss: 0.4599 - accuracy: 0.8210 - val_loss: 0.4427 - val_accuracy: 0.8342\n",
            "Epoch 13/500\n",
            "1/1 [==============================] - 0s 43ms/step - loss: 0.4444 - accuracy: 0.8315 - val_loss: 0.4275 - val_accuracy: 0.8475\n",
            "Epoch 14/500\n",
            "1/1 [==============================] - 0s 49ms/step - loss: 0.4295 - accuracy: 0.8423 - val_loss: 0.4131 - val_accuracy: 0.8536\n",
            "Epoch 15/500\n",
            "1/1 [==============================] - 0s 48ms/step - loss: 0.4153 - accuracy: 0.8460 - val_loss: 0.3994 - val_accuracy: 0.8557\n",
            "Epoch 16/500\n",
            "1/1 [==============================] - 0s 49ms/step - loss: 0.4017 - accuracy: 0.8495 - val_loss: 0.3865 - val_accuracy: 0.8536\n",
            "Epoch 17/500\n",
            "1/1 [==============================] - 0s 44ms/step - loss: 0.3890 - accuracy: 0.8491 - val_loss: 0.3745 - val_accuracy: 0.8547\n",
            "Epoch 18/500\n",
            "1/1 [==============================] - 0s 43ms/step - loss: 0.3771 - accuracy: 0.8515 - val_loss: 0.3631 - val_accuracy: 0.8547\n",
            "Epoch 19/500\n",
            "1/1 [==============================] - 0s 45ms/step - loss: 0.3659 - accuracy: 0.8528 - val_loss: 0.3524 - val_accuracy: 0.8552\n",
            "Epoch 20/500\n",
            "1/1 [==============================] - 0s 47ms/step - loss: 0.3552 - accuracy: 0.8532 - val_loss: 0.3423 - val_accuracy: 0.8552\n",
            "Epoch 21/500\n",
            "1/1 [==============================] - 0s 44ms/step - loss: 0.3453 - accuracy: 0.8543 - val_loss: 0.3330 - val_accuracy: 0.8572\n",
            "Epoch 22/500\n",
            "1/1 [==============================] - 0s 36ms/step - loss: 0.3360 - accuracy: 0.8576 - val_loss: 0.3246 - val_accuracy: 0.8567\n",
            "Epoch 23/500\n",
            "1/1 [==============================] - 0s 41ms/step - loss: 0.3276 - accuracy: 0.8548 - val_loss: 0.3170 - val_accuracy: 0.8485\n",
            "Epoch 24/500\n",
            "1/1 [==============================] - 0s 42ms/step - loss: 0.3199 - accuracy: 0.8449 - val_loss: 0.3101 - val_accuracy: 0.8475\n",
            "Epoch 25/500\n",
            "1/1 [==============================] - 0s 44ms/step - loss: 0.3130 - accuracy: 0.8425 - val_loss: 0.3040 - val_accuracy: 0.8485\n",
            "Epoch 26/500\n",
            "1/1 [==============================] - 0s 44ms/step - loss: 0.3068 - accuracy: 0.8447 - val_loss: 0.2986 - val_accuracy: 0.8485\n",
            "Epoch 27/500\n",
            "1/1 [==============================] - 0s 49ms/step - loss: 0.3014 - accuracy: 0.8495 - val_loss: 0.2938 - val_accuracy: 0.8490\n",
            "Epoch 28/500\n",
            "1/1 [==============================] - 0s 44ms/step - loss: 0.2965 - accuracy: 0.8508 - val_loss: 0.2894 - val_accuracy: 0.8490\n",
            "Epoch 29/500\n",
            "1/1 [==============================] - 0s 44ms/step - loss: 0.2920 - accuracy: 0.8508 - val_loss: 0.2854 - val_accuracy: 0.8485\n",
            "Epoch 30/500\n",
            "1/1 [==============================] - 0s 41ms/step - loss: 0.2877 - accuracy: 0.8517 - val_loss: 0.2816 - val_accuracy: 0.8506\n",
            "Epoch 31/500\n",
            "1/1 [==============================] - 0s 40ms/step - loss: 0.2836 - accuracy: 0.8519 - val_loss: 0.2780 - val_accuracy: 0.8613\n",
            "Epoch 32/500\n",
            "1/1 [==============================] - 0s 48ms/step - loss: 0.2797 - accuracy: 0.8605 - val_loss: 0.2746 - val_accuracy: 0.8649\n",
            "Epoch 33/500\n",
            "1/1 [==============================] - 0s 41ms/step - loss: 0.2760 - accuracy: 0.8657 - val_loss: 0.2715 - val_accuracy: 0.8700\n",
            "Epoch 34/500\n",
            "1/1 [==============================] - 0s 43ms/step - loss: 0.2725 - accuracy: 0.8708 - val_loss: 0.2685 - val_accuracy: 0.8762\n",
            "Epoch 35/500\n",
            "1/1 [==============================] - 0s 41ms/step - loss: 0.2692 - accuracy: 0.8787 - val_loss: 0.2658 - val_accuracy: 0.8762\n",
            "Epoch 36/500\n",
            "1/1 [==============================] - 0s 44ms/step - loss: 0.2662 - accuracy: 0.8839 - val_loss: 0.2633 - val_accuracy: 0.8797\n",
            "Epoch 37/500\n",
            "1/1 [==============================] - 0s 43ms/step - loss: 0.2634 - accuracy: 0.8901 - val_loss: 0.2610 - val_accuracy: 0.8818\n",
            "Epoch 38/500\n",
            "1/1 [==============================] - 0s 42ms/step - loss: 0.2608 - accuracy: 0.8910 - val_loss: 0.2590 - val_accuracy: 0.8813\n",
            "Epoch 39/500\n",
            "1/1 [==============================] - 0s 43ms/step - loss: 0.2587 - accuracy: 0.8916 - val_loss: 0.2574 - val_accuracy: 0.8854\n",
            "Epoch 40/500\n",
            "1/1 [==============================] - 0s 47ms/step - loss: 0.2568 - accuracy: 0.8929 - val_loss: 0.2561 - val_accuracy: 0.8864\n",
            "Epoch 41/500\n",
            "1/1 [==============================] - 0s 61ms/step - loss: 0.2554 - accuracy: 0.8918 - val_loss: 0.2550 - val_accuracy: 0.8864\n",
            "Epoch 42/500\n",
            "1/1 [==============================] - 0s 50ms/step - loss: 0.2542 - accuracy: 0.8918 - val_loss: 0.2542 - val_accuracy: 0.8854\n",
            "Epoch 43/500\n",
            "1/1 [==============================] - 0s 43ms/step - loss: 0.2533 - accuracy: 0.8916 - val_loss: 0.2536 - val_accuracy: 0.8854\n",
            "Epoch 44/500\n",
            "1/1 [==============================] - 0s 41ms/step - loss: 0.2526 - accuracy: 0.8914 - val_loss: 0.2530 - val_accuracy: 0.8849\n",
            "Epoch 45/500\n",
            "1/1 [==============================] - 0s 43ms/step - loss: 0.2520 - accuracy: 0.8910 - val_loss: 0.2524 - val_accuracy: 0.8854\n",
            "Epoch 46/500\n",
            "1/1 [==============================] - 0s 44ms/step - loss: 0.2514 - accuracy: 0.8916 - val_loss: 0.2518 - val_accuracy: 0.8864\n",
            "Epoch 47/500\n",
            "1/1 [==============================] - 0s 43ms/step - loss: 0.2508 - accuracy: 0.8918 - val_loss: 0.2512 - val_accuracy: 0.8864\n",
            "Epoch 48/500\n",
            "1/1 [==============================] - 0s 42ms/step - loss: 0.2502 - accuracy: 0.8923 - val_loss: 0.2506 - val_accuracy: 0.8864\n",
            "Epoch 49/500\n",
            "1/1 [==============================] - 0s 59ms/step - loss: 0.2496 - accuracy: 0.8925 - val_loss: 0.2500 - val_accuracy: 0.8864\n",
            "Epoch 50/500\n",
            "1/1 [==============================] - 0s 43ms/step - loss: 0.2490 - accuracy: 0.8925 - val_loss: 0.2494 - val_accuracy: 0.8864\n",
            "Epoch 51/500\n",
            "1/1 [==============================] - 0s 41ms/step - loss: 0.2484 - accuracy: 0.8925 - val_loss: 0.2488 - val_accuracy: 0.8864\n",
            "Epoch 52/500\n",
            "1/1 [==============================] - 0s 52ms/step - loss: 0.2477 - accuracy: 0.8925 - val_loss: 0.2483 - val_accuracy: 0.8869\n",
            "Epoch 53/500\n",
            "1/1 [==============================] - 0s 42ms/step - loss: 0.2471 - accuracy: 0.8927 - val_loss: 0.2477 - val_accuracy: 0.8869\n",
            "Epoch 54/500\n",
            "1/1 [==============================] - 0s 48ms/step - loss: 0.2465 - accuracy: 0.8927 - val_loss: 0.2470 - val_accuracy: 0.8869\n",
            "Epoch 55/500\n",
            "1/1 [==============================] - 0s 46ms/step - loss: 0.2458 - accuracy: 0.8927 - val_loss: 0.2463 - val_accuracy: 0.8869\n",
            "Epoch 56/500\n",
            "1/1 [==============================] - 0s 44ms/step - loss: 0.2451 - accuracy: 0.8932 - val_loss: 0.2456 - val_accuracy: 0.8879\n",
            "Epoch 57/500\n",
            "1/1 [==============================] - 0s 45ms/step - loss: 0.2444 - accuracy: 0.8934 - val_loss: 0.2448 - val_accuracy: 0.8879\n",
            "Epoch 58/500\n",
            "1/1 [==============================] - 0s 40ms/step - loss: 0.2436 - accuracy: 0.8938 - val_loss: 0.2441 - val_accuracy: 0.8884\n",
            "Epoch 59/500\n",
            "1/1 [==============================] - 0s 46ms/step - loss: 0.2429 - accuracy: 0.8938 - val_loss: 0.2434 - val_accuracy: 0.8895\n",
            "Epoch 60/500\n",
            "1/1 [==============================] - 0s 43ms/step - loss: 0.2422 - accuracy: 0.8938 - val_loss: 0.2427 - val_accuracy: 0.8900\n",
            "Epoch 61/500\n",
            "1/1 [==============================] - 0s 50ms/step - loss: 0.2415 - accuracy: 0.8947 - val_loss: 0.2420 - val_accuracy: 0.8915\n",
            "Epoch 62/500\n",
            "1/1 [==============================] - 0s 50ms/step - loss: 0.2409 - accuracy: 0.8956 - val_loss: 0.2413 - val_accuracy: 0.8936\n",
            "Epoch 63/500\n",
            "1/1 [==============================] - 0s 49ms/step - loss: 0.2404 - accuracy: 0.8964 - val_loss: 0.2408 - val_accuracy: 0.8936\n",
            "Epoch 64/500\n",
            "1/1 [==============================] - 0s 62ms/step - loss: 0.2399 - accuracy: 0.8969 - val_loss: 0.2403 - val_accuracy: 0.8936\n",
            "Epoch 65/500\n",
            "1/1 [==============================] - 0s 48ms/step - loss: 0.2394 - accuracy: 0.8967 - val_loss: 0.2398 - val_accuracy: 0.8941\n",
            "Epoch 66/500\n",
            "1/1 [==============================] - 0s 49ms/step - loss: 0.2390 - accuracy: 0.8969 - val_loss: 0.2394 - val_accuracy: 0.8941\n",
            "Epoch 67/500\n",
            "1/1 [==============================] - 0s 44ms/step - loss: 0.2386 - accuracy: 0.8969 - val_loss: 0.2390 - val_accuracy: 0.8941\n",
            "Epoch 68/500\n",
            "1/1 [==============================] - 0s 45ms/step - loss: 0.2383 - accuracy: 0.8971 - val_loss: 0.2386 - val_accuracy: 0.8930\n",
            "Epoch 69/500\n",
            "1/1 [==============================] - 0s 50ms/step - loss: 0.2379 - accuracy: 0.8980 - val_loss: 0.2383 - val_accuracy: 0.8930\n",
            "Epoch 70/500\n",
            "1/1 [==============================] - 0s 50ms/step - loss: 0.2376 - accuracy: 0.8982 - val_loss: 0.2379 - val_accuracy: 0.8925\n",
            "Epoch 71/500\n",
            "1/1 [==============================] - 0s 42ms/step - loss: 0.2373 - accuracy: 0.8980 - val_loss: 0.2376 - val_accuracy: 0.8925\n",
            "Epoch 72/500\n",
            "1/1 [==============================] - 0s 45ms/step - loss: 0.2370 - accuracy: 0.8980 - val_loss: 0.2373 - val_accuracy: 0.8925\n",
            "Epoch 73/500\n",
            "1/1 [==============================] - 0s 52ms/step - loss: 0.2367 - accuracy: 0.8982 - val_loss: 0.2370 - val_accuracy: 0.8925\n",
            "Epoch 74/500\n",
            "1/1 [==============================] - 0s 41ms/step - loss: 0.2364 - accuracy: 0.8982 - val_loss: 0.2368 - val_accuracy: 0.8925\n",
            "Epoch 75/500\n",
            "1/1 [==============================] - 0s 37ms/step - loss: 0.2361 - accuracy: 0.8980 - val_loss: 0.2366 - val_accuracy: 0.8925\n",
            "Epoch 76/500\n",
            "1/1 [==============================] - 0s 42ms/step - loss: 0.2358 - accuracy: 0.8980 - val_loss: 0.2364 - val_accuracy: 0.8925\n",
            "Epoch 77/500\n",
            "1/1 [==============================] - 0s 37ms/step - loss: 0.2355 - accuracy: 0.8980 - val_loss: 0.2362 - val_accuracy: 0.8925\n",
            "Epoch 78/500\n",
            "1/1 [==============================] - 0s 44ms/step - loss: 0.2353 - accuracy: 0.8980 - val_loss: 0.2360 - val_accuracy: 0.8925\n",
            "Epoch 79/500\n",
            "1/1 [==============================] - 0s 51ms/step - loss: 0.2350 - accuracy: 0.8982 - val_loss: 0.2358 - val_accuracy: 0.8920\n",
            "Epoch 80/500\n",
            "1/1 [==============================] - 0s 48ms/step - loss: 0.2348 - accuracy: 0.8982 - val_loss: 0.2356 - val_accuracy: 0.8920\n",
            "Epoch 81/500\n",
            "1/1 [==============================] - 0s 51ms/step - loss: 0.2345 - accuracy: 0.8982 - val_loss: 0.2354 - val_accuracy: 0.8920\n",
            "Epoch 82/500\n",
            "1/1 [==============================] - 0s 49ms/step - loss: 0.2343 - accuracy: 0.8982 - val_loss: 0.2353 - val_accuracy: 0.8920\n",
            "Epoch 83/500\n",
            "1/1 [==============================] - 0s 41ms/step - loss: 0.2341 - accuracy: 0.8982 - val_loss: 0.2351 - val_accuracy: 0.8920\n",
            "Epoch 84/500\n",
            "1/1 [==============================] - 0s 42ms/step - loss: 0.2339 - accuracy: 0.8982 - val_loss: 0.2349 - val_accuracy: 0.8920\n",
            "Epoch 85/500\n",
            "1/1 [==============================] - 0s 49ms/step - loss: 0.2337 - accuracy: 0.8982 - val_loss: 0.2347 - val_accuracy: 0.8920\n",
            "Epoch 86/500\n",
            "1/1 [==============================] - 0s 39ms/step - loss: 0.2334 - accuracy: 0.8982 - val_loss: 0.2346 - val_accuracy: 0.8920\n",
            "Epoch 87/500\n",
            "1/1 [==============================] - 0s 47ms/step - loss: 0.2333 - accuracy: 0.8980 - val_loss: 0.2344 - val_accuracy: 0.8920\n",
            "Epoch 88/500\n",
            "1/1 [==============================] - 0s 50ms/step - loss: 0.2331 - accuracy: 0.8980 - val_loss: 0.2342 - val_accuracy: 0.8920\n",
            "Epoch 89/500\n",
            "1/1 [==============================] - 0s 40ms/step - loss: 0.2329 - accuracy: 0.8980 - val_loss: 0.2341 - val_accuracy: 0.8920\n",
            "Epoch 90/500\n",
            "1/1 [==============================] - 0s 49ms/step - loss: 0.2327 - accuracy: 0.8980 - val_loss: 0.2340 - val_accuracy: 0.8920\n",
            "Epoch 91/500\n",
            "1/1 [==============================] - 0s 40ms/step - loss: 0.2325 - accuracy: 0.8980 - val_loss: 0.2339 - val_accuracy: 0.8925\n",
            "Epoch 92/500\n",
            "1/1 [==============================] - 0s 45ms/step - loss: 0.2324 - accuracy: 0.8984 - val_loss: 0.2338 - val_accuracy: 0.8925\n",
            "Epoch 93/500\n",
            "1/1 [==============================] - 0s 51ms/step - loss: 0.2322 - accuracy: 0.8984 - val_loss: 0.2337 - val_accuracy: 0.8925\n",
            "Epoch 94/500\n",
            "1/1 [==============================] - 0s 61ms/step - loss: 0.2320 - accuracy: 0.8984 - val_loss: 0.2336 - val_accuracy: 0.8925\n",
            "Epoch 95/500\n",
            "1/1 [==============================] - 0s 39ms/step - loss: 0.2318 - accuracy: 0.8984 - val_loss: 0.2335 - val_accuracy: 0.8925\n",
            "Epoch 96/500\n",
            "1/1 [==============================] - 0s 48ms/step - loss: 0.2317 - accuracy: 0.8984 - val_loss: 0.2335 - val_accuracy: 0.8925\n",
            "Epoch 97/500\n",
            "1/1 [==============================] - 0s 45ms/step - loss: 0.2315 - accuracy: 0.8984 - val_loss: 0.2333 - val_accuracy: 0.8925\n",
            "Epoch 98/500\n",
            "1/1 [==============================] - 0s 50ms/step - loss: 0.2314 - accuracy: 0.8984 - val_loss: 0.2332 - val_accuracy: 0.8925\n",
            "Epoch 99/500\n",
            "1/1 [==============================] - 0s 52ms/step - loss: 0.2312 - accuracy: 0.8986 - val_loss: 0.2331 - val_accuracy: 0.8925\n",
            "Epoch 100/500\n",
            "1/1 [==============================] - 0s 61ms/step - loss: 0.2310 - accuracy: 0.8986 - val_loss: 0.2330 - val_accuracy: 0.8925\n",
            "Epoch 101/500\n",
            "1/1 [==============================] - 0s 48ms/step - loss: 0.2309 - accuracy: 0.8984 - val_loss: 0.2329 - val_accuracy: 0.8925\n",
            "Epoch 102/500\n",
            "1/1 [==============================] - 0s 45ms/step - loss: 0.2307 - accuracy: 0.8984 - val_loss: 0.2328 - val_accuracy: 0.8925\n",
            "Epoch 103/500\n",
            "1/1 [==============================] - 0s 44ms/step - loss: 0.2306 - accuracy: 0.8982 - val_loss: 0.2327 - val_accuracy: 0.8925\n",
            "Epoch 104/500\n",
            "1/1 [==============================] - 0s 39ms/step - loss: 0.2305 - accuracy: 0.8982 - val_loss: 0.2327 - val_accuracy: 0.8925\n",
            "Epoch 105/500\n",
            "1/1 [==============================] - 0s 50ms/step - loss: 0.2303 - accuracy: 0.8982 - val_loss: 0.2326 - val_accuracy: 0.8925\n",
            "Epoch 106/500\n",
            "1/1 [==============================] - 0s 60ms/step - loss: 0.2302 - accuracy: 0.8982 - val_loss: 0.2325 - val_accuracy: 0.8925\n",
            "Epoch 107/500\n",
            "1/1 [==============================] - 0s 43ms/step - loss: 0.2301 - accuracy: 0.8982 - val_loss: 0.2324 - val_accuracy: 0.8925\n",
            "Epoch 108/500\n",
            "1/1 [==============================] - 0s 44ms/step - loss: 0.2299 - accuracy: 0.8982 - val_loss: 0.2323 - val_accuracy: 0.8925\n",
            "Epoch 109/500\n",
            "1/1 [==============================] - 0s 44ms/step - loss: 0.2298 - accuracy: 0.8984 - val_loss: 0.2322 - val_accuracy: 0.8925\n",
            "Epoch 110/500\n",
            "1/1 [==============================] - 0s 37ms/step - loss: 0.2297 - accuracy: 0.8984 - val_loss: 0.2321 - val_accuracy: 0.8930\n",
            "Epoch 111/500\n",
            "1/1 [==============================] - 0s 49ms/step - loss: 0.2296 - accuracy: 0.8982 - val_loss: 0.2320 - val_accuracy: 0.8936\n",
            "Epoch 112/500\n",
            "1/1 [==============================] - 0s 51ms/step - loss: 0.2294 - accuracy: 0.8982 - val_loss: 0.2319 - val_accuracy: 0.8936\n",
            "Epoch 113/500\n",
            "1/1 [==============================] - 0s 46ms/step - loss: 0.2293 - accuracy: 0.8982 - val_loss: 0.2318 - val_accuracy: 0.8941\n",
            "Epoch 114/500\n",
            "1/1 [==============================] - 0s 45ms/step - loss: 0.2292 - accuracy: 0.8982 - val_loss: 0.2317 - val_accuracy: 0.8941\n",
            "Epoch 115/500\n",
            "1/1 [==============================] - 0s 38ms/step - loss: 0.2291 - accuracy: 0.8982 - val_loss: 0.2316 - val_accuracy: 0.8941\n",
            "Epoch 116/500\n",
            "1/1 [==============================] - 0s 44ms/step - loss: 0.2290 - accuracy: 0.8982 - val_loss: 0.2315 - val_accuracy: 0.8941\n",
            "Epoch 117/500\n",
            "1/1 [==============================] - 0s 45ms/step - loss: 0.2289 - accuracy: 0.8982 - val_loss: 0.2315 - val_accuracy: 0.8941\n",
            "Epoch 118/500\n",
            "1/1 [==============================] - 0s 55ms/step - loss: 0.2288 - accuracy: 0.8982 - val_loss: 0.2314 - val_accuracy: 0.8946\n",
            "Epoch 119/500\n",
            "1/1 [==============================] - 0s 44ms/step - loss: 0.2287 - accuracy: 0.8982 - val_loss: 0.2313 - val_accuracy: 0.8946\n",
            "Epoch 120/500\n",
            "1/1 [==============================] - 0s 72ms/step - loss: 0.2286 - accuracy: 0.8982 - val_loss: 0.2313 - val_accuracy: 0.8946\n",
            "Epoch 121/500\n",
            "1/1 [==============================] - 0s 49ms/step - loss: 0.2285 - accuracy: 0.8982 - val_loss: 0.2312 - val_accuracy: 0.8946\n",
            "Epoch 122/500\n",
            "1/1 [==============================] - 0s 43ms/step - loss: 0.2284 - accuracy: 0.8982 - val_loss: 0.2312 - val_accuracy: 0.8946\n",
            "Epoch 123/500\n",
            "1/1 [==============================] - 0s 49ms/step - loss: 0.2282 - accuracy: 0.8982 - val_loss: 0.2311 - val_accuracy: 0.8946\n",
            "Epoch 124/500\n",
            "1/1 [==============================] - 0s 39ms/step - loss: 0.2282 - accuracy: 0.8982 - val_loss: 0.2311 - val_accuracy: 0.8946\n",
            "Epoch 125/500\n",
            "1/1 [==============================] - 0s 50ms/step - loss: 0.2281 - accuracy: 0.8984 - val_loss: 0.2310 - val_accuracy: 0.8946\n",
            "Epoch 126/500\n",
            "1/1 [==============================] - 0s 47ms/step - loss: 0.2280 - accuracy: 0.8984 - val_loss: 0.2310 - val_accuracy: 0.8946\n",
            "Epoch 127/500\n",
            "1/1 [==============================] - 0s 50ms/step - loss: 0.2279 - accuracy: 0.8984 - val_loss: 0.2310 - val_accuracy: 0.8946\n",
            "Epoch 128/500\n",
            "1/1 [==============================] - 0s 38ms/step - loss: 0.2278 - accuracy: 0.8984 - val_loss: 0.2309 - val_accuracy: 0.8946\n",
            "Epoch 129/500\n",
            "1/1 [==============================] - 0s 46ms/step - loss: 0.2277 - accuracy: 0.8984 - val_loss: 0.2309 - val_accuracy: 0.8946\n",
            "Epoch 130/500\n",
            "1/1 [==============================] - 0s 50ms/step - loss: 0.2276 - accuracy: 0.8984 - val_loss: 0.2308 - val_accuracy: 0.8946\n",
            "Epoch 131/500\n",
            "1/1 [==============================] - 0s 51ms/step - loss: 0.2275 - accuracy: 0.8984 - val_loss: 0.2308 - val_accuracy: 0.8946\n",
            "Epoch 132/500\n",
            "1/1 [==============================] - 0s 41ms/step - loss: 0.2274 - accuracy: 0.8984 - val_loss: 0.2308 - val_accuracy: 0.8946\n",
            "Epoch 133/500\n",
            "1/1 [==============================] - 0s 48ms/step - loss: 0.2273 - accuracy: 0.8984 - val_loss: 0.2308 - val_accuracy: 0.8946\n",
            "Epoch 134/500\n",
            "1/1 [==============================] - 0s 44ms/step - loss: 0.2272 - accuracy: 0.8984 - val_loss: 0.2307 - val_accuracy: 0.8946\n",
            "Epoch 135/500\n",
            "1/1 [==============================] - 0s 40ms/step - loss: 0.2271 - accuracy: 0.8984 - val_loss: 0.2307 - val_accuracy: 0.8946\n",
            "Epoch 136/500\n",
            "1/1 [==============================] - 0s 50ms/step - loss: 0.2270 - accuracy: 0.8984 - val_loss: 0.2306 - val_accuracy: 0.8946\n",
            "Epoch 137/500\n",
            "1/1 [==============================] - 0s 46ms/step - loss: 0.2270 - accuracy: 0.8984 - val_loss: 0.2306 - val_accuracy: 0.8946\n",
            "Epoch 138/500\n",
            "1/1 [==============================] - 0s 43ms/step - loss: 0.2269 - accuracy: 0.8984 - val_loss: 0.2306 - val_accuracy: 0.8946\n",
            "Epoch 139/500\n",
            "1/1 [==============================] - 0s 55ms/step - loss: 0.2268 - accuracy: 0.8984 - val_loss: 0.2305 - val_accuracy: 0.8946\n",
            "Epoch 140/500\n",
            "1/1 [==============================] - 0s 50ms/step - loss: 0.2267 - accuracy: 0.8984 - val_loss: 0.2305 - val_accuracy: 0.8946\n",
            "Epoch 141/500\n",
            "1/1 [==============================] - 0s 49ms/step - loss: 0.2266 - accuracy: 0.8984 - val_loss: 0.2305 - val_accuracy: 0.8946\n",
            "Epoch 142/500\n",
            "1/1 [==============================] - 0s 44ms/step - loss: 0.2266 - accuracy: 0.8984 - val_loss: 0.2304 - val_accuracy: 0.8946\n",
            "Epoch 143/500\n",
            "1/1 [==============================] - 0s 52ms/step - loss: 0.2265 - accuracy: 0.8984 - val_loss: 0.2304 - val_accuracy: 0.8946\n",
            "Epoch 144/500\n",
            "1/1 [==============================] - 0s 46ms/step - loss: 0.2264 - accuracy: 0.8984 - val_loss: 0.2303 - val_accuracy: 0.8946\n",
            "Epoch 145/500\n",
            "1/1 [==============================] - 0s 47ms/step - loss: 0.2263 - accuracy: 0.8984 - val_loss: 0.2302 - val_accuracy: 0.8946\n",
            "Epoch 146/500\n",
            "1/1 [==============================] - 0s 49ms/step - loss: 0.2263 - accuracy: 0.8984 - val_loss: 0.2302 - val_accuracy: 0.8946\n",
            "Epoch 147/500\n",
            "1/1 [==============================] - 0s 43ms/step - loss: 0.2262 - accuracy: 0.8984 - val_loss: 0.2302 - val_accuracy: 0.8946\n",
            "Epoch 148/500\n",
            "1/1 [==============================] - 0s 42ms/step - loss: 0.2261 - accuracy: 0.8984 - val_loss: 0.2302 - val_accuracy: 0.8946\n",
            "Epoch 149/500\n",
            "1/1 [==============================] - 0s 50ms/step - loss: 0.2260 - accuracy: 0.8984 - val_loss: 0.2302 - val_accuracy: 0.8946\n",
            "Epoch 150/500\n",
            "1/1 [==============================] - 0s 46ms/step - loss: 0.2260 - accuracy: 0.8984 - val_loss: 0.2302 - val_accuracy: 0.8946\n",
            "Epoch 151/500\n",
            "1/1 [==============================] - 0s 47ms/step - loss: 0.2259 - accuracy: 0.8984 - val_loss: 0.2302 - val_accuracy: 0.8946\n",
            "Epoch 152/500\n",
            "1/1 [==============================] - 0s 52ms/step - loss: 0.2258 - accuracy: 0.8984 - val_loss: 0.2301 - val_accuracy: 0.8946\n",
            "Epoch 153/500\n",
            "1/1 [==============================] - 0s 45ms/step - loss: 0.2258 - accuracy: 0.8984 - val_loss: 0.2301 - val_accuracy: 0.8946\n",
            "Epoch 154/500\n",
            "1/1 [==============================] - 0s 49ms/step - loss: 0.2257 - accuracy: 0.8984 - val_loss: 0.2302 - val_accuracy: 0.8946\n",
            "Epoch 155/500\n",
            "1/1 [==============================] - 0s 46ms/step - loss: 0.2256 - accuracy: 0.8984 - val_loss: 0.2301 - val_accuracy: 0.8946\n",
            "Epoch 156/500\n",
            "1/1 [==============================] - 0s 52ms/step - loss: 0.2256 - accuracy: 0.8984 - val_loss: 0.2302 - val_accuracy: 0.8946\n",
            "Epoch 157/500\n",
            "1/1 [==============================] - 0s 51ms/step - loss: 0.2255 - accuracy: 0.8984 - val_loss: 0.2302 - val_accuracy: 0.8946\n",
            "Epoch 158/500\n",
            "1/1 [==============================] - 0s 56ms/step - loss: 0.2254 - accuracy: 0.8984 - val_loss: 0.2302 - val_accuracy: 0.8946\n",
            "Epoch 159/500\n",
            "1/1 [==============================] - 0s 51ms/step - loss: 0.2253 - accuracy: 0.8984 - val_loss: 0.2302 - val_accuracy: 0.8946\n",
            "Epoch 160/500\n",
            "1/1 [==============================] - 0s 46ms/step - loss: 0.2253 - accuracy: 0.8984 - val_loss: 0.2302 - val_accuracy: 0.8946\n",
            "Epoch 161/500\n",
            "1/1 [==============================] - 0s 49ms/step - loss: 0.2252 - accuracy: 0.8984 - val_loss: 0.2301 - val_accuracy: 0.8946\n",
            "Epoch 162/500\n",
            "1/1 [==============================] - 0s 60ms/step - loss: 0.2252 - accuracy: 0.8984 - val_loss: 0.2301 - val_accuracy: 0.8946\n",
            "Epoch 163/500\n",
            "1/1 [==============================] - 0s 47ms/step - loss: 0.2251 - accuracy: 0.8984 - val_loss: 0.2302 - val_accuracy: 0.8946\n",
            "Epoch 164/500\n",
            "1/1 [==============================] - 0s 50ms/step - loss: 0.2250 - accuracy: 0.8984 - val_loss: 0.2302 - val_accuracy: 0.8946\n",
            "Epoch 165/500\n",
            "1/1 [==============================] - 0s 43ms/step - loss: 0.2250 - accuracy: 0.8984 - val_loss: 0.2302 - val_accuracy: 0.8946\n",
            "Epoch 166/500\n",
            "1/1 [==============================] - 0s 40ms/step - loss: 0.2249 - accuracy: 0.8986 - val_loss: 0.2301 - val_accuracy: 0.8946\n",
            "Epoch 167/500\n",
            "1/1 [==============================] - 0s 54ms/step - loss: 0.2248 - accuracy: 0.8986 - val_loss: 0.2302 - val_accuracy: 0.8946\n",
            "Epoch 168/500\n",
            "1/1 [==============================] - 0s 48ms/step - loss: 0.2248 - accuracy: 0.8986 - val_loss: 0.2302 - val_accuracy: 0.8946\n",
            "Epoch 169/500\n",
            "1/1 [==============================] - 0s 67ms/step - loss: 0.2247 - accuracy: 0.8986 - val_loss: 0.2302 - val_accuracy: 0.8951\n",
            "Epoch 170/500\n",
            "1/1 [==============================] - 0s 43ms/step - loss: 0.2246 - accuracy: 0.8995 - val_loss: 0.2302 - val_accuracy: 0.8951\n",
            "Epoch 171/500\n",
            "1/1 [==============================] - 0s 44ms/step - loss: 0.2246 - accuracy: 0.8993 - val_loss: 0.2302 - val_accuracy: 0.8951\n",
            "Epoch 172/500\n",
            "1/1 [==============================] - 0s 46ms/step - loss: 0.2245 - accuracy: 0.8995 - val_loss: 0.2303 - val_accuracy: 0.8951\n",
            "Epoch 173/500\n",
            "1/1 [==============================] - 0s 54ms/step - loss: 0.2244 - accuracy: 0.8993 - val_loss: 0.2303 - val_accuracy: 0.8946\n",
            "Epoch 174/500\n",
            "1/1 [==============================] - 0s 45ms/step - loss: 0.2244 - accuracy: 0.8993 - val_loss: 0.2303 - val_accuracy: 0.8951\n",
            "Epoch 175/500\n",
            "1/1 [==============================] - 0s 46ms/step - loss: 0.2243 - accuracy: 0.8995 - val_loss: 0.2303 - val_accuracy: 0.8951\n",
            "Epoch 176/500\n",
            "1/1 [==============================] - 0s 44ms/step - loss: 0.2243 - accuracy: 0.9002 - val_loss: 0.2304 - val_accuracy: 0.8951\n",
            "Epoch 177/500\n",
            "1/1 [==============================] - 0s 63ms/step - loss: 0.2242 - accuracy: 0.8997 - val_loss: 0.2303 - val_accuracy: 0.8951\n",
            "Epoch 178/500\n",
            "1/1 [==============================] - 0s 42ms/step - loss: 0.2241 - accuracy: 0.9000 - val_loss: 0.2304 - val_accuracy: 0.8951\n",
            "Epoch 179/500\n",
            "1/1 [==============================] - 0s 41ms/step - loss: 0.2241 - accuracy: 0.9004 - val_loss: 0.2304 - val_accuracy: 0.8951\n",
            "Epoch 180/500\n",
            "1/1 [==============================] - 0s 48ms/step - loss: 0.2240 - accuracy: 0.9002 - val_loss: 0.2304 - val_accuracy: 0.8956\n",
            "Epoch 181/500\n",
            "1/1 [==============================] - 0s 54ms/step - loss: 0.2240 - accuracy: 0.9002 - val_loss: 0.2304 - val_accuracy: 0.8956\n",
            "Epoch 182/500\n",
            "1/1 [==============================] - 0s 40ms/step - loss: 0.2239 - accuracy: 0.9002 - val_loss: 0.2304 - val_accuracy: 0.8951\n",
            "Epoch 183/500\n",
            "1/1 [==============================] - 0s 39ms/step - loss: 0.2238 - accuracy: 0.9002 - val_loss: 0.2304 - val_accuracy: 0.8951\n",
            "Epoch 184/500\n",
            "1/1 [==============================] - 0s 54ms/step - loss: 0.2238 - accuracy: 0.9004 - val_loss: 0.2304 - val_accuracy: 0.8951\n",
            "Epoch 185/500\n",
            "1/1 [==============================] - 0s 49ms/step - loss: 0.2237 - accuracy: 0.9004 - val_loss: 0.2304 - val_accuracy: 0.8956\n",
            "Epoch 186/500\n",
            "1/1 [==============================] - 0s 43ms/step - loss: 0.2237 - accuracy: 0.9004 - val_loss: 0.2303 - val_accuracy: 0.8956\n",
            "Epoch 187/500\n",
            "1/1 [==============================] - 0s 46ms/step - loss: 0.2236 - accuracy: 0.9004 - val_loss: 0.2303 - val_accuracy: 0.8956\n",
            "Epoch 188/500\n",
            "1/1 [==============================] - 0s 48ms/step - loss: 0.2235 - accuracy: 0.9002 - val_loss: 0.2304 - val_accuracy: 0.8956\n",
            "Epoch 189/500\n",
            "1/1 [==============================] - 0s 56ms/step - loss: 0.2235 - accuracy: 0.9002 - val_loss: 0.2304 - val_accuracy: 0.8956\n",
            "Epoch 190/500\n",
            "1/1 [==============================] - 0s 51ms/step - loss: 0.2234 - accuracy: 0.9004 - val_loss: 0.2305 - val_accuracy: 0.8956\n",
            "Epoch 191/500\n",
            "1/1 [==============================] - 0s 49ms/step - loss: 0.2234 - accuracy: 0.9006 - val_loss: 0.2304 - val_accuracy: 0.8956\n",
            "Epoch 192/500\n",
            "1/1 [==============================] - 0s 47ms/step - loss: 0.2233 - accuracy: 0.9002 - val_loss: 0.2305 - val_accuracy: 0.8956\n",
            "Epoch 193/500\n",
            "1/1 [==============================] - 0s 46ms/step - loss: 0.2233 - accuracy: 0.9004 - val_loss: 0.2305 - val_accuracy: 0.8956\n",
            "Epoch 194/500\n",
            "1/1 [==============================] - 0s 47ms/step - loss: 0.2232 - accuracy: 0.9000 - val_loss: 0.2305 - val_accuracy: 0.8956\n",
            "Epoch 195/500\n",
            "1/1 [==============================] - 0s 48ms/step - loss: 0.2231 - accuracy: 0.9000 - val_loss: 0.2306 - val_accuracy: 0.8956\n",
            "Epoch 196/500\n",
            "1/1 [==============================] - 0s 50ms/step - loss: 0.2231 - accuracy: 0.9002 - val_loss: 0.2306 - val_accuracy: 0.8946\n",
            "Epoch 197/500\n",
            "1/1 [==============================] - 0s 47ms/step - loss: 0.2230 - accuracy: 0.9002 - val_loss: 0.2307 - val_accuracy: 0.8956\n",
            "Epoch 198/500\n",
            "1/1 [==============================] - 0s 46ms/step - loss: 0.2230 - accuracy: 0.9002 - val_loss: 0.2305 - val_accuracy: 0.8946\n",
            "Epoch 199/500\n",
            "1/1 [==============================] - 0s 41ms/step - loss: 0.2229 - accuracy: 0.9002 - val_loss: 0.2306 - val_accuracy: 0.8956\n",
            "Epoch 200/500\n",
            "1/1 [==============================] - 0s 40ms/step - loss: 0.2228 - accuracy: 0.9002 - val_loss: 0.2305 - val_accuracy: 0.8946\n",
            "Epoch 201/500\n",
            "1/1 [==============================] - 0s 53ms/step - loss: 0.2228 - accuracy: 0.8997 - val_loss: 0.2307 - val_accuracy: 0.8946\n",
            "Epoch 202/500\n",
            "1/1 [==============================] - 0s 42ms/step - loss: 0.2227 - accuracy: 0.9002 - val_loss: 0.2305 - val_accuracy: 0.8946\n",
            "Epoch 203/500\n",
            "1/1 [==============================] - 0s 48ms/step - loss: 0.2227 - accuracy: 0.8995 - val_loss: 0.2308 - val_accuracy: 0.8951\n",
            "Epoch 204/500\n",
            "1/1 [==============================] - 0s 47ms/step - loss: 0.2226 - accuracy: 0.8997 - val_loss: 0.2307 - val_accuracy: 0.8946\n",
            "Epoch 205/500\n",
            "1/1 [==============================] - 0s 48ms/step - loss: 0.2226 - accuracy: 0.9000 - val_loss: 0.2309 - val_accuracy: 0.8951\n",
            "Epoch 206/500\n",
            "1/1 [==============================] - 0s 40ms/step - loss: 0.2225 - accuracy: 0.8997 - val_loss: 0.2305 - val_accuracy: 0.8946\n",
            "Epoch 207/500\n",
            "1/1 [==============================] - 0s 51ms/step - loss: 0.2224 - accuracy: 0.8995 - val_loss: 0.2307 - val_accuracy: 0.8946\n",
            "Epoch 208/500\n",
            "1/1 [==============================] - 0s 51ms/step - loss: 0.2224 - accuracy: 0.9004 - val_loss: 0.2305 - val_accuracy: 0.8946\n",
            "Epoch 209/500\n",
            "1/1 [==============================] - 0s 54ms/step - loss: 0.2223 - accuracy: 0.8995 - val_loss: 0.2309 - val_accuracy: 0.8946\n",
            "Epoch 210/500\n",
            "1/1 [==============================] - 0s 51ms/step - loss: 0.2223 - accuracy: 0.9004 - val_loss: 0.2309 - val_accuracy: 0.8946\n",
            "Epoch 211/500\n",
            "1/1 [==============================] - 0s 51ms/step - loss: 0.2222 - accuracy: 0.9002 - val_loss: 0.2308 - val_accuracy: 0.8946\n",
            "Epoch 212/500\n",
            "1/1 [==============================] - 0s 54ms/step - loss: 0.2221 - accuracy: 0.9000 - val_loss: 0.2309 - val_accuracy: 0.8951\n",
            "Epoch 213/500\n",
            "1/1 [==============================] - 0s 42ms/step - loss: 0.2221 - accuracy: 0.9000 - val_loss: 0.2306 - val_accuracy: 0.8956\n",
            "Epoch 214/500\n",
            "1/1 [==============================] - 0s 45ms/step - loss: 0.2221 - accuracy: 0.8995 - val_loss: 0.2312 - val_accuracy: 0.8956\n",
            "Epoch 215/500\n",
            "1/1 [==============================] - 0s 67ms/step - loss: 0.2220 - accuracy: 0.9004 - val_loss: 0.2308 - val_accuracy: 0.8951\n",
            "Epoch 216/500\n",
            "1/1 [==============================] - 0s 53ms/step - loss: 0.2219 - accuracy: 0.8997 - val_loss: 0.2313 - val_accuracy: 0.8951\n",
            "Epoch 217/500\n",
            "1/1 [==============================] - 0s 51ms/step - loss: 0.2219 - accuracy: 0.9002 - val_loss: 0.2310 - val_accuracy: 0.8941\n",
            "Epoch 218/500\n",
            "1/1 [==============================] - 0s 57ms/step - loss: 0.2218 - accuracy: 0.9004 - val_loss: 0.2310 - val_accuracy: 0.8941\n",
            "Epoch 219/500\n",
            "1/1 [==============================] - 0s 46ms/step - loss: 0.2217 - accuracy: 0.9004 - val_loss: 0.2309 - val_accuracy: 0.8946\n",
            "Epoch 220/500\n",
            "1/1 [==============================] - 0s 55ms/step - loss: 0.2217 - accuracy: 0.9006 - val_loss: 0.2308 - val_accuracy: 0.8941\n",
            "Epoch 221/500\n",
            "1/1 [==============================] - 0s 38ms/step - loss: 0.2217 - accuracy: 0.9002 - val_loss: 0.2312 - val_accuracy: 0.8951\n",
            "Epoch 222/500\n",
            "1/1 [==============================] - 0s 49ms/step - loss: 0.2216 - accuracy: 0.9002 - val_loss: 0.2311 - val_accuracy: 0.8941\n",
            "Epoch 223/500\n",
            "1/1 [==============================] - 0s 48ms/step - loss: 0.2215 - accuracy: 0.9004 - val_loss: 0.2315 - val_accuracy: 0.8941\n",
            "Epoch 224/500\n",
            "1/1 [==============================] - 0s 51ms/step - loss: 0.2215 - accuracy: 0.9008 - val_loss: 0.2312 - val_accuracy: 0.8941\n",
            "Epoch 225/500\n",
            "1/1 [==============================] - 0s 50ms/step - loss: 0.2214 - accuracy: 0.9002 - val_loss: 0.2312 - val_accuracy: 0.8941\n",
            "Epoch 226/500\n",
            "1/1 [==============================] - 0s 46ms/step - loss: 0.2214 - accuracy: 0.9004 - val_loss: 0.2310 - val_accuracy: 0.8941\n",
            "Epoch 227/500\n",
            "1/1 [==============================] - 0s 47ms/step - loss: 0.2213 - accuracy: 0.9004 - val_loss: 0.2312 - val_accuracy: 0.8941\n",
            "Epoch 228/500\n",
            "1/1 [==============================] - 0s 47ms/step - loss: 0.2213 - accuracy: 0.9011 - val_loss: 0.2313 - val_accuracy: 0.8936\n",
            "Epoch 229/500\n",
            "1/1 [==============================] - 0s 50ms/step - loss: 0.2212 - accuracy: 0.9008 - val_loss: 0.2314 - val_accuracy: 0.8936\n",
            "Epoch 230/500\n",
            "1/1 [==============================] - 0s 50ms/step - loss: 0.2212 - accuracy: 0.9008 - val_loss: 0.2315 - val_accuracy: 0.8936\n",
            "Epoch 231/500\n",
            "1/1 [==============================] - 0s 51ms/step - loss: 0.2211 - accuracy: 0.9011 - val_loss: 0.2314 - val_accuracy: 0.8936\n",
            "Epoch 232/500\n",
            "1/1 [==============================] - 0s 54ms/step - loss: 0.2211 - accuracy: 0.9004 - val_loss: 0.2316 - val_accuracy: 0.8946\n",
            "Epoch 233/500\n",
            "1/1 [==============================] - 0s 63ms/step - loss: 0.2210 - accuracy: 0.9008 - val_loss: 0.2313 - val_accuracy: 0.8925\n",
            "Epoch 234/500\n",
            "1/1 [==============================] - 0s 48ms/step - loss: 0.2210 - accuracy: 0.9000 - val_loss: 0.2318 - val_accuracy: 0.8946\n",
            "Epoch 235/500\n",
            "1/1 [==============================] - 0s 50ms/step - loss: 0.2210 - accuracy: 0.9008 - val_loss: 0.2313 - val_accuracy: 0.8951\n",
            "Epoch 236/500\n",
            "1/1 [==============================] - 0s 51ms/step - loss: 0.2210 - accuracy: 0.9004 - val_loss: 0.2320 - val_accuracy: 0.8946\n",
            "Epoch 237/500\n",
            "1/1 [==============================] - 0s 46ms/step - loss: 0.2209 - accuracy: 0.9011 - val_loss: 0.2312 - val_accuracy: 0.8946\n",
            "Epoch 238/500\n",
            "1/1 [==============================] - 0s 50ms/step - loss: 0.2209 - accuracy: 0.8997 - val_loss: 0.2317 - val_accuracy: 0.8941\n",
            "Epoch 239/500\n",
            "1/1 [==============================] - 0s 46ms/step - loss: 0.2207 - accuracy: 0.9004 - val_loss: 0.2317 - val_accuracy: 0.8941\n",
            "Epoch 240/500\n",
            "1/1 [==============================] - 0s 50ms/step - loss: 0.2207 - accuracy: 0.9004 - val_loss: 0.2315 - val_accuracy: 0.8925\n",
            "Epoch 241/500\n",
            "1/1 [==============================] - 0s 45ms/step - loss: 0.2207 - accuracy: 0.8997 - val_loss: 0.2321 - val_accuracy: 0.8946\n",
            "Epoch 242/500\n",
            "1/1 [==============================] - 0s 49ms/step - loss: 0.2207 - accuracy: 0.9008 - val_loss: 0.2314 - val_accuracy: 0.8946\n",
            "Epoch 243/500\n",
            "1/1 [==============================] - 0s 50ms/step - loss: 0.2206 - accuracy: 0.9002 - val_loss: 0.2317 - val_accuracy: 0.8925\n",
            "Epoch 244/500\n",
            "1/1 [==============================] - 0s 41ms/step - loss: 0.2205 - accuracy: 0.9002 - val_loss: 0.2318 - val_accuracy: 0.8925\n",
            "Epoch 245/500\n",
            "1/1 [==============================] - 0s 47ms/step - loss: 0.2204 - accuracy: 0.9002 - val_loss: 0.2317 - val_accuracy: 0.8936\n",
            "Epoch 246/500\n",
            "1/1 [==============================] - 0s 53ms/step - loss: 0.2204 - accuracy: 0.8989 - val_loss: 0.2322 - val_accuracy: 0.8936\n",
            "Epoch 247/500\n",
            "1/1 [==============================] - 0s 55ms/step - loss: 0.2204 - accuracy: 0.9008 - val_loss: 0.2318 - val_accuracy: 0.8925\n",
            "Epoch 248/500\n",
            "1/1 [==============================] - 0s 49ms/step - loss: 0.2203 - accuracy: 0.8997 - val_loss: 0.2319 - val_accuracy: 0.8925\n",
            "Epoch 249/500\n",
            "1/1 [==============================] - 0s 49ms/step - loss: 0.2202 - accuracy: 0.9004 - val_loss: 0.2319 - val_accuracy: 0.8925\n",
            "Epoch 250/500\n",
            "1/1 [==============================] - 0s 52ms/step - loss: 0.2202 - accuracy: 0.9006 - val_loss: 0.2317 - val_accuracy: 0.8946\n",
            "Epoch 251/500\n",
            "1/1 [==============================] - 0s 46ms/step - loss: 0.2202 - accuracy: 0.9000 - val_loss: 0.2324 - val_accuracy: 0.8930\n",
            "Epoch 252/500\n",
            "1/1 [==============================] - 0s 58ms/step - loss: 0.2201 - accuracy: 0.9002 - val_loss: 0.2319 - val_accuracy: 0.8951\n",
            "Epoch 253/500\n",
            "1/1 [==============================] - 0s 46ms/step - loss: 0.2201 - accuracy: 0.8995 - val_loss: 0.2326 - val_accuracy: 0.8925\n",
            "Epoch 254/500\n",
            "1/1 [==============================] - 0s 48ms/step - loss: 0.2201 - accuracy: 0.9006 - val_loss: 0.2319 - val_accuracy: 0.8951\n",
            "Epoch 255/500\n",
            "1/1 [==============================] - 0s 50ms/step - loss: 0.2200 - accuracy: 0.9004 - val_loss: 0.2322 - val_accuracy: 0.8925\n",
            "Epoch 256/500\n",
            "1/1 [==============================] - 0s 47ms/step - loss: 0.2199 - accuracy: 0.9000 - val_loss: 0.2318 - val_accuracy: 0.8951\n",
            "Epoch 257/500\n",
            "1/1 [==============================] - 0s 46ms/step - loss: 0.2199 - accuracy: 0.8995 - val_loss: 0.2321 - val_accuracy: 0.8925\n",
            "Epoch 258/500\n",
            "1/1 [==============================] - 0s 52ms/step - loss: 0.2198 - accuracy: 0.9000 - val_loss: 0.2322 - val_accuracy: 0.8925\n",
            "Epoch 259/500\n",
            "1/1 [==============================] - 0s 44ms/step - loss: 0.2198 - accuracy: 0.9000 - val_loss: 0.2322 - val_accuracy: 0.8925\n",
            "Epoch 260/500\n",
            "1/1 [==============================] - 0s 53ms/step - loss: 0.2197 - accuracy: 0.8997 - val_loss: 0.2324 - val_accuracy: 0.8925\n",
            "Epoch 261/500\n",
            "1/1 [==============================] - 0s 45ms/step - loss: 0.2197 - accuracy: 0.9000 - val_loss: 0.2319 - val_accuracy: 0.8951\n",
            "Epoch 262/500\n",
            "1/1 [==============================] - 0s 51ms/step - loss: 0.2197 - accuracy: 0.9006 - val_loss: 0.2325 - val_accuracy: 0.8925\n",
            "Epoch 263/500\n",
            "1/1 [==============================] - 0s 50ms/step - loss: 0.2197 - accuracy: 0.9004 - val_loss: 0.2320 - val_accuracy: 0.8930\n",
            "Epoch 264/500\n",
            "1/1 [==============================] - 0s 52ms/step - loss: 0.2197 - accuracy: 0.9011 - val_loss: 0.2329 - val_accuracy: 0.8930\n",
            "Epoch 265/500\n",
            "1/1 [==============================] - 0s 50ms/step - loss: 0.2196 - accuracy: 0.9002 - val_loss: 0.2322 - val_accuracy: 0.8951\n",
            "Epoch 266/500\n",
            "1/1 [==============================] - 0s 54ms/step - loss: 0.2196 - accuracy: 0.9006 - val_loss: 0.2326 - val_accuracy: 0.8925\n",
            "Epoch 267/500\n",
            "1/1 [==============================] - 0s 42ms/step - loss: 0.2195 - accuracy: 0.9004 - val_loss: 0.2322 - val_accuracy: 0.8941\n",
            "Epoch 268/500\n",
            "1/1 [==============================] - 0s 52ms/step - loss: 0.2194 - accuracy: 0.8986 - val_loss: 0.2322 - val_accuracy: 0.8930\n",
            "Epoch 269/500\n",
            "1/1 [==============================] - 0s 52ms/step - loss: 0.2194 - accuracy: 0.8989 - val_loss: 0.2326 - val_accuracy: 0.8930\n",
            "Epoch 270/500\n",
            "1/1 [==============================] - 0s 53ms/step - loss: 0.2193 - accuracy: 0.9002 - val_loss: 0.2322 - val_accuracy: 0.8941\n",
            "Epoch 271/500\n",
            "1/1 [==============================] - 0s 63ms/step - loss: 0.2193 - accuracy: 0.9006 - val_loss: 0.2330 - val_accuracy: 0.8930\n",
            "Epoch 272/500\n",
            "1/1 [==============================] - 0s 51ms/step - loss: 0.2193 - accuracy: 0.9004 - val_loss: 0.2323 - val_accuracy: 0.8946\n",
            "Epoch 273/500\n",
            "1/1 [==============================] - 0s 50ms/step - loss: 0.2193 - accuracy: 0.9008 - val_loss: 0.2327 - val_accuracy: 0.8936\n",
            "Epoch 274/500\n",
            "1/1 [==============================] - 0s 50ms/step - loss: 0.2192 - accuracy: 0.8997 - val_loss: 0.2325 - val_accuracy: 0.8941\n",
            "Epoch 275/500\n",
            "1/1 [==============================] - 0s 48ms/step - loss: 0.2191 - accuracy: 0.8995 - val_loss: 0.2326 - val_accuracy: 0.8936\n",
            "Epoch 276/500\n",
            "1/1 [==============================] - 0s 49ms/step - loss: 0.2191 - accuracy: 0.8995 - val_loss: 0.2329 - val_accuracy: 0.8936\n",
            "Epoch 277/500\n",
            "1/1 [==============================] - 0s 51ms/step - loss: 0.2191 - accuracy: 0.9004 - val_loss: 0.2326 - val_accuracy: 0.8956\n",
            "Epoch 278/500\n",
            "1/1 [==============================] - 0s 50ms/step - loss: 0.2191 - accuracy: 0.8997 - val_loss: 0.2330 - val_accuracy: 0.8930\n",
            "Epoch 279/500\n",
            "1/1 [==============================] - 0s 50ms/step - loss: 0.2191 - accuracy: 0.9004 - val_loss: 0.2324 - val_accuracy: 0.8936\n",
            "Epoch 280/500\n",
            "1/1 [==============================] - 0s 64ms/step - loss: 0.2190 - accuracy: 0.9011 - val_loss: 0.2330 - val_accuracy: 0.8930\n",
            "Epoch 281/500\n",
            "1/1 [==============================] - 0s 53ms/step - loss: 0.2190 - accuracy: 0.9008 - val_loss: 0.2326 - val_accuracy: 0.8936\n",
            "Epoch 282/500\n",
            "1/1 [==============================] - 0s 55ms/step - loss: 0.2189 - accuracy: 0.8997 - val_loss: 0.2330 - val_accuracy: 0.8936\n",
            "Epoch 283/500\n",
            "1/1 [==============================] - 0s 53ms/step - loss: 0.2189 - accuracy: 0.9004 - val_loss: 0.2328 - val_accuracy: 0.8936\n",
            "Epoch 284/500\n",
            "1/1 [==============================] - 0s 59ms/step - loss: 0.2188 - accuracy: 0.8993 - val_loss: 0.2327 - val_accuracy: 0.8961\n",
            "Epoch 285/500\n",
            "1/1 [==============================] - 0s 48ms/step - loss: 0.2188 - accuracy: 0.9002 - val_loss: 0.2329 - val_accuracy: 0.8930\n",
            "Epoch 286/500\n",
            "1/1 [==============================] - 0s 48ms/step - loss: 0.2188 - accuracy: 0.9000 - val_loss: 0.2325 - val_accuracy: 0.8946\n",
            "Epoch 287/500\n",
            "1/1 [==============================] - 0s 55ms/step - loss: 0.2188 - accuracy: 0.9019 - val_loss: 0.2332 - val_accuracy: 0.8930\n",
            "Epoch 288/500\n",
            "1/1 [==============================] - 0s 49ms/step - loss: 0.2188 - accuracy: 0.9008 - val_loss: 0.2328 - val_accuracy: 0.8946\n",
            "Epoch 289/500\n",
            "1/1 [==============================] - 0s 48ms/step - loss: 0.2187 - accuracy: 0.9011 - val_loss: 0.2335 - val_accuracy: 0.8930\n",
            "Epoch 290/500\n",
            "1/1 [==============================] - 0s 44ms/step - loss: 0.2187 - accuracy: 0.9006 - val_loss: 0.2326 - val_accuracy: 0.8925\n",
            "Epoch 291/500\n",
            "1/1 [==============================] - 0s 53ms/step - loss: 0.2187 - accuracy: 0.9011 - val_loss: 0.2331 - val_accuracy: 0.8930\n",
            "Epoch 292/500\n",
            "1/1 [==============================] - 0s 55ms/step - loss: 0.2186 - accuracy: 0.9004 - val_loss: 0.2327 - val_accuracy: 0.8946\n",
            "Epoch 293/500\n",
            "1/1 [==============================] - 0s 45ms/step - loss: 0.2186 - accuracy: 0.9008 - val_loss: 0.2331 - val_accuracy: 0.8936\n",
            "Epoch 294/500\n",
            "1/1 [==============================] - 0s 49ms/step - loss: 0.2185 - accuracy: 0.8997 - val_loss: 0.2332 - val_accuracy: 0.8941\n",
            "Epoch 295/500\n",
            "1/1 [==============================] - 0s 57ms/step - loss: 0.2185 - accuracy: 0.8997 - val_loss: 0.2332 - val_accuracy: 0.8936\n",
            "Epoch 296/500\n",
            "1/1 [==============================] - 0s 56ms/step - loss: 0.2184 - accuracy: 0.8995 - val_loss: 0.2333 - val_accuracy: 0.8936\n",
            "Epoch 297/500\n",
            "1/1 [==============================] - 0s 47ms/step - loss: 0.2184 - accuracy: 0.9002 - val_loss: 0.2329 - val_accuracy: 0.8946\n",
            "Epoch 298/500\n",
            "1/1 [==============================] - 0s 51ms/step - loss: 0.2184 - accuracy: 0.9022 - val_loss: 0.2337 - val_accuracy: 0.8930\n",
            "Epoch 299/500\n",
            "1/1 [==============================] - 0s 48ms/step - loss: 0.2185 - accuracy: 0.9008 - val_loss: 0.2330 - val_accuracy: 0.8925\n",
            "Epoch 300/500\n",
            "1/1 [==============================] - 0s 58ms/step - loss: 0.2185 - accuracy: 0.9017 - val_loss: 0.2339 - val_accuracy: 0.8930\n",
            "Epoch 301/500\n",
            "1/1 [==============================] - 0s 54ms/step - loss: 0.2184 - accuracy: 0.9008 - val_loss: 0.2331 - val_accuracy: 0.8941\n",
            "Epoch 302/500\n",
            "1/1 [==============================] - 0s 57ms/step - loss: 0.2183 - accuracy: 0.9019 - val_loss: 0.2335 - val_accuracy: 0.8936\n",
            "Epoch 303/500\n",
            "1/1 [==============================] - 0s 47ms/step - loss: 0.2182 - accuracy: 0.8997 - val_loss: 0.2333 - val_accuracy: 0.8941\n",
            "Epoch 304/500\n",
            "1/1 [==============================] - 0s 50ms/step - loss: 0.2182 - accuracy: 0.8995 - val_loss: 0.2331 - val_accuracy: 0.8946\n",
            "Epoch 305/500\n",
            "1/1 [==============================] - 0s 54ms/step - loss: 0.2182 - accuracy: 0.9019 - val_loss: 0.2340 - val_accuracy: 0.8930\n",
            "Epoch 306/500\n",
            "1/1 [==============================] - 0s 46ms/step - loss: 0.2183 - accuracy: 0.9006 - val_loss: 0.2331 - val_accuracy: 0.8925\n",
            "Epoch 307/500\n",
            "1/1 [==============================] - 0s 57ms/step - loss: 0.2183 - accuracy: 0.9004 - val_loss: 0.2342 - val_accuracy: 0.8930\n",
            "Epoch 308/500\n",
            "1/1 [==============================] - 0s 50ms/step - loss: 0.2183 - accuracy: 0.9011 - val_loss: 0.2330 - val_accuracy: 0.8936\n",
            "Epoch 309/500\n",
            "1/1 [==============================] - 0s 49ms/step - loss: 0.2182 - accuracy: 0.9019 - val_loss: 0.2335 - val_accuracy: 0.8941\n",
            "Epoch 310/500\n",
            "1/1 [==============================] - 0s 47ms/step - loss: 0.2180 - accuracy: 0.9002 - val_loss: 0.2336 - val_accuracy: 0.8941\n",
            "Epoch 311/500\n",
            "1/1 [==============================] - 0s 57ms/step - loss: 0.2180 - accuracy: 0.9002 - val_loss: 0.2333 - val_accuracy: 0.8936\n",
            "Epoch 312/500\n",
            "1/1 [==============================] - 0s 51ms/step - loss: 0.2180 - accuracy: 0.9019 - val_loss: 0.2341 - val_accuracy: 0.8930\n",
            "Epoch 313/500\n",
            "1/1 [==============================] - 0s 45ms/step - loss: 0.2181 - accuracy: 0.9008 - val_loss: 0.2331 - val_accuracy: 0.8925\n",
            "Epoch 314/500\n",
            "1/1 [==============================] - 0s 48ms/step - loss: 0.2180 - accuracy: 0.9015 - val_loss: 0.2337 - val_accuracy: 0.8936\n",
            "Epoch 315/500\n",
            "1/1 [==============================] - 0s 51ms/step - loss: 0.2179 - accuracy: 0.9000 - val_loss: 0.2334 - val_accuracy: 0.8941\n",
            "Epoch 316/500\n",
            "1/1 [==============================] - 0s 59ms/step - loss: 0.2178 - accuracy: 0.9015 - val_loss: 0.2335 - val_accuracy: 0.8936\n",
            "Epoch 317/500\n",
            "1/1 [==============================] - 0s 50ms/step - loss: 0.2178 - accuracy: 0.9006 - val_loss: 0.2341 - val_accuracy: 0.8936\n",
            "Epoch 318/500\n",
            "1/1 [==============================] - 0s 47ms/step - loss: 0.2178 - accuracy: 0.9002 - val_loss: 0.2334 - val_accuracy: 0.8941\n",
            "Epoch 319/500\n",
            "1/1 [==============================] - 0s 51ms/step - loss: 0.2178 - accuracy: 0.9024 - val_loss: 0.2341 - val_accuracy: 0.8936\n",
            "Epoch 320/500\n",
            "1/1 [==============================] - 0s 53ms/step - loss: 0.2178 - accuracy: 0.9002 - val_loss: 0.2333 - val_accuracy: 0.8936\n",
            "Epoch 321/500\n",
            "1/1 [==============================] - 0s 53ms/step - loss: 0.2177 - accuracy: 0.9024 - val_loss: 0.2337 - val_accuracy: 0.8946\n",
            "Epoch 322/500\n",
            "1/1 [==============================] - 0s 53ms/step - loss: 0.2176 - accuracy: 0.8995 - val_loss: 0.2339 - val_accuracy: 0.8936\n",
            "Epoch 323/500\n",
            "1/1 [==============================] - 0s 44ms/step - loss: 0.2176 - accuracy: 0.8997 - val_loss: 0.2336 - val_accuracy: 0.8946\n",
            "Epoch 324/500\n",
            "1/1 [==============================] - 0s 52ms/step - loss: 0.2176 - accuracy: 0.9024 - val_loss: 0.2342 - val_accuracy: 0.8936\n",
            "Epoch 325/500\n",
            "1/1 [==============================] - 0s 60ms/step - loss: 0.2176 - accuracy: 0.9000 - val_loss: 0.2334 - val_accuracy: 0.8936\n",
            "Epoch 326/500\n",
            "1/1 [==============================] - 0s 47ms/step - loss: 0.2176 - accuracy: 0.9024 - val_loss: 0.2341 - val_accuracy: 0.8941\n",
            "Epoch 327/500\n",
            "1/1 [==============================] - 0s 43ms/step - loss: 0.2175 - accuracy: 0.9002 - val_loss: 0.2337 - val_accuracy: 0.8946\n",
            "Epoch 328/500\n",
            "1/1 [==============================] - 0s 43ms/step - loss: 0.2175 - accuracy: 0.9024 - val_loss: 0.2340 - val_accuracy: 0.8941\n",
            "Epoch 329/500\n",
            "1/1 [==============================] - 0s 49ms/step - loss: 0.2174 - accuracy: 0.9013 - val_loss: 0.2341 - val_accuracy: 0.8936\n",
            "Epoch 330/500\n",
            "1/1 [==============================] - 0s 47ms/step - loss: 0.2174 - accuracy: 0.8997 - val_loss: 0.2336 - val_accuracy: 0.8946\n",
            "Epoch 331/500\n",
            "1/1 [==============================] - 0s 43ms/step - loss: 0.2174 - accuracy: 0.9028 - val_loss: 0.2343 - val_accuracy: 0.8936\n",
            "Epoch 332/500\n",
            "1/1 [==============================] - 0s 45ms/step - loss: 0.2174 - accuracy: 0.9002 - val_loss: 0.2335 - val_accuracy: 0.8941\n",
            "Epoch 333/500\n",
            "1/1 [==============================] - 0s 50ms/step - loss: 0.2175 - accuracy: 0.9026 - val_loss: 0.2344 - val_accuracy: 0.8941\n",
            "Epoch 334/500\n",
            "1/1 [==============================] - 0s 56ms/step - loss: 0.2174 - accuracy: 0.9002 - val_loss: 0.2338 - val_accuracy: 0.8941\n",
            "Epoch 335/500\n",
            "1/1 [==============================] - 0s 51ms/step - loss: 0.2173 - accuracy: 0.9024 - val_loss: 0.2342 - val_accuracy: 0.8946\n",
            "Epoch 336/500\n",
            "1/1 [==============================] - 0s 43ms/step - loss: 0.2172 - accuracy: 0.9002 - val_loss: 0.2339 - val_accuracy: 0.8946\n",
            "Epoch 337/500\n",
            "1/1 [==============================] - 0s 46ms/step - loss: 0.2172 - accuracy: 0.9017 - val_loss: 0.2339 - val_accuracy: 0.8941\n",
            "Epoch 338/500\n",
            "1/1 [==============================] - 0s 52ms/step - loss: 0.2172 - accuracy: 0.9017 - val_loss: 0.2341 - val_accuracy: 0.8936\n",
            "Epoch 339/500\n",
            "1/1 [==============================] - 0s 51ms/step - loss: 0.2172 - accuracy: 0.9004 - val_loss: 0.2338 - val_accuracy: 0.8946\n",
            "Epoch 340/500\n",
            "1/1 [==============================] - 0s 51ms/step - loss: 0.2172 - accuracy: 0.9028 - val_loss: 0.2343 - val_accuracy: 0.8936\n",
            "Epoch 341/500\n",
            "1/1 [==============================] - 0s 62ms/step - loss: 0.2172 - accuracy: 0.9004 - val_loss: 0.2338 - val_accuracy: 0.8941\n",
            "Epoch 342/500\n",
            "1/1 [==============================] - 0s 56ms/step - loss: 0.2171 - accuracy: 0.9028 - val_loss: 0.2343 - val_accuracy: 0.8936\n",
            "Epoch 343/500\n",
            "1/1 [==============================] - 0s 56ms/step - loss: 0.2171 - accuracy: 0.9002 - val_loss: 0.2337 - val_accuracy: 0.8941\n",
            "Epoch 344/500\n",
            "1/1 [==============================] - 0s 60ms/step - loss: 0.2171 - accuracy: 0.9026 - val_loss: 0.2343 - val_accuracy: 0.8936\n",
            "Epoch 345/500\n",
            "1/1 [==============================] - 0s 51ms/step - loss: 0.2171 - accuracy: 0.9002 - val_loss: 0.2339 - val_accuracy: 0.8946\n",
            "Epoch 346/500\n",
            "1/1 [==============================] - 0s 51ms/step - loss: 0.2170 - accuracy: 0.9028 - val_loss: 0.2343 - val_accuracy: 0.8925\n",
            "Epoch 347/500\n",
            "1/1 [==============================] - 0s 48ms/step - loss: 0.2170 - accuracy: 0.9002 - val_loss: 0.2341 - val_accuracy: 0.8946\n",
            "Epoch 348/500\n",
            "1/1 [==============================] - 0s 45ms/step - loss: 0.2169 - accuracy: 0.9017 - val_loss: 0.2342 - val_accuracy: 0.8936\n",
            "Epoch 349/500\n",
            "1/1 [==============================] - 0s 53ms/step - loss: 0.2169 - accuracy: 0.9008 - val_loss: 0.2339 - val_accuracy: 0.8946\n",
            "Epoch 350/500\n",
            "1/1 [==============================] - 0s 57ms/step - loss: 0.2169 - accuracy: 0.9017 - val_loss: 0.2342 - val_accuracy: 0.8946\n",
            "Epoch 351/500\n",
            "1/1 [==============================] - 0s 47ms/step - loss: 0.2169 - accuracy: 0.9011 - val_loss: 0.2340 - val_accuracy: 0.8946\n",
            "Epoch 352/500\n",
            "1/1 [==============================] - 0s 52ms/step - loss: 0.2169 - accuracy: 0.9026 - val_loss: 0.2346 - val_accuracy: 0.8936\n",
            "Epoch 353/500\n",
            "1/1 [==============================] - 0s 47ms/step - loss: 0.2169 - accuracy: 0.9006 - val_loss: 0.2339 - val_accuracy: 0.8925\n",
            "Epoch 354/500\n",
            "1/1 [==============================] - 0s 51ms/step - loss: 0.2170 - accuracy: 0.9019 - val_loss: 0.2351 - val_accuracy: 0.8936\n",
            "Epoch 355/500\n",
            "1/1 [==============================] - 0s 46ms/step - loss: 0.2171 - accuracy: 0.9011 - val_loss: 0.2338 - val_accuracy: 0.8905\n",
            "Epoch 356/500\n",
            "1/1 [==============================] - 0s 52ms/step - loss: 0.2172 - accuracy: 0.9004 - val_loss: 0.2352 - val_accuracy: 0.8936\n",
            "Epoch 357/500\n",
            "1/1 [==============================] - 0s 49ms/step - loss: 0.2171 - accuracy: 0.9008 - val_loss: 0.2339 - val_accuracy: 0.8930\n",
            "Epoch 358/500\n",
            "1/1 [==============================] - 0s 55ms/step - loss: 0.2169 - accuracy: 0.9006 - val_loss: 0.2346 - val_accuracy: 0.8925\n",
            "Epoch 359/500\n",
            "1/1 [==============================] - 0s 48ms/step - loss: 0.2168 - accuracy: 0.9002 - val_loss: 0.2343 - val_accuracy: 0.8941\n",
            "Epoch 360/500\n",
            "1/1 [==============================] - 0s 61ms/step - loss: 0.2167 - accuracy: 0.9017 - val_loss: 0.2341 - val_accuracy: 0.8941\n",
            "Epoch 361/500\n",
            "1/1 [==============================] - 0s 63ms/step - loss: 0.2167 - accuracy: 0.9028 - val_loss: 0.2349 - val_accuracy: 0.8941\n",
            "Epoch 362/500\n",
            "1/1 [==============================] - 0s 49ms/step - loss: 0.2168 - accuracy: 0.9006 - val_loss: 0.2340 - val_accuracy: 0.8936\n",
            "Epoch 363/500\n",
            "1/1 [==============================] - 0s 49ms/step - loss: 0.2168 - accuracy: 0.9006 - val_loss: 0.2348 - val_accuracy: 0.8941\n",
            "Epoch 364/500\n",
            "1/1 [==============================] - 0s 55ms/step - loss: 0.2167 - accuracy: 0.9006 - val_loss: 0.2341 - val_accuracy: 0.8941\n",
            "Epoch 365/500\n",
            "1/1 [==============================] - 0s 54ms/step - loss: 0.2166 - accuracy: 0.9028 - val_loss: 0.2344 - val_accuracy: 0.8941\n",
            "Epoch 366/500\n",
            "1/1 [==============================] - 0s 53ms/step - loss: 0.2165 - accuracy: 0.9017 - val_loss: 0.2346 - val_accuracy: 0.8936\n",
            "Epoch 367/500\n",
            "1/1 [==============================] - 0s 48ms/step - loss: 0.2165 - accuracy: 0.9006 - val_loss: 0.2341 - val_accuracy: 0.8930\n",
            "Epoch 368/500\n",
            "1/1 [==============================] - 0s 54ms/step - loss: 0.2166 - accuracy: 0.9026 - val_loss: 0.2349 - val_accuracy: 0.8941\n",
            "Epoch 369/500\n",
            "1/1 [==============================] - 0s 46ms/step - loss: 0.2166 - accuracy: 0.9004 - val_loss: 0.2340 - val_accuracy: 0.8925\n",
            "Epoch 370/500\n",
            "1/1 [==============================] - 0s 48ms/step - loss: 0.2167 - accuracy: 0.9019 - val_loss: 0.2350 - val_accuracy: 0.8936\n",
            "Epoch 371/500\n",
            "1/1 [==============================] - 0s 73ms/step - loss: 0.2166 - accuracy: 0.9006 - val_loss: 0.2343 - val_accuracy: 0.8936\n",
            "Epoch 372/500\n",
            "1/1 [==============================] - 0s 50ms/step - loss: 0.2164 - accuracy: 0.9026 - val_loss: 0.2345 - val_accuracy: 0.8946\n",
            "Epoch 373/500\n",
            "1/1 [==============================] - 0s 70ms/step - loss: 0.2164 - accuracy: 0.9019 - val_loss: 0.2349 - val_accuracy: 0.8936\n",
            "Epoch 374/500\n",
            "1/1 [==============================] - 0s 46ms/step - loss: 0.2164 - accuracy: 0.9015 - val_loss: 0.2342 - val_accuracy: 0.8930\n",
            "Epoch 375/500\n",
            "1/1 [==============================] - 0s 54ms/step - loss: 0.2165 - accuracy: 0.9019 - val_loss: 0.2350 - val_accuracy: 0.8936\n",
            "Epoch 376/500\n",
            "1/1 [==============================] - 0s 55ms/step - loss: 0.2165 - accuracy: 0.9013 - val_loss: 0.2342 - val_accuracy: 0.8936\n",
            "Epoch 377/500\n",
            "1/1 [==============================] - 0s 45ms/step - loss: 0.2164 - accuracy: 0.9024 - val_loss: 0.2347 - val_accuracy: 0.8925\n",
            "Epoch 378/500\n",
            "1/1 [==============================] - 0s 45ms/step - loss: 0.2163 - accuracy: 0.9011 - val_loss: 0.2347 - val_accuracy: 0.8936\n",
            "Epoch 379/500\n",
            "1/1 [==============================] - 0s 62ms/step - loss: 0.2163 - accuracy: 0.9008 - val_loss: 0.2344 - val_accuracy: 0.8930\n",
            "Epoch 380/500\n",
            "1/1 [==============================] - 0s 52ms/step - loss: 0.2163 - accuracy: 0.9024 - val_loss: 0.2352 - val_accuracy: 0.8936\n",
            "Epoch 381/500\n",
            "1/1 [==============================] - 0s 49ms/step - loss: 0.2164 - accuracy: 0.9017 - val_loss: 0.2342 - val_accuracy: 0.8925\n",
            "Epoch 382/500\n",
            "1/1 [==============================] - 0s 53ms/step - loss: 0.2164 - accuracy: 0.9017 - val_loss: 0.2352 - val_accuracy: 0.8936\n",
            "Epoch 383/500\n",
            "1/1 [==============================] - 0s 48ms/step - loss: 0.2163 - accuracy: 0.9019 - val_loss: 0.2346 - val_accuracy: 0.8941\n",
            "Epoch 384/500\n",
            "1/1 [==============================] - 0s 58ms/step - loss: 0.2162 - accuracy: 0.9026 - val_loss: 0.2348 - val_accuracy: 0.8946\n",
            "Epoch 385/500\n",
            "1/1 [==============================] - 0s 48ms/step - loss: 0.2161 - accuracy: 0.9022 - val_loss: 0.2352 - val_accuracy: 0.8925\n",
            "Epoch 386/500\n",
            "1/1 [==============================] - 0s 44ms/step - loss: 0.2162 - accuracy: 0.9008 - val_loss: 0.2345 - val_accuracy: 0.8930\n",
            "Epoch 387/500\n",
            "1/1 [==============================] - 0s 51ms/step - loss: 0.2162 - accuracy: 0.9019 - val_loss: 0.2353 - val_accuracy: 0.8936\n",
            "Epoch 388/500\n",
            "1/1 [==============================] - 0s 56ms/step - loss: 0.2162 - accuracy: 0.9017 - val_loss: 0.2345 - val_accuracy: 0.8941\n",
            "Epoch 389/500\n",
            "1/1 [==============================] - 0s 61ms/step - loss: 0.2161 - accuracy: 0.9024 - val_loss: 0.2351 - val_accuracy: 0.8925\n",
            "Epoch 390/500\n",
            "1/1 [==============================] - 0s 44ms/step - loss: 0.2160 - accuracy: 0.9011 - val_loss: 0.2350 - val_accuracy: 0.8941\n",
            "Epoch 391/500\n",
            "1/1 [==============================] - 0s 53ms/step - loss: 0.2160 - accuracy: 0.9017 - val_loss: 0.2347 - val_accuracy: 0.8930\n",
            "Epoch 392/500\n",
            "1/1 [==============================] - 0s 57ms/step - loss: 0.2160 - accuracy: 0.9026 - val_loss: 0.2354 - val_accuracy: 0.8936\n",
            "Epoch 393/500\n",
            "1/1 [==============================] - 0s 51ms/step - loss: 0.2161 - accuracy: 0.9015 - val_loss: 0.2346 - val_accuracy: 0.8920\n",
            "Epoch 394/500\n",
            "1/1 [==============================] - 0s 47ms/step - loss: 0.2161 - accuracy: 0.9004 - val_loss: 0.2356 - val_accuracy: 0.8936\n",
            "Epoch 395/500\n",
            "1/1 [==============================] - 0s 53ms/step - loss: 0.2161 - accuracy: 0.9019 - val_loss: 0.2348 - val_accuracy: 0.8936\n",
            "Epoch 396/500\n",
            "1/1 [==============================] - 0s 45ms/step - loss: 0.2160 - accuracy: 0.9026 - val_loss: 0.2353 - val_accuracy: 0.8936\n",
            "Epoch 397/500\n",
            "1/1 [==============================] - 0s 61ms/step - loss: 0.2159 - accuracy: 0.9008 - val_loss: 0.2352 - val_accuracy: 0.8936\n",
            "Epoch 398/500\n",
            "1/1 [==============================] - 0s 52ms/step - loss: 0.2158 - accuracy: 0.9017 - val_loss: 0.2349 - val_accuracy: 0.8925\n",
            "Epoch 399/500\n",
            "1/1 [==============================] - 0s 41ms/step - loss: 0.2159 - accuracy: 0.9024 - val_loss: 0.2355 - val_accuracy: 0.8936\n",
            "Epoch 400/500\n",
            "1/1 [==============================] - 0s 44ms/step - loss: 0.2159 - accuracy: 0.9015 - val_loss: 0.2347 - val_accuracy: 0.8920\n",
            "Epoch 401/500\n",
            "1/1 [==============================] - 0s 50ms/step - loss: 0.2159 - accuracy: 0.9013 - val_loss: 0.2355 - val_accuracy: 0.8936\n",
            "Epoch 402/500\n",
            "1/1 [==============================] - 0s 58ms/step - loss: 0.2159 - accuracy: 0.9019 - val_loss: 0.2348 - val_accuracy: 0.8936\n",
            "Epoch 403/500\n",
            "1/1 [==============================] - 0s 44ms/step - loss: 0.2158 - accuracy: 0.9026 - val_loss: 0.2354 - val_accuracy: 0.8925\n",
            "Epoch 404/500\n",
            "1/1 [==============================] - 0s 42ms/step - loss: 0.2158 - accuracy: 0.9013 - val_loss: 0.2351 - val_accuracy: 0.8941\n",
            "Epoch 405/500\n",
            "1/1 [==============================] - 0s 43ms/step - loss: 0.2157 - accuracy: 0.9022 - val_loss: 0.2352 - val_accuracy: 0.8946\n",
            "Epoch 406/500\n",
            "1/1 [==============================] - 0s 48ms/step - loss: 0.2157 - accuracy: 0.9030 - val_loss: 0.2356 - val_accuracy: 0.8936\n",
            "Epoch 407/500\n",
            "1/1 [==============================] - 0s 56ms/step - loss: 0.2157 - accuracy: 0.9008 - val_loss: 0.2350 - val_accuracy: 0.8925\n",
            "Epoch 408/500\n",
            "1/1 [==============================] - 0s 46ms/step - loss: 0.2158 - accuracy: 0.9024 - val_loss: 0.2358 - val_accuracy: 0.8936\n",
            "Epoch 409/500\n",
            "1/1 [==============================] - 0s 50ms/step - loss: 0.2158 - accuracy: 0.9019 - val_loss: 0.2348 - val_accuracy: 0.8900\n",
            "Epoch 410/500\n",
            "1/1 [==============================] - 0s 44ms/step - loss: 0.2158 - accuracy: 0.9026 - val_loss: 0.2358 - val_accuracy: 0.8936\n",
            "Epoch 411/500\n",
            "1/1 [==============================] - 0s 46ms/step - loss: 0.2158 - accuracy: 0.9019 - val_loss: 0.2350 - val_accuracy: 0.8910\n",
            "Epoch 412/500\n",
            "1/1 [==============================] - 0s 54ms/step - loss: 0.2157 - accuracy: 0.9028 - val_loss: 0.2357 - val_accuracy: 0.8936\n",
            "Epoch 413/500\n",
            "1/1 [==============================] - 0s 48ms/step - loss: 0.2156 - accuracy: 0.9008 - val_loss: 0.2354 - val_accuracy: 0.8946\n",
            "Epoch 414/500\n",
            "1/1 [==============================] - 0s 56ms/step - loss: 0.2156 - accuracy: 0.9026 - val_loss: 0.2352 - val_accuracy: 0.8936\n",
            "Epoch 415/500\n",
            "1/1 [==============================] - 0s 63ms/step - loss: 0.2156 - accuracy: 0.9028 - val_loss: 0.2356 - val_accuracy: 0.8936\n",
            "Epoch 416/500\n",
            "1/1 [==============================] - 0s 51ms/step - loss: 0.2156 - accuracy: 0.9017 - val_loss: 0.2350 - val_accuracy: 0.8920\n",
            "Epoch 417/500\n",
            "1/1 [==============================] - 0s 50ms/step - loss: 0.2156 - accuracy: 0.9039 - val_loss: 0.2360 - val_accuracy: 0.8925\n",
            "Epoch 418/500\n",
            "1/1 [==============================] - 0s 51ms/step - loss: 0.2156 - accuracy: 0.9008 - val_loss: 0.2353 - val_accuracy: 0.8910\n",
            "Epoch 419/500\n",
            "1/1 [==============================] - 0s 47ms/step - loss: 0.2156 - accuracy: 0.9026 - val_loss: 0.2358 - val_accuracy: 0.8936\n",
            "Epoch 420/500\n",
            "1/1 [==============================] - 0s 55ms/step - loss: 0.2155 - accuracy: 0.9011 - val_loss: 0.2351 - val_accuracy: 0.8930\n",
            "Epoch 421/500\n",
            "1/1 [==============================] - 0s 50ms/step - loss: 0.2155 - accuracy: 0.9035 - val_loss: 0.2354 - val_accuracy: 0.8930\n",
            "Epoch 422/500\n",
            "1/1 [==============================] - 0s 53ms/step - loss: 0.2154 - accuracy: 0.9011 - val_loss: 0.2355 - val_accuracy: 0.8936\n",
            "Epoch 423/500\n",
            "1/1 [==============================] - 0s 45ms/step - loss: 0.2154 - accuracy: 0.9024 - val_loss: 0.2356 - val_accuracy: 0.8936\n",
            "Epoch 424/500\n",
            "1/1 [==============================] - 0s 54ms/step - loss: 0.2154 - accuracy: 0.9026 - val_loss: 0.2356 - val_accuracy: 0.8936\n",
            "Epoch 425/500\n",
            "1/1 [==============================] - 0s 59ms/step - loss: 0.2154 - accuracy: 0.9022 - val_loss: 0.2354 - val_accuracy: 0.8941\n",
            "Epoch 426/500\n",
            "1/1 [==============================] - 0s 42ms/step - loss: 0.2154 - accuracy: 0.9032 - val_loss: 0.2356 - val_accuracy: 0.8936\n",
            "Epoch 427/500\n",
            "1/1 [==============================] - 0s 47ms/step - loss: 0.2154 - accuracy: 0.9013 - val_loss: 0.2353 - val_accuracy: 0.8920\n",
            "Epoch 428/500\n",
            "1/1 [==============================] - 0s 56ms/step - loss: 0.2154 - accuracy: 0.9032 - val_loss: 0.2360 - val_accuracy: 0.8925\n",
            "Epoch 429/500\n",
            "1/1 [==============================] - 0s 54ms/step - loss: 0.2154 - accuracy: 0.9015 - val_loss: 0.2354 - val_accuracy: 0.8910\n",
            "Epoch 430/500\n",
            "1/1 [==============================] - 0s 57ms/step - loss: 0.2154 - accuracy: 0.9017 - val_loss: 0.2365 - val_accuracy: 0.8936\n",
            "Epoch 431/500\n",
            "1/1 [==============================] - 0s 60ms/step - loss: 0.2155 - accuracy: 0.9011 - val_loss: 0.2352 - val_accuracy: 0.8879\n",
            "Epoch 432/500\n",
            "1/1 [==============================] - 0s 53ms/step - loss: 0.2156 - accuracy: 0.9015 - val_loss: 0.2366 - val_accuracy: 0.8951\n",
            "Epoch 433/500\n",
            "1/1 [==============================] - 0s 63ms/step - loss: 0.2157 - accuracy: 0.9013 - val_loss: 0.2352 - val_accuracy: 0.8879\n",
            "Epoch 434/500\n",
            "1/1 [==============================] - 0s 54ms/step - loss: 0.2156 - accuracy: 0.9015 - val_loss: 0.2363 - val_accuracy: 0.8936\n",
            "Epoch 435/500\n",
            "1/1 [==============================] - 0s 53ms/step - loss: 0.2154 - accuracy: 0.9022 - val_loss: 0.2356 - val_accuracy: 0.8925\n",
            "Epoch 436/500\n",
            "1/1 [==============================] - 0s 53ms/step - loss: 0.2152 - accuracy: 0.9024 - val_loss: 0.2356 - val_accuracy: 0.8930\n",
            "Epoch 437/500\n",
            "1/1 [==============================] - 0s 46ms/step - loss: 0.2152 - accuracy: 0.9032 - val_loss: 0.2361 - val_accuracy: 0.8925\n",
            "Epoch 438/500\n",
            "1/1 [==============================] - 0s 50ms/step - loss: 0.2153 - accuracy: 0.9015 - val_loss: 0.2353 - val_accuracy: 0.8879\n",
            "Epoch 439/500\n",
            "1/1 [==============================] - 0s 57ms/step - loss: 0.2154 - accuracy: 0.9015 - val_loss: 0.2367 - val_accuracy: 0.8956\n",
            "Epoch 440/500\n",
            "1/1 [==============================] - 0s 47ms/step - loss: 0.2155 - accuracy: 0.9019 - val_loss: 0.2353 - val_accuracy: 0.8879\n",
            "Epoch 441/500\n",
            "1/1 [==============================] - 0s 49ms/step - loss: 0.2154 - accuracy: 0.9019 - val_loss: 0.2363 - val_accuracy: 0.8936\n",
            "Epoch 442/500\n",
            "1/1 [==============================] - 0s 54ms/step - loss: 0.2153 - accuracy: 0.9017 - val_loss: 0.2356 - val_accuracy: 0.8925\n",
            "Epoch 443/500\n",
            "1/1 [==============================] - 0s 48ms/step - loss: 0.2151 - accuracy: 0.9028 - val_loss: 0.2357 - val_accuracy: 0.8925\n",
            "Epoch 444/500\n",
            "1/1 [==============================] - 0s 48ms/step - loss: 0.2151 - accuracy: 0.9028 - val_loss: 0.2365 - val_accuracy: 0.8946\n",
            "Epoch 445/500\n",
            "1/1 [==============================] - 0s 59ms/step - loss: 0.2152 - accuracy: 0.9022 - val_loss: 0.2354 - val_accuracy: 0.8874\n",
            "Epoch 446/500\n",
            "1/1 [==============================] - 0s 53ms/step - loss: 0.2154 - accuracy: 0.9019 - val_loss: 0.2367 - val_accuracy: 0.8956\n",
            "Epoch 447/500\n",
            "1/1 [==============================] - 0s 51ms/step - loss: 0.2154 - accuracy: 0.9026 - val_loss: 0.2353 - val_accuracy: 0.8884\n",
            "Epoch 448/500\n",
            "1/1 [==============================] - 0s 56ms/step - loss: 0.2152 - accuracy: 0.9017 - val_loss: 0.2360 - val_accuracy: 0.8936\n",
            "Epoch 449/500\n",
            "1/1 [==============================] - 0s 53ms/step - loss: 0.2150 - accuracy: 0.9024 - val_loss: 0.2362 - val_accuracy: 0.8930\n",
            "Epoch 450/500\n",
            "1/1 [==============================] - 0s 64ms/step - loss: 0.2150 - accuracy: 0.9013 - val_loss: 0.2358 - val_accuracy: 0.8900\n",
            "Epoch 451/500\n",
            "1/1 [==============================] - 0s 56ms/step - loss: 0.2151 - accuracy: 0.9019 - val_loss: 0.2367 - val_accuracy: 0.8956\n",
            "Epoch 452/500\n",
            "1/1 [==============================] - 0s 54ms/step - loss: 0.2152 - accuracy: 0.9022 - val_loss: 0.2353 - val_accuracy: 0.8879\n",
            "Epoch 453/500\n",
            "1/1 [==============================] - 0s 60ms/step - loss: 0.2152 - accuracy: 0.9013 - val_loss: 0.2361 - val_accuracy: 0.8936\n",
            "Epoch 454/500\n",
            "1/1 [==============================] - 0s 62ms/step - loss: 0.2150 - accuracy: 0.9015 - val_loss: 0.2358 - val_accuracy: 0.8920\n",
            "Epoch 455/500\n",
            "1/1 [==============================] - 0s 56ms/step - loss: 0.2149 - accuracy: 0.9028 - val_loss: 0.2359 - val_accuracy: 0.8925\n",
            "Epoch 456/500\n",
            "1/1 [==============================] - 0s 58ms/step - loss: 0.2149 - accuracy: 0.9039 - val_loss: 0.2367 - val_accuracy: 0.8936\n",
            "Epoch 457/500\n",
            "1/1 [==============================] - 0s 55ms/step - loss: 0.2150 - accuracy: 0.9019 - val_loss: 0.2357 - val_accuracy: 0.8879\n",
            "Epoch 458/500\n",
            "1/1 [==============================] - 0s 50ms/step - loss: 0.2151 - accuracy: 0.9017 - val_loss: 0.2366 - val_accuracy: 0.8951\n",
            "Epoch 459/500\n",
            "1/1 [==============================] - 0s 56ms/step - loss: 0.2150 - accuracy: 0.9022 - val_loss: 0.2357 - val_accuracy: 0.8900\n",
            "Epoch 460/500\n",
            "1/1 [==============================] - 0s 53ms/step - loss: 0.2149 - accuracy: 0.9039 - val_loss: 0.2363 - val_accuracy: 0.8936\n",
            "Epoch 461/500\n",
            "1/1 [==============================] - 0s 49ms/step - loss: 0.2148 - accuracy: 0.9011 - val_loss: 0.2362 - val_accuracy: 0.8920\n",
            "Epoch 462/500\n",
            "1/1 [==============================] - 0s 46ms/step - loss: 0.2148 - accuracy: 0.9028 - val_loss: 0.2361 - val_accuracy: 0.8920\n",
            "Epoch 463/500\n",
            "1/1 [==============================] - 0s 53ms/step - loss: 0.2148 - accuracy: 0.9030 - val_loss: 0.2364 - val_accuracy: 0.8925\n",
            "Epoch 464/500\n",
            "1/1 [==============================] - 0s 55ms/step - loss: 0.2148 - accuracy: 0.9015 - val_loss: 0.2358 - val_accuracy: 0.8895\n",
            "Epoch 465/500\n",
            "1/1 [==============================] - 0s 47ms/step - loss: 0.2148 - accuracy: 0.9039 - val_loss: 0.2365 - val_accuracy: 0.8936\n",
            "Epoch 466/500\n",
            "1/1 [==============================] - 0s 50ms/step - loss: 0.2148 - accuracy: 0.9015 - val_loss: 0.2359 - val_accuracy: 0.8905\n",
            "Epoch 467/500\n",
            "1/1 [==============================] - 0s 64ms/step - loss: 0.2148 - accuracy: 0.9041 - val_loss: 0.2366 - val_accuracy: 0.8936\n",
            "Epoch 468/500\n",
            "1/1 [==============================] - 0s 49ms/step - loss: 0.2148 - accuracy: 0.9017 - val_loss: 0.2360 - val_accuracy: 0.8905\n",
            "Epoch 469/500\n",
            "1/1 [==============================] - 0s 54ms/step - loss: 0.2147 - accuracy: 0.9043 - val_loss: 0.2364 - val_accuracy: 0.8920\n",
            "Epoch 470/500\n",
            "1/1 [==============================] - 0s 51ms/step - loss: 0.2147 - accuracy: 0.9022 - val_loss: 0.2361 - val_accuracy: 0.8900\n",
            "Epoch 471/500\n",
            "1/1 [==============================] - 0s 59ms/step - loss: 0.2147 - accuracy: 0.9030 - val_loss: 0.2364 - val_accuracy: 0.8930\n",
            "Epoch 472/500\n",
            "1/1 [==============================] - 0s 54ms/step - loss: 0.2146 - accuracy: 0.9022 - val_loss: 0.2362 - val_accuracy: 0.8910\n",
            "Epoch 473/500\n",
            "1/1 [==============================] - 0s 56ms/step - loss: 0.2146 - accuracy: 0.9028 - val_loss: 0.2363 - val_accuracy: 0.8910\n",
            "Epoch 474/500\n",
            "1/1 [==============================] - 0s 58ms/step - loss: 0.2146 - accuracy: 0.9024 - val_loss: 0.2363 - val_accuracy: 0.8905\n",
            "Epoch 475/500\n",
            "1/1 [==============================] - 0s 53ms/step - loss: 0.2146 - accuracy: 0.9026 - val_loss: 0.2364 - val_accuracy: 0.8915\n",
            "Epoch 476/500\n",
            "1/1 [==============================] - 0s 59ms/step - loss: 0.2146 - accuracy: 0.9026 - val_loss: 0.2364 - val_accuracy: 0.8920\n",
            "Epoch 477/500\n",
            "1/1 [==============================] - 0s 77ms/step - loss: 0.2145 - accuracy: 0.9024 - val_loss: 0.2363 - val_accuracy: 0.8920\n",
            "Epoch 478/500\n",
            "1/1 [==============================] - 0s 71ms/step - loss: 0.2145 - accuracy: 0.9024 - val_loss: 0.2362 - val_accuracy: 0.8920\n",
            "Epoch 479/500\n",
            "1/1 [==============================] - 0s 46ms/step - loss: 0.2145 - accuracy: 0.9030 - val_loss: 0.2366 - val_accuracy: 0.8915\n",
            "Epoch 480/500\n",
            "1/1 [==============================] - 0s 51ms/step - loss: 0.2145 - accuracy: 0.9022 - val_loss: 0.2361 - val_accuracy: 0.8900\n",
            "Epoch 481/500\n",
            "1/1 [==============================] - 0s 52ms/step - loss: 0.2146 - accuracy: 0.9043 - val_loss: 0.2371 - val_accuracy: 0.8930\n",
            "Epoch 482/500\n",
            "1/1 [==============================] - 0s 46ms/step - loss: 0.2147 - accuracy: 0.9019 - val_loss: 0.2359 - val_accuracy: 0.8895\n",
            "Epoch 483/500\n",
            "1/1 [==============================] - 0s 56ms/step - loss: 0.2150 - accuracy: 0.8993 - val_loss: 0.2382 - val_accuracy: 0.8961\n",
            "Epoch 484/500\n",
            "1/1 [==============================] - 0s 45ms/step - loss: 0.2153 - accuracy: 0.9019 - val_loss: 0.2362 - val_accuracy: 0.8930\n",
            "Epoch 485/500\n",
            "1/1 [==============================] - 0s 58ms/step - loss: 0.2153 - accuracy: 0.9015 - val_loss: 0.2378 - val_accuracy: 0.8956\n",
            "Epoch 486/500\n",
            "1/1 [==============================] - 0s 48ms/step - loss: 0.2150 - accuracy: 0.9017 - val_loss: 0.2363 - val_accuracy: 0.8895\n",
            "Epoch 487/500\n",
            "1/1 [==============================] - 0s 50ms/step - loss: 0.2145 - accuracy: 0.9043 - val_loss: 0.2364 - val_accuracy: 0.8900\n",
            "Epoch 488/500\n",
            "1/1 [==============================] - 0s 47ms/step - loss: 0.2144 - accuracy: 0.9035 - val_loss: 0.2376 - val_accuracy: 0.8941\n",
            "Epoch 489/500\n",
            "1/1 [==============================] - 0s 56ms/step - loss: 0.2148 - accuracy: 0.9026 - val_loss: 0.2363 - val_accuracy: 0.8889\n",
            "Epoch 490/500\n",
            "1/1 [==============================] - 0s 52ms/step - loss: 0.2150 - accuracy: 0.9002 - val_loss: 0.2380 - val_accuracy: 0.8951\n",
            "Epoch 491/500\n",
            "1/1 [==============================] - 0s 52ms/step - loss: 0.2150 - accuracy: 0.9011 - val_loss: 0.2362 - val_accuracy: 0.8874\n",
            "Epoch 492/500\n",
            "1/1 [==============================] - 0s 52ms/step - loss: 0.2145 - accuracy: 0.9026 - val_loss: 0.2365 - val_accuracy: 0.8905\n",
            "Epoch 493/500\n",
            "1/1 [==============================] - 0s 50ms/step - loss: 0.2143 - accuracy: 0.9026 - val_loss: 0.2373 - val_accuracy: 0.8936\n",
            "Epoch 494/500\n",
            "1/1 [==============================] - 0s 49ms/step - loss: 0.2145 - accuracy: 0.9024 - val_loss: 0.2364 - val_accuracy: 0.8884\n",
            "Epoch 495/500\n",
            "1/1 [==============================] - 0s 53ms/step - loss: 0.2146 - accuracy: 0.9024 - val_loss: 0.2375 - val_accuracy: 0.8930\n",
            "Epoch 496/500\n",
            "1/1 [==============================] - 0s 48ms/step - loss: 0.2146 - accuracy: 0.9024 - val_loss: 0.2364 - val_accuracy: 0.8900\n",
            "Epoch 497/500\n",
            "1/1 [==============================] - 0s 45ms/step - loss: 0.2143 - accuracy: 0.9041 - val_loss: 0.2365 - val_accuracy: 0.8905\n",
            "Epoch 498/500\n",
            "1/1 [==============================] - 0s 46ms/step - loss: 0.2143 - accuracy: 0.9030 - val_loss: 0.2372 - val_accuracy: 0.8930\n",
            "Epoch 499/500\n",
            "1/1 [==============================] - 0s 49ms/step - loss: 0.2144 - accuracy: 0.9024 - val_loss: 0.2365 - val_accuracy: 0.8884\n",
            "Epoch 500/500\n",
            "1/1 [==============================] - 0s 48ms/step - loss: 0.2145 - accuracy: 0.9026 - val_loss: 0.2377 - val_accuracy: 0.8930\n"
          ],
          "name": "stdout"
        },
        {
          "output_type": "execute_result",
          "data": {
            "text/plain": [
              "0.9025888442993164"
            ]
          },
          "metadata": {
            "tags": []
          },
          "execution_count": 42
        }
      ]
    },
    {
      "cell_type": "code",
      "metadata": {
        "colab": {
          "base_uri": "https://localhost:8080/"
        },
        "id": "ld6f_-5_g6s8",
        "outputId": "fdee8003-c237-4e01-e3e5-66c344181419"
      },
      "source": [
        "_, train_acc = model.evaluate(X_train, y_train, verbose=0)\n",
        "_, valid_acc = model.evaluate(X_validate, y_validate, verbose=0)\n",
        "print('Train: %.3f, Valid: %.3f' % (train_acc, valid_acc))"
      ],
      "execution_count": null,
      "outputs": [
        {
          "output_type": "stream",
          "text": [
            "Train: 0.902, Valid: 0.893\n"
          ],
          "name": "stdout"
        }
      ]
    },
    {
      "cell_type": "markdown",
      "metadata": {
        "id": "wvxy8A398cug"
      },
      "source": [
        "## -- Plot Model"
      ]
    },
    {
      "cell_type": "code",
      "metadata": {
        "colab": {
          "base_uri": "https://localhost:8080/",
          "height": 376
        },
        "id": "Q_lRLXUD7ui4",
        "outputId": "d8a92889-3b65-47b5-a8aa-2dc113470bd8"
      },
      "source": [
        "import matplotlib.pyplot as plt\n",
        "plt.plot(history.history['accuracy'], color='red')\n",
        "plt.plot(history.history['val_accuracy'], color='blue')\n",
        "plt.ylim(top=1)\n",
        "plt.title('Akurasi Model')\n",
        "plt.ylabel('accuracy')\n",
        "plt.xlabel('epoch')\n",
        "plt.legend(['train', 'test'], loc='upper left')\n",
        "plt.show()"
      ],
      "execution_count": null,
      "outputs": [
        {
          "output_type": "display_data",
          "data": {
            "image/png": "[encoded data removed]",
            "text/plain": [
              "<Figure size 576x396 with 1 Axes>"
            ]
          },
          "metadata": {
            "tags": []
          }
        }
      ]
    },
    {
      "cell_type": "code",
      "metadata": {
        "colab": {
          "base_uri": "https://localhost:8080/",
          "height": 376
        },
        "id": "ja2Fijxj7ui6",
        "outputId": "ee386f50-286b-4163-babe-9313d9c15f92"
      },
      "source": [
        "plt.plot(history.history['loss'], color='red')\n",
        "plt.plot(history.history['val_loss'], color='blue')\n",
        "plt.title('Loss Model')\n",
        "plt.ylabel('loss')\n",
        "plt.xlabel('epoch')\n",
        "plt.legend(['train', 'test'], loc='upper left')\n",
        "plt.show()"
      ],
      "execution_count": null,
      "outputs": [
        {
          "output_type": "display_data",
          "data": {
            "image/png": "[encoded data removed]",
            "text/plain": [
              "<Figure size 576x396 with 1 Axes>"
            ]
          },
          "metadata": {
            "tags": []
          }
        }
      ]
    },
    {
      "cell_type": "markdown",
      "metadata": {
        "id": "zkcw99az8ged"
      },
      "source": [
        "## -- Predict and Evaluate Model"
      ]
    },
    {
      "cell_type": "code",
      "metadata": {
        "id": "niAa2Ht5eAv-",
        "colab": {
          "base_uri": "https://localhost:8080/"
        },
        "outputId": "d9fc3505-1ca6-4a5f-f8e1-d70e94ec71d5"
      },
      "source": [
        "predictions = model.predict(X_validate)\n",
        "predictions"
      ],
      "execution_count": null,
      "outputs": [
        {
          "output_type": "execute_result",
          "data": {
            "text/plain": [
              "array([[0.7570554 ],\n",
              "       [0.0326294 ],\n",
              "       [0.06465146],\n",
              "       ...,\n",
              "       [0.06185883],\n",
              "       [0.06215549],\n",
              "       [0.8931682 ]], dtype=float32)"
            ]
          },
          "metadata": {
            "tags": []
          },
          "execution_count": 46
        }
      ]
    },
    {
      "cell_type": "code",
      "metadata": {
        "colab": {
          "base_uri": "https://localhost:8080/"
        },
        "id": "O-nDIfVfeJA3",
        "outputId": "449a067b-40da-4216-8a44-b48115bb7345"
      },
      "source": [
        "y_pred = np.where(predictions < 0.5, 0, 1)\n",
        "y_pred"
      ],
      "execution_count": null,
      "outputs": [
        {
          "output_type": "execute_result",
          "data": {
            "text/plain": [
              "array([[1],\n",
              "       [0],\n",
              "       [0],\n",
              "       ...,\n",
              "       [0],\n",
              "       [0],\n",
              "       [1]])"
            ]
          },
          "metadata": {
            "tags": []
          },
          "execution_count": 47
        }
      ]
    },
    {
      "cell_type": "code",
      "metadata": {
        "colab": {
          "base_uri": "https://localhost:8080/",
          "height": 402
        },
        "id": "5E7kpwVquCHA",
        "outputId": "b1113814-3648-49f8-ef0f-61cd983df847"
      },
      "source": [
        "y_validate"
      ],
      "execution_count": null,
      "outputs": [
        {
          "output_type": "execute_result",
          "data": {
            "text/html": [
              "<div>\n",
              "<style scoped>\n",
              "    .dataframe tbody tr th:only-of-type {\n",
              "        vertical-align: middle;\n",
              "    }\n",
              "\n",
              "    .dataframe tbody tr th {\n",
              "        vertical-align: top;\n",
              "    }\n",
              "\n",
              "    .dataframe thead th {\n",
              "        text-align: right;\n",
              "    }\n",
              "</style>\n",
              "<table border=\"1\" class=\"dataframe\">\n",
              "  <thead>\n",
              "    <tr style=\"text-align: right;\">\n",
              "      <th></th>\n",
              "      <th>SARS-CoV-2 Positive</th>\n",
              "    </tr>\n",
              "  </thead>\n",
              "  <tbody>\n",
              "    <tr>\n",
              "      <th>3745</th>\n",
              "      <td>0</td>\n",
              "    </tr>\n",
              "    <tr>\n",
              "      <th>5169</th>\n",
              "      <td>0</td>\n",
              "    </tr>\n",
              "    <tr>\n",
              "      <th>2471</th>\n",
              "      <td>0</td>\n",
              "    </tr>\n",
              "    <tr>\n",
              "      <th>1446</th>\n",
              "      <td>0</td>\n",
              "    </tr>\n",
              "    <tr>\n",
              "      <th>5448</th>\n",
              "      <td>0</td>\n",
              "    </tr>\n",
              "    <tr>\n",
              "      <th>...</th>\n",
              "      <td>...</td>\n",
              "    </tr>\n",
              "    <tr>\n",
              "      <th>3561</th>\n",
              "      <td>0</td>\n",
              "    </tr>\n",
              "    <tr>\n",
              "      <th>1195</th>\n",
              "      <td>0</td>\n",
              "    </tr>\n",
              "    <tr>\n",
              "      <th>3425</th>\n",
              "      <td>0</td>\n",
              "    </tr>\n",
              "    <tr>\n",
              "      <th>1655</th>\n",
              "      <td>1</td>\n",
              "    </tr>\n",
              "    <tr>\n",
              "      <th>3670</th>\n",
              "      <td>1</td>\n",
              "    </tr>\n",
              "  </tbody>\n",
              "</table>\n",
              "<p>1954 rows × 1 columns</p>\n",
              "</div>"
            ],
            "text/plain": [
              "      SARS-CoV-2 Positive\n",
              "3745                    0\n",
              "5169                    0\n",
              "2471                    0\n",
              "1446                    0\n",
              "5448                    0\n",
              "...                   ...\n",
              "3561                    0\n",
              "1195                    0\n",
              "3425                    0\n",
              "1655                    1\n",
              "3670                    1\n",
              "\n",
              "[1954 rows x 1 columns]"
            ]
          },
          "metadata": {
            "tags": []
          },
          "execution_count": 48
        }
      ]
    },
    {
      "cell_type": "code",
      "metadata": {
        "id": "54f_2ea-pMsU"
      },
      "source": [
        "# y_pred = np.argmax(predictions, axis=1)\n",
        "# y_validate = np.argmax(y_validate.values, axis=1)"
      ],
      "execution_count": null,
      "outputs": []
    },
    {
      "cell_type": "code",
      "metadata": {
        "id": "XtIiFjG8jf2E",
        "colab": {
          "base_uri": "https://localhost:8080/"
        },
        "outputId": "011edb88-addd-489a-beef-61d53f201f40"
      },
      "source": [
        "from sklearn.metrics import accuracy_score\n",
        "\n",
        "accuracy_score(y_validate, y_pred)"
      ],
      "execution_count": null,
      "outputs": [
        {
          "output_type": "execute_result",
          "data": {
            "text/plain": [
              "0.8930399181166837"
            ]
          },
          "metadata": {
            "tags": []
          },
          "execution_count": 50
        }
      ]
    },
    {
      "cell_type": "code",
      "metadata": {
        "id": "rAFjFUnPVLat"
      },
      "source": [
        "from sklearn import metrics\n",
        "from sklearn.metrics import f1_score, confusion_matrix, accuracy_score"
      ],
      "execution_count": null,
      "outputs": []
    },
    {
      "cell_type": "code",
      "metadata": {
        "colab": {
          "base_uri": "https://localhost:8080/",
          "height": 382
        },
        "id": "lPExTeQ2VLau",
        "outputId": "102006bd-9cd1-4ef2-c711-d471b24dda9f"
      },
      "source": [
        "ac= accuracy_score(y_validate, y_pred)\n",
        "print('Accuracy is:', ac)\n",
        "cm = confusion_matrix(y_validate, y_pred)\n",
        "sns.heatmap(cm,annot=True,fmt='d')"
      ],
      "execution_count": null,
      "outputs": [
        {
          "output_type": "stream",
          "text": [
            "Accuracy is: 0.8930399181166837\n"
          ],
          "name": "stdout"
        },
        {
          "output_type": "execute_result",
          "data": {
            "text/plain": [
              "<matplotlib.axes._subplots.AxesSubplot at 0x7fc0b1e35fd0>"
            ]
          },
          "metadata": {
            "tags": []
          },
          "execution_count": 52
        },
        {
          "output_type": "display_data",
          "data": {
            "image/png": "[encoded data removed]",
            "text/plain": [
              "<Figure size 576x396 with 2 Axes>"
            ]
          },
          "metadata": {
            "tags": []
          }
        }
      ]
    },
    {
      "cell_type": "code",
      "metadata": {
        "id": "8oOol1PSVLav"
      },
      "source": [
        "from sklearn.metrics import classification_report"
      ],
      "execution_count": null,
      "outputs": []
    },
    {
      "cell_type": "code",
      "metadata": {
        "colab": {
          "base_uri": "https://localhost:8080/",
          "height": 106
        },
        "id": "in4WPTUL6I_S",
        "outputId": "99ced62e-83f0-441a-fc88-7d3e518be012"
      },
      "source": [
        "from sklearn.metrics import classification_report, confusion_matrix\n",
        "cm = np.array(confusion_matrix(y_validate, y_pred, labels=[1,0])) # positive-1, suspected-0\n",
        "confusion = pd.DataFrame(cm, index=['is_covid', 'is_suspected'],\n",
        "                         columns=['predicted_covid', 'predicted_suspected'])\n",
        "confusion"
      ],
      "execution_count": null,
      "outputs": [
        {
          "output_type": "execute_result",
          "data": {
            "text/html": [
              "<div>\n",
              "<style scoped>\n",
              "    .dataframe tbody tr th:only-of-type {\n",
              "        vertical-align: middle;\n",
              "    }\n",
              "\n",
              "    .dataframe tbody tr th {\n",
              "        vertical-align: top;\n",
              "    }\n",
              "\n",
              "    .dataframe thead th {\n",
              "        text-align: right;\n",
              "    }\n",
              "</style>\n",
              "<table border=\"1\" class=\"dataframe\">\n",
              "  <thead>\n",
              "    <tr style=\"text-align: right;\">\n",
              "      <th></th>\n",
              "      <th>predicted_covid</th>\n",
              "      <th>predicted_suspected</th>\n",
              "    </tr>\n",
              "  </thead>\n",
              "  <tbody>\n",
              "    <tr>\n",
              "      <th>is_covid</th>\n",
              "      <td>299</td>\n",
              "      <td>173</td>\n",
              "    </tr>\n",
              "    <tr>\n",
              "      <th>is_suspected</th>\n",
              "      <td>36</td>\n",
              "      <td>1446</td>\n",
              "    </tr>\n",
              "  </tbody>\n",
              "</table>\n",
              "</div>"
            ],
            "text/plain": [
              "              predicted_covid  predicted_suspected\n",
              "is_covid                  299                  173\n",
              "is_suspected               36                 1446"
            ]
          },
          "metadata": {
            "tags": []
          },
          "execution_count": 54
        }
      ]
    },
    {
      "cell_type": "code",
      "metadata": {
        "colab": {
          "base_uri": "https://localhost:8080/"
        },
        "id": "UvRtCGorVLax",
        "outputId": "2ffcc186-9b4d-4605-c5d0-8a6fb3dce595"
      },
      "source": [
        "print('Acc',classification_report(y_validate, y_pred))"
      ],
      "execution_count": null,
      "outputs": [
        {
          "output_type": "stream",
          "text": [
            "Acc               precision    recall  f1-score   support\n",
            "\n",
            "           0       0.89      0.98      0.93      1482\n",
            "           1       0.89      0.63      0.74       472\n",
            "\n",
            "    accuracy                           0.89      1954\n",
            "   macro avg       0.89      0.80      0.84      1954\n",
            "weighted avg       0.89      0.89      0.89      1954\n",
            "\n"
          ],
          "name": "stdout"
        }
      ]
    },
    {
      "cell_type": "markdown",
      "metadata": {
        "id": "FM1kWD-l8mIj"
      },
      "source": [
        "## -- Save Model\n"
      ]
    },
    {
      "cell_type": "code",
      "metadata": {
        "id": "7zcflMOu3cKz",
        "colab": {
          "base_uri": "https://localhost:8080/"
        },
        "outputId": "426c02c7-66ff-4d92-81a5-54350b342013"
      },
      "source": [
        "import tempfile\n",
        "MODEL_DIR = tempfile.gettempdir()\n",
        "\n",
        "version = 1\n",
        "\n",
        "export_path = os.path.join(MODEL_DIR, str(version))\n",
        "\n",
        "if os.path.isdir(export_path):\n",
        "    print('\\nAlready saved a model, cleaning up\\n')\n",
        "    !rm -r {export_path}\n",
        "\n",
        "model.save(export_path, save_format=\"tf\")\n",
        "\n",
        "print('\\nexport_path = {}'.format(export_path))\n",
        "!ls -l {export_path}"
      ],
      "execution_count": null,
      "outputs": [
        {
          "output_type": "stream",
          "text": [
            "INFO:tensorflow:Assets written to: /tmp/1/assets\n",
            "\n",
            "export_path = /tmp/1\n",
            "total 136\n",
            "drwxr-xr-x 2 root root   4096 May 31 08:13 assets\n",
            "-rw-r--r-- 1 root root   9980 May 31 08:13 keras_metadata.pb\n",
            "-rw-r--r-- 1 root root 115398 May 31 08:13 saved_model.pb\n",
            "drwxr-xr-x 2 root root   4096 May 31 08:13 variables\n"
          ],
          "name": "stdout"
        }
      ]
    },
    {
      "cell_type": "code",
      "metadata": {
        "id": "xO-Z12V69djD"
      },
      "source": [
        "# Intialize the TFLite converter to load the SavedModel\n",
        "converter = tf.lite.TFLiteConverter.from_saved_model(export_path)\n",
        "\n",
        "# Set the optimization strategy for 'size' in the converter \n",
        "converter.optimizations = [tf.lite.Optimize.OPTIMIZE_FOR_SIZE]\n",
        "\n",
        "# Use the tool to finally convert the model\n",
        "tflite_model = converter.convert()\n",
        "\n",
        "# Write TFLite model\n",
        "tflite_model_file = 'covid_model_01.tflite'\n",
        "\n",
        "with open(tflite_model_file, \"wb\") as f:\n",
        "    f.write(tflite_model)\n",
        "\n",
        "with open('covid_labels_01.txt', 'w') as f:\n",
        "    f.write('\\n'.join(label_types))"
      ],
      "execution_count": null,
      "outputs": []
    },
    {
      "cell_type": "code",
      "metadata": {
        "id": "WgaqF80YBQIq",
        "colab": {
          "base_uri": "https://localhost:8080/",
          "height": 17
        },
        "outputId": "22233cc3-d76f-4be6-af27-4918be2743ee"
      },
      "source": [
        "try:\n",
        "    files.download('covid_model_01.tflite')\n",
        "    files.download('covid_labels_01.txt')\n",
        "except:\n",
        "    pass"
      ],
      "execution_count": null,
      "outputs": [
        {
          "output_type": "display_data",
          "data": {
            "application/javascript": [
              "\n",
              "    async function download(id, filename, size) {\n",
              "      if (!google.colab.kernel.accessAllowed) {\n",
              "        return;\n",
              "      }\n",
              "      const div = document.createElement('div');\n",
              "      const label = document.createElement('label');\n",
              "      label.textContent = `Downloading \"${filename}\": `;\n",
              "      div.appendChild(label);\n",
              "      const progress = document.createElement('progress');\n",
              "      progress.max = size;\n",
              "      div.appendChild(progress);\n",
              "      document.body.appendChild(div);\n",
              "\n",
              "      const buffers = [];\n",
              "      let downloaded = 0;\n",
              "\n",
              "      const channel = await google.colab.kernel.comms.open(id);\n",
              "      // Send a message to notify the kernel that we're ready.\n",
              "      channel.send({})\n",
              "\n",
              "      for await (const message of channel.messages) {\n",
              "        // Send a message to notify the kernel that we're ready.\n",
              "        channel.send({})\n",
              "        if (message.buffers) {\n",
              "          for (const buffer of message.buffers) {\n",
              "            buffers.push(buffer);\n",
              "            downloaded += buffer.byteLength;\n",
              "            progress.value = downloaded;\n",
              "          }\n",
              "        }\n",
              "      }\n",
              "      const blob = new Blob(buffers, {type: 'application/binary'});\n",
              "      const a = document.createElement('a');\n",
              "      a.href = window.URL.createObjectURL(blob);\n",
              "      a.download = filename;\n",
              "      div.appendChild(a);\n",
              "      a.click();\n",
              "      div.remove();\n",
              "    }\n",
              "  "
            ],
            "text/plain": [
              "<IPython.core.display.Javascript object>"
            ]
          },
          "metadata": {
            "tags": []
          }
        },
        {
          "output_type": "display_data",
          "data": {
            "application/javascript": [
              "download(\"download_8e5b69f2-f258-47a1-bd30-9ba96f3c3c7d\", \"covid_model_01.tflite\", 16416)"
            ],
            "text/plain": [
              "<IPython.core.display.Javascript object>"
            ]
          },
          "metadata": {
            "tags": []
          }
        },
        {
          "output_type": "display_data",
          "data": {
            "application/javascript": [
              "\n",
              "    async function download(id, filename, size) {\n",
              "      if (!google.colab.kernel.accessAllowed) {\n",
              "        return;\n",
              "      }\n",
              "      const div = document.createElement('div');\n",
              "      const label = document.createElement('label');\n",
              "      label.textContent = `Downloading \"${filename}\": `;\n",
              "      div.appendChild(label);\n",
              "      const progress = document.createElement('progress');\n",
              "      progress.max = size;\n",
              "      div.appendChild(progress);\n",
              "      document.body.appendChild(div);\n",
              "\n",
              "      const buffers = [];\n",
              "      let downloaded = 0;\n",
              "\n",
              "      const channel = await google.colab.kernel.comms.open(id);\n",
              "      // Send a message to notify the kernel that we're ready.\n",
              "      channel.send({})\n",
              "\n",
              "      for await (const message of channel.messages) {\n",
              "        // Send a message to notify the kernel that we're ready.\n",
              "        channel.send({})\n",
              "        if (message.buffers) {\n",
              "          for (const buffer of message.buffers) {\n",
              "            buffers.push(buffer);\n",
              "            downloaded += buffer.byteLength;\n",
              "            progress.value = downloaded;\n",
              "          }\n",
              "        }\n",
              "      }\n",
              "      const blob = new Blob(buffers, {type: 'application/binary'});\n",
              "      const a = document.createElement('a');\n",
              "      a.href = window.URL.createObjectURL(blob);\n",
              "      a.download = filename;\n",
              "      div.appendChild(a);\n",
              "      a.click();\n",
              "      div.remove();\n",
              "    }\n",
              "  "
            ],
            "text/plain": [
              "<IPython.core.display.Javascript object>"
            ]
          },
          "metadata": {
            "tags": []
          }
        },
        {
          "output_type": "display_data",
          "data": {
            "application/javascript": [
              "download(\"download_f7f531ea-122e-4ea5-bee0-42e1c257d0f9\", \"covid_labels_01.txt\", 18)"
            ],
            "text/plain": [
              "<IPython.core.display.Javascript object>"
            ]
          },
          "metadata": {
            "tags": []
          }
        }
      ]
    }
  ]
}